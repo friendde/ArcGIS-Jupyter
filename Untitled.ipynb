{
 "cells": [
  {
   "cell_type": "code",
   "execution_count": 2,
   "metadata": {},
   "outputs": [
    {
     "name": "stdout",
     "output_type": "stream",
     "text": [
      "number of intersections: 11147\n"
     ]
    }
   ],
   "source": [
    "\n",
    "# coding: utf-8\n",
    "\n",
    "# In[1]:\n",
    "\n",
    "\n",
    "import arcpy\n",
    "import numpy as np\n",
    "import pandas as pd\n",
    "\n",
    "sourceStreets = r'C:\\GISData\\Data\\Snapshot\\mxBaseMap.geodatabase\\main.Cartographic\\main.Streets'\n",
    "destGDB = r'C:\\Users\\friendde\\Documents\\ArcGIS\\Projects\\NAStreets\\NAStreets.gdb'\n",
    "stIntersection = r'C:\\Users\\friendde\\Documents\\ArcGIS\\Projects\\NAStreets\\NAStreets.gdb\\StreetIntersection'\n",
    "stVertices = r'C:\\Users\\friendde\\Documents\\ArcGIS\\Projects\\NAStreets\\NAStreets.gdb\\StreetVertices'\n",
    "identEnds = r'C:\\Users\\friendde\\Documents\\ArcGIS\\Projects\\NAStreets\\NAStreets.gdb\\IdenticalStreetEnds'\n",
    "fldNames = {'IntersectingStreets':'Intersecting Streets','StreetName1':'Street Name 1','StreetName2':'Street Name 2','StreetName3':'Street Name 3','StreetName4':'Street Name 4'}\n",
    "\n",
    "\n",
    "# In[8]:\n",
    "arcpy.env.workspace = destGDB\n",
    "for fc in arcpy.ListFeatureClasses():\n",
    "    arcpy.Delete_management(fc)\n",
    "for tbl in arcpy.ListTables():\n",
    "    arcpy.Delete_management(tbl)\n",
    "\n",
    "sr = arcpy.Describe(sourceStreets).spatialReference\n",
    "arcpy.CreateFeatureclass_management(destGDB,'StreetIntersection','POINT',spatial_reference=sr,out_alias='Steet Intersection')\n",
    "for fName,fAlias in fldNames.items():\n",
    "    #print(fName,fAlias)\n",
    "    arcpy.AddField_management (stIntersection,fName,'TEXT',field_length=100,field_alias=fAlias,)\n",
    "\n",
    "\n",
    "# In[9]:\n",
    "\n",
    "\n",
    "arcpy.FeatureVerticesToPoints_management(sourceStreets,stVertices,'BOTH_ENDS')\n",
    "arcpy.FindIdentical_management(stVertices,identEnds,'SHAPE',output_record_option='ONLY_DUPLICATES')\n",
    "\n",
    "\n",
    "# In[10]:\n",
    "\n",
    "\n",
    "lastFeatSeq = [row for row in arcpy.da.SearchCursor(identEnds, \"FEAT_SEQ\")][-1]\n",
    "lastFeatSeq = lastFeatSeq[0]+1\n",
    "print(f\"number of intersections: {lastFeatSeq}\")\n",
    "\n",
    "\n",
    "# In[14]:\n",
    "\n",
    "# TODO create list from column Feat_Seq instead of range()\n",
    "arr = arcpy.da.TableToNumPyArray(identEnds,'FEAT_SEQ')\n",
    "df = pd.DataFrame(arr)\n",
    "dfList = df['FEAT_SEQ'].tolist()\n",
    "dfList = list(set(dfList))\n",
    "#for i in range(1,lastFeatSeq,1):\n",
    "for featSeq in dfList:\n",
    "    FID = []\n",
    "    streetIntersection = []\n",
    "    with arcpy.da.SearchCursor(identEnds,[\"IN_FID\",\"FEAT_SEQ\"],f\"FEAT_SEQ = {featSeq}\") as sc:\n",
    "        for fid in sc:\n",
    "            FID.append(fid[0])\n",
    "        for oid in FID:\n",
    "            with arcpy.da.SearchCursor(stVertices,[\"OID@\",\"Street_Label\",\"SHAPE@\"],f'OBJECTID = {oid}') as stCur:\n",
    "                for st in stCur:\n",
    "                    streetIntersection.append(st[1])\n",
    "        # Convert list to set and then back to list to remove duplicate street label names\n",
    "        streetIntersect = list(set(streetIntersection))\n",
    "        # convert list to string\n",
    "        stringIntersect = ','.join(streetIntersect)\n",
    "        ic = arcpy.da.InsertCursor(stIntersection,[\"IntersectingStreets\",\"SHAPE@\"])\n",
    "        row = [stringIntersect,st[2]]\n",
    "        ic.insertRow(row)\n",
    "        del ic\n",
    "\n"
   ]
  },
  {
   "cell_type": "code",
   "execution_count": 3,
   "metadata": {},
   "outputs": [
    {
     "name": "stdout",
     "output_type": "stream",
     "text": [
      "number of intersections: (11146,)\n"
     ]
    }
   ],
   "source": [
    "lastIntersection = [row for row in arcpy.da.SearchCursor(stIntersection, \"OID@\")][-1]\n",
    "print(f\"number of intersections: {lastIntersection}\")"
   ]
  },
  {
   "cell_type": "code",
   "execution_count": null,
   "metadata": {},
   "outputs": [],
   "source": [
    "import numpy as np\n",
    "import pandas as pd\n",
    "\n",
    "arr = arcpy.da.TableToNumPyArray(identEnds,'FEAT_SEQ')\n",
    "df = pd.DataFrame(arr)\n",
    "#df.head\n",
    "dfList = df['FEAT_SEQ'].tolist()\n",
    "dfList\n",
    "#dfList = list(set(dfList))\n",
    "#dfList"
   ]
  },
  {
   "cell_type": "code",
   "execution_count": null,
   "metadata": {},
   "outputs": [],
   "source": []
  }
 ],
 "metadata": {
  "kernelspec": {
   "display_name": "Python 3",
   "language": "python",
   "name": "python3"
  },
  "language_info": {
   "codemirror_mode": {
    "name": "ipython",
    "version": 3
   },
   "file_extension": ".py",
   "mimetype": "text/x-python",
   "name": "python",
   "nbconvert_exporter": "python",
   "pygments_lexer": "ipython3",
   "version": "3.6.5"
  }
 },
 "nbformat": 4,
 "nbformat_minor": 2
}
