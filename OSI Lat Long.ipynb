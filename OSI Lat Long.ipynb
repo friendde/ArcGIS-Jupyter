{
 "cells": [
  {
   "cell_type": "markdown",
   "metadata": {},
   "source": [
    "# OSI Lat Long\n",
    "### This Notebook uses the XY of the point featureclass and adds Lat Long to each related row in a related table\n",
    "A CSV file is generated that will be used to support a seperate project.\n",
    "\n",
    "The second half of the Notebook explores the electric consumption data with a [SpatialDataFrame](https://esri.github.io/arcgis-python-api/apidoc/html/arcgis.features.toc.html?highlight=spatialdataframe#spatialdataframe) using the customers table modifed in the first half."
   ]
  },
  {
   "cell_type": "code",
   "execution_count": 1,
   "metadata": {},
   "outputs": [],
   "source": [
    "import arcpy\n",
    "import numpy\n",
    "import pandas as pd"
   ]
  },
  {
   "cell_type": "code",
   "execution_count": 2,
   "metadata": {},
   "outputs": [],
   "source": [
    "gdb = r\"C:\\Users\\friendde\\Documents\\ArcGIS\\Projects\\OSILatLong\\OSILatLong.gdb\"\n",
    "\n",
    "#esvcPntSource = r\"C:\\GISData\\Data\\Snapshot\\mxElectric.geodatabase\\Electric\\main.eServicePoint\"\n",
    "#gsvcPntSource = r\"C:\\GISData\\Data\\Snapshot\\mxGas.geodatabase\\Gas\\main.gMeterSet\"\n",
    "#rsvcPntSource = r\"C:\\GISData\\Data\\Snapshot\\WWW_Extract.gdb\\Reclaimed\\rServicePoint\"\n",
    "#wsvcPntSource = r\"C:\\GISData\\Data\\Snapshot\\WWW_Extract.gdb\\Water\\ServicePoint\"\n",
    "#svcPntSourceList = [esvcPntSource,gsvcPntSource,rsvcPntSource,wsvcPntSource]\n",
    "#svcPntSourceList = [esvcPntSource]\n",
    "\n",
    "esvcPntDest = r\"C:\\Users\\friendde\\Documents\\ArcGIS\\Projects\\OSILatLong\\OSILatLong.gdb\\eServicePoint\"\n",
    "gsvcPntDest = r\"C:\\Users\\friendde\\Documents\\ArcGIS\\Projects\\OSILatLong\\OSILatLong.gdb\\gMeterSet\"\n",
    "rsvcPntDest = r\"C:\\Users\\friendde\\Documents\\ArcGIS\\Projects\\OSILatLong\\OSILatLong.gdb\\rServicePoint\"\n",
    "wsvcPntDest = r\"C:\\Users\\friendde\\Documents\\ArcGIS\\Projects\\OSILatLong\\OSILatLong.gdb\\ServicePoint\"\n",
    "svcPntDestList = [esvcPntDest,gsvcPntDest,rsvcPntDest,wsvcPntDest]\n",
    "\n",
    "#svcPntDict = {esvcPntSource:esvcPntDest,gsvcPntSource:gsvcPntDest,rsvcPntSource:rsvcPntDest,wsvcPntSource:wsvcPntDest}\n",
    "\n",
    "ecustAcctSource = r\"C:\\GISData\\Data\\Snapshot\\mxElectric.geodatabase\\main.eCUSTOMERACCOUNT\"\n",
    "gcustAcctSource = r\"C:\\GISData\\Data\\Snapshot\\mxGas.geodatabase\\main.gCUSTOMERACCOUNT\"\n",
    "rcustAcctSource = r\"C:\\GISData\\Data\\Snapshot\\WWW_Extract.gdb\\rCustomerAccount\"\n",
    "wcustAcctSource = r\"C:\\GISData\\Data\\Snapshot\\WWW_Extract.gdb\\wCustomerAccount\"\n",
    "custAcctSourceList = [ecustAcctSource,gcustAcctSource,rcustAcctSource,wcustAcctSource]\n",
    "\n",
    "ecustAcctDest = r\"C:\\Users\\friendde\\Documents\\ArcGIS\\Projects\\OSILatLong\\OSILatLong.gdb\\eCUSTOMERACCOUNT\"\n",
    "gcustAcctDest = r\"C:\\Users\\friendde\\Documents\\ArcGIS\\Projects\\OSILatLong\\OSILatLong.gdb\\gCUSTOMERACCOUNT\"\n",
    "rcustAcctDest = r\"C:\\Users\\friendde\\Documents\\ArcGIS\\Projects\\OSILatLong\\OSILatLong.gdb\\rCUSTOMERACCOUNT\"\n",
    "wcustAcctDest = r\"C:\\Users\\friendde\\Documents\\ArcGIS\\Projects\\OSILatLong\\OSILatLong.gdb\\wCUSTOMERACCOUNT\"\n",
    "custAcctDestList = [ecustAcctDest,gcustAcctDest,rcustAcctDest,wcustAcctDest]\n",
    "\n",
    "custAcctDict = {ecustAcctSource:ecustAcctDest,gcustAcctSource:gcustAcctDest,rcustAcctSource:rcustAcctDest,wcustAcctSource:wcustAcctDest}\n",
    "\n",
    "svcPntDestFlds = [\"OID@\",\"GLOBALID\",\"POINT_X\",\"POINT_Y\",\"PHASEDESIGNATION\"]\n",
    "custAcctDestFlds = [\"SERVICEPOINTOBJECTID\",\"GLOBALID\",\"POINT_X\",\"POINT_Y\",\"PHASEDESIGNATION\",\"Utility\"]\n",
    "custAcctOutFlds = [\"OID@\",\"SvcPntOID\",\"INSTALL_NUM\",\"POINT_X\",\"POINT_Y\",\"PHASEDESIGNATION\"]\n",
    "custAnalysis = [\"SERVICEPOINTOBJECTID\",\"INSTALL_NUM\",\"POINT_X\",\"POINT_Y\",\"AVGCONSUMPTION\",\"MAXCONSUMPTION\"]\n",
    "custLocations = r\"C:\\Users\\friendde\\Documents\\ArcGIS\\Projects\\OSILatLong\\OSILatLong.gdb\\CustomerLocations\"\n",
    "custAcctFile = r'C:\\Users\\friendde\\Documents\\ArcGIS\\Projects\\OSILatLong\\GISAll.csv'"
   ]
  },
  {
   "cell_type": "markdown",
   "metadata": {},
   "source": [
    "#### Phase Translation between ArcFM and OSI\n",
    "| Phase | ArcFM | OSI |\n",
    "|-------|-------|-----|\n",
    "|   A   |   4   |  1  ||\n",
    "|   B   |   2   |  2  |\n",
    "|   C   |   1   |  3  |\n",
    "|   AB  |   6   |  12 |\n",
    "|   AC  |   5   |  13 |\n",
    "|   BC  |   3   |  23 |\n",
    "|   ABC |   7   |  123|"
   ]
  },
  {
   "cell_type": "code",
   "execution_count": null,
   "metadata": {},
   "outputs": [],
   "source": [
    "def getPhaseDesignation(phaseDesignation):\n",
    "        if phaseDesignation is None:\n",
    "                ph = 0\n",
    "                return ph\n",
    "        if phaseDesignation == 1:\n",
    "                ph = 3\n",
    "                return ph\n",
    "        if phaseDesignation == 2:\n",
    "                ph = 2\n",
    "                return ph\n",
    "        if phaseDesignation == 3:\n",
    "                ph = 23\n",
    "                return ph\n",
    "        if phaseDesignation == 4:\n",
    "                ph = 1\n",
    "                return ph\n",
    "        if phaseDesignation == 5:\n",
    "                ph = 13\n",
    "                return ph\n",
    "        if phaseDesignation == 6:\n",
    "                ph = 12\n",
    "                return ph\n",
    "        if phaseDesignation == 7:\n",
    "                ph = 123\n",
    "                return ph\n",
    "\n",
    "def listReplace(lst, _from, _to):\n",
    "   return([_to if v == _from else v for v in lst])"
   ]
  },
  {
   "cell_type": "code",
   "execution_count": null,
   "metadata": {},
   "outputs": [],
   "source": [
    "arcpy.env.workspace = gdb\n",
    "arcpy.env.overwriteOutput = True\n",
    "arcpy.env.outputCoordinateSystem = arcpy.SpatialReference(4326)"
   ]
  },
  {
   "cell_type": "code",
   "execution_count": null,
   "metadata": {},
   "outputs": [],
   "source": [
    "fdsList = arcpy.ListDatasets()\n",
    "for fds in fdsList:\n",
    "    print(fds)\n",
    "    arcpy.Delete_management(fds)\n",
    "tblList = arcpy.ListTables()\n",
    "for tbl in tblList:\n",
    "    print(tbl)\n",
    "    arcpy.Delete_management(tbl)\n",
    "fcsList = arcpy.ListFeatureClasses()\n",
    "for fcs in fcsList:\n",
    "    print(fcs)\n",
    "    arcpy.Delete_management(fcs)"
   ]
  },
  {
   "cell_type": "markdown",
   "metadata": {},
   "source": [
    "\n",
    "for svcPntDest in svcPntDestList:\n",
    "    if arcpy.Exists(svcPntDest):\n",
    "        print(f'Found {svcPntDest}')\n",
    "        arcpy.Delete_management(svcPntDest)"
   ]
  },
  {
   "cell_type": "markdown",
   "metadata": {},
   "source": [
    "rc_list = [c.name for c in arcpy.Describe(workspace).children if c.datatype == \"RelationshipClass\"] \n",
    "\n",
    "FeatureClassToFeatureClass_conversion (in_features, out_path, out_name, {where_clause}, {field_mapping}, config_keyword)"
   ]
  },
  {
   "cell_type": "code",
   "execution_count": null,
   "metadata": {},
   "outputs": [],
   "source": [
    "for k,v in custAcctDict.items():\n",
    "    print(f'Copying {k} to {v}')\n",
    "    arcpy.Copy_management(k,v)\n",
    "    if arcpy.Exists(v):\n",
    "        print(f'Copy Success {v}')\n",
    "        arcpy.AddField_management(v, \"POINT_X\", \"DOUBLE\")\n",
    "        arcpy.AddField_management(v, \"POINT_Y\", \"DOUBLE\")\n",
    "        arcpy.AddField_management(v, \"PHASEDESIGNATION\", \"LONG\")\n",
    "        arcpy.AddField_management(v, \"SERVICEPOINTOBJECTID\", \"LONG\")\n",
    "        arcpy.AddField_management(v, \"Utility\", \"TEXT\")\n",
    "    else:\n",
    "        print(f'Copy Failed! {v}')\n",
    "for fc in svcPntDestList:\n",
    "    if arcpy.Exists(fc):\n",
    "        print(f'Copy Success, adding XY to {fc}')\n",
    "        arcpy.AddXY_management(fc)\n",
    "        print(f'AddXY completed')\n",
    "        fldList = []\n",
    "        flds = arcpy.Describe(fc).fields\n",
    "        for fld in flds:\n",
    "            fldList.append(fld)\n",
    "        if \"PHASEDESIGNATION\" not in fldList:\n",
    "            print(f'Adding PhaseDesignation to {fc}')\n",
    "            arcpy.AddField_management(fc, \"PHASEDESIGNATION\", \"LONG\")\n",
    "            print(f'Add PhaseDesignation completed')"
   ]
  },
  {
   "cell_type": "code",
   "execution_count": null,
   "metadata": {},
   "outputs": [],
   "source": [
    "rcList = [c.name for c in arcpy.Describe(gdb).children if c.datatype == \"RelationshipClass\"]\n",
    "for rc in rcList:\n",
    "    desc = arcpy.Describe(rc)\n",
    "    print(\"%-25s %s\" % (\"Backward Path Label:\", desc.backwardPathLabel))\n",
    "    print(\"%-25s %s\" % (\"Cardinality:\", desc.cardinality))\n",
    "    print(\"%-25s %s\" % (\"Class key:\", desc.classKey))\n",
    "    print(\"%-25s %s\" % (\"Destination Class Names:\", desc.destinationClassNames))\n",
    "    print(\"%-25s %s\" % (\"Forward Path Label:\", desc.forwardPathLabel)) \n",
    "    print(\"%-25s %s\" % (\"Is Attributed:\", desc.isAttributed))\n",
    "    print(\"%-25s %s\" % (\"Is Composite:\", desc.isComposite)) \n",
    "    print(\"%-25s %s\" % (\"Is Reflexive:\", desc.isReflexive))\n",
    "    print(\"%-25s %s\" % (\"Key Type:\", desc.keyType))\n",
    "    print(\"%-25s %s\" % (\"Notification Direction:\", desc.notification))\n",
    "    print(\"%-25s %s\" % (\"Origin Class Names:\", desc.originClassNames))\n",
    "    print(\"\\n\")"
   ]
  },
  {
   "cell_type": "code",
   "execution_count": null,
   "metadata": {},
   "outputs": [],
   "source": [
    "for rc in rcList:\n",
    "    arcpy.MigrateRelationshipClass_management(rc)"
   ]
  },
  {
   "cell_type": "code",
   "execution_count": null,
   "metadata": {},
   "outputs": [],
   "source": [
    "edit = arcpy.da.Editor(gdb)\n",
    "edit.startEditing(False, False)\n",
    "edit.startOperation()"
   ]
  },
  {
   "cell_type": "code",
   "execution_count": null,
   "metadata": {},
   "outputs": [],
   "source": [
    "for rc in rcList:\n",
    "    desc = arcpy.Describe(rc)\n",
    "    if desc.originClassNames[0] == \"SAP_INSTALLATION\":\n",
    "        pass\n",
    "    elif desc.destinationClassNames[0] == \"SAP_INSTALLATION\":\n",
    "        pass\n",
    "    else:\n",
    "        custAcctFlds = []\n",
    "        custAcctFlds = listReplace(custAcctDestFlds,\"GLOBALID\",f\"{desc.originClassNames[0]}_GLOBALID\")\n",
    "        with arcpy.da.SearchCursor(desc.originClassNames[0],svcPntDestFlds) as svcpnts:\n",
    "            print(f\"Searching {desc.originClassNames[0]} and updating {desc.destinationClassNames[0]}\")\n",
    "            for svcpnt in svcpnts:\n",
    "                whereClause = f\"{desc.originClassNames[0]}_GLOBALID = '{svcpnt[1]}'\"\n",
    "                with arcpy.da.UpdateCursor(desc.destinationClassNames[0],custAcctFlds,whereClause) as uc:\n",
    "                    for row in uc:\n",
    "                        row[0] = svcpnt[0]\n",
    "                        row[2] = svcpnt[2]\n",
    "                        row[3] = svcpnt[3]\n",
    "                        row[4] = getPhaseDesignation(svcpnt[4])\n",
    "                        row[5] = desc.destinationClassNames[0][:1]\n",
    "                        uc.updateRow(row)"
   ]
  },
  {
   "cell_type": "code",
   "execution_count": null,
   "metadata": {},
   "outputs": [],
   "source": [
    "edit.stopOperation()\n",
    "edit.stopEditing(True)"
   ]
  },
  {
   "cell_type": "code",
   "execution_count": null,
   "metadata": {},
   "outputs": [],
   "source": [
    "arcpy.CreateTable_management(gdb,\"CustomerLocations\",ecustAcctDest)"
   ]
  },
  {
   "cell_type": "code",
   "execution_count": null,
   "metadata": {},
   "outputs": [],
   "source": [
    "arcpy.Append_management(custAcctDestList,custLocations,\"NO_TEST\")"
   ]
  },
  {
   "cell_type": "markdown",
   "metadata": {},
   "source": [
    "### Use numpy and pandas to export to CSV\n",
    "\n",
    "Use arcpy [```TableToNumPyArray()```](http://pro.arcgis.com/en/pro-app/arcpy/data-access/tabletonumpyarray.htm)\n",
    "See also [Working with numpy in ArcGIS](http://pro.arcgis.com/en/pro-app/arcpy/get-started/working-with-numpy-in-arcgis.htm)"
   ]
  },
  {
   "cell_type": "code",
   "execution_count": null,
   "metadata": {},
   "outputs": [],
   "source": [
    "nparr = arcpy.da.TableToNumPyArray(custLocations,custAcctOutFlds,skip_nulls=True)\n",
    "#nparr = arcpy.da.TableToNumPyArray(custAcctDest,custAcctOutFlds,null_value=-9999)\n",
    "pdarr = pd.DataFrame(nparr)\n",
    "pdarr.to_csv(custAcctFile,header=False, index=False)"
   ]
  },
  {
   "cell_type": "markdown",
   "metadata": {},
   "source": [
    "TODO - write file to \\\\gruadmin.gru.com\\fs\\Groups\\OMS Replacement Project\\Documents for OSII\\Customer and Premise Files"
   ]
  },
  {
   "cell_type": "markdown",
   "metadata": {},
   "source": [
    "Ready new numpy array for consumption analysis"
   ]
  },
  {
   "cell_type": "markdown",
   "metadata": {},
   "source": [
    "remove empty line at end of CSV"
   ]
  },
  {
   "cell_type": "code",
   "execution_count": null,
   "metadata": {},
   "outputs": [],
   "source": [
    "#nparr = arcpy.da.TableToNumPyArray(custLocations,[\"ServicePointObjectID\",\"POINT_X\",\"POINT_Y\",\"AVGCONSUMPTION\",\"MAXCONSUMPTION\",\"Utility\"],skip_nulls=True)"
   ]
  },
  {
   "cell_type": "markdown",
   "metadata": {},
   "source": [
    "DataFrame.drop_duplicates(subset=None, keep='first', inplace=False"
   ]
  },
  {
   "cell_type": "code",
   "execution_count": 3,
   "metadata": {},
   "outputs": [],
   "source": [
    "nparr = arcpy.da.TableToNumPyArray(custLocations,[\"SvcPnt\",\"INSTALL_NUM\",\"POINT_X\",\"POINT_Y\",\"PHASEDESIGNATION\"],skip_nulls=True)"
   ]
  },
  {
   "cell_type": "code",
   "execution_count": 5,
   "metadata": {},
   "outputs": [],
   "source": [
    "df = pd.DataFrame(nparr)"
   ]
  },
  {
   "cell_type": "code",
   "execution_count": 12,
   "metadata": {},
   "outputs": [],
   "source": [
    "df.drop_duplicates(subset='INSTALL_NUM', keep='first', inplace=True)"
   ]
  },
  {
   "cell_type": "code",
   "execution_count": 15,
   "metadata": {},
   "outputs": [],
   "source": [
    "df.to_csv(custAcctFile,header=False, index=True)"
   ]
  },
  {
   "cell_type": "code",
   "execution_count": 11,
   "metadata": {},
   "outputs": [
    {
     "data": {
      "text/html": [
       "<div>\n",
       "<style scoped>\n",
       "    .dataframe tbody tr th:only-of-type {\n",
       "        vertical-align: middle;\n",
       "    }\n",
       "\n",
       "    .dataframe tbody tr th {\n",
       "        vertical-align: top;\n",
       "    }\n",
       "\n",
       "    .dataframe thead th {\n",
       "        text-align: right;\n",
       "    }\n",
       "</style>\n",
       "<table border=\"1\" class=\"dataframe\">\n",
       "  <thead>\n",
       "    <tr style=\"text-align: right;\">\n",
       "      <th></th>\n",
       "      <th>SvcPnt</th>\n",
       "      <th>INSTALL_NUM</th>\n",
       "      <th>POINT_X</th>\n",
       "      <th>POINT_Y</th>\n",
       "      <th>PHASEDESIGNATION</th>\n",
       "    </tr>\n",
       "  </thead>\n",
       "  <tbody>\n",
       "    <tr>\n",
       "      <th>203337</th>\n",
       "      <td>w17601</td>\n",
       "      <td>5000345778</td>\n",
       "      <td>-82.363735</td>\n",
       "      <td>29.649041</td>\n",
       "      <td>0</td>\n",
       "    </tr>\n",
       "    <tr>\n",
       "      <th>203338</th>\n",
       "      <td>w12208</td>\n",
       "      <td>5000205415</td>\n",
       "      <td>-82.364758</td>\n",
       "      <td>29.656020</td>\n",
       "      <td>0</td>\n",
       "    </tr>\n",
       "    <tr>\n",
       "      <th>203339</th>\n",
       "      <td>w12201</td>\n",
       "      <td>5000371121</td>\n",
       "      <td>-82.366248</td>\n",
       "      <td>29.654611</td>\n",
       "      <td>0</td>\n",
       "    </tr>\n",
       "    <tr>\n",
       "      <th>203340</th>\n",
       "      <td>w7527</td>\n",
       "      <td>5000033678</td>\n",
       "      <td>-82.363783</td>\n",
       "      <td>29.653377</td>\n",
       "      <td>0</td>\n",
       "    </tr>\n",
       "    <tr>\n",
       "      <th>203341</th>\n",
       "      <td>w56684</td>\n",
       "      <td>5000352391</td>\n",
       "      <td>-82.335144</td>\n",
       "      <td>29.648112</td>\n",
       "      <td>0</td>\n",
       "    </tr>\n",
       "  </tbody>\n",
       "</table>\n",
       "</div>"
      ],
      "text/plain": [
       "        SvcPnt INSTALL_NUM    POINT_X    POINT_Y  PHASEDESIGNATION\n",
       "203337  w17601  5000345778 -82.363735  29.649041                 0\n",
       "203338  w12208  5000205415 -82.364758  29.656020                 0\n",
       "203339  w12201  5000371121 -82.366248  29.654611                 0\n",
       "203340   w7527  5000033678 -82.363783  29.653377                 0\n",
       "203341  w56684  5000352391 -82.335144  29.648112                 0"
      ]
     },
     "execution_count": 11,
     "metadata": {},
     "output_type": "execute_result"
    }
   ],
   "source": [
    "#df = pd.DataFrame(nparr)\n",
    "df.tail()"
   ]
  },
  {
   "cell_type": "code",
   "execution_count": null,
   "metadata": {},
   "outputs": [],
   "source": [
    "df.groupby('INSTALL_NUM').filter(lambda x: len(x) > 1)"
   ]
  },
  {
   "cell_type": "code",
   "execution_count": null,
   "metadata": {},
   "outputs": [],
   "source": [
    "df.groupby(['INSTALL_NUM']).size().reset_index(name='count')"
   ]
  },
  {
   "cell_type": "code",
   "execution_count": null,
   "metadata": {},
   "outputs": [],
   "source": [
    "df = pd.DataFrame(nparr)\n",
    "df.head(1000)"
   ]
  },
  {
   "cell_type": "markdown",
   "metadata": {},
   "source": [
    "[```gis.features.SpatialDataFrame()```](https://esri.github.io/arcgis-python-api/apidoc/html/arcgis.features.toc.html?highlight=spatialdataframe#arcgis.features.SpatialDataFrame.from_xy)"
   ]
  },
  {
   "cell_type": "code",
   "execution_count": null,
   "metadata": {},
   "outputs": [],
   "source": [
    "from arcgis.features import SpatialDataFrame\n",
    "from arcgis.gis import GIS\n",
    "from getpass import getpass\n",
    "from IPython.display import display"
   ]
  },
  {
   "cell_type": "code",
   "execution_count": null,
   "metadata": {},
   "outputs": [],
   "source": [
    "sdf = SpatialDataFrame.from_xy(df,\"POINT_X\",\"POINT_Y\")\n",
    "gis = GIS(arcpy.GetActivePortalURL(), username=input(\"Enter User Name \"), password=(getpass()))\n",
    "#gis = GIS()\n",
    "#portalDesc = arcpy.GetPortalDescription()\n",
    "# search and list all items owned by connected user\n",
    "#query=f'owner:{portalDesc[\"user\"][\"username\"]} AND title:CW BaseMap'\n",
    "#itemType=\"Feature Layer\"\n",
    "#sortField=\"title\"\n",
    "#sortOrder=\"asc\"\n",
    "# default max__items is 10\n",
    "#maxItems=100\n",
    "#m = gis.content.search(query,itemType,sortField,sortOrder,maxItems)"
   ]
  },
  {
   "cell_type": "code",
   "execution_count": null,
   "metadata": {},
   "outputs": [],
   "source": [
    "consumptionLyr = gis.content.import_data(sdf)"
   ]
  },
  {
   "cell_type": "code",
   "execution_count": null,
   "metadata": {},
   "outputs": [],
   "source": [
    "m = gis.map('Gainesville,FL')"
   ]
  },
  {
   "cell_type": "code",
   "execution_count": null,
   "metadata": {},
   "outputs": [],
   "source": [
    "m.add_layer(sdf,options={\"renderer\":\"ClassedSizeRenderer\",\"field_name\":\"MAXCONSUMPTION\"})"
   ]
  },
  {
   "cell_type": "code",
   "execution_count": null,
   "metadata": {},
   "outputs": [],
   "source": [
    "m.add_layer(consumptionLyr,options={\"renderer\":\"ClassedSizeRenderer\",\"field_name\":\"MAXCONSUMPTION\"})"
   ]
  },
  {
   "cell_type": "code",
   "execution_count": null,
   "metadata": {},
   "outputs": [],
   "source": [
    "m"
   ]
  },
  {
   "cell_type": "code",
   "execution_count": null,
   "metadata": {},
   "outputs": [],
   "source": []
  }
 ],
 "metadata": {
  "kernelspec": {
   "display_name": "Python 3",
   "language": "python",
   "name": "python3"
  },
  "language_info": {
   "codemirror_mode": {
    "name": "ipython",
    "version": 3
   },
   "file_extension": ".py",
   "mimetype": "text/x-python",
   "name": "python",
   "nbconvert_exporter": "python",
   "pygments_lexer": "ipython3",
   "version": "3.6.5"
  }
 },
 "nbformat": 4,
 "nbformat_minor": 2
}
