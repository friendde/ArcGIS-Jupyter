{
 "cells": [
  {
   "cell_type": "code",
   "execution_count": 9,
   "metadata": {},
   "outputs": [],
   "source": [
    "import arcpy\n",
    "svcPnt = r\"C:\\Users\\friendde\\Documents\\ArcGIS\\Projects\\OSILatLong\\mxElectric.geodatabase\\main.eServicePoint\"\n",
    "custAcct = r\"C:\\Users\\friendde\\Documents\\ArcGIS\\Projects\\OSILatLong\\mxElectric.geodatabase\\main.eCUSTOMERACCOUNT\""
   ]
  },
  {
   "cell_type": "code",
   "execution_count": 10,
   "metadata": {},
   "outputs": [],
   "source": [
    "edit = arcpy.da.Editor(r\"C:\\Users\\friendde\\Documents\\ArcGIS\\Projects\\OSILatLong\\mxElectric.geodatabase\")\n",
    "edit.startEditing(False, False)\n",
    "edit.startOperation()"
   ]
  },
  {
   "cell_type": "code",
   "execution_count": 11,
   "metadata": {},
   "outputs": [],
   "source": [
    "with arcpy.da.SearchCursor(svcPnt,[\"OID@\",\"POINT_X\",\"POINT_Y\",\"PHASEDESIGNATION\"]) as svcpnts:\n",
    "        for svcpnt in svcpnts:\n",
    "                whereClause = \"SERVICEPOINTOBJECTID = {}\".format(svcpnt[0])\n",
    "                #print(whereClause,svcpnt[1])\n",
    "                with arcpy.da.UpdateCursor(custAcct,[\"OID@\",\"POINT_X\",\"POINT_Y\",\"PHASEDESIGNATION\",\"SERVICEPOINTOBJECTID\"],whereClause) as uc:\n",
    "                    #print(row)\n",
    "                    for row in uc:\n",
    "                            row[1] = svcpnt[1]\n",
    "                            row[2] = svcpnt[2]\n",
    "                            row[3] = svcpnt[3]\n",
    "                            uc.updateRow(row)"
   ]
  },
  {
   "cell_type": "code",
   "execution_count": 12,
   "metadata": {},
   "outputs": [],
   "source": [
    "edit.stopOperation()\n",
    "edit.stopEditing(True)"
   ]
  },
  {
   "cell_type": "code",
   "execution_count": null,
   "metadata": {},
   "outputs": [],
   "source": []
  }
 ],
 "metadata": {
  "kernelspec": {
   "display_name": "Python 3",
   "language": "python",
   "name": "python3"
  },
  "language_info": {
   "codemirror_mode": {
    "name": "ipython",
    "version": 3
   },
   "file_extension": ".py",
   "mimetype": "text/x-python",
   "name": "python",
   "nbconvert_exporter": "python",
   "pygments_lexer": "ipython3",
   "version": "3.6.5"
  }
 },
 "nbformat": 4,
 "nbformat_minor": 2
}
