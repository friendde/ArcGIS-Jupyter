{
 "cells": [
  {
   "cell_type": "markdown",
   "metadata": {},
   "source": [
    "# OSI Lat Long\n",
    "### This Notebook uses the XY of the point featureclass and adds Lat Long to each related row in a related table. The FeederID (aka Circuit Number) is also determined for Electric features.\n",
    "A CSV file is generated that will be used to support a seperate project.\n",
    "\n",
    "The second half of the Notebook explores the electric consumption data with a [SpatialDataFrame](https://esri.github.io/arcgis-python-api/apidoc/html/arcgis.features.toc.html?highlight=spatialdataframe#spatialdataframe) using the customers table modifed in the first half."
   ]
  },
  {
   "cell_type": "markdown",
   "metadata": {},
   "source": [
    "W/WW notes: needs GloabID in customer account tables"
   ]
  },
  {
   "cell_type": "code",
   "execution_count": null,
   "metadata": {},
   "outputs": [],
   "source": [
    "import arcpy\n",
    "import numpy as np\n",
    "import pandas as pd"
   ]
  },
  {
   "cell_type": "code",
   "execution_count": null,
   "metadata": {},
   "outputs": [],
   "source": [
    "gdb = r\"C:\\Users\\friendde\\Documents\\ArcGIS\\Projects\\OSILatLong\\OSILatLong.gdb\"\n",
    "\n",
    "esvcPntDest = r\"C:\\Users\\friendde\\Documents\\ArcGIS\\Projects\\OSILatLong\\OSILatLong.gdb\\eServicePoint\"\n",
    "gsvcPntDest = r\"C:\\Users\\friendde\\Documents\\ArcGIS\\Projects\\OSILatLong\\OSILatLong.gdb\\gMeterSet\"\n",
    "rsvcPntDest = r\"C:\\Users\\friendde\\Documents\\ArcGIS\\Projects\\OSILatLong\\OSILatLong.gdb\\rServicePoint\"\n",
    "wsvcPntDest = r\"C:\\Users\\friendde\\Documents\\ArcGIS\\Projects\\OSILatLong\\OSILatLong.gdb\\ServicePoint\"\n",
    "svcPntDestList = [esvcPntDest,gsvcPntDest,rsvcPntDest,wsvcPntDest]\n",
    "\n",
    "#svcPntDict = {esvcPntSource:esvcPntDest,gsvcPntSource:gsvcPntDest,rsvcPntSource:rsvcPntDest,wsvcPntSource:wsvcPntDest}\n",
    "\n",
    "ecustAcctSource = r\"C:\\GISData\\Data\\Snapshot\\mxElectric.geodatabase\\main.eCUSTOMERACCOUNT\"\n",
    "gcustAcctSource = r\"C:\\GISData\\Data\\Snapshot\\mxGas.geodatabase\\main.gCUSTOMERACCOUNT\"\n",
    "rcustAcctSource = r\"C:\\arcdata\\WWW_Extract.gdb\\rCustomerAccount\"\n",
    "wcustAcctSource = r\"C:\\arcdata\\WWW_Extract.gdb\\wCustomerAccount\"\n",
    "custAcctSourceList = [ecustAcctSource,gcustAcctSource,rcustAcctSource,wcustAcctSource]\n",
    "\n",
    "ecustAcctDest = r\"C:\\Users\\friendde\\Documents\\ArcGIS\\Projects\\OSILatLong\\OSILatLong.gdb\\eCUSTOMERACCOUNT\"\n",
    "gcustAcctDest = r\"C:\\Users\\friendde\\Documents\\ArcGIS\\Projects\\OSILatLong\\OSILatLong.gdb\\gCUSTOMERACCOUNT\"\n",
    "rcustAcctDest = r\"C:\\Users\\friendde\\Documents\\ArcGIS\\Projects\\OSILatLong\\OSILatLong.gdb\\rCUSTOMERACCOUNT\"\n",
    "wcustAcctDest = r\"C:\\Users\\friendde\\Documents\\ArcGIS\\Projects\\OSILatLong\\OSILatLong.gdb\\wCUSTOMERACCOUNT\"\n",
    "custAcctDestList = [ecustAcctDest,gcustAcctDest,rcustAcctDest,wcustAcctDest]\n",
    "\n",
    "custAcctDict = {ecustAcctSource:ecustAcctDest,gcustAcctSource:gcustAcctDest,rcustAcctSource:rcustAcctDest,wcustAcctSource:wcustAcctDest}\n",
    "\n",
    "electFields = [\"PHASEDESIGNATION\",\"FEEDERID\",\"TRANSFORMERBANKOBJECTID\"]\n",
    "svcPntDestFlds = [\"OID@\",\"GLOBALID\",\"POINT_X\",\"POINT_Y\",\"PHASEDESIGNATION\",\"FEEDERID\",\"TRANSFORMERBANKOBJECTID\"]\n",
    "custAcctDestFlds = [\"SERVICEPOINTOBJECTID\",\"GLOBALID\",\"POINT_X\",\"POINT_Y\",\"PHASEDESIGNATION\",\"FeederID\",\"Utility\",\"TRANSFORMERBANKOBJECTID\"]\n",
    "custAcctOutFlds = [\"OID@\",\"SvcPntOID\",\"INSTALL_NUM\",\"POINT_X\",\"POINT_Y\",\"PHASEDESIGNATION\",\"FeederID\",\"TRANSFORMERBANKOBJECTID\"]\n",
    "custAnalysis = [\"SERVICEPOINTOBJECTID\",\"INSTALL_NUM\",\"POINT_X\",\"POINT_Y\",\"AVGCONSUMPTION\",\"MAXCONSUMPTION\"]\n",
    "custLocations = r\"C:\\Users\\friendde\\Documents\\ArcGIS\\Projects\\OSILatLong\\OSILatLong.gdb\\CustomerLocations\"\n",
    "custAcctFile = r'C:\\Users\\friendde\\Documents\\ArcGIS\\Projects\\OSILatLong\\GISAll.csv'"
   ]
  },
  {
   "cell_type": "markdown",
   "metadata": {},
   "source": [
    "#### Phase Translation between ArcFM and OSI\n",
    "| Phase | ArcFM | OSI |\n",
    "|-------|-------|-----|\n",
    "|   A   |   4   |  1  ||\n",
    "|   B   |   2   |  2  |\n",
    "|   C   |   1   |  3  |\n",
    "|   AB  |   6   |  12 |\n",
    "|   AC  |   5   |  13 |\n",
    "|   BC  |   3   |  23 |\n",
    "|   ABC |   7   |  123|"
   ]
  },
  {
   "cell_type": "code",
   "execution_count": null,
   "metadata": {},
   "outputs": [],
   "source": [
    "# convert ArcFM Phase to OSI Phase\n",
    "def getPhaseDesignation(phaseDesignation):\n",
    "        if phaseDesignation is None:\n",
    "                ph = 0\n",
    "                return ph\n",
    "        if phaseDesignation == 1:\n",
    "                ph = 3\n",
    "                return ph\n",
    "        if phaseDesignation == 2:\n",
    "                ph = 2\n",
    "                return ph\n",
    "        if phaseDesignation == 3:\n",
    "                ph = 23\n",
    "                return ph\n",
    "        if phaseDesignation == 4:\n",
    "                ph = 1\n",
    "                return ph\n",
    "        if phaseDesignation == 5:\n",
    "                ph = 13\n",
    "                return ph\n",
    "        if phaseDesignation == 6:\n",
    "                ph = 12\n",
    "                return ph\n",
    "        if phaseDesignation == 7:\n",
    "                ph = 123\n",
    "                return ph\n",
    "def gettxOID(txOID):\n",
    "        if txOID is None:\n",
    "                txOID = 0\n",
    "                return txOID\n",
    "        else:\n",
    "            return txOID\n",
    "\n",
    "def listReplace(lst, _from, _to):\n",
    "   return([_to if v == _from else v for v in lst])"
   ]
  },
  {
   "cell_type": "code",
   "execution_count": null,
   "metadata": {},
   "outputs": [],
   "source": [
    "arcpy.env.workspace = gdb\n",
    "arcpy.env.overwriteOutput = True\n",
    "arcpy.env.outputCoordinateSystem = arcpy.SpatialReference(4326)"
   ]
  },
  {
   "cell_type": "code",
   "execution_count": null,
   "metadata": {},
   "outputs": [],
   "source": [
    "# delete all existing tables in workspace, new tables are created or copied in\n",
    "fdsList = arcpy.ListDatasets()\n",
    "for fds in fdsList:\n",
    "    print(fds)\n",
    "    arcpy.Delete_management(fds)\n",
    "tblList = arcpy.ListTables()\n",
    "for tbl in tblList:\n",
    "    print(tbl)\n",
    "    arcpy.Delete_management(tbl)\n",
    "fcsList = arcpy.ListFeatureClasses()\n",
    "for fcs in fcsList:\n",
    "    print(fcs)\n",
    "    arcpy.Delete_management(fcs)"
   ]
  },
  {
   "cell_type": "code",
   "execution_count": null,
   "metadata": {},
   "outputs": [],
   "source": [
    "# copy in custAcctDict customer tables into workspace\n",
    "# add fields not normaly in customer tables\n",
    "for k,v in custAcctDict.items():\n",
    "    print(f'Copying {k} to {v}')\n",
    "    arcpy.Copy_management(k,v)\n",
    "    if arcpy.Exists(v):\n",
    "        #print(f'Copy Success {v}')\n",
    "        arcpy.AddField_management(v, \"POINT_X\", \"DOUBLE\")\n",
    "        arcpy.AddField_management(v, \"POINT_Y\", \"DOUBLE\")\n",
    "        arcpy.AddField_management(v, \"PHASEDESIGNATION\", \"LONG\")\n",
    "        arcpy.AddField_management(v, \"SERVICEPOINTOBJECTID\", \"LONG\")\n",
    "        arcpy.AddField_management(v, \"Utility\", \"TEXT\")\n",
    "        arcpy.AddField_management(v, \"FeederID\", \"TEXT\")\n",
    "        arcpy.AddField_management(v, \"TRANSFORMERBANKOBJECTID\", \"LONG\")\n",
    "    else:\n",
    "        print(f'Copy Failed! {v}')\n",
    "# add XY coords to service point features\n",
    "for fc in svcPntDestList:\n",
    "    if arcpy.Exists(fc):\n",
    "        print(f'Adding XY to {fc}')\n",
    "        arcpy.AddXY_management(fc)\n",
    "        fldList = []\n",
    "        flds = arcpy.Describe(fc).fields\n",
    "        for fld in flds:\n",
    "            fldList.append(fld)\n",
    "        if electFields not in fldList:\n",
    "            for electField in electFields:\n",
    "                print(f'Adding {electField} to {fc}')\n",
    "                if electField in [\"PHASEDESIGNATION\",\"TRANSFORMERBANKOBJECTID\"]:\n",
    "                    arcpy.AddField_management(fc, electField, \"LONG\")\n",
    "                else:\n",
    "                    arcpy.AddField_management(fc, electField, \"TEXT\")"
   ]
  },
  {
   "cell_type": "code",
   "execution_count": null,
   "metadata": {},
   "outputs": [],
   "source": [
    "for custAcctDest in custAcctDestList:\n",
    "    fldList = []\n",
    "    flds = arcpy.Describe(custAcctDest).fields\n",
    "    if \"GlobalID\" not in fldList:\n",
    "        print(f'Adding GlobalID to {custAcctDest}')\n",
    "        arcpy.AddGlobalIDs_management(custAcctDest)"
   ]
  },
  {
   "cell_type": "code",
   "execution_count": null,
   "metadata": {},
   "outputs": [],
   "source": [
    "# convert ObjectID relationship to GlobalID relationship\n",
    "rcList = [c.name for c in arcpy.Describe(gdb).children if c.datatype == \"RelationshipClass\"]\n",
    "for rc in rcList:\n",
    "    desc = arcpy.Describe(rc)\n",
    "    print(\"%-25s %s\" % (\"Backward Path Label:\", desc.backwardPathLabel))\n",
    "    print(\"%-25s %s\" % (\"Cardinality:\", desc.cardinality))\n",
    "    print(\"%-25s %s\" % (\"Class key:\", desc.classKey))\n",
    "    print(\"%-25s %s\" % (\"Destination Class Names:\", desc.destinationClassNames))\n",
    "    print(\"%-25s %s\" % (\"Forward Path Label:\", desc.forwardPathLabel)) \n",
    "    print(\"%-25s %s\" % (\"Is Attributed:\", desc.isAttributed))\n",
    "    print(\"%-25s %s\" % (\"Is Composite:\", desc.isComposite)) \n",
    "    print(\"%-25s %s\" % (\"Is Reflexive:\", desc.isReflexive))\n",
    "    print(\"%-25s %s\" % (\"Key Type:\", desc.keyType))\n",
    "    print(\"%-25s %s\" % (\"Notification Direction:\", desc.notification))\n",
    "    print(\"%-25s %s\" % (\"Origin Class Names:\", desc.originClassNames))\n",
    "    print(\"\\n\")"
   ]
  },
  {
   "cell_type": "code",
   "execution_count": null,
   "metadata": {},
   "outputs": [],
   "source": [
    "for rc in rcList:\n",
    "    print(f'Migrating {rc}')\n",
    "    arcpy.MigrateRelationshipClass_management(rc)"
   ]
  },
  {
   "cell_type": "code",
   "execution_count": null,
   "metadata": {},
   "outputs": [],
   "source": [
    "edit = arcpy.da.Editor(gdb)\n",
    "edit.startEditing(False, False)\n",
    "edit.startOperation()"
   ]
  },
  {
   "cell_type": "code",
   "execution_count": null,
   "metadata": {},
   "outputs": [],
   "source": [
    "for rc in rcList:\n",
    "    desc = arcpy.Describe(rc)\n",
    "    if desc.originClassNames[0] == \"SAP_INSTALLATION\":\n",
    "        pass\n",
    "    elif desc.destinationClassNames[0] == \"SAP_INSTALLATION\":\n",
    "        pass\n",
    "    else:\n",
    "        custAcctFlds = []\n",
    "        custAcctFlds = listReplace(custAcctDestFlds,\"GLOBALID\",f\"{desc.originClassNames[0]}_GLOBALID\")\n",
    "        with arcpy.da.SearchCursor(desc.originClassNames[0],svcPntDestFlds) as svcpnts:\n",
    "            print(f\"Searching {desc.originClassNames[0]} and updating {desc.destinationClassNames[0]}\")\n",
    "            for svcpnt in svcpnts:\n",
    "                whereClause = f\"{desc.originClassNames[0]}_GLOBALID = '{svcpnt[1]}'\"\n",
    "                with arcpy.da.UpdateCursor(desc.destinationClassNames[0],custAcctFlds,whereClause) as uc:\n",
    "                    for row in uc:\n",
    "                        row[0] = svcpnt[0]\n",
    "                        row[2] = svcpnt[2]\n",
    "                        row[3] = svcpnt[3]\n",
    "                        row[4] = getPhaseDesignation(svcpnt[4])\n",
    "                        row[5] = svcpnt[5]\n",
    "                        row[6] = desc.destinationClassNames[0][:1]\n",
    "                        row[7] = gettxOID(svcpnt[6])\n",
    "                        uc.updateRow(row)"
   ]
  },
  {
   "cell_type": "code",
   "execution_count": null,
   "metadata": {},
   "outputs": [],
   "source": [
    "edit.stopOperation()\n",
    "edit.stopEditing(True)"
   ]
  },
  {
   "cell_type": "code",
   "execution_count": null,
   "metadata": {},
   "outputs": [],
   "source": [
    "arcpy.CreateTable_management(gdb,\"CustomerLocations\",ecustAcctDest)"
   ]
  },
  {
   "cell_type": "code",
   "execution_count": null,
   "metadata": {},
   "outputs": [],
   "source": [
    "arcpy.Append_management(custAcctDestList,custLocations,\"NO_TEST\")"
   ]
  },
  {
   "cell_type": "code",
   "execution_count": null,
   "metadata": {},
   "outputs": [],
   "source": [
    "expression = \"setZero(!FeederID!)\"\n",
    "codeblock = \"\"\"\n",
    "def setZero(feeder):\n",
    "    if feeder is None:\n",
    "        return 0\n",
    "    else:\n",
    "        return feeder\"\"\"\n",
    "arcpy.CalculateField_management(custLocations,\"FeederId\",expression,\"PYTHON3\",codeblock)"
   ]
  },
  {
   "cell_type": "markdown",
   "metadata": {},
   "source": [
    "### Use numpy and pandas to export to CSV\n",
    "\n",
    "Use arcpy [```TableToNumPyArray()```](http://pro.arcgis.com/en/pro-app/arcpy/data-access/tabletonumpyarray.htm)\n",
    "See also [Working with numpy in ArcGIS](http://pro.arcgis.com/en/pro-app/arcpy/get-started/working-with-numpy-in-arcgis.htm)"
   ]
  },
  {
   "cell_type": "markdown",
   "metadata": {},
   "source": [
    "nparr = arcpy.da.TableToNumPyArray(custLocations,custAcctOutFlds,skip_nulls=True)\n",
    "#nparr = arcpy.da.TableToNumPyArray(custAcctDest,custAcctOutFlds,null_value=-9999)\n",
    "pdarr = pd.DataFrame(nparr)\n",
    "pdarr.to_csv(custAcctFile,header=False, index=False)"
   ]
  },
  {
   "cell_type": "markdown",
   "metadata": {},
   "source": [
    "TODO - write file to \\\\gruadmin.gru.com\\fs\\Groups\\OMS Replacement Project\\Documents for OSII\\Customer and Premise Files"
   ]
  },
  {
   "cell_type": "markdown",
   "metadata": {},
   "source": [
    "Ready new numpy array for consumption analysis"
   ]
  },
  {
   "cell_type": "markdown",
   "metadata": {},
   "source": [
    "remove empty line at end of CSV"
   ]
  },
  {
   "cell_type": "code",
   "execution_count": null,
   "metadata": {},
   "outputs": [],
   "source": [
    "#nparr = arcpy.da.TableToNumPyArray(custLocations,[\"ServicePointObjectID\",\"POINT_X\",\"POINT_Y\",\"AVGCONSUMPTION\",\"MAXCONSUMPTION\",\"Utility\"],skip_nulls=True)"
   ]
  },
  {
   "cell_type": "markdown",
   "metadata": {},
   "source": [
    "DataFrame.drop_duplicates(subset=None, keep='first', inplace=False"
   ]
  },
  {
   "cell_type": "code",
   "execution_count": null,
   "metadata": {},
   "outputs": [],
   "source": [
    "nparr = arcpy.da.TableToNumPyArray(custLocations,[\"ObjectID\",\"INSTALL_NUM\",\"POINT_X\",\"POINT_Y\",\"PHASEDESIGNATION\",\"FeederID\",\"Utility\",\"TRANSFORMERBANKOBJECTID\"],skip_nulls=True)"
   ]
  },
  {
   "cell_type": "code",
   "execution_count": null,
   "metadata": {},
   "outputs": [],
   "source": [
    "df = pd.DataFrame(nparr)"
   ]
  },
  {
   "cell_type": "code",
   "execution_count": null,
   "metadata": {},
   "outputs": [],
   "source": [
    "df.head()"
   ]
  },
  {
   "cell_type": "code",
   "execution_count": null,
   "metadata": {},
   "outputs": [],
   "source": [
    "df.tail()"
   ]
  },
  {
   "cell_type": "markdown",
   "metadata": {},
   "source": [
    "Show only rows with a series filter"
   ]
  },
  {
   "cell_type": "code",
   "execution_count": null,
   "metadata": {},
   "outputs": [],
   "source": [
    "df.loc[(df[\"Utility\"]==\"w\"), [\"ObjectID\",\"INSTALL_NUM\",\"POINT_X\",\"POINT_Y\",\"PHASEDESIGNATION\",\"FeederID\",\"Utility\"]]"
   ]
  },
  {
   "cell_type": "code",
   "execution_count": null,
   "metadata": {},
   "outputs": [],
   "source": [
    "df.ObjectID"
   ]
  },
  {
   "cell_type": "code",
   "execution_count": null,
   "metadata": {},
   "outputs": [],
   "source": [
    "df = df.astype({'ObjectID':str}, copy=False)"
   ]
  },
  {
   "cell_type": "code",
   "execution_count": null,
   "metadata": {},
   "outputs": [],
   "source": [
    "df.ObjectID"
   ]
  },
  {
   "cell_type": "code",
   "execution_count": null,
   "metadata": {},
   "outputs": [],
   "source": [
    "df.ObjectID = np.where(df.Utility != 'e', df.Utility + df.ObjectID,df.ObjectID)"
   ]
  },
  {
   "cell_type": "code",
   "execution_count": null,
   "metadata": {},
   "outputs": [],
   "source": [
    "df.head()"
   ]
  },
  {
   "cell_type": "code",
   "execution_count": null,
   "metadata": {},
   "outputs": [],
   "source": [
    "df.tail()"
   ]
  },
  {
   "cell_type": "code",
   "execution_count": null,
   "metadata": {},
   "outputs": [],
   "source": [
    "df.loc[(df.Utility == 'g'), [\"ObjectID\",\"INSTALL_NUM\",\"POINT_X\",\"POINT_Y\",\"PHASEDESIGNATION\",\"FeederID\",\"Utility\"]]"
   ]
  },
  {
   "cell_type": "code",
   "execution_count": null,
   "metadata": {},
   "outputs": [],
   "source": [
    "#df = df.astype({'INSTALL_NUM':str}, copy=True)\n",
    "df2 = df.astype(str, copy=True)\n",
    "df2.INSTALL_NUM"
   ]
  },
  {
   "cell_type": "markdown",
   "metadata": {},
   "source": [
    "#df.groupby(df.columns.tolist(),as_index=False).size()\n",
    "grouped = df.groupby('Utility')\n",
    "for name,group in grouped:\n",
    "    print(name)\n",
    "    #print(group)\n",
    "    #df.groupby('INSTALL_NUM').filter(lambda x: len(x) > 1).drop_duplicates(subset='INSTALL_NUM')\n",
    "    #df2.groupby(['INSTALL_NUM', 'Utility']).filter(lambda x: x if len(x) > 1 and 'Utility' == name else None)\n",
    "    #print(df.groupby('INSTALL_NUM').filter(lambda x: x if len(x) > 1 and 'Utility' == name else None))\n",
    "    #print(df.groupby('INSTALL_NUM').filter(lambda x: len(x) > 1 and 'Utility' == name))\n",
    "    print(df.groupby('INSTALL_NUM').filter(lambda x: len(x) > 1)).drop_duplicates(subset='INSTALL_NUM')"
   ]
  },
  {
   "cell_type": "code",
   "execution_count": null,
   "metadata": {},
   "outputs": [],
   "source": [
    "df.drop_duplicates(subset='INSTALL_NUM', keep='first', inplace=True)"
   ]
  },
  {
   "cell_type": "code",
   "execution_count": null,
   "metadata": {},
   "outputs": [],
   "source": [
    "df.groupby('INSTALL_NUM').filter(lambda x: len(x) > 1)"
   ]
  },
  {
   "cell_type": "code",
   "execution_count": null,
   "metadata": {},
   "outputs": [],
   "source": [
    "df.groupby(['INSTALL_NUM']).size().reset_index(name='count')"
   ]
  },
  {
   "cell_type": "code",
   "execution_count": null,
   "metadata": {},
   "outputs": [],
   "source": [
    "df.drop(['Utility'], axis=1, inplace=True)"
   ]
  },
  {
   "cell_type": "code",
   "execution_count": null,
   "metadata": {},
   "outputs": [],
   "source": [
    "df.tail()"
   ]
  },
  {
   "cell_type": "code",
   "execution_count": null,
   "metadata": {},
   "outputs": [],
   "source": [
    "df.to_csv(custAcctFile,header=False, index=True)"
   ]
  },
  {
   "cell_type": "markdown",
   "metadata": {},
   "source": [
    "[```gis.features.SpatialDataFrame()```](https://esri.github.io/arcgis-python-api/apidoc/html/arcgis.features.toc.html?highlight=spatialdataframe#arcgis.features.SpatialDataFrame.from_xy)"
   ]
  },
  {
   "cell_type": "code",
   "execution_count": null,
   "metadata": {},
   "outputs": [],
   "source": [
    "from arcgis.features import SpatialDataFrame\n",
    "from arcgis.gis import GIS\n",
    "from getpass import getpass\n",
    "from IPython.display import display"
   ]
  },
  {
   "cell_type": "code",
   "execution_count": null,
   "metadata": {},
   "outputs": [],
   "source": [
    "sdf = SpatialDataFrame.from_xy(df,\"POINT_X\",\"POINT_Y\")\n",
    "gis = GIS(arcpy.GetActivePortalURL(), username=input(\"Enter User Name \"), password=(getpass()))\n",
    "#gis = GIS()\n",
    "#portalDesc = arcpy.GetPortalDescription()\n",
    "# search and list all items owned by connected user\n",
    "#query=f'owner:{portalDesc[\"user\"][\"username\"]} AND title:CW BaseMap'\n",
    "#itemType=\"Feature Layer\"\n",
    "#sortField=\"title\"\n",
    "#sortOrder=\"asc\"\n",
    "# default max__items is 10\n",
    "#maxItems=100\n",
    "#m = gis.content.search(query,itemType,sortField,sortOrder,maxItems)"
   ]
  },
  {
   "cell_type": "code",
   "execution_count": null,
   "metadata": {},
   "outputs": [],
   "source": [
    "consumptionLyr = gis.content.import_data(sdf)"
   ]
  },
  {
   "cell_type": "code",
   "execution_count": null,
   "metadata": {},
   "outputs": [],
   "source": [
    "m = gis.map('Gainesville,FL')"
   ]
  },
  {
   "cell_type": "code",
   "execution_count": null,
   "metadata": {},
   "outputs": [],
   "source": [
    "m.add_layer(sdf,options={\"renderer\":\"ClassedSizeRenderer\",\"field_name\":\"MAXCONSUMPTION\"})"
   ]
  },
  {
   "cell_type": "code",
   "execution_count": null,
   "metadata": {},
   "outputs": [],
   "source": [
    "m.add_layer(consumptionLyr,options={\"renderer\":\"ClassedSizeRenderer\",\"field_name\":\"MAXCONSUMPTION\"})"
   ]
  },
  {
   "cell_type": "code",
   "execution_count": null,
   "metadata": {},
   "outputs": [],
   "source": [
    "m"
   ]
  },
  {
   "cell_type": "code",
   "execution_count": null,
   "metadata": {},
   "outputs": [],
   "source": []
  }
 ],
 "metadata": {
  "kernelspec": {
   "display_name": "Python 3",
   "language": "python",
   "name": "python3"
  },
  "language_info": {
   "codemirror_mode": {
    "name": "ipython",
    "version": 3
   },
   "file_extension": ".py",
   "mimetype": "text/x-python",
   "name": "python",
   "nbconvert_exporter": "python",
   "pygments_lexer": "ipython3",
   "version": "3.6.5"
  }
 },
 "nbformat": 4,
 "nbformat_minor": 2
}
