{
 "cells": [
  {
   "cell_type": "code",
   "execution_count": 1,
   "metadata": {},
   "outputs": [],
   "source": [
    "import arcpy\n",
    "import datetime\n",
    "import numpy as np\n",
    "import pandas as pd\n",
    "\n",
    "from datetime import datetime\n",
    "from datetime import timedelta"
   ]
  },
  {
   "cell_type": "code",
   "execution_count": 25,
   "metadata": {},
   "outputs": [],
   "source": [
    "now = datetime.now()\n",
    "wksp = 'C:/Users/friendde/Documents/ArcGIS/Projects/VegetationManagement/VegetationManagement.gdb'\n",
    "trim_polygons = 'C:/Users/friendde/Documents/ArcGIS/Projects/VegetationManagement/VegetationManagement.gdb/TrimPolygons'\n",
    "# using Query https://developers.arcgis.com/rest/services-reference/query-feature-service-layer-.htm\n",
    "# GeoNet post https://community.esri.com/thread/165713\n",
    "#trim_polygons = 'https://services3.arcgis.com/w0ynEuE1ne6vjfu0/arcgis/rest/services/IlluminateVegDemo/FeatureServer/0/query'\n",
    "trim_fields = ['TrimStatus','ScheduleIVR','GlobalID']\n",
    "trim_clause = \"TrimStatus = 'CrewAssigned'\"\n",
    "\n",
    "transformer_bank= 'C:/GISData/Data/Snapshot/mxElectric.geodatabase/Electric/main.eTransformerBank'\n",
    "# transformer bank is related to service point using 'eTransformerBank_GLOBALID'\n",
    "service_points = 'C:/GISData/Data/Snapshot/mxElectric.geodatabase/Electric/main.eServicePoint'\n",
    "service_points_fields = ['GlobalID','eTransformerBank_GLOBALID']\n",
    "# service point is related to eCustomerAccount using eServicePoint_GLOBALID which stores the SAP Installation Number\n",
    "ecustomer_account = 'C:/GISData/Data/Snapshot/mxElectric.geodatabase/main.eCustomerAccount'\n",
    "ecustomer_account_fields = ['eServicePoint_GLOBALID','Install_Num']\n",
    "# eCustomer Account is related to SAP_Installaion table using Install_Num.\n",
    "# SAP_Installation holds all customer data\n",
    "sap_table = 'C:/GISData/Data/Snapshot/mxElectric.geodatabase/main.SAP_Installation'\n",
    "ivr_list = 'C:/Users/friendde/Documents/ArcGIS/Projects/VegetationManagement/IVRList.csv'\n",
    "\n",
    "arcpy.env.workspace = wksp\n",
    "arcpy.env.overwriteOutput = True"
   ]
  },
  {
   "cell_type": "code",
   "execution_count": 33,
   "metadata": {},
   "outputs": [],
   "source": [
    "trim_GUIDS = []\n",
    "with arcpy.da.SearchCursor(trim_polygons,trim_fields,\"TrimStatus = 'CrewAssigned' AND ScheduleIVR IS NOT NULL\") as sc:\n",
    "    for row in sc:\n",
    "        ivr_date = row[1]\n",
    "        if ivr_date <= now+timedelta(days=14):\n",
    "            trim_GUIDS.append(row[2])\n",
    "\n",
    "GUIDList = ','.join(f\"'{guids}'\" for guids in trim_GUIDS)\n",
    "expression = 'GlobalID IN (' + GUIDList +')'"
   ]
  },
  {
   "cell_type": "code",
   "execution_count": 34,
   "metadata": {},
   "outputs": [
    {
     "data": {
      "text/plain": [
       "\"GlobalID IN ('{0C67085A-7E3D-4B5D-BE47-F21C23E2978E}','{21102F32-3A1E-4777-B0D8-4590A1E50AF3}','{68203C4F-A11E-4270-AC34-8C5634A0B998}','{115D18C4-A534-4A74-A76E-2AECE3329A8A}','{3AEA2E13-721F-4FBE-AC9E-C0BCDC04BA6F}','{98AAB139-7F86-4A39-8279-D946DE0EE7BD}','{80AEAFB5-7A58-400E-B3BE-760068E8F1AC}','{01C29274-9A79-45FF-9623-B5CA7EA1DD10}','{FC9C2686-3456-4DA3-B0A0-55F696DC5DDE}','{DA176222-280C-405D-BB15-09050EF0FF8A}','{10BB287F-BA0B-4654-9AD3-9CE0C1C50F93}','{B62C244F-62DB-4E12-9B17-4C876E5F928A}','{46998B84-03FA-4422-B9D7-8A394E9522CC}','{44A0F728-C671-47C7-BEAF-5A5A1A103F25}','{0FFDD848-CA77-4CD4-BA95-94126EF44E70}','{9980DBB2-3B71-411D-9B6E-1FD3A53EA06B}','{108C4D2F-2819-43D8-9A5D-AFDC1037711A}','{DE708A9F-3B1F-426A-A195-E34DF37890A8}','{0B3C43FB-A76A-4464-B650-DF0B82C40AFE}','{4A7DE020-5B91-4A92-AB72-A855CC396318}','{164C5F5F-DDBC-4203-8B35-727785E3F2E8}','{56E4F7E1-AA51-4116-8AF6-261718F3B2C0}','{7A363964-B16B-4681-92E3-B9982D9DA35B}','{83B8E353-04A9-4A10-85B2-1AA8011FFD32}','{52CB2AF3-644C-4094-BEAA-9F5F7C0B2E28}','{B96BB867-EA46-45C2-850C-9161C436D019}','{23CD8F26-CE4F-4FD6-8D3C-F020650A3C1C}','{FF740846-2E58-4459-9458-FC1D8453A338}','{0973A858-53C6-40EF-B518-F7F7ABB95986}','{2CD3C05F-F5AE-4AD8-98D7-EE43A979A20F}','{CCBADF17-864E-4072-8B07-E12E93415EDD}','{D1EE9DF1-E352-4A2D-99AD-1F19B1EBE2A1}','{23A05401-8CFF-4EA8-B6B1-DFBF891ABB91}','{DCB87066-E1D7-4626-9663-1F80FA2E601C}','{B62512C8-5855-4563-93A7-E1F688E8A2D7}','{F5F665FF-0EC8-4370-9468-5B577C6F0AFB}','{100EC52F-53A4-4490-A10B-077BE683C07B}','{DE4FE017-56DE-44BE-85A4-F23A531797EB}','{4141CFB7-D7C0-4EB3-9750-2F833045CEE6}','{C4BE5446-A7FA-4E7C-953F-8224948E86C8}','{9E6E40B6-45B4-49F6-9B23-B30A2DAE96B7}','{10BFF334-9A92-439D-8857-DB7C5E74B29A}','{2B56D3D2-DC9F-44D9-8F7F-95763E46DDFB}','{FCFBCC1F-0FC6-4CE0-BCDC-B2F6DE3F9535}','{C59CC3C0-F45D-4838-AFA1-40F5C393C230}','{D66CAE38-C0BB-4251-9766-2D3E05D911F3}','{94075015-9A6A-4F3A-91DC-4AEB5AF6782D}','{3E455CD1-0CF6-4811-AA85-A41F16E143AF}','{410B3479-5EBF-4151-BADC-B9B191C88E2F}','{24349746-5097-47EA-A8A5-8E12F7C9539C}','{65742F26-524B-4F4C-965A-94B97DE7C096}','{955C03D1-295D-42CD-9CD9-5BDF9382EA7D}','{49BC8819-BC6D-4A13-84A2-E966D861A748}','{0C2B0ECE-20CF-46EB-95C5-4D566BD7740F}','{48E8B665-7FB0-4097-83A6-C05B9F914E15}','{222AE54D-F3CE-401A-A2A4-149B00421D49}','{BA17F91C-2547-4E2E-8545-A2EC4E7FE120}','{085BBE95-E3C3-442D-B69F-A98268DC55D8}','{DC2E775F-CDBC-4398-A2BB-BB6890E75F59}','{88B8E770-72B5-4AAB-A740-4B48EE55B46E}','{CB10835B-797C-4B4B-8162-84BCEAA55074}','{49AB857B-79E6-4145-BDC5-8485552E58FF}','{2BD7B54B-3CFB-40D3-BA16-83EFD04E3E62}','{87D3A988-1209-4ABA-A87E-607DBB66AA07}','{90A2B2DB-A907-46ED-9892-56E5F19C6504}','{101795A0-F774-4E8B-AEBB-BC05774C3344}','{9B3D9714-DC84-494E-8C26-2464203451FC}','{A5A5EE83-EB12-47D4-B97B-7DF0433DA1C8}','{A0CA270E-9AAE-47DD-83A6-CDE04533FEBF}','{D5175555-EFB4-4BA5-8E56-E76593B09772}','{0E82318A-8887-43DB-A98A-87CA7B9BECCC}','{11866297-49A9-4285-80D6-08894BED9551}','{00531532-0735-481F-972C-3B0DC98C0FD6}','{35B789B8-8E6F-4CBF-A613-55509BF23A60}','{C2759A9A-76AC-4385-AFD5-B3307C372566}','{E25BA26C-1A11-480C-A8FD-1D729BC21F41}','{82992954-E84B-4822-8B17-AB42A42138E7}','{CB6D0A39-811A-4B05-88FE-76A1425F5B9E}','{5AB2FA13-EFF7-4056-9BFB-59B87D85F2D9}','{200E14F6-C349-4010-A02A-91F49E022779}','{D3F81FB3-13DF-42A3-B7CA-B6ADFDD0BE8B}','{0F3F2C43-A3D5-4E6F-915F-B867DB81EF3E}','{90D5C0A4-F8FD-4CCC-90C9-BB6F655A2E3F}','{D59CD06D-CBC0-4153-94F6-59C0869CDA38}','{369D30B6-3E77-4354-9059-1CF6D7E46B8E}','{AFB7CEAF-D954-47D9-9BAF-09CFD14DAAFC}','{1B96D194-6312-4C83-9A5A-7EDBBBC8B4E2}','{F62247B7-E19E-4E17-B09C-C5A3F65EA6B0}','{45F70A91-47E2-422A-9AE1-3D7E1679A631}','{86B9223F-CF23-400F-B039-DC0BF7193D49}','{58395788-ED6B-4E65-ABCE-63BCB8892273}','{B99E251E-7817-486D-8CA2-C36621CC217E}','{05E8D802-C4F4-49A7-804F-AC2261E8F3D0}','{B6DF55F5-02F2-4FE3-9A96-2088FC291FA7}','{A35BD3DE-C59C-434F-83BA-D61D3EEB7C0B}','{20A47ED2-591C-4F8D-A1E6-A135DDC37327}','{B26E113D-649D-4D87-B64B-9620361900DA}','{E6A7625F-DA77-42D9-A152-17ACF6496CB7}','{064B8BD1-F89F-4264-B3A4-452640ABADD5}','{2272A76D-B159-4C27-99A9-D72B6D02A88A}','{92FB94FD-8CFF-4917-8F21-4D4A805B9902}','{D14ADDF5-76E4-47BD-861D-46E4CE073C0D}','{31775699-A465-4729-AF32-0455BEBDF93B}','{FA30FE8A-3DE1-439D-A8F3-9BA9B0CA2C0C}','{0B809A54-2B12-4DBD-A00C-7229E2D47982}','{B8BB3E20-EE9E-41A9-9377-55BE7A4E3249}','{C7AD7A03-06C6-43C5-A67D-B221F4879910}','{7949003A-454B-493E-B4B7-A018C51BAB49}','{527F388D-5D14-4D80-92FE-F4A264287FEE}','{DAE36351-B953-46C3-8BE6-DE8843F6013D}','{DD95D64E-D02F-4BBD-9873-AE8017EC16E8}','{35887073-3182-404E-839C-00724E7CCBE1}','{1BA9438A-8C6A-4D19-8EBF-5B38092EDE0B}','{1A5AC462-7186-48A4-A5B6-3B7DE45CBC70}','{614D2E3D-9386-4F17-AC0E-732F43FC5915}','{243C7549-73B1-4EC2-9B0F-0A93E87DFC42}','{217CC87A-C84B-4229-A2DC-D67686FF4599}','{6EB2B72F-8B0A-408C-AE61-5AEE48CBFA83}','{31A4BE0B-F0EF-40CB-AAC4-B715031E0428}','{210C3EB5-3B1E-4529-9CAF-749000D14C11}','{1936EF95-C707-41DC-9895-49402189C40E}','{DF646AFA-E960-49D6-9A38-3D815AC0FE87}','{475DFDEE-FCD6-4516-B092-37BBCE97F626}','{F7F383C1-3D7F-4FCD-9FDE-7E03B5F927D1}','{3BED6999-CD4E-49AA-8A90-FEC6C3229F21}','{51B49880-0FA9-4599-8F22-938B3141B27C}','{30BDE7F0-02F5-45EE-B2C0-85B874D8911B}','{1171E9F3-31C4-44DE-B88A-473269308B22}','{E372272D-5FD8-437C-9E74-9D7D377A32F2}','{D480BA67-E3A5-44EA-A856-E13088B848D2}','{F75DE036-A296-4625-99C2-0EEFF8A38441}')\""
      ]
     },
     "execution_count": 34,
     "metadata": {},
     "output_type": "execute_result"
    }
   ],
   "source": [
    "expression"
   ]
  },
  {
   "cell_type": "code",
   "execution_count": 26,
   "metadata": {},
   "outputs": [
    {
     "name": "stdout",
     "output_type": "stream",
     "text": [
      "Trim Polygons Feature layer Count 131\n"
     ]
    }
   ],
   "source": [
    "arcpy.MakeFeatureLayer_management(trim_polygons,'trim_polygons_flayer',expression)\n",
    "\n",
    "result = arcpy.GetCount_management('trim_polygons_flayer')\n",
    "print(f'Trim Polygons Feature layer Count {int(result.getOutput(0))}')"
   ]
  },
  {
   "cell_type": "code",
   "execution_count": 44,
   "metadata": {},
   "outputs": [
    {
     "name": "stdout",
     "output_type": "stream",
     "text": [
      "TX Feature layer Count 16509\n"
     ]
    }
   ],
   "source": [
    "arcpy.MakeFeatureLayer_management(transformer_bank,'transformer_bank_flayer')\n",
    "\n",
    "result = arcpy.GetCount_management('transformer_bank_flayer')\n",
    "print(f'Transformer Bank Feature layer Count {int(result.getOutput(0))}')"
   ]
  },
  {
   "cell_type": "code",
   "execution_count": 35,
   "metadata": {},
   "outputs": [
    {
     "name": "stdout",
     "output_type": "stream",
     "text": [
      "TX By Location Count 20\n"
     ]
    }
   ],
   "source": [
    "arcpy.SelectLayerByLocation_management('transformer_bank_flayer', 'WITHIN', 'trim_polygons_flayer')\n",
    "\n",
    "result = arcpy.GetCount_management('transformer_bank_flayer')\n",
    "print(f'Count of Transformer Banks Within Trim Polygon Feature Layer {int(result.getOutput(0))}')"
   ]
  },
  {
   "cell_type": "code",
   "execution_count": 36,
   "metadata": {},
   "outputs": [
    {
     "name": "stdout",
     "output_type": "stream",
     "text": [
      "TX Feature layer Count 20\n"
     ]
    }
   ],
   "source": [
    "arcpy.MakeFeatureLayer_management('transformer_bank_flayer','selectedTX')\n",
    "\n",
    "result = arcpy.GetCount_management('selectedTX')\n",
    "print(f'Count of Selected Transformer Feature layer {int(result.getOutput(0))}')"
   ]
  },
  {
   "cell_type": "code",
   "execution_count": 37,
   "metadata": {},
   "outputs": [],
   "source": [
    "txGUIDs = []\n",
    "with arcpy.da.SearchCursor('selectedTX',['GlobalID']) as txcur:\n",
    "    for txrow in txcur:\n",
    "        txGUIDs.append(txrow[0])\n",
    "\n",
    "\n",
    "GUIDList = ','.join(f\"'{guids}'\" for guids in txGUIDs)\n",
    "expression = f'eTransformerBank_GLOBALID IN ({GUIDList})'"
   ]
  },
  {
   "cell_type": "code",
   "execution_count": 38,
   "metadata": {},
   "outputs": [],
   "source": [
    "svcpntGUIDS = []\n",
    "with arcpy.da.SearchCursor(service_points,service_points_fields,expression) as svccur:\n",
    "    for svcrow in svccur:\n",
    "        svcpntGUIDS.append(svcrow[0])\n",
    "\n",
    "#result = arcpy.GetCount_management('Service Point')\n",
    "#print(f'Service Point Count {int(result.getOutput(0))}')\n",
    "\n",
    "GUIDList = ','.join(f\"'{guids}'\" for guids in svcpntGUIDS)\n",
    "expression = f'eServicePoint_GLOBALID IN ({GUIDList})'"
   ]
  },
  {
   "cell_type": "code",
   "execution_count": 39,
   "metadata": {},
   "outputs": [],
   "source": [
    "installNums = []\n",
    "with arcpy.da.SearchCursor(ecustomer_account,ecustomer_account_fields,expression) as custcur:\n",
    "    for custrow in custcur:\n",
    "        installNums.append(custrow[1])\n",
    "\n",
    "CustomerList = ','.join(f\"'{guids}'\" for guids in installNums)\n",
    "expression = f'Install_Num IN ({CustomerList})'"
   ]
  },
  {
   "cell_type": "code",
   "execution_count": 40,
   "metadata": {},
   "outputs": [
    {
     "name": "stdout",
     "output_type": "stream",
     "text": [
      "Customer Count 158\n"
     ]
    }
   ],
   "source": [
    "arcpy.MakeTableView_management(sap_table,'IVRList',expression)\n",
    "\n",
    "result = arcpy.GetCount_management('IVRList')\n",
    "print(f'Customer IVR List Count {int(result.getOutput(0))}')"
   ]
  },
  {
   "cell_type": "code",
   "execution_count": 41,
   "metadata": {},
   "outputs": [],
   "source": [
    "nparr= arcpy.da.TableToNumPyArray('IVRList','*')\n",
    "df = pd.DataFrame(nparr)"
   ]
  },
  {
   "cell_type": "code",
   "execution_count": 42,
   "metadata": {},
   "outputs": [
    {
     "data": {
      "text/html": [
       "<div>\n",
       "<style scoped>\n",
       "    .dataframe tbody tr th:only-of-type {\n",
       "        vertical-align: middle;\n",
       "    }\n",
       "\n",
       "    .dataframe tbody tr th {\n",
       "        vertical-align: top;\n",
       "    }\n",
       "\n",
       "    .dataframe thead th {\n",
       "        text-align: right;\n",
       "    }\n",
       "</style>\n",
       "<table border=\"1\" class=\"dataframe\">\n",
       "  <thead>\n",
       "    <tr style=\"text-align: right;\">\n",
       "      <th></th>\n",
       "      <th>OBJECTID</th>\n",
       "      <th>INSTALL_NUM</th>\n",
       "      <th>INSTALL_TYPE</th>\n",
       "      <th>DIVISION</th>\n",
       "      <th>CUST_NAME</th>\n",
       "      <th>MOBILE_NUM</th>\n",
       "      <th>PHONE_NUM</th>\n",
       "      <th>EMAIL_ADDR</th>\n",
       "      <th>BUS_PARTN_NUM</th>\n",
       "      <th>ADDR_HOUSE_NUM</th>\n",
       "      <th>...</th>\n",
       "      <th>METER_TYPE</th>\n",
       "      <th>CREATION_DATE</th>\n",
       "      <th>MODIFIED_DATE</th>\n",
       "      <th>METERREADSEQUENCE</th>\n",
       "      <th>CONSUMP18MOMONTHLYAVG</th>\n",
       "      <th>CONSUMP18MOMONTHLYMAX</th>\n",
       "      <th>CONTRACT_START</th>\n",
       "      <th>ORGANIZATION</th>\n",
       "      <th>METER_READ_DATE</th>\n",
       "      <th>FULLADDRESS</th>\n",
       "    </tr>\n",
       "  </thead>\n",
       "  <tbody>\n",
       "    <tr>\n",
       "      <th>0</th>\n",
       "      <td>136749</td>\n",
       "      <td>5000006879</td>\n",
       "      <td>ELEC</td>\n",
       "      <td>01</td>\n",
       "      <td>KENNETH R. EHRESMANN</td>\n",
       "      <td>603-661-0358</td>\n",
       "      <td>None</td>\n",
       "      <td>KENNYEHRESMANN@HOTMA</td>\n",
       "      <td>1000233502</td>\n",
       "      <td>1203</td>\n",
       "      <td>...</td>\n",
       "      <td>ES1C3C</td>\n",
       "      <td>1900-01-01</td>\n",
       "      <td>NaT</td>\n",
       "      <td>00000240</td>\n",
       "      <td>218.0</td>\n",
       "      <td>576.0</td>\n",
       "      <td>20180814</td>\n",
       "      <td>None</td>\n",
       "      <td>2016-07-06 16:33:18</td>\n",
       "      <td>1203 NW 16TH AVE, 4, GAINESVILLE</td>\n",
       "    </tr>\n",
       "    <tr>\n",
       "      <th>1</th>\n",
       "      <td>136753</td>\n",
       "      <td>5000006885</td>\n",
       "      <td>ELEC</td>\n",
       "      <td>01</td>\n",
       "      <td>KENNETH R. EHRESMANN</td>\n",
       "      <td>603-661-0358</td>\n",
       "      <td>None</td>\n",
       "      <td>KENNYEHRESMANN@HOTMA</td>\n",
       "      <td>1000233502</td>\n",
       "      <td>1203</td>\n",
       "      <td>...</td>\n",
       "      <td>ES1C3C</td>\n",
       "      <td>1900-01-01</td>\n",
       "      <td>NaT</td>\n",
       "      <td>00000250</td>\n",
       "      <td>224.0</td>\n",
       "      <td>575.0</td>\n",
       "      <td>20161021</td>\n",
       "      <td>None</td>\n",
       "      <td>2016-07-06 16:33:18</td>\n",
       "      <td>1203 NW 16TH AVE, 3, GAINESVILLE</td>\n",
       "    </tr>\n",
       "    <tr>\n",
       "      <th>2</th>\n",
       "      <td>5972</td>\n",
       "      <td>5000018516</td>\n",
       "      <td>ELEC</td>\n",
       "      <td>01</td>\n",
       "      <td>GERTRUDE R. LINDLER</td>\n",
       "      <td>None</td>\n",
       "      <td>352-375-2003</td>\n",
       "      <td>None</td>\n",
       "      <td>1000010957</td>\n",
       "      <td>1024</td>\n",
       "      <td>...</td>\n",
       "      <td>ES1C3C</td>\n",
       "      <td>1900-01-01</td>\n",
       "      <td>NaT</td>\n",
       "      <td>00000490</td>\n",
       "      <td>103.0</td>\n",
       "      <td>137.0</td>\n",
       "      <td>20070404</td>\n",
       "      <td>None</td>\n",
       "      <td>2016-07-06 16:33:20</td>\n",
       "      <td>1024 NW 15TH AVE, GAINESVILLE</td>\n",
       "    </tr>\n",
       "    <tr>\n",
       "      <th>3</th>\n",
       "      <td>6168</td>\n",
       "      <td>5000019041</td>\n",
       "      <td>ELEC</td>\n",
       "      <td>01</td>\n",
       "      <td>JONATHAN A. VAROL</td>\n",
       "      <td>352-226-4472</td>\n",
       "      <td>None</td>\n",
       "      <td>JVAROL@GMAIL.COM</td>\n",
       "      <td>1000194280</td>\n",
       "      <td>1423</td>\n",
       "      <td>...</td>\n",
       "      <td>ES1C3C</td>\n",
       "      <td>1900-01-01</td>\n",
       "      <td>NaT</td>\n",
       "      <td>00002410</td>\n",
       "      <td>823.0</td>\n",
       "      <td>1417.0</td>\n",
       "      <td>20170310</td>\n",
       "      <td>None</td>\n",
       "      <td>2016-07-05 16:32:04</td>\n",
       "      <td>1423 NW 8TH ST, GAINESVILLE</td>\n",
       "    </tr>\n",
       "    <tr>\n",
       "      <th>4</th>\n",
       "      <td>6177</td>\n",
       "      <td>5000019076</td>\n",
       "      <td>ELEC</td>\n",
       "      <td>01</td>\n",
       "      <td>GEORGE EMMANUEL</td>\n",
       "      <td>None</td>\n",
       "      <td>352-378-5172</td>\n",
       "      <td>GEMMANUEL@BELLSOUTH.</td>\n",
       "      <td>1000015514</td>\n",
       "      <td>723</td>\n",
       "      <td>...</td>\n",
       "      <td>ES3C4C</td>\n",
       "      <td>1900-01-01</td>\n",
       "      <td>NaT</td>\n",
       "      <td>00002490</td>\n",
       "      <td>219.0</td>\n",
       "      <td>305.0</td>\n",
       "      <td>20070404</td>\n",
       "      <td>None</td>\n",
       "      <td>2015-02-03 17:03:34</td>\n",
       "      <td>723 NW 16TH AVE, GAINESVILLE</td>\n",
       "    </tr>\n",
       "  </tbody>\n",
       "</table>\n",
       "<p>5 rows × 38 columns</p>\n",
       "</div>"
      ],
      "text/plain": [
       "   OBJECTID INSTALL_NUM INSTALL_TYPE DIVISION             CUST_NAME  \\\n",
       "0    136749  5000006879         ELEC       01  KENNETH R. EHRESMANN   \n",
       "1    136753  5000006885         ELEC       01  KENNETH R. EHRESMANN   \n",
       "2      5972  5000018516         ELEC       01   GERTRUDE R. LINDLER   \n",
       "3      6168  5000019041         ELEC       01     JONATHAN A. VAROL   \n",
       "4      6177  5000019076         ELEC       01       GEORGE EMMANUEL   \n",
       "\n",
       "     MOBILE_NUM     PHONE_NUM            EMAIL_ADDR BUS_PARTN_NUM  \\\n",
       "0  603-661-0358          None  KENNYEHRESMANN@HOTMA    1000233502   \n",
       "1  603-661-0358          None  KENNYEHRESMANN@HOTMA    1000233502   \n",
       "2          None  352-375-2003                  None    1000010957   \n",
       "3  352-226-4472          None      JVAROL@GMAIL.COM    1000194280   \n",
       "4          None  352-378-5172  GEMMANUEL@BELLSOUTH.    1000015514   \n",
       "\n",
       "  ADDR_HOUSE_NUM  ... METER_TYPE CREATION_DATE MODIFIED_DATE  \\\n",
       "0           1203  ...     ES1C3C    1900-01-01           NaT   \n",
       "1           1203  ...     ES1C3C    1900-01-01           NaT   \n",
       "2           1024  ...     ES1C3C    1900-01-01           NaT   \n",
       "3           1423  ...     ES1C3C    1900-01-01           NaT   \n",
       "4            723  ...     ES3C4C    1900-01-01           NaT   \n",
       "\n",
       "  METERREADSEQUENCE CONSUMP18MOMONTHLYAVG CONSUMP18MOMONTHLYMAX  \\\n",
       "0          00000240                 218.0                 576.0   \n",
       "1          00000250                 224.0                 575.0   \n",
       "2          00000490                 103.0                 137.0   \n",
       "3          00002410                 823.0                1417.0   \n",
       "4          00002490                 219.0                 305.0   \n",
       "\n",
       "  CONTRACT_START ORGANIZATION     METER_READ_DATE  \\\n",
       "0       20180814         None 2016-07-06 16:33:18   \n",
       "1       20161021         None 2016-07-06 16:33:18   \n",
       "2       20070404         None 2016-07-06 16:33:20   \n",
       "3       20170310         None 2016-07-05 16:32:04   \n",
       "4       20070404         None 2015-02-03 17:03:34   \n",
       "\n",
       "                        FULLADDRESS  \n",
       "0  1203 NW 16TH AVE, 4, GAINESVILLE  \n",
       "1  1203 NW 16TH AVE, 3, GAINESVILLE  \n",
       "2     1024 NW 15TH AVE, GAINESVILLE  \n",
       "3       1423 NW 8TH ST, GAINESVILLE  \n",
       "4      723 NW 16TH AVE, GAINESVILLE  \n",
       "\n",
       "[5 rows x 38 columns]"
      ]
     },
     "execution_count": 42,
     "metadata": {},
     "output_type": "execute_result"
    }
   ],
   "source": [
    "df.head()"
   ]
  },
  {
   "cell_type": "code",
   "execution_count": 43,
   "metadata": {},
   "outputs": [],
   "source": [
    "df.to_csv(ivr_list,header=True, index=True)"
   ]
  },
  {
   "cell_type": "code",
   "execution_count": null,
   "metadata": {},
   "outputs": [],
   "source": []
  }
 ],
 "metadata": {
  "kernelspec": {
   "display_name": "Python 3",
   "language": "python",
   "name": "python3"
  },
  "language_info": {
   "codemirror_mode": {
    "name": "ipython",
    "version": 3
   },
   "file_extension": ".py",
   "mimetype": "text/x-python",
   "name": "python",
   "nbconvert_exporter": "python",
   "pygments_lexer": "ipython3",
   "version": "3.6.6"
  }
 },
 "nbformat": 4,
 "nbformat_minor": 2
}
