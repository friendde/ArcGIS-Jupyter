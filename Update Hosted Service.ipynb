{
 "cells": [
  {
   "cell_type": "markdown",
   "metadata": {},
   "source": [
    "# Overwrite Portal Content with ArcGIS Pro Projects\n",
    "\n",
    "This Notebook will use a [map](http://pro.arcgis.com/en/pro-app/help/mapping/map-authoring/maps.htm) in your [ArcGIS Pro Project](http://pro.arcgis.com/en/pro-app/get-started/overview-of-arcgis-pro.htm) to update [Items](http://doc.arcgis.com/en/arcgis-online/manage-data/add-items.htm) in your ArcGIS Online/Enterprise (collectivly called portal). If you want to [use a CSV file to update your Feature Layer](https://github.com/Esri/arcgis-python-api/blob/master/samples/05_content_publishers/overwriting_feature_layers.ipynb) in your portal check out [Esri's GitHub Python API page](https://github.com/Esri/arcgis-python-api)\n",
    "\n"
   ]
  },
  {
   "cell_type": "markdown",
   "metadata": {},
   "source": [
    "#### Import Libraries\n",
    "1. It all starts with the [arcgis.gis module](https://esri.github.io/arcgis-python-api/apidoc/html/arcgis.gis.toc.html#module-arcgis.gis) which is the most important and provides the entry point into the GIS.\n",
    "\n",
    "2. The [getpass module](https://docs.python.org/3.7/library/getpass.html) provides two functions\n",
    "    * getpass() prompts for a password\n",
    "    * getuser() returns login name. This could be useful if your portal is federated with Active Directory\n",
    "3. The [display](https://ipython.readthedocs.io/en/stable/api/generated/IPython.display.html?highlight=display#IPython.display.display) in IPython is similar to print() but does more in Jupyter"
   ]
  },
  {
   "cell_type": "code",
   "execution_count": 1,
   "metadata": {},
   "outputs": [],
   "source": [
    "import arcpy\n",
    "import os\n",
    "import sys\n",
    "\n",
    "from arcgis.gis import GIS\n",
    "from arcgis import features\n",
    "from getpass import getpass\n",
    "#from getpass import getuser\n",
    "from IPython.display import display"
   ]
  },
  {
   "cell_type": "markdown",
   "metadata": {},
   "source": [
    "Now we get the ```input()``` from the user to set the ArcGIS Pro Project path then find the file extension of that ArcGIS Pro Project to use later.\n",
    "\n",
    "The next cell uses Python 3 [formatted string literal](https://docs.python.org/3/reference/lexical_analysis.html#f-strings), or f-string. By the way [this is an excellent tutorial on using f-strings](https://realpython.com/python-f-strings/)\n",
    "    "
   ]
  },
  {
   "cell_type": "code",
   "execution_count": 2,
   "metadata": {},
   "outputs": [
    {
     "name": "stdout",
     "output_type": "stream",
     "text": [
      "Use default ArcGIS Project Path? C:\\Users\\friendde\\Documents\\ArcGIS\\Projects\\? [y or n]y\n",
      "Use project AlpineAnalysis [y or n]n\n",
      "Use project AlpineAuditProduction [y or n]n\n",
      "Use project AlpineUpdates [y or n]n\n",
      "Use project Alpine_ATT [y or n]n\n",
      "Use project Alpine_Cox [y or n]n\n",
      "Use project AVL [y or n]n\n",
      "Use project ElectricServiceAreas [y or n]n\n",
      "Use project GRUComAddresses [y or n]n\n",
      "Use project Index [y or n]n\n",
      "Use project LED Change Out [y or n]y\n",
      "Using C:\\Users\\friendde\\Documents\\ArcGIS\\Projects\\LED Change Out\\LED Change Out.aprx\n"
     ]
    }
   ],
   "source": [
    "#TODO use python pathlib\n",
    "prjPath = (os.environ['USERPROFILE']+'\\Documents\\ArcGIS\\Projects\\\\')\n",
    "changePath = input(f'Use default ArcGIS Project Path? {prjPath}? [y or n]')\n",
    "if changePath.upper() in \"NO\":\n",
    "    prjPath = input('Enter new path ')\n",
    "    os.chdir(prjPath)\n",
    "for project in os.listdir(prjPath):\n",
    "    usePrj = input(f'Use project {project} [y or n]')\n",
    "    if usePrj.upper() in \"YES\":\n",
    "        prjPath = os.path.join(prjPath,project)\n",
    "        break\n",
    "for root, dirs, files in os.walk(prjPath):\n",
    "    for file in files:\n",
    "        if file.endswith(\".aprx\"):\n",
    "            aprx = os.path.join(root, file)\n",
    "            print(f'Using {aprx}')\n",
    "arcpy.env.workspace = prjPath\n",
    "arcpy.env.overwriteOutput = True"
   ]
  },
  {
   "cell_type": "markdown",
   "metadata": {},
   "source": [
    "Now we [get the active portal](http://pro.arcgis.com/en/pro-app/arcpy/functions/getactiveportalurl.htm) and instantiate the [GIS](https://esri.github.io/arcgis-python-api/apidoc/html/arcgis.gis.toc.html#gis). The [GetPortalDescription()](http://pro.arcgis.com/en/pro-app/arcpy/functions/getportaldescription.htm) returns a dictionary containing portal information."
   ]
  },
  {
   "cell_type": "markdown",
   "metadata": {},
   "source": [
    "TODO switching active portal fails"
   ]
  },
  {
   "cell_type": "code",
   "execution_count": 4,
   "metadata": {},
   "outputs": [
    {
     "name": "stdout",
     "output_type": "stream",
     "text": [
      "Do you want to use the active portal? https://gru.maps.arcgis.com/ [y or n]y\n",
      "Enter User Namearcgiswebservices\n",
      "········\n",
      "Portal Name - ArcGIS Online\n",
      "Connected to Gainesville Regional Utilities - Gainesville, FL as user arcgiswebservices\n"
     ]
    }
   ],
   "source": [
    "response = input(f'Do you want to use the active portal? {(arcpy.GetActivePortalURL())} [y or n]')\n",
    "if response.upper() in \"YES\":\n",
    "    username=input(\"Enter User Name\")\n",
    "    gis = GIS(arcpy.GetActivePortalURL(), username, password=(getpass()))\n",
    "else:\n",
    "    portalURL=input(\"Enter Portal Address\")\n",
    "    username=input(\"Enter User Name\")\n",
    "    gis = GIS(portalURL, username, password=getpass())\n",
    "portal_desc = arcpy.GetPortalDescription()\n",
    "print(f'Portal Name - {portal_desc[\"portalName\"]}\\nConnected to {portal_desc[\"name\"]} as user {username}')"
   ]
  },
  {
   "cell_type": "markdown",
   "metadata": {},
   "source": [
    "Using [gis.content.search()](https://esri.github.io/arcgis-python-api/apidoc/html/arcgis.gis.toc.html#arcgis.gis.ContentManager.search) we are going to find all Groups and [item_types](https://developers.arcgis.com/rest/users-groups-and-items/items-and-item-types.htm) (that are Feature Layers) owned by connected user."
   ]
  },
  {
   "cell_type": "code",
   "execution_count": 5,
   "metadata": {},
   "outputs": [
    {
     "data": {
      "text/plain": [
       "[<Group title:\"Chief Officers\" owner:arcgiswebservices>,\n",
       " <Group title:\"Conservation Services\" owner:arcgiswebservices>,\n",
       " <Group title:\"Electric Transmission and Distribution\" owner:arcgiswebservices>,\n",
       " <Group title:\"Energy Delivery\" owner:arcgiswebservices>,\n",
       " <Group title:\"Energy Delivery Engineering\" owner:arcgiswebservices>,\n",
       " <Group title:\"Energy Delivery WARM\" owner:arcgiswebservices>,\n",
       " <Group title:\"GRU to Alachua County\" owner:arcgiswebservices>,\n",
       " <Group title:\"GRU to Alpine Communication\" owner:arcgiswebservices>,\n",
       " <Group title:\"GRU to Community Redevelopment Agency\" owner:arcgiswebservices>,\n",
       " <Group title:\"GRU to Department of Doing\" owner:arcgiswebservices>,\n",
       " <Group title:\"GRU to Gainesville Fire Rescue\" owner:arcgiswebservices>,\n",
       " <Group title:\"GRU to Gainesville Police Department\" owner:arcgiswebservices>,\n",
       " <Group title:\"GRU to GG Administrative Services\" owner:arcgiswebservices>,\n",
       " <Group title:\"GRU to JEA\" owner:arcgiswebservices>,\n",
       " <Group title:\"GRU to Newberry\" owner:arcgiswebservices>,\n",
       " <Group title:\"GRU to Parks and Recreation\" owner:arcgiswebservices>,\n",
       " <Group title:\"GRU to Public Works\" owner:arcgiswebservices>,\n",
       " <Group title:\"GRU to Regional Transit System\" owner:arcgiswebservices>,\n",
       " <Group title:\"GRUCom\" owner:arcgiswebservices>,\n",
       " <Group title:\"Information Technology\" owner:arcgiswebservices>,\n",
       " <Group title:\"Marketing and Communications\" owner:arcgiswebservices>,\n",
       " <Group title:\"System Control\" owner:arcgiswebservices>]"
      ]
     },
     "execution_count": 5,
     "metadata": {},
     "output_type": "execute_result"
    }
   ],
   "source": [
    "# search for all Groups owned by connected user\n",
    "sourceGroups = gis.groups.search(query=f'owner:{username}')\n",
    "sourceGroups"
   ]
  },
  {
   "cell_type": "code",
   "execution_count": 6,
   "metadata": {},
   "outputs": [
    {
     "data": {
      "text/plain": [
       "[<Item title:\"1c69d98e19474201859acb1003363bcd\" type:Feature Layer Collection owner:arcgiswebservices>,\n",
       " <Item title:\"AllPoles\" type:Feature Layer Collection owner:arcgiswebservices>,\n",
       " <Item title:\"CityCountyRental_WFL1\" type:Feature Layer Collection owner:arcgiswebservices>,\n",
       " <Item title:\"CW_BaseMap\" type:Feature Layer Collection owner:arcgiswebservices>,\n",
       " <Item title:\"ElectricDamageAssessmentPie\" type:Feature Layer Collection owner:arcgiswebservices>,\n",
       " <Item title:\"GRUBaseMap\" type:Feature Layer Collection owner:arcgiswebservices>,\n",
       " <Item title:\"GRUCom Survey Feature Layer\" type:Feature Layer Collection owner:arcgiswebservices>,\n",
       " <Item title:\"GRUComFiber\" type:Feature Layer Collection owner:arcgiswebservices>,\n",
       " <Item title:\"HurricaneMichaelAssessments\" type:Feature Layer Collection owner:arcgiswebservices>,\n",
       " <Item title:\"ivr_XYTable\" type:Feature Layer Collection owner:arcgiswebservices>,\n",
       " <Item title:\"Kickoff Demo\" type:Feature Layer Collection owner:arcgiswebservices>,\n",
       " <Item title:\"mmReliabilityPatrol\" type:Feature Layer Collection owner:arcgiswebservices>,\n",
       " <Item title:\"mmVegetationReliability\" type:Feature Layer Collection owner:arcgiswebservices>,\n",
       " <Item title:\"Production_AlpineAudit\" type:Feature Layer Collection owner:arcgiswebservices>,\n",
       " <Item title:\"PVSites\" type:Feature Layer Collection owner:arcgiswebservices>,\n",
       " <Item title:\"shared_GRUElectric\" type:Feature Layer Collection owner:arcgiswebservices>,\n",
       " <Item title:\"shared_GRUGas\" type:Feature Layer Collection owner:arcgiswebservices>,\n",
       " <Item title:\"Test_AlpineAudit\" type:Feature Layer Collection owner:arcgiswebservices>,\n",
       " <Item title:\"Utilisense\" type:Feature Layer Collection owner:arcgiswebservices>,\n",
       " <Item title:\"WeatherheadDamage\" type:Feature Layer Collection owner:arcgiswebservices>,\n",
       " <Item title:\"WiresDown\" type:Feature Layer Collection owner:arcgiswebservices>]"
      ]
     },
     "execution_count": 6,
     "metadata": {},
     "output_type": "execute_result"
    }
   ],
   "source": [
    "# search and list all items owned by connected user\n",
    "query=f'owner:{username}'\n",
    "itemType=\"Feature Layer\"\n",
    "sortField=\"title\"\n",
    "sortOrder=\"asc\"\n",
    "# default max__items is 10\n",
    "maxItems=100\n",
    "searchResult = gis.content.search(query,itemType,sortField,sortOrder,maxItems)\n",
    "searchResult\n"
   ]
  },
  {
   "cell_type": "code",
   "execution_count": 7,
   "metadata": {},
   "outputs": [
    {
     "data": {
      "text/html": [
       "<div class=\"item_container\" style=\"height: auto; overflow: hidden; border: 1px solid #cfcfcf; border-radius: 2px; background: #f6fafa; line-height: 1.21429em; padding: 10px;\">\n",
       "                    <div class=\"item_left\" style=\"width: 210px; float: left;\">\n",
       "                       <a href='https://gru.maps.arcgis.com/home/item.html?id=2f85923e652945b6a68f8cef0b9e7b04' target='_blank'>\n",
       "                        <img src='data:image/png;base64,iVBORw0KGgoAAAANSUhEUgAAAMgAAACFCAYAAAAenrcsAABEv0lEQVR42u29B1SVV7c2+o077r3n/+85/zlfemKKUWPvxhZ774oFBCmCqEhVikgRxIKKvXdjT+w11qhRo8ZeqBt27733Ajx3vS8GRYqgoET3HMORsNv77rXXM+d8Zlv/wnsihXYb7HIxiuv4OoJlkeBGtIUydjikyT4w5GaDn+IB9YVDKC4upv8VOZ1wy/sh/3pfvohsTRysyzwhP3Wk0te4XC5YJZI3uk5xURE0Dx9DHNoIIp/vYFeoyjyvOX8QqhQfGPlc9+5yA6T+CDu0HzTJrSHbsKpiC+N0Qb06Goa0ETA8/Kv0cadWDadBV+Pr6bMzoXv0F4pcZa0Fd2o3OHaMgXB+ont3uQFSf8SpUcJa8IRsWFfFALFYIU4cBvmcH6D//TT9mEkkhGllIOSJE2DXlQWJRSol7lrlDpvm+jk4DsRCtmQWuWZh6ePaO1eR59cJ0ktn6tzdc4sbIK/hAwFFDkeFT9kUSqiunIHjmcXQZ2ZDHtcWoqAWsItlpa9TnNoPQ9JgiNbPp/+mrMSLwLNqNOD4dIA6nQAhdhy53nMrIlibApyIgnDk9xCuSXPvMDdA6pdQHECd5gsTrzwHMEtEMK0OhiLJk1gMPf2YePtiSMP6Es7AK30dZ0UyVNHdwPTsQvMW/bZUqNbORqHNRj9vYDAhDP4anHFfwMrn/41L6E78DFFAexRMagDmqP8CP9rTvcPcAHn3UmS3l7oz7KCu0C8ZCk58eHnekEUsRkxriGmLIX3GGbrCsXUUhPPmPAfZvbswZgyGIrQDdNeuwLjdH7q0AbBx2aWvMeYzoLp1GcbbF1FotcJBrIp63nBY9wchx7Mb1LevwGW3uXeYGyDvViw8JgwrQ6A8vo/+W7RuLlyHQyGZOYYAp7yrZWHnwiZgPgfN/euQ7VkIh/p5NIriFIqjm6A+t5cGn+LYRqjO7EDxC4TcZTZDmREATcZ4aM8eQyFxs5jTeiJ/3P+C9uIp985yA6R+iHzvatiPTIE0fAiKySbV3boC4exWUKyZQ4dk6ywoYLZAEjMS+sT+UJ4pCS3blCpo716jcyFucQPknYpZLAK1D+0yCWR7F8D45PbzzavXoqgOwUEJ5VZJkkZAPqcp9JdLIla6Y9uhXx0Bm0zi3llugLxDq3FyH8wpQyF+FmWqiVBWxamUoZC4TjUGJZsB8eIZ0Nz8nf7brlJB//gObTGcej20Sz1h2TcZgjlBkCwJhV3uBoobIG/LYoiEpa4Lf+VcKOc0giDWq8afo/vzAmz7YiHLiCmTv6iOcJOmwLVjGHgB/St8nrMsHlkjv4U4oiusm4ZBumsD7EYjXA4HpHvXwSoVunecGyB1ZDHmDiljMXSP7tY4SlTksEGyPQPq9A6Qxo0vk7+oVkBAIAAzchD0D2+UWCOq7uqZJbJr1NCmjkHh4SjkBY4Ea+YA6BZ4QZ04BtzkKcDhSPCiJsBl0EKycAqdj3GLGyC1IoKVKc8sxsTX/owipwO8RF9YNocha8A3sIoEb3RPlDHTHtlGOEc4rEIe+XwXGNMGgjH8/4bu9lXYJEKI49pDEtEOkgM7wfL7BsKNCyHauRK2XaMgmdYPRTa7ewe6AVI7onv6gLgqr7+hCi0W5Pp0h5ZYj/xuH0N2ZBcE84JglYgJoS+GdPM8iLcvQXUDUE4D4RyLx8OyyxfaY/ufA+fZf23cfEiT+kM8sxudP9E+uQfDUn/Iw3ujYEYfqK6dde8+N0Dql9hkUrAjhsC8fCLyfX6EfUV3iNJTIb9xA4rY9pBPbgojh19NEwLo/7oExcEMug7MZbNCvmsVjLySZCLleqlOb4Py+GZo1sdD5EesyZz2kEa0gVOlcu88N0Dqp7Cm94YmuSVYoZPAihsNM58N4/LJkAS2Az+oHcRLol8rf6I6tgM4HQNJ+IgyCUo7twCmrZOgTemJAv8eMLIL3LvODZD6Kw6VHKant1FUWATN5VOQ7N1INHsHiCd/DWl8U0ijPWg+UVMxPr4LdsC3kG1diBfLeP+2JJqzu0prudziBkj9d7f4TNj3zYRx3mBo//oTRmYetHeuwWm1VPh6/aNbMGQ9qDgAQBU0Pr5dY+tg5LHAnzcV4m2L4U6+uwFSr8Sp1YAb1QOcWQNgN1kg35AA8ypfyE8dLfda7ZOHsCwZDnloVwIsUZnnXGYTtFuSIQ/pAsmUTjAx8qHYu6aUi1Qm1Pu44cNgTO8NRUBjWLgC9250A6R+icVihz7VA4oELzDDBkCb3ILuSCx0OqC5chp2RUmPiE2pAW9mF4ii+8NlsZa1ROw8mLb4QDu3F4RhgyDdvxE4O5uQ8REofKlY0sJnQXvlJHG1rLQbJ14Riqyx34C3MrbUEhUVuty70g2Q+iGGfCbEMxpB5NsIxrxcwiP+pOmDYMksFO8PhiB8XOlrC232CocxUBxDc2E3VIRj6DlsKH8/BYbX15BsW1SGi7hMxNJk+MK+3R/a30qsVLGrkADO9MyiGKHfmQb1uvhKG77c4gbIa0mR3QaXXvNaVbQWkRA2QtxfFPnJXyGIaFRCuF91baLxFb/9Clb0eBjj+oATPhjY7g3h+uXPwWUywK6UQ7gwEMLY1jA/vVeeE1GWaKsP3XeiOvULdA/+dFcFuwHy5kIVHWq3JMK0YyYMd2+UPk5tLSMzH66i19tkVL9Hdd5pyc+EeY0XdAm9wZvcDHmTB4EV0BCGB3dLuI5SAtmSadCkjYMs2ZsAUlQpyFVntkG+dwmsmwOhTxkMu4Dv3qFugLyZqK9fhHhqC6jmtYP+wonSx3V3rsK+eCTECyJRXPRmmlh6aAsYo5uAkRxa7jkzMw8FPl9AMLkBmON7lrcMAg7YBDiymc0hDmxW2slYafBArQI/vgckCQPh0uncO9QNkDcT5cm94E37HNwZg0rzDC5Cjjlz/CFOagdJzKvzGhapBBaVsmJLQriDIKo/ZMR9evzNv2CXyso8rzq2E8b1PmBOagnTkzvl3k8lHU05D6D58zzM7JxK76HE4jFoi0dZxUI3D3EDpLbExMwt098hTI8EziaBFTjolW6SQymDaakvlNEDoTixl4BFXFajE4DolgTAcSQW+TF+0Gc/hP6FfIj21hXwo5tCsTqezmUUFxa+ViZed/vKCxavyL0z/7bAUiFUl0+9s+jePxogLqsV8gMbYZWV9etVl8+C5fs18efXvPoHEHIhndMBHN/vULh/CiSzxpJNXlwGIMr53pDOGwfzrlmQBHeBNLgTeZ+4HF9xOpwwbEmCanMqCitx6wpdLhh5vHKPK07sgTypKbF4Y18rk/++imDmEDhWD4doxWI3QGoqwsXEUpxJAC9ibM3JvdVSGiWiWmTlZw7RlkC6JBKqc4dhEfNRTDazy2yBfIEHceOaQLO4I/gTGkMY0ZdYrXyIU/ygvHz6OR+6dR3Cqe3AGPYtTLl5MNy/Ad39stEo6coYGCM6QfH7+bIuFnmNicUorVimyvMLjXp86Cl2fkYkhNO/h/bGFTdAaiqqy7+B7fcNZHtW1eh98ksnoE7xBndVCq357Wol7Dotrbllx3ZBENwRpk1hkKyZSz8vXBYP3s4VEP66BXaVjH5Mvn8d7HvGQEr1ddiddBKQvTgB2rSeUAQ2hebGH7BsnlwSjRI+j0axwgZAEfk1ZDs2Vn2P6xNgXDkJitNHP3grQnkKbg7yFiXfvw8Kj0+DcFQTcMNGgTu1Fwq8OxF3ygjRohlgj2kC3aK2EMZ4Q3uZbNDzSRBNbAN96HPNb5PLUDCjL5RXSkb8CGNGAD/74dFgYkHiPOHQaiCY3R3i+P6E58jpXAhlDSiuZBZwiBvnQpHNUuk9sqb3giapOaTrlqPIanZPjHcD5O2J4ckDsFO9wA/9BkLPpjCsGQnt7M6w8/ngzBwGefQP4C1NhMukh+HhbXCCm4Dh2QLy8AZQHtj9nFhnEcK+JgqalTMIGIaCO701OEG94Fw/GuJVS2nvSJ+fA/WqSBi3U3maP0uiZhIxueZ0yFN84NBUHMqVHdgAcdCPEB/eAcu+OMhXxtOZ9xprX2IVjQIerGoVbHq9e8e7AVIDArhrI1hTGyNvxDdgeLeGTSqC+veTYEWMhlVRNpxb5CwkG40Q+k2pEG9eVGKJAol1+CUIwqAfoJnfHsY/r4C/Mpr4zA2hu17iM/NCBkAW2Q7qeW1L8zT0TODoZpAQV8xWSV6EO6UzHDs9kNmnOTRLO0IU1JMewF1TkayIhim2J3jk/VLi3jkt7pJ7N0BeIQ5qwNzGBCg3z4eJTzZ9QidIQprCuHcu8sc2hHNdP3CTY8q9T/foEWTR7SCY2AgOqYIQ+6PIHP4RcuMmQ5U6Evx4TyiJxrcbDHBqFDD/uoDOj2QN/QLSE7vLhCoNj+/CVJBJ8xnNpaNQE7L/Ih/X378G9ck1kOzfgqzR/wZ3tjcqillblMoqLQMrlHCemEYoGPk1OL5NIP/jqnvXuwFStahv/QnT0v6Qh7SDlcmBjXAEQ85jaBZ2xqNenxF36msww/3Lvc+oVEET2h3Cyd0gPXOIjjTRmzmHAXFoY+iS+sF1PA6a3w7DLuZDNb8TBCHdgV1+EKxMp/MbL9dX2XgFsB9OhHHBcNiIK1Rm84t5EKxPgyNjLDhxflBcOoWiF/ryzWo19HGDICEgcFRiXaiEo1Uugez8cUiDu8K6cBQMD267d74bIBULlTE3q9TQnN0J3YX99IalJribOSyYGY+R7dsF+WP+G4YN4ZCsTS3LXRgFkEY2h9j3exgWjYDu3LHn4GFkQ7A0DFzCV8y5T0sey7oLXsZMcCY3huzoPpg2x0B1Yl8ZQ2BTKsAI7gh+4igUms3PuQOVoMyYBGXKEKjSO4E5shHhLVOgTPOCPjcLVvI+I1WNTIAp9G0Mu1xZ5feWHd4FrucnkMU3Kz0fxS1ugJQRChj6uIGQzOgPp7VEExc6ncQ1mgjepNZQ/1nCGzjzZ0K3qBUEs7wg370E4k0LSze1jGjxnGn9yXPNSqtyzVwmRMm+dEdiZUIlLR0HAwjAhqHI+pwHSAlnMcX1BovwGX3mQ/pzqMmNxUWAeOl0sAmf4U7tj6zAQZAntIYsojWMcz2giR1MCL4aNoUcTmP1yLeJy4JF6D4azg2QSsRYwIQksgVEfs81roO4KYrEgbBsGwP59rUloLE7oL1xFrLfL8CQ0gmKyU1g4Ysgv3UDqtk9IQ/tBhOrZKNZyYZjBAyAdbsHeIH9K722XSqC8uQqiFYm0OUpZThC9PfIH9wQzNAxcO4aXeZzqFla1l3hhGQTUBI+IokZDOncbpBEtIFmbTw0m5PpA0zd4gbIm1sQ4tNLftkKm+b52B2qTIQdMhgMr+/BXRIP3cObeJENs9LCwd8yHy6DDuYMwgOC24Ib0guuZxZIGDsK2B+M+92/g/bRzSqvr336GPa1XlBF9oRZIHwWHXPCwM6jT72yyuRgTO0L3dPnHIG/PAGa9Dbg+3SC8uo1YoEagTf+CwgP7IR56yToFgyEncN272Q3QN5M6N7x9IlwbPYm3OF46ePFhUUQrY4FJ7AhDEs8oE8mG05Yvj9c/+AWRNFtIY/rAofieYOVYPUccHy/gjpxEPSvOBfEoTeBHfYTeLHDUWgrX61LzdbSnNoH27Oh1y5yb/ydG8APaQJpVAdoNyaC5dEE8pgWEKTNgebiLmgv7HZ3ILoB8uZCDaoWLZ0GflRTmDPvl9+cBgPZuF0hiusDVwVhU2HsSNg2eYOzeG6Zx2mukBFS4efSlb3UP2qGL1X79YqKVGF6OHAxjfAbT2jvXYN4ag/YloxDjn9fMOMmwLzNG9q5vcEI6geHxVzu/dQBP3R23t2J6AbI64rq4nFo/7qKQocdqoObYOaxYZFLIVmTBM3Th9D8cbYMRyjdvGuJ9p7aCrJ4Hyg2zStTrVv8jOyXtVhGGHanQ7M1FbJfNsGyO45cI6Xqe6NqywK+g/rMPrAmd4FkRlMoklpBtdgP8lUJUJ7eAu3FPRW+lyph0e1MhWFrJAz3brp3thsgNRft4weEA0yEJrYf+KvmAVfmE9I+ErkTuwHXM5A1sAVcP0+DOqYfhHu3wf5Sr7r67l2YlvQryZ8UVO33W6ke840ToEsbiBy/wdAvaAlB5LgKX1tMwFr00txh9R/nwYgYDt7mxVAvaQfZrNFVlsFTVcfSucOhntcG+vPH3TvbDZCai0NvBCesB/izR0J78w9wpzYBO7gP+GHdUeDx3+AuigZ/RlcY0kdCEvIT2D69y+QsqP/XXtwN3YV9r2xqokK/zEmtwPJtBnFQB4h3rq9w+DbVs27Ym0pA4A+Hunwug0pGaq+cgE1R9jAeKmT7ctLRQh7TXT9NH1vtFjdAKucbZN9IVsdDtHH+KzsKlVd+A2diY7Bml2TOH/T5ggCjFbIGfQVG349gY5eEc21iPsQJXlBeevUBnZpzvyDboy0KV0/A094N8Ljr/4ZwyyrwCI+wvHQ8m43Phjy5AxQxHeEQVe+AHcGu1RD4tERBckj1F4WAqdhufSUPepti5hZAmOgNzc1LboDUlVAA0Odl0xGf0g167x4MqZ3p/IWZW/VkEMWBDbD/MhGy0EH03ze//xdMWz2hS+wK1a8b6CgXJfJ9a2HfPwGy6f3oGVmVidNohHbBSGKpfgQ3rDmsi4dDSSzU0+FtYUkbAnZscLn7Fy0II1xjXLWTeHn+5B4O+oDR59tqr5P+9iWYfp4F+eoE+qIWAkzl0Z10h+O7Eu68GdAsJ2sSNNgNkDrjFbcvw7XMA2Ky2C9OL2GnhUOwZcEr329XKVAwrQ9Uz7SY9OwJ3O/ynyiYG1DGhXn5dVWJ9Nh+MKb0xGPvn5Dv0xCs0V9AGNwVjoP+ZTLp1ARH6eFdUM4dDOt2T2iP7i1xnwQciPdthPS3Q7BIhJCfO1rGpbOKRMgN6AHdk+rXVCkO74B6cRvIoj1gEguJK9kXxbv9IVi2oLylcdjo6Ftdi2jPejjThoO/JMYNkLoS5XGql7sZJLHj62VTkcvmhCR1LMQxzSFcPR3mh89ndwmooxa2TQRrQkdoLm2BU62gE5fahV5wbvGCenp7MP26wpnRH5KtG+iuR9mvm6BaMAmmfQlQnjoIVzUGPDisVugyH0N9+TiMhBsZMiZBNKs7OP4NYbhfdhKL/haxNDujIFs1p8ZnONZUBKtToZzzA0QJk90AqUuxkY1V7yaBUJr4mRY2sBkQ7ttUbpSP/NRhcKd8Adm2Rc/5E9mUgkVBYIz/GllDG+BJ/y/B9/8MmUNbQRTaB9mDvwNr/A/gRTUDd2JLiOeHwWW3Q3ZyP0T7NtAh6xeFcqE0S0JgXzwG+vu3aCvLT/EBZ8rnkB3fBztZO+m5Y+BsXATlvRtQHtsFzeK2JVGzZ2c4UpZOcfYwPR2ytsUiE5P72AOzXOoGyIck2ouHoF0yFbrsTMjTPCGd1RO8lOmwEStQJqBQVJ5Tsdcsgja2H5hj20C7eCDkIR3BD2gHmW8zMMZ9T6zLMDD6NULhpnHI9+wPYUYsVLE9UbzLF+LIMWUy61STlSR5NGSzm9HnudO+f8oMWHaOAyeoL/ixo8HzaQYQd4vR/VNYhSII1s+DZNvi0hov9pwAYIc3Cjx/qn0P4NhOFP/sU+6+3QCpj4SfynpTPR61kInmBHaCfdtIcOMioUz2hmH+KPCnd0H+dJ+qXTKDAXneXWBeMQSqWd1wt9X/xuOx3+F26/9BdvhA4hr1Qn7UKHAyosCd/AV0t64R7X4MeRM+B2fa55Cvml0u/Eu5nnad+jmHkSuQRziM/VgKjPMHI3PIl+AGfQHGmB9g12hhXB0M1+lEaM4cKgkKRPmBF/QxGGM71fqa6/76A5wZ31R4326A1HUYkZEFzcnddI3Tq4TORP+cBt3mMOKXv3kmWnfnMlSHl8LCYUO+YCzYQe2gSeyF3EljXumaqW9cQO7UHsgLH4I8j5bQzemDwp3+YBP3ijmlG2Qb50Ny+hAKXzzJqphyp6rvZlKHmrJnDwQroj+sJgtYxLoJogdDcuoopJuTwZvREuacJ89cLBeU5w7DoaubsxWLiupvacx7CxCXyUhrQufppFJNWOXrqUx08jA6E62rg0z0o67/hiN5AJ54D3vlazWP7sG+gbhLob2JC/U98kZ9RNyhTwlf6QHeqkTgj3QIx7WA9s6fz7hO2VCtmceEcM5Euq+k1I8rLirHTbTLwmBfNoFcZzA0SUNRuIK4XSEeNJ8xv9ST/6HKewsQyl0SrY4GL6R5qSZ8lZjYTGguH6UPsqltyfVuD3lEA8IXqg49O7RqiCKG012C3DnjIVoVBZZ/W4iSPWHYEYV8r27IG/0JjGuDwUoKgTQtEKwpA6BjPJ/7y02aAte+CeAGDiDYKAJnYQSY8yPo/zfk59LgoPI1wugBkCa1A3NCC7ACvoY8qTm4xM0q2uEDyUwP94RHNwd5u4C1v6Lzz8QpAD9qBNn8o4lG7wU7ASx1yCh7fBNkDW9AR5ekkSPASo2EbmFLZA9uCdPKQVDO7AJBTORzjqFQIm8qAU3WPZjznkCfMBSKoPbInjEOhemjIV4zF04JF9J5XuRavtDE9Ic28ykcJj20t66CObUBCkJH0d2KbyPa93yNXFVn+t8BR3EDpB4Jn/AA++4JYHo3h/biLjp0rfhlI+yHJoE37GsIZrYEf1p/ov3NUJ09BCOXA8mOVMi2J8NayZmI5rxMiEIbgx34Ax70+hyGFZ7gebUFJyEY4qg+ECWMhHb1ZLADesOhLuEY/BXEjdvpA37EhDr9vhZmDrRn9tKTE51KKfS7kqFK96OPgHhZrHwW1Cf3wOVwugFSn4Q6T1C6Og6CxVGQH9sN8YXj0D69X/uKlPyTnTuGR+M7Qp95t/RxKoOfP60vJGcOomDGAKj+ulzjz1axmNBF9oTQqwP4BCzSwEbI7f0deIHEpZreGOr0tuCPagL7s6kq8tNHiHv2GWRbF9XZupp4LHDDBsBxsiRaZhNyIE9uV2lNmihuFIr3BoGfMY/+W33nGjRP7n24ANHfOAfdnT/e+X1YOQwYN42HJLwdiqh4vXcLSHxbVzrwrcYAdNih+P0MTERD2tZ6wZDYH8rk0VD+dqLWvgM1/UQQ2ABi/4bI6v5vcP2/Rc7IHyAJ7YvcoIGQ7FsL5c0LZSNLdbyugplD4Vo9CjmDv6X7YPTrZ4A3vR94O0om8ptlUlg1z0PTwjUJYAU1hzJhIng/b4BlXl/IprSvtd/hHwUQ7aP7sG/ygyq6Lyy8d3s8suLINrCDu+DJgG/ACf0OzDENwAvtAZetdpJaWaGjCSFvA8aUEeDO7AzOpC+hjmkEyfoVtfo9HAY98pOnIDd8BDIndUPWmBZw/uoHyUtTVt6Wv58fMwEcr/8i1uoo9Ln5kM0kls33e7A82yE7JQqmxGGQzegHh/l5iJ6XFIjCXycRgA8GL7Yn+GG19zv8owDi0OrBjeoFwewRKLTa3+m9yC6cACuiDRQ7FpfJO9SW5Az8ihBtL2QN61qiKZdHQ5k0DPLf6rbpyU4IuOJIOsz3yk9aNOdnQffbvjqdqs6d1gPW1f0gXFzSZam8+BsEIV3g2jYJgoDOkIQ1hTikI+Ejz2cXWzgsKA8ugunp2xt8V29drFrZi/SRT0WvrQ1NKhVMswfRmsxuqZvNkh/YBbrEHyBalU7/zZrWE9oEok3Xr3wn6+4yGmBcEwznmbnQnD5YZ9dR37gERvhwOJ+BkJ4ZsHgq2EGfgznpU/AS/AjvGAflhXfbHfneknSqhVW7cx50G6ZDe7M8saUK/Ays/Co/w5BHTH90G4iCWpbRZLUpNqkYynOHShXCy3+/bdHdukTIcw+izRtDQDawQ2eom+BHYSGMQmGlilFxeCvsB30gfUX/jRsgr/sDmC3gR1MTC79F9ujyRXbS5TNhndUVsvNnKv8MlwuSo7uguHcT8mN7qnWwpvrScXJdD1hf6hysfya6uBLOtQO8GY0gjWwKif/3sEnqJqNOrb8tuiuklay/g+q/CaGidlfe6TK912HevBkewJ5AMMd1LfccO2IwlPEtwImtvG1VkBEL1zoPqMKIL7xhHLQvzOKtTDhTusCxti8EC5Lq7bpYCrKhP/8rHcIub3kdUJ37lXCgI9Bn1l0YlTG+NXTpI1EQPhmGS4dg5rHq5Vq91wChjifg+H8C6bb08q4NNx+moykwLfGAjc+t9P1s/8+RP6kNuCHfwfzC6baViebP38GIGAGnrX6OA3XSHGMqnL+lvFCjVvxWIlcvCs21kn4AM3AYcGMZZDFj3qkr9UECpCqy7zLqwY/tA2HicLgM+le+/58+ik3/12UYNs+AYI4vtGungOPTDKanD+hSeM32FChTRyBnWHNYhG8nrG6luNb5w9DduwFeaDPItswv0zL9wQJE/ftxCKLHwiKXQX16L0Szx0MwbyrEy2PeSsMMPZ0kfhz5cY7T/QcfypnkdE96emvwPZpAtbANpFEj6fWmqpglSUOgTmsNZrf/D4ZHj98uD6qgGvmDBghrcmfIkwaAFdQd8qiusPzsCQX5Wz+3B2w8Tt27XQfWw37YH0KfjlCf2AdXPZ9rS80U1u3NgHpLCnFBbOW5xIWD9JHWrxIKDMpT+2Dic6A8vR8WhRQWZi70l45AcvYk8ueFQvb72w+pUrkWDeE8+lu/l2mYomeQPbwDXc7jDwsgiqsXIPL/EY6McciZ4QMW8T0LEgMhWJdY+x1lzzTUi2ImmypvbBPwI3rCts4TgqXz6jVAbNSExrWjoZ03oMwUd6pcvTyXqAkXKXm/4+w8qGYNgT5+KH0UxNsWfuoU2I/Pg2lpWS6ovXkJxWu9wRtHyPw7HKX61gFiYLPACekMxdwOUOxcX3dkVCmFbns8lAt9ylSHUp10onkjwJ3eAdwZ7SHeuwNFb2HEzetKIdGwqhNroTm9uYwLSp14K14dTYDeGubsR88fp/ILty/CcPtylQrn7/dzAr+BMKwtpLM6VTjV/k2FWlv91ZPQXjldej/GvKfQrYuB8fFfYM0YhIIx/wv8Wf3KcEHl8d1QLuqM/EFfQHfpzIcBEKNSAdOcIZAEdEGu/7fkh31Yd5qXz4YsqR0Us9rDIRbSJlt1YjfECZ4QH9wJ1a2rkB7chsLFYyBelfxuQUCIsvTYHvqsxJoZSOK/v9TcZeflw35qQTmNXKnLeWgb5PNbQBI1onSKSa2ScWY2rMdSYFg4nLh0+fR3ZQQPQeEv3mANbQGLXgsnFW5+CczU6+SLguFYPgH6Z8dnv/cAMeTmQRLRHKLA5rCrjXXO/zTXLkB3t6QimAohqtNGwfizF6zLRkOf2A9Z47tDs6grGMPbvFOA8JfGAps8iDUYX31QEWui3ZEK7eopML5wKKdTowJ/dh+IkkZUGZ0rw01O7ilzqFBtioVTAIbH/4A5/is4JCJiGXbCuGQEmB6fwZgxFJLIUTQw/65sMBTk0ZE1F7H00lQPyOe0hOGFMxUppaA7sxfajXGwivjvn4tFaYaitzzu0shjQnZ0NyTHDiAvoBvyPT8Fe3wDPOrzA1QLWiCr+5f062QrYyBeFv3Wx88ozh4Hx+8TyHYsqQF5JxsoaShUqS1Lz18v3URUZK4G0blCF7FgR3bV2IJV292120oHd+vuXAc7+EtwIkaCNbUBZKvj6cely6MgnvIjilZ4Q7QqqfR7OG2WklnLy2dBRHVCGoxEqY2BZcsY6I7ue/8AUqdAyH0C3fpYYjnOlvz91+9QXzwO7uQe4Ho2g/biaRqc0n3zoTyyEozpoyGKbIGcEe3glIth3OINfdJPbxRNc1nMMFw8BAuvbo9Fs4l54C9LAnPWeDhMb1YvRVUM1NSCvXYUcUsqdMsDID95GIZfFkOVMYWOznEiBiF3yL+hSmkLYYx3mfdo7t2FYUEPKIKaw8zmQ3f9FBS/pMGpkn14AFHeugzNw79e673cxEAU7psAvl9/QtLFsJ+cTxZ2CKxHUqFP7g/DnbK+rF2pQn7YCOhzHtDklrd4Jvgb5r5Rwkp1ZBuKry+BLLrmmeGSoFv1NL8obiSKfw0Be2In6M4deTML9tsxsP0+hmz74trzFOxWSH/dCvNLNWnM6T2hnd0Q/NQ4KFI7EY7YjnBEEb3+LgexNMTaFBeVD5pwlsyGcNey9z+KVZVos7NgTuwO2eTWsCk01bMad64QF+UgdJvmQPTzWigOpMH4+CacOi140T0gmNYKnICGECYMowsYq9TKGg10a0IgSZ742lWs+rvXiCZuSTRlWo2ARrl1GsIpNCsnw/Dg1f0OwjXx4E1rjnyftrC8EMWqL6I4thPYPgGi8JFl+LdNKoHizC90x6Lm2nlo7z7vGnWajDBcOkxeU1LlSx0zZ2bmofhZHQP13NviHvUSIHa9GazgNuDN7A9xRgzxOZOrLPHQPrgLx9bJYE9qj8IDXrTleFF0mdmQhH8PaUATiPdtgYBodYtUXPnmzs6DLPJ7SPwawiZ5fX+ciixVpAWrxylalOMUFV6DGuhw6QQUV8/VS3dXd/cGWEGfQ7J0Zgm3y5j1ympo0cJQ4Poy8MNKhuuJUgIgCO4M7Z0bcBkp7jEa1s1vh3vUaw6ifvgQ6tk9IfJvCUsV53vYVVrwY/qAEz2y1HK8LJrb12Hks8AL7Q3H+gEQLKy6ylZ9/TJ0T+++mZt4cg/0a6dCsn5+FVzFBMPvR8pUsZq4XKjPH0bRK0ovHGYTrX1tqz1hiO8FO3FRqiTJRgMMl4/RExu16+Oguf72QGUX82Hc6g11Ug+oblytet3OHYcgrDnkO5fRiUxV/BA4N0yAbMvqEoV49QTkB1KI+yx7vwFiJJtCenAHPTW8Uk1yLQNMnx7V09aVJPr+vg6VrNLcuoqC2PElMfc6Ft7SeGhSm0AQNa5yrnJ0K4qvLYYsxoPmKoU2C+SrSqJoL2va0u9BvqvL6YJmaQhsyyciz+c7ZI9vBssrXA7RIrKeN1Ygd3AzFB+cCObI9tVz+4iLyEiPg4yA8XWFGj7HXx4H9tQ+sM/pBem5U694vYPuAi0qLIIgfRo4UxrAnPXwnSnrtw4Q+vyLeWPhXO8B7bnjlWoS/jNNUiPXhtLCLAbd6ETNk5XFjoIu+idoLpyq9e+hJRpZtSwMpgoiXkWFxZAd20Ncxsp5lP4O4SpRhKtsnke7S1RJiXGrD/TJZWvS6PVKGwfzitGQp/mBNX0IRCFtoZzXCflBQ0vmV0VWPb9KuG0N+AGfgDOuMaRz2kHkTdzITasqfT11TJx2eRBYAd1gTOwLqfcPhBco3mi9OFT/TdwPkG9dj3+SvHWAlNEMVWTS6VxENSM6JjYD/FljwAvqBllEPzAn94Fw3lRo073oWiVW3BSobtduZxp7cgfYN5HNOnf2axKVYrot+O+oFaVpeRnREGxKLVNhTK2XkFiMvDGfwLlvIoQTG0Pk+Q1MfAEUZ0+A7fsxUSRLX8HtTMgPaI280V8Qq/MNmMO+guT4ASjWzYEoYyY9uLuMxcplgDHxSzBGNEDOwP8By6dljQ/T+fs7KG/+Tlzmv+jv67Jba5Sf+SAB8qK2L9knxdCd3Q/1xjjYxK9XCyRInQp5Yi84TkyFcHQD8sM2gTS2O/JGfgl+8FcQTyGaMIH46qLaqzXS3DgH+Y542CtprXUS6yFJD4FgbgDNAV57ncj6GP84CXlGGHFVJkOxfx20T0s6/QrJc5pf10K5bzXhLwXQboyFdN8GaDfNhvrc4Yrdv7B+cGwcDHZEAETzJkAR2xe8KT0gO7CN8J+jJQSbkQdLan8oInpBHvUTtH9erUF41w7F6llQLRwP3vK50MwkSmtyq0pbdy1yCWxqlRsglRJIvR7qhVR0YvRrRydsSiXyZowAI6gnxKf2w7o6GOrI3rjbowGe9PtvZI35nPCB7q8svVCd2AVJkhdsMnH1IF5FMaAl9zEMywZCE98N1uzMWlkf7Uvro751E8ZFPaAI6wje3AhiYSZA6Nkc9p8nQBI+pMJ5V7o7N8CkTtvl5EGeHgBpZCMIJzSAfrkfVLN6QXv7LzhMNuT7NUXe8C/Bi+oJVUw/WLjVUy4OlQrC8C5QpbaCfkMwBBObgju9J7Ee5eu8TAoFzMnDIQsfSK5prrM9RnkY4vgJRKldJL+tCNKEcVD8dqT+AaSQuAtUIk1xbFfp5D66Zur3o5DtToRD+eZT8hwSAWSJnSGOaA9Z1ACoVngRDnL61RvRYIR6/hhYdntDc3x/LQBfC/G2BMh2pqLQ9GZ1Z4JNaRBOaQPxnrUwXT9d2v9BnQci378U6qPrYSXWUfpzPA1y6a45ML40KZG2aIumQ5A2hXaXqApnQVxP5Iz8DJkDv0Cux5dg+raCQ66CLjcXhuR+yBzfGvljmyKzz6cQnzhc9SZkMuigC1VXxYsdD3ZUb3Cmfw95BQepUvkOyipKTh0h4GgDfmBbOKR1NyiblxQE1+EA8KcNhYZ4K/YjRDHM6F+tRO5bBQjl99ITE4mmUp6/UEe+G+XrWmAreArb8XkwLKKqSBnVequCkHnuXF96c7/RLRA/m0oS1lbNGTc5GIX7xoM79AcUXl4I7Wv0f5gpi5YxAJrZzy2aPisbmX3/E9n9/w0zj18SQUJJPiqP8A4p2bzWrWMhGt8MBSP7VPrZ0kNbUbh8IsSrk2CVy8AP60zXiP3dp/Jy16ZoURjdh14wvDlwczl4ISPrNtSsVKFg1lgYch4SC6cEO9oDmnvX6p8FMWTnInfUx2B4fF1lfqNWXDe1EsKEfoREj4RLX36mlebycSiXh8P8rCRce+UEpOlTIVoeV5rJrTQS53BAvXMB4SBLaBJd5roqGeECMwkHGgL1Ul9I1yRVGIamHjPcuQzt6b3keqJKoklSaJb6g0+dF7I6jIDXB8KY9jBnPqj5ephMEO9IgmxXGopeIOXqP68QoNyrIMRLLNf6ucifT7jEkmnQ3qj8+GvhmlSo57aGdH44xCme0Cb0REFYyVFzwlVx4E/vDtmhPTD8QawfsV7Ki6cgim4LXvI0CGe1hnz70tr97almsKsnKl3Xeh7mNVU4buZv4l6bRw/TUaJKci10FGrjoNIoFCewI+xbhoMz6DvoTx6g76UyikH7/gu6Qz61JazMsmFeqg9FntgGMsq9SGkOadSoCvssHEIWOD7t6HwPP9yjEoXCIFq8ISSTGtJhVkoTF1FttzXsvNQzssH16wL2vDDI184BJ2UG+FN7gZk49ZXDKIroioCKX2VkkfubMwHqa2eJe1XCd3jLosH2+jcMD0qOl8737ADnguHIGd8Fxb9OBys2BPK53pAdKzkTvoiuvardyBZtoci6CmYSsGY9gPrBrX8eSZcd2EB8wwBi2jnPwpxOSFZEgz+5M3T36n72qub6b5Btji6NQrGJ3yyN6QDG9EHQ5zyBZrEfJAmexN0qzx+KiO8v27MIqkNrKtyr6j/OQ3XtHBTHd8NSSdaX6tvI9u9BuMXXYE8dRO6j4sCA+ub1Svuy6bzPvT9gfFz1euXM8IJl7XDwfZrDtHI41BE/EjdoALJ//D/QPnrw2mtI+/ZHAsELHFAmNklBSrFhDriJ/siZ0Aqa1A7IHtoOkvgu5LFpsB+bAoFvJ2jWR0N94Wjtu/KHdoHr+zFyZ/nCNn8A5JPbQHf/Lt3Z6KrhOKZ3AhDtw3uwriHkec5A8BOiSzQqIY26Jd5wnCJuwNbVNf5MJXEB3kRTMKf1gjruW8i2rIWBwSzR3L7fvXGCrCqhcjX4YwkEwT2Jzz6JWIeypJEali1dPov49hXXpFG1aPYtAVDF9q+6JEetxqNRbSHYsxz5cYEomPIV2IO+hGmRF/QJw1+7F52KHjJjJ9C+/YsiPnucbFBiQUN/RP7wr6FePQh3On9HyP9TemIiN9EbzKRASBN+AsO3Z8XT5d/EgiwMReGFhWD7dkX+uK8gTPKAKNETRQemQljDGQTvBCB2pQa8WT0hiOoDM6vgmVYuhHhVJPGxO9S4tECbkw1LInF5AlrDWkU0RHN6D1TrYmB9lm8x5mdCvT6O+NfnyT0pIT/9S+lGLKnJqtsDWhRnj0IQ2QL5ExpBuWMhLAU5dHTHcPsiTA//hPLPGzCm94F8SgsYGQUVrKMa/Li+ECcSN85eEhCwCtjQbIitVDNTwQPRzlX0BEh5chfIotpBENgZktPH3vj7GO5dh/rodmjmjoZrmy9yhzRCjmcnPOz7BbA7EPmjWxOudwqG+9ch2ZAG6yovGJIHkHt+PT5qFfMrHPFKrSsvpBmM2/2gTxsAl8kKwZp4CCOJJbnxR/0GCB3hKS7hB0Uv8QOqroqqSapxaNdgAmtKG3DDesFhNNHn+plecFkM3ALw1y+GIqEvrJtHocB/BCxaNdFkxEXYPQZ8//7vytOkQ7YOs5nWeprkYcSCJkO5YjqMy8Yie2R7FHh+j9wBH8Gcl1+hi+XQaoif/RCSX7eWnFK1ZyUcu8dCEja4Us1syHnGbaa3Qq5fD1hXTIJuztDSI9iq9TtSCifzIaQHt9LhXQdxGbWLvWE5Mht5Y1uC6fsZ5DH94fxtLh4NbIuCCQ1QfDUdIu9WhKO0gf3MPBR4fwnW2M+hPlnzKfIOuQTWDaHQJ42o8L7tZF34qxLA35AMxapYSJZEwlmNFuR3ChCrTAZ1+iR6cAKVd6gLUZ4i5O/niRCHDi/pdbZYoKFqvzZ5Iqvv13gy4iPoFw6GOHwEhPt2EFM/Bpqb54mLwoSdLKDm9tWSAQ/nD0GxPBwmAbfO10Vz9w7RdD3Bm9wUPP/PwRjzPfgRXaBdNxG8gG/AGvYpxLu2lbg1Qi4MxJd2mIxQrIyCYnY/iKd3g2hSa2gunSZcRgTJligYbpyt8prq61egz30Eq0RMSHN3yGK70I1Lz6PlxdBd+AUqYmFtkvJJQob/T1CSe2QMawLd5TP0VHrelK5QJpG13baWXkPubA9wAr+CeqEnnvb/GqKZ3yOv71d4NLolVLPJ9/Vujzyv1rBk1ZwHUUe2yZKIBYztCqdcXsYFVZ3aRyc+ZT+vhonqKl05CfqUXq/VKfpWAaLPyYeE9u0bwiZTVmtaeo2iVlQ0KtaHaK+PIF2bUGKpqFqmxTPAnvw5DMs8wBvfiWizhmCHD0fhtqlgTewGRYov7BuDkOfZGUUbgsCeHwmud1Py2GAIk+Peytow0yLweNh/IT+oN2wKKZx6HbKDBuHJ4H+D5dccusXj4aSy1LEjUbR/KnjzEiGaPQCqlJYQRfwA/tCvwE2ZUaMRqaI/zoE5qSv4GbPgtJedLOI0GKBeMArWjSOgPVa+wuFBu39Bl9oSj1t9BGH4YKhu/wmOd0Mo5zaDeN1iugedOl6OGkmkSG5LQP8ZGMP/A5J9W4jrmg1pRCNIAhq/frifyndZjHCajRAvi4Vwei8YckvyO/yMBGhTf0C+Xx9iTUMIR+sHzvLEandrvlMXS/nHJUh2rYSS+KqGlX7gzPGDYkVEaT7ijTTxvTswLukHWUhHwkXKml3B6ngIwlqB4/MtxMnB9DkYqrT24I5uAoF/C6gWdEN2jy+gWdQF+aM6gOndGAyPL2DMyXobjmeFj1INX/wpLSEOaQ3OrH5k17qQn+iH/Imfg7cyDcLjh8BeFo8HAxoSIkq4SGCbam84h05HXKF2MK0ZTd7XEsrrf5SbsK65eAjS7bEVVjhoHt4Hf+sSsKOHwrlxCASL5kJ05AC46ZFEs4+EIKAt5McPwEaAlhXsQR9DkT91zPMI2PIk8IiFsYiFb7RyDsIdlUmDYNnrB+maRaWrWRAfSJSbP5ghneiTfIvsr5c+eOsAsfMKYD+ZBklkN2jSW4FJ3An7+oEQEo2oOP4zsjzaQPXgdpV5iKpEsI589q/lS6qpxFyhxUw0jp7+YOW188hbvQjGNOIWhLVDrj/RlkfnEndsEHLGtYEkpCvhMlvxroXt37ZkfVLiYSa+dsGENrDNGwpR+CAC5JbgxnrTeQZeYHdIp/0EezVrmuzEbbKtnw7m6MYwLfGGjmhZY2xvSM8cL3WxqJBo0bO2YQshxKKDO8tBWUtNKUkNpF1ZSkw5j5E77gu6UNSWMQG80DGwyRW4P6oV7nb7FNd6NQF3QzoyvdpBMaMj2LHT3niNOAQYeUHdiFJ8DjZ2QAeybgMgSIx+LcvxzgDioDLcSf0gTBwKbvxkMFOmQrI2DGZ2ATGJXYG9U5A1tA3hKj5kcQfBptbUSA9bsu7CnFN1j7YuLw/qiE4QBnRCfuQY5Iz4HKJdm5A38QsIg1ujwIMQyZDeUMUTF+bSq7vvnFTvNItRJxPg1VdPQ74lBsIlEdAkDUNmv8+IxmwP5vAvkd/7U/LfxpAnD0D+iEZE2TSEfP/2igGh00J59Rys8pKoD3XuuCi6O+Ev7SCJbkX+2wSyqKbgzgmH+vQ+MAIIL5k9jLifnii0O8CPGgzXwp8gXLe8yvul5gVb106COqYHBFM6I2tYK1gYObjb5v+FY5M/TAm94NzqDb5Hc9iOh0AyYyBxKRUwXjtNFxLW5rpJyb6yy9/sIKN3EualMunWgky6Vsq4dBxsAh69uXL9+kEU2Bo3mv0nFLHNIBr3KdTnqt/NRucFNvs/qz7lVb54uTkwxPaFdHJn5MyNgGvzZEjnh0FwYDdMC7tDFfEjGOMaQhPfCLKt68qBUH1sJ+QpPjDyORDs2QDlPD/YNwRCf+dGpcAttL9ZrD/PrxM0iU3wdERHGHeMISR+MPLDx8G8ZgiMK4dAl/wT2AO/hyJuZIXRK/aMwXAsGIHMMV3pJKW5IAdKYjUcJ+agIDYQRU4rzeJY3q2gXT8JypCekCcSN2lmW5r78JfHgu31MfSvSOJahXwwfL5B7sgv4Ng7HiKf1lDFjcDTvp+DG/Qt4SEfocDnY+T69kGBf2fCWUaBFTwIuLIY/DCPGlCQYqh+P0Fc9rptH35nmfQSS9If4pRRcBF/mMpDqFJHwPILsSA9v0OB3/e42/r/oWfTVjuyoVBDENcHovgRcJkqDxcbcnMhi20H8bRWUAW3gyy1K/GZu4G/aBbyhn2CfELiczwbgT+tM8QnyhYGUuRVs5D4zgcmE+3YnLgn48Ga0BTq+WQD/3YE8mO7wJs5gmzeMRBsWwrerNGQzJ0IzeKJMLzmOCM6auTbmZDhVsStagNO3DAYb10gVpcJ0ZpQiFaFQ7hsKtnE0yqNXmUN+QrKOc2R/eNXcFI9GHI5sr3agDejMXRXnm8yRuhw4iJ9A2ksFcz4Aeq/rtfoPvk7VhDL0Q0P+30H3kIfMGf0giR1HMT7NyPPuxEU88aRdW0HbtRUKDL8yG/eCbz5syCKaVOjmiyq150+V352D9hEwvcPIH9bkqJnE/eo01V5kUPAmd4BT8d0Q97o/wNmqEeNP5OqVfr7M6vyxYyZ98AY/wnyCBG/2/G/oN0XDbZHSzAJuRSGtMWTPv+Gfh7VhdevfKDh4ikIMkKRM80DukWtkdPhP6B5dB/aZaGwb/QH268FGMTlyRv4FRw7x0Lo3xDKlBbQXTxZfg1crmf1ThX/bRFwoF7gjycePyJz0MeQxjeF7tLpGq+Ly2SAWSVBEfmvjVgYVnA/8Il2F+/ZWMY1pMd+GvWErxmhfnoHebMmIWvaKCgeVW+QBWPWFJhWDSJWuB3MDx/StVaUCDctAGtUU4hnt0TegEYl17ISTmjUlMzEMpuqVZNlEQvAIhxGsDmDgK8D2TM96L3zXgKkzMZ2uiBdNwvi5G4wZT4CO2UapGQT1kZ0q9xmsdshWBaDLM9meDL4O+BICDjDvkH+6JYwpQwgoGiDBz0+x8MhX0N14WTllignE1mjmoOVEQ3tkgBwJrUjpLo1tAnDIQ/5EU/HtScauQcYcYHgzw2iQ5JlfmzqEKGFEyGJH49CZyFsWi1U8z3pA36ohCcd7cmIg/3ENMgmtYQmoS9yJg1+Y64j+GUX+JMaw3E6FFLC8yrqi6AmRDIn9yLfZQi4E9tDNKUXAZnplaFXu1yK7JnDUJDkSedG/pbcQZ/AtXscnvRtD4vq9ft+2NP6Qk+4k2uzJ/Q3rtb5vqx/Y3+eaU+62nYtIfOpc2r9ElSkxrbOC+qEocgcQsit32dgeXyOnF7/DfbUdlAkElfvUAzynpVsV2z9bDCumw7n6STwli2CNKoJJAHfQxbaEeZfY8Ec2wJ3h7UjP+Q08IN7wnUuGarjB8rmhXLzCTFuAubEhngaPAZPEyMh9G1GNG1j3B/cAvdHEv9/fTCyB32O3FnjwPL6BIZ7f73Rd3cSTa2eNwncaT2Q49EEwrC+tLtbzgUmYFUmDaQrDzI7/V/gzhxNH5lQrZ+QrpYoC2PJ0b3I9u8Ci+LNRvbwlsUia8B/ghX0Dcxv4XCdegMQ7f0/8WhwY+T6/wTxxjSorpyGeOV04itLa/1aij+ugUeIInfsV8jp9xkeDvgfMKJ94SAuHzWgTEll+4NaQzOjdYVRGzMrB6p1ccgP7ApRSCNY8p5CQrjKk5CByCJukD59NJgTWgLrxyJ/fBPkDf4WeaO+hnBaN0Isy5LKx8NaI3toI1jTPZDbpwGMq0aDF9wRtsUjoZjeDdK4tmD0+ASFptoZV+QkfE8Q8ROUieS7BTeHIr5bmQx6mWDG2QMQrw+FVaN5K3uA7jS8fgZ2qaje6Ot6AxBeWiiyiM9uXtYfMt/vYeXUXUOV4sYfyO7/vwgZbwxBeG84Fo5Eps9AuprWRnx+aUJbSKZ8i4IxH8Fw//YLmrEY+emxeOzdE+KoDsjv+x0KL6RAuG0tLISES0L64W7Xj6Be3A7ZPf8Nru8nyOz3PXTJA2E/mQjukI8h37GeriCgo2F3bsFKiKZyZh/oVgfgad8GYHp1oMPdLN+GBFgf4S8CDjM7r3a5n0ELs0JEwKIkCkH7Vk+3rUroPo7LC8F/De753gNEc/dP5MWNBSeZbLRN1T/Qhq4ZungIyrUxpZ2AxSibm37551deuwpjxkCooroha2gDaFLboWBoB/r0KfpebvwO7cPyUxpzE2fAmT4YXK8WwC8hYAxpCGFkM0h/2QN5LCH3Ac2Q2f8rCKM7gh3wEx5N6Arjcm/CbRpClPAjJPs2QvfoFnRLPJE7vh2k0QMJIL4G2+Mr8CI6QrTvZ5iXD4Yi7EdkD2sAxtQBdMn7hyKK04chim4FeS0O0X6vOMjr7AW6Zmj+CFg3DKNrhqj6H9W62ZCtiKbrsKhRntLZ42B6aeSPcEs6pIc30YOQ2amToX3w6lOMJMcPIbvvv5A5sjHhDcQ69P6P0tOPCk06cGK9YVg7CLmE8Au3LkTm0GbQLmpLSH87+jXGglzwQ/pDHt6V5hWauS2RP+wLCL2/hZnLfXZfiyE5uAFOo740AvQhCRWRqulc4w+LpL+GqM7sh3jNdLpmyMZhQLt5MpQxPWHhsAgZ/Qn2TcMgmJ9QOzEE8q+yOU7qW9fAih9OrkuAENkf+RNbgDHxG3BmlZB9en5XUl/YT0wHm4CMPbUX2BmJ0OU8glvqp/zrfftCVEydOX0g8Pt8CCLHw5SfCd6SUJoA1obIVkbDnjastGapNOojF8O+IxamdC+a6Et/2QwnASpnfEvaZaOESs6x5gaBM9cH7JRgOHaNKenbqOE5Im5xA+TNfNkzRyCKaQ35ttr3Zdlh/aFKIp+9aU2Zx20CNrEahFz7tIHi/HGoiVVTprUHe8hn0J0vn0uxS0QQLg+E7toZ9y50A+S5UO2u4l+3wq7T1fpnU01YxWV82dqfA1toNsKhkpQ7XZaagEiVXdu2jkZ21yb0fdjI6+wqKbFqLvdOcwOkesII6AHBxOaErPaE8fHdWvtc/Z2rMCweD8nyeJgJ4TY+ulkOIIZHt6E7vQeONxwMV6n7dWgrcsZ8BGVkW4jWr3Dvrppwu8Ki+hJtfscAGdMQjo1DkN/rE+h/r71jCahxpop5zSCY1BG2w8kwZnjALuA95wh0z7QXbAdnQba57jYva0k0Mod8BO2dP927vppis1ghCh8KVtgYuFyuDxsgqiunIEj3h/y3X+iShFrTQE4nlGcOwsDKA2dGR/CDO9Pn2/0tLvIj8GZTZeI/QHvpVJ19P9FsDxSvHArhxtXunV/dNft1L0zLBkMxrQ2U587DxmfBdPN86QxiN0mvVR5igGreCFg3UnmRskOoqQI8p0ZRrk6oNoW/cjaYXp9Cf/+Oe+dTlluvg3j7MpjEQnrsqGT/RtiUMnp8a+EzayE+vA+C4DYo8PgW0oNEya2bDvuRGGjPHHYDpC5EcWovHSFyqGTuHfouXSe1GuzJ3YADgZDO9AAvfRZsK8Yid/JAaJf6QxQ9CjaVGhaxDPyZXSGK6k3+1kK6JgrihB9hfnLPDZD3RaiOQcmu1bSmdEuJaDOzUTDq32D5fgTJmkSorp5Fdv9Pod0QAklYI0gDGoK/oORQ1UKzuXRmM3W6mMtARTmL3QApH80o/EduBuXxncD+yRCHDqtwWPWHKLpHD+iKYebY72B/NmWmIHEahLFNkTvxJzCntYX++u/1+jvUG4DQk/qObocqPbB0NOg/SfQPboE56VNIN6TUy3Dlu/pRJbtXQH7i+SCJIpcTTrWCJuBU5+LrikXEg+jAljpf63oDEGrKO3XCk3lfAGQbFtPD09zy/gl1Przp5jlYhbw3+hzBzKEoXNIP3MWprzxX/h8PEJNEDNPSSeAHdgcjfDDsO0LA8e8Fu1Lu3lHvmaiObkPhbwmQxo1/oxo0/sp4MD0/hSbNC5LVye83QAxZ2ZDFtIYkpB1E65dCldoW3FFNYBcK3DvqPeN3ultXIJrTHsr11Mlbb5YHE6xdAN3C9hDO9Hr/XSy7TACHUkJPJDELC+CQCuB25mtPNOcPQpHoCZOA987vxaXT1Mr5jVS/jF3MQqG5+lNNnFYrnYP5xwHELXUrVF+MY+sICNMS3sn1qTYE8+ObMFVQI/e2xKJUQj13DMSzRsFZzRGtboC8z4SYbEq7quSELPnFkxBtTanVMyBr5CHwCmDdHw1D+ijY+e/GihnyCiAObQgxdeajXOkGyAfNN5xOqNfFQb9wLHgrkmBcNA6cpKmQ0737b39qCDUvix/eGsKwTnBqanbkG1UiZBfx6BKhvy2R8TUtke7RfRhZuW4X64O3HhYrJInDoJjbCgz/QVAlNwF76OewbR1erkbtrQCEz4Rp90xoF44qU2X9KqEmwOg2zIZ1RwT0d2/ALmSXWKJFo2v0Oe+EpFNE65+a+f4QxCISQ3P9Aj0ZRfXHBUgObIBggTcc6rcfPqcO7xTO7Q9JyghC0qvfj+MyWyCbPxaqlA7QXzwFp1b9Wp/z1gFCJXy0m5Po898KP8DpG255jT1jMqLQYqrx+6jMu1WYj2Kn840+560CxMJ4CsOWSdAm94KVkev+9d3yXsprA8TKZyN37KcomPA1PYDALW5xA+Ql0T+9DyOxJG5xixsgbnFLNYWaYSzZsw5WqcgNELe45UXRXv8NuV6dgF9DwIsc92EBxGk0wMLJf2elAm55c6GSbhY+q8569TjTe0Ac3hqsgCZQHtz8j1+v/x9ftNZ0js9PUQAAAABJRU5ErkJggg==' width='200' height='133' class=\"itemThumbnail\">\n",
       "                       </a>\n",
       "                    </div>\n",
       "\n",
       "                    <div class=\"item_right\"     style=\"float: none; width: auto; overflow: hidden;\">\n",
       "                        <a href='https://gru.maps.arcgis.com/home/item.html?id=2f85923e652945b6a68f8cef0b9e7b04' target='_blank'><b>1c69d98e19474201859acb1003363bcd</b>\n",
       "                        </a>\n",
       "                        <br/><img src='https://gru.maps.arcgis.com/home/js/jsapi/esri/css/images/item_type_icons/featureshosted16.png' style=\"vertical-align:middle;\">Feature Layer Collection by arcgiswebservices\n",
       "                        <br/>Last Modified: March 06, 2019\n",
       "                        <br/>0 comments, 4 views\n",
       "                    </div>\n",
       "                </div>\n",
       "                "
      ],
      "text/plain": [
       "<Item title:\"1c69d98e19474201859acb1003363bcd\" type:Feature Layer Collection owner:arcgiswebservices>"
      ]
     },
     "metadata": {},
     "output_type": "display_data"
    },
    {
     "name": "stdout",
     "output_type": "stream",
     "text": [
      "Update 1c69d98e19474201859acb1003363bcd [Y,N]n\n"
     ]
    },
    {
     "data": {
      "text/html": [
       "<div class=\"item_container\" style=\"height: auto; overflow: hidden; border: 1px solid #cfcfcf; border-radius: 2px; background: #f6fafa; line-height: 1.21429em; padding: 10px;\">\n",
       "                    <div class=\"item_left\" style=\"width: 210px; float: left;\">\n",
       "                       <a href='https://gru.maps.arcgis.com/home/item.html?id=e3473b777210438fbdb865302fb74149' target='_blank'>\n",
       "                        <img src='data:image/png;base64,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' width='200' height='133' class=\"itemThumbnail\">\n",
       "                       </a>\n",
       "                    </div>\n",
       "\n",
       "                    <div class=\"item_right\"     style=\"float: none; width: auto; overflow: hidden;\">\n",
       "                        <a href='https://gru.maps.arcgis.com/home/item.html?id=e3473b777210438fbdb865302fb74149' target='_blank'><b>AllPoles</b>\n",
       "                        </a>\n",
       "                        <br/>All Poles for LED Project<img src='https://gru.maps.arcgis.com/home/js/jsapi/esri/css/images/item_type_icons/featureshosted16.png' style=\"vertical-align:middle;\">Feature Layer Collection by arcgiswebservices\n",
       "                        <br/>Last Modified: April 08, 2019\n",
       "                        <br/>0 comments, 2 views\n",
       "                    </div>\n",
       "                </div>\n",
       "                "
      ],
      "text/plain": [
       "<Item title:\"AllPoles\" type:Feature Layer Collection owner:arcgiswebservices>"
      ]
     },
     "metadata": {},
     "output_type": "display_data"
    },
    {
     "name": "stdout",
     "output_type": "stream",
     "text": [
      "Update AllPoles [Y,N]n\n"
     ]
    },
    {
     "data": {
      "text/html": [
       "<div class=\"item_container\" style=\"height: auto; overflow: hidden; border: 1px solid #cfcfcf; border-radius: 2px; background: #f6fafa; line-height: 1.21429em; padding: 10px;\">\n",
       "                    <div class=\"item_left\" style=\"width: 210px; float: left;\">\n",
       "                       <a href='https://gru.maps.arcgis.com/home/item.html?id=c728e838e0d44b1387ded04bee349f71' target='_blank'>\n",
       "                        <img src='data:image/png;base64,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' width='200' height='133' class=\"itemThumbnail\">\n",
       "                       </a>\n",
       "                    </div>\n",
       "\n",
       "                    <div class=\"item_right\"     style=\"float: none; width: auto; overflow: hidden;\">\n",
       "                        <a href='https://gru.maps.arcgis.com/home/item.html?id=c728e838e0d44b1387ded04bee349f71' target='_blank'><b>CityCountyRental_WFL1</b>\n",
       "                        </a>\n",
       "                        <br/><img src='https://gru.maps.arcgis.com/home/js/jsapi/esri/css/images/item_type_icons/featureshosted16.png' style=\"vertical-align:middle;\">Feature Layer Collection by arcgiswebservices\n",
       "                        <br/>Last Modified: August 15, 2019\n",
       "                        <br/>0 comments, 4 views\n",
       "                    </div>\n",
       "                </div>\n",
       "                "
      ],
      "text/plain": [
       "<Item title:\"CityCountyRental_WFL1\" type:Feature Layer Collection owner:arcgiswebservices>"
      ]
     },
     "metadata": {},
     "output_type": "display_data"
    },
    {
     "name": "stdout",
     "output_type": "stream",
     "text": [
      "Update CityCountyRental_WFL1 [Y,N]y\n"
     ]
    }
   ],
   "source": [
    "for i in range(len(searchResult)):\n",
    "    display(searchResult[i])\n",
    "    updateResult = input(f'Update {(searchResult[i].title)} [Y,N]')\n",
    "    if updateResult.upper() in \"YES\":\n",
    "        sdItem = searchResult[i]\n",
    "        #print(sdItem.title, sdItem.id, sdItem.modified, sdItem.access)\n",
    "        break\n",
    "if updateResult.upper() not in \"YES\":\n",
    "    print(f'All Service Definitions in your Content on {portal_desc[\"portalName\"]} were presented')"
   ]
  },
  {
   "cell_type": "markdown",
   "metadata": {},
   "source": [
    "Prepare sharing information for item\n",
    "Using the dictionary we created above, find to which groups the item will be shared."
   ]
  },
  {
   "cell_type": "code",
   "execution_count": 8,
   "metadata": {},
   "outputs": [
    {
     "name": "stdout",
     "output_type": "stream",
     "text": [
      "sdItem c728e838e0d44b1387ded04bee349f71\n",
      "CityCountyRental_WFL1 is shared with Group Energy Delivery Engineering\n",
      "['Energy Delivery Engineering']\n"
     ]
    }
   ],
   "source": [
    "print(f'sdItem {sdItem.id}')\n",
    "groupNames = []\n",
    "for group in sourceGroups:\n",
    "    #iterate through each item shared to the source group\n",
    "    for groupItem in group.content():\n",
    "        #display(group_item)\n",
    "        if sdItem.id == groupItem.itemid:\n",
    "            print(f'{sdItem.title} is shared with Group {group.title}')\n",
    "            #assign the target portal's corresponding group's name\n",
    "            groupNames.append(group['title'])\n",
    "            print(groupNames)"
   ]
  },
  {
   "cell_type": "markdown",
   "metadata": {},
   "source": [
    "Name the ArcGIS Pro Project service definition draft and service definition the same as the service definition item selected above."
   ]
  },
  {
   "cell_type": "code",
   "execution_count": 9,
   "metadata": {},
   "outputs": [],
   "source": [
    "# Local paths to create temporary content\n",
    "sddraft = os.path.join(prjPath, f'{sdItem.title}.sddraft')\n",
    "#print(sddraft)\n",
    "sd = os.path.join(prjPath, f'{sdItem.title}.sd')\n",
    "#print(sd)"
   ]
  },
  {
   "cell_type": "markdown",
   "metadata": {},
   "source": [
    "Find the [map](http://pro.arcgis.com/en/pro-app/arcpy/mapping/map-class.htm) in the ArcGIS Pro Project"
   ]
  },
  {
   "cell_type": "code",
   "execution_count": 10,
   "metadata": {},
   "outputs": [
    {
     "name": "stdout",
     "output_type": "stream",
     "text": [
      "Count of Maps in Project: 3\n",
      "Use map CityCountyRental [Y/N]y\n"
     ]
    }
   ],
   "source": [
    "arcpy.env.workspace = prjPath\n",
    "arcpy.env.overwriteOutput = True\n",
    "prjMap = arcpy.mp.ArcGISProject(aprx)\n",
    "#m = prjMap.listMaps()[0]\n",
    "prjMaps = prjMap.listMaps()\n",
    "if len(prjMaps) > 1:\n",
    "    print(f'Count of Maps in Project: {len(prjMaps)}')\n",
    "    for prjMap in prjMaps:\n",
    "        if (input(f'Use map {prjMap.name} [Y/N]')).upper() in 'YES':\n",
    "            m = prjMap\n",
    "            break\n",
    "else:\n",
    "    m = prjMaps[0]\n",
    "arcpy.env.overwriteOutput = True"
   ]
  },
  {
   "cell_type": "code",
   "execution_count": 11,
   "metadata": {},
   "outputs": [
    {
     "name": "stdout",
     "output_type": "stream",
     "text": [
      "Uploading Service Definition...\n"
     ]
    }
   ],
   "source": [
    "# Create FeatureSharingDraft and set service properties\n",
    "sharing_draft = m.getWebLayerSharingDraft(\"HOSTING_SERVER\", \"FEATURE\", sdItem.title)\n",
    "#sharing_draft.summary = \"My Summary\"\n",
    "#sharing_draft.tags = \"My Tags\"\n",
    "#sharing_draft.description = \"My Description\"\n",
    "#sharing_draft.credits = \"My Credits\"\n",
    "#sharing_draft.useLimitations = \"My Use Limitations\"\n",
    "sharing_draft.overwriteExistingService = True\n",
    "\n",
    "# Create Service Defintion Draft file\n",
    "sharing_draft.exportToSDDraft(sddraft)\n",
    "\n",
    "# Stage Service\n",
    "arcpy.StageService_server(sddraft, sd)\n",
    "previousModified = sdItem.modified\n",
    "# Share to portal\n",
    "print(\"Uploading Service Definition...\")\n",
    "arcpy.UploadServiceDefinition_server(sd, \"My Hosted Services\",in_override=\"USE_DEFINITION\")\n",
    "currentModified = gis.content.search(query=f'id:{sdItem.id}')\n",
    "#if currentModified.modified > previousModified:\n",
    "#    print(\"Uploaded service.\")\n",
    "#else:\n",
    "#    print(f'{sdItem.title} was not updated')"
   ]
  },
  {
   "cell_type": "markdown",
   "metadata": {},
   "source": [
    "https://esri.github.io/arcgis-python-api/apidoc/html/arcgis.gis.toc.html#arcgis.gis.GroupManager.search\n",
    "https://esri.github.io/arcgis-python-api/apidoc/html/arcgis.gis.toc.html#arcgis.gis.GroupManager\n",
    "https://developers.arcgis.com/python/guide/accessing-and-managing-groups/\n",
    "\n",
    "Dont know why but ```in_override=\"USE_DEFINITION\"``` from above cell does not use existing share definition. Update sharing to Groups with ```.share``` is a work around below."
   ]
  },
  {
   "cell_type": "code",
   "execution_count": 12,
   "metadata": {},
   "outputs": [
    {
     "data": {
      "text/plain": [
       "{'notSharedWith': [''], 'itemId': 'c728e838e0d44b1387ded04bee349f71'}"
      ]
     },
     "execution_count": 12,
     "metadata": {},
     "output_type": "execute_result"
    }
   ],
   "source": [
    "#display(sdItem.access)\n",
    "#grps = sdItem.shared_with.get('groups',[0])\n",
    "#grps = sdItem.shared_with\n",
    "#grps.groups\n",
    "# search and list all groups owned by connected user\n",
    "#query=f'owner:{portal_desc[\"user\"][\"username\"]}'\n",
    "#sort_field=\"title\"\n",
    "#sort_order=\"asc\"\n",
    "#max_groups=100\n",
    "#outside_org=False, \n",
    "#categories=None\n",
    "#grps = []\n",
    "#for grp in gis.groups.search(query,sort_field,sort_order,max_groups,outside_org,categories):\n",
    "#    display(grp.title, grp.groupid)\n",
    "sdItem.share(everyone=False, org=False, groups=groupNames, allow_members_to_edit=False)"
   ]
  },
  {
   "cell_type": "code",
   "execution_count": null,
   "metadata": {},
   "outputs": [],
   "source": []
  }
 ],
 "metadata": {
  "kernelspec": {
   "display_name": "Python 3",
   "language": "python",
   "name": "python3"
  }
 },
 "nbformat": 4,
 "nbformat_minor": 2
}
