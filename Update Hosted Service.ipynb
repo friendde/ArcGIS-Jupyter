{
 "cells": [
  {
   "cell_type": "markdown",
   "metadata": {},
   "source": [
    "# Overwrite Portal Content with ArcGIS Pro Projects\n",
    "\n",
    "This Notebook will use a [map](http://pro.arcgis.com/en/pro-app/help/mapping/map-authoring/maps.htm) in your [ArcGIS Pro Project](http://pro.arcgis.com/en/pro-app/get-started/overview-of-arcgis-pro.htm) to update [Items](http://doc.arcgis.com/en/arcgis-online/manage-data/add-items.htm) in your ArcGIS Online/Enterprise (collectivly called portal). If you want to [use a CSV file to update your Feature Layer](https://github.com/Esri/arcgis-python-api/blob/master/samples/05_content_publishers/overwriting_feature_layers.ipynb) in your portal check out [Esri's GitHub Python API page](https://github.com/Esri/arcgis-python-api)\n",
    "\n"
   ]
  },
  {
   "cell_type": "markdown",
   "metadata": {},
   "source": [
    "#### Import Libraries\n",
    "1. It all starts with the [arcgis.gis module](https://esri.github.io/arcgis-python-api/apidoc/html/arcgis.gis.toc.html#module-arcgis.gis) which is the most important and provides the entry point into the GIS.\n",
    "\n",
    "2. The [getpass module](https://docs.python.org/3.7/library/getpass.html) provides two functions\n",
    "    * getpass() prompts for a password\n",
    "    * getuser() returns login name. This could be useful if your portal is federated with Active Directory\n",
    "3. The [display](https://ipython.readthedocs.io/en/stable/api/generated/IPython.display.html?highlight=display#IPython.display.display) in IPython is similar to print() but does more in Jupyter"
   ]
  },
  {
   "cell_type": "code",
   "execution_count": 1,
   "metadata": {},
   "outputs": [],
   "source": [
    "import os, sys\n",
    "import arcpy\n",
    "from arcgis.gis import GIS\n",
    "from arcgis import features\n",
    "from getpass import getpass\n",
    "#from getpass import getuser\n",
    "from IPython.display import display"
   ]
  },
  {
   "cell_type": "markdown",
   "metadata": {},
   "source": [
    "Now we get the ```input()``` from the user to set the ArcGIS Pro Project path then find the file extension of ArcGIS Pro Project to use later. \n",
    "\n",
    "The next cell uses Python 3 [formatted string literal](https://docs.python.org/3/reference/lexical_analysis.html#f-strings), or f-string. By the way [this is an excellent tutorial](https://realpython.com/python-f-strings/) on using f-strings\n",
    "    "
   ]
  },
  {
   "cell_type": "code",
   "execution_count": 2,
   "metadata": {},
   "outputs": [
    {
     "name": "stdout",
     "output_type": "stream",
     "text": [
      "Use default ArcGIS Project Path? C:\\Users\\friendde\\Documents\\ArcGIS\\Projects\\? [y or n]y\n",
      "Use project AlpineAuditProduction [Y or N]n\n",
      "Use project LED Change Out [Y or N]n\n",
      "Use project OSILatLong [Y or N]n\n",
      "Use project Shared_Utilities [Y or N]y\n",
      "Using C:\\Users\\friendde\\Documents\\ArcGIS\\Projects\\Shared_Utilities\\Shared_Utilities.aprx\n"
     ]
    }
   ],
   "source": [
    "prjPath = (os.environ['USERPROFILE']+'\\Documents\\ArcGIS\\Projects\\\\')\n",
    "changePath = input(f'Use default ArcGIS Project Path? {prjPath}? [y or n]')\n",
    "if changePath.upper() in \"NO\":\n",
    "    prjPath = input('Enter new path ')\n",
    "    os.chdir(prjPath)\n",
    "for project in os.listdir(prjPath):\n",
    "    usePrj = input(f'Use project {project} [Y or N]')\n",
    "    if usePrj.upper() in \"YES\":\n",
    "        prjPath = os.path.join(prjPath,project)\n",
    "        break\n",
    "for root, dirs, files in os.walk(prjPath):\n",
    "    for file in files:\n",
    "        if file.endswith(\".aprx\"):\n",
    "            aprx = os.path.join(root, file)\n",
    "            print(f'Using {aprx}')\n",
    "arcpy.env.workspace = prjPath\n",
    "arcpy.env.overwriteOutput = True"
   ]
  },
  {
   "cell_type": "markdown",
   "metadata": {},
   "source": [
    "Now we [get the active portal](http://pro.arcgis.com/en/pro-app/arcpy/functions/getactiveportalurl.htm) and instantiate the [GIS](https://esri.github.io/arcgis-python-api/apidoc/html/arcgis.gis.toc.html#gis). The [GetPortalDescription()](http://pro.arcgis.com/en/pro-app/arcpy/functions/getportaldescription.htm) returns a dictionary containing portal information."
   ]
  },
  {
   "cell_type": "code",
   "execution_count": 3,
   "metadata": {},
   "outputs": [
    {
     "name": "stdout",
     "output_type": "stream",
     "text": [
      "Do you want to use the active portal? https://gru.maps.arcgis.com/ [y or n]y\n",
      "Enter User Name arcgiswebservices\n",
      "········\n",
      "Connected to Organization Gainesville Regional Utilities - Gainesville, FL\n",
      "Portal Name ArcGIS Online as user arcgiswebservices\n"
     ]
    }
   ],
   "source": [
    "response = input(f'Do you want to use the active portal? {(arcpy.GetActivePortalURL())} [y or n]')\n",
    "if response.upper() in \"YES\":\n",
    "    #arcpy.SignInToPortal(input(\"Enter portal address \"), username=(input(\"Enter User Name \")), password=(getpass()))\n",
    "    gis = GIS(arcpy.GetActivePortalURL(), username=input(\"Enter User Name \"), password=(getpass()))\n",
    "else:\n",
    "    #arcpy.SignInToPortal(input(\"Enter portal address\"), username=(input(\"Enter User Name\")), password=(getpass()))\n",
    "    gis = GIS(input(\"Enter portal address \"), input(\"Enter User Name \"), getpass())\n",
    "portal_desc = arcpy.GetPortalDescription()\n",
    "print(f'Connected to Organization {portal_desc[\"name\"]}\\nPortal Name {portal_desc[\"portalName\"]} as user {portal_desc[\"user\"][\"username\"]}')"
   ]
  },
  {
   "cell_type": "markdown",
   "metadata": {},
   "source": [
    "Using [gis.content.search()](https://esri.github.io/arcgis-python-api/apidoc/html/arcgis.gis.toc.html#arcgis.gis.ContentManager.search) we are going to find all [item_types](https://developers.arcgis.com/rest/users-groups-and-items/items-and-item-types.htm) that are Feature Layers."
   ]
  },
  {
   "cell_type": "code",
   "execution_count": 4,
   "metadata": {},
   "outputs": [
    {
     "data": {
      "text/plain": [
       "[<Group title:\"Chief Officers\" owner:arcgiswebservices>,\n",
       " <Group title:\"Conservation Services\" owner:arcgiswebservices>,\n",
       " <Group title:\"Electric Transmission and Distribution\" owner:arcgiswebservices>,\n",
       " <Group title:\"Energy Delivery\" owner:arcgiswebservices>,\n",
       " <Group title:\"Energy Delivery Engineering\" owner:arcgiswebservices>,\n",
       " <Group title:\"Energy Delivery WARM\" owner:arcgiswebservices>,\n",
       " <Group title:\"GRU Communications Engineering\" owner:arcgiswebservices>,\n",
       " <Group title:\"GRU to Alachua County\" owner:arcgiswebservices>,\n",
       " <Group title:\"GRU to Alpine Communication\" owner:arcgiswebservices>,\n",
       " <Group title:\"GRU to Community Redevelopment Agency\" owner:arcgiswebservices>,\n",
       " <Group title:\"GRU to Department of Doing\" owner:arcgiswebservices>,\n",
       " <Group title:\"GRU to Gainesville Fire Rescue\" owner:arcgiswebservices>,\n",
       " <Group title:\"GRU to Gainesville Police Department\" owner:arcgiswebservices>,\n",
       " <Group title:\"GRU to GG Administrative Services\" owner:arcgiswebservices>,\n",
       " <Group title:\"GRU to Newberry\" owner:arcgiswebservices>,\n",
       " <Group title:\"GRU to Parks and Recreation\" owner:arcgiswebservices>,\n",
       " <Group title:\"GRU to Public Works\" owner:arcgiswebservices>,\n",
       " <Group title:\"GRU to Regional Transit System\" owner:arcgiswebservices>,\n",
       " <Group title:\"GRUCom Sales\" owner:arcgiswebservices>,\n",
       " <Group title:\"Information Technology\" owner:arcgiswebservices>,\n",
       " <Group title:\"Marketing and Communications\" owner:arcgiswebservices>,\n",
       " <Group title:\"System Control\" owner:arcgiswebservices>]"
      ]
     },
     "execution_count": 4,
     "metadata": {},
     "output_type": "execute_result"
    }
   ],
   "source": [
    "# search for all Groups owned by connected user\n",
    "source_groups = gis.groups.search(query=f'owner:{portal_desc[\"user\"][\"username\"]}')\n",
    "source_groups"
   ]
  },
  {
   "cell_type": "code",
   "execution_count": 5,
   "metadata": {},
   "outputs": [
    {
     "data": {
      "text/html": [
       "<div class=\"item_container\" style=\"height: auto; overflow: hidden; border: 1px solid #cfcfcf; border-radius: 2px; background: #f6fafa; line-height: 1.21429em; padding: 10px;\">\n",
       "                    <div class=\"item_left\" style=\"width: 210px; float: left;\">\n",
       "                       <a href='https://gru.maps.arcgis.com/home/item.html?id=a10b0399bad14580a30c5182934bcab1' target='_blank'>\n",
       "                        <img src='data:image/png;base64,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' width='200' height='133' class=\"itemThumbnail\">\n",
       "                       </a>\n",
       "                    </div>\n",
       "\n",
       "                    <div class=\"item_right\"     style=\"float: none; width: auto; overflow: hidden;\">\n",
       "                        <a href='https://gru.maps.arcgis.com/home/item.html?id=a10b0399bad14580a30c5182934bcab1' target='_blank'><b>AerialCable</b>\n",
       "                        </a>\n",
       "                        <br/>Aerial Cable<img src='https://gru.maps.arcgis.com/home/js/jsapi/esri/css/images/item_type_icons/featureshosted16.png' style=\"vertical-align:middle;\">Feature Layer Collection by arcgiswebservices\n",
       "                        <br/>Last Modified: May 23, 2018\n",
       "                        <br/>0 comments, 2 views\n",
       "                    </div>\n",
       "                </div>\n",
       "                "
      ],
      "text/plain": [
       "<Item title:\"AerialCable\" type:Feature Layer Collection owner:arcgiswebservices>"
      ]
     },
     "metadata": {},
     "output_type": "display_data"
    },
    {
     "name": "stdout",
     "output_type": "stream",
     "text": [
      "Update AerialCable [Y,N]n\n"
     ]
    },
    {
     "data": {
      "text/html": [
       "<div class=\"item_container\" style=\"height: auto; overflow: hidden; border: 1px solid #cfcfcf; border-radius: 2px; background: #f6fafa; line-height: 1.21429em; padding: 10px;\">\n",
       "                    <div class=\"item_left\" style=\"width: 210px; float: left;\">\n",
       "                       <a href='https://gru.maps.arcgis.com/home/item.html?id=03f0ee6418754725ac942dd4d2b5932b' target='_blank'>\n",
       "                        <img src='data:image/png;base64,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' width='200' height='133' class=\"itemThumbnail\">\n",
       "                       </a>\n",
       "                    </div>\n",
       "\n",
       "                    <div class=\"item_right\"     style=\"float: none; width: auto; overflow: hidden;\">\n",
       "                        <a href='https://gru.maps.arcgis.com/home/item.html?id=03f0ee6418754725ac942dd4d2b5932b' target='_blank'><b>CW_BaseMap</b>\n",
       "                        </a>\n",
       "                        <br/>GRU Basemap<img src='https://gru.maps.arcgis.com/home/js/jsapi/esri/css/images/item_type_icons/featureshosted16.png' style=\"vertical-align:middle;\">Feature Layer Collection by arcgiswebservices\n",
       "                        <br/>Last Modified: May 23, 2018\n",
       "                        <br/>0 comments, 4 views\n",
       "                    </div>\n",
       "                </div>\n",
       "                "
      ],
      "text/plain": [
       "<Item title:\"CW_BaseMap\" type:Feature Layer Collection owner:arcgiswebservices>"
      ]
     },
     "metadata": {},
     "output_type": "display_data"
    },
    {
     "name": "stdout",
     "output_type": "stream",
     "text": [
      "Update CW_BaseMap [Y,N]n\n"
     ]
    },
    {
     "data": {
      "text/html": [
       "<div class=\"item_container\" style=\"height: auto; overflow: hidden; border: 1px solid #cfcfcf; border-radius: 2px; background: #f6fafa; line-height: 1.21429em; padding: 10px;\">\n",
       "                    <div class=\"item_left\" style=\"width: 210px; float: left;\">\n",
       "                       <a href='https://gru.maps.arcgis.com/home/item.html?id=22e03eb9ceea4e1ca6cdf994bc030d9a' target='_blank'>\n",
       "                        <img src='data:image/png;base64,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' width='200' height='133' class=\"itemThumbnail\">\n",
       "                       </a>\n",
       "                    </div>\n",
       "\n",
       "                    <div class=\"item_right\"     style=\"float: none; width: auto; overflow: hidden;\">\n",
       "                        <a href='https://gru.maps.arcgis.com/home/item.html?id=22e03eb9ceea4e1ca6cdf994bc030d9a' target='_blank'><b>ElectricDamageAssessmentPie</b>\n",
       "                        </a>\n",
       "                        <br/>Electric Damage Assessment using Pie symbols<img src='https://gru.maps.arcgis.com/home/js/jsapi/esri/css/images/item_type_icons/featureshosted16.png' style=\"vertical-align:middle;\">Feature Layer Collection by arcgiswebservices\n",
       "                        <br/>Last Modified: May 23, 2018\n",
       "                        <br/>0 comments, 1,445 views\n",
       "                    </div>\n",
       "                </div>\n",
       "                "
      ],
      "text/plain": [
       "<Item title:\"ElectricDamageAssessmentPie\" type:Feature Layer Collection owner:arcgiswebservices>"
      ]
     },
     "metadata": {},
     "output_type": "display_data"
    },
    {
     "name": "stdout",
     "output_type": "stream",
     "text": [
      "Update ElectricDamageAssessmentPie [Y,N]n\n"
     ]
    },
    {
     "data": {
      "text/html": [
       "<div class=\"item_container\" style=\"height: auto; overflow: hidden; border: 1px solid #cfcfcf; border-radius: 2px; background: #f6fafa; line-height: 1.21429em; padding: 10px;\">\n",
       "                    <div class=\"item_left\" style=\"width: 210px; float: left;\">\n",
       "                       <a href='https://gru.maps.arcgis.com/home/item.html?id=0ef57504a4084338b567af2c43ec3480' target='_blank'>\n",
       "                        <img src='data:image/png;base64,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' width='200' height='133' class=\"itemThumbnail\">\n",
       "                       </a>\n",
       "                    </div>\n",
       "\n",
       "                    <div class=\"item_right\"     style=\"float: none; width: auto; overflow: hidden;\">\n",
       "                        <a href='https://gru.maps.arcgis.com/home/item.html?id=0ef57504a4084338b567af2c43ec3480' target='_blank'><b>FieldCheckPoles</b>\n",
       "                        </a>\n",
       "                        <br/>Poles that need field check<img src='https://gru.maps.arcgis.com/home/js/jsapi/esri/css/images/item_type_icons/featureshosted16.png' style=\"vertical-align:middle;\">Feature Layer Collection by arcgiswebservices\n",
       "                        <br/>Last Modified: June 05, 2018\n",
       "                        <br/>0 comments, 5 views\n",
       "                    </div>\n",
       "                </div>\n",
       "                "
      ],
      "text/plain": [
       "<Item title:\"FieldCheckPoles\" type:Feature Layer Collection owner:arcgiswebservices>"
      ]
     },
     "metadata": {},
     "output_type": "display_data"
    },
    {
     "name": "stdout",
     "output_type": "stream",
     "text": [
      "Update FieldCheckPoles [Y,N]n\n"
     ]
    },
    {
     "data": {
      "text/html": [
       "<div class=\"item_container\" style=\"height: auto; overflow: hidden; border: 1px solid #cfcfcf; border-radius: 2px; background: #f6fafa; line-height: 1.21429em; padding: 10px;\">\n",
       "                    <div class=\"item_left\" style=\"width: 210px; float: left;\">\n",
       "                       <a href='https://gru.maps.arcgis.com/home/item.html?id=d579c6118bb04d399440d4504f40eaeb' target='_blank'>\n",
       "                        <img src='data:image/png;base64,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' width='200' height='133' class=\"itemThumbnail\">\n",
       "                       </a>\n",
       "                    </div>\n",
       "\n",
       "                    <div class=\"item_right\"     style=\"float: none; width: auto; overflow: hidden;\">\n",
       "                        <a href='https://gru.maps.arcgis.com/home/item.html?id=d579c6118bb04d399440d4504f40eaeb' target='_blank'><b>GRUBaseMap</b>\n",
       "                        </a>\n",
       "                        <br/>GRU Base Map<img src='https://gru.maps.arcgis.com/home/js/jsapi/esri/css/images/item_type_icons/featureshosted16.png' style=\"vertical-align:middle;\">Feature Layer Collection by arcgiswebservices\n",
       "                        <br/>Last Modified: June 01, 2018\n",
       "                        <br/>0 comments, 7 views\n",
       "                    </div>\n",
       "                </div>\n",
       "                "
      ],
      "text/plain": [
       "<Item title:\"GRUBaseMap\" type:Feature Layer Collection owner:arcgiswebservices>"
      ]
     },
     "metadata": {},
     "output_type": "display_data"
    },
    {
     "name": "stdout",
     "output_type": "stream",
     "text": [
      "Update GRUBaseMap [Y,N]n\n"
     ]
    },
    {
     "data": {
      "text/html": [
       "<div class=\"item_container\" style=\"height: auto; overflow: hidden; border: 1px solid #cfcfcf; border-radius: 2px; background: #f6fafa; line-height: 1.21429em; padding: 10px;\">\n",
       "                    <div class=\"item_left\" style=\"width: 210px; float: left;\">\n",
       "                       <a href='https://gru.maps.arcgis.com/home/item.html?id=a329ee7d8c844143bd3ea1399d3e82db' target='_blank'>\n",
       "                        <img src='data:image/png;base64,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' width='200' height='133' class=\"itemThumbnail\">\n",
       "                       </a>\n",
       "                    </div>\n",
       "\n",
       "                    <div class=\"item_right\"     style=\"float: none; width: auto; overflow: hidden;\">\n",
       "                        <a href='https://gru.maps.arcgis.com/home/item.html?id=a329ee7d8c844143bd3ea1399d3e82db' target='_blank'><b>GRUComFiber</b>\n",
       "                        </a>\n",
       "                        <br/>GruCom Fiber<img src='https://gru.maps.arcgis.com/home/js/jsapi/esri/css/images/item_type_icons/featureshosted16.png' style=\"vertical-align:middle;\">Feature Layer Collection by arcgiswebservices\n",
       "                        <br/>Last Modified: May 23, 2018\n",
       "                        <br/>0 comments, 1,166 views\n",
       "                    </div>\n",
       "                </div>\n",
       "                "
      ],
      "text/plain": [
       "<Item title:\"GRUComFiber\" type:Feature Layer Collection owner:arcgiswebservices>"
      ]
     },
     "metadata": {},
     "output_type": "display_data"
    },
    {
     "name": "stdout",
     "output_type": "stream",
     "text": [
      "Update GRUComFiber [Y,N]n\n"
     ]
    },
    {
     "data": {
      "text/html": [
       "<div class=\"item_container\" style=\"height: auto; overflow: hidden; border: 1px solid #cfcfcf; border-radius: 2px; background: #f6fafa; line-height: 1.21429em; padding: 10px;\">\n",
       "                    <div class=\"item_left\" style=\"width: 210px; float: left;\">\n",
       "                       <a href='https://gru.maps.arcgis.com/home/item.html?id=49540032bafb43f08994850b0939fd2f' target='_blank'>\n",
       "                        <img src='data:image/png;base64,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' width='200' height='133' class=\"itemThumbnail\">\n",
       "                       </a>\n",
       "                    </div>\n",
       "\n",
       "                    <div class=\"item_right\"     style=\"float: none; width: auto; overflow: hidden;\">\n",
       "                        <a href='https://gru.maps.arcgis.com/home/item.html?id=49540032bafb43f08994850b0939fd2f' target='_blank'><b>Lights</b>\n",
       "                        </a>\n",
       "                        <br/>All GRU lights. Published from ArcGIS Pro geodatabase file format from M20456.<img src='https://gru.maps.arcgis.com/home/js/jsapi/esri/css/images/item_type_icons/featureshosted16.png' style=\"vertical-align:middle;\">Feature Layer Collection by arcgiswebservices\n",
       "                        <br/>Last Modified: August 02, 2018\n",
       "                        <br/>0 comments, 93 views\n",
       "                    </div>\n",
       "                </div>\n",
       "                "
      ],
      "text/plain": [
       "<Item title:\"Lights\" type:Feature Layer Collection owner:arcgiswebservices>"
      ]
     },
     "metadata": {},
     "output_type": "display_data"
    },
    {
     "name": "stdout",
     "output_type": "stream",
     "text": [
      "Update Lights [Y,N]n\n"
     ]
    },
    {
     "data": {
      "text/html": [
       "<div class=\"item_container\" style=\"height: auto; overflow: hidden; border: 1px solid #cfcfcf; border-radius: 2px; background: #f6fafa; line-height: 1.21429em; padding: 10px;\">\n",
       "                    <div class=\"item_left\" style=\"width: 210px; float: left;\">\n",
       "                       <a href='https://gru.maps.arcgis.com/home/item.html?id=ed38a74a50a248099f0458f8f4b8fffd' target='_blank'>\n",
       "                        <img src='data:image/png;base64,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' width='200' height='133' class=\"itemThumbnail\">\n",
       "                       </a>\n",
       "                    </div>\n",
       "\n",
       "                    <div class=\"item_right\"     style=\"float: none; width: auto; overflow: hidden;\">\n",
       "                        <a href='https://gru.maps.arcgis.com/home/item.html?id=ed38a74a50a248099f0458f8f4b8fffd' target='_blank'><b>Lights_Density</b>\n",
       "                        </a>\n",
       "                        <br/>Feature layer generated from Calculate Density<img src='https://gru.maps.arcgis.com/home/js/jsapi/esri/css/images/item_type_icons/featureshosted16.png' style=\"vertical-align:middle;\">Feature Layer Collection by arcgiswebservices\n",
       "                        <br/>Last Modified: July 26, 2018\n",
       "                        <br/>0 comments, 1 views\n",
       "                    </div>\n",
       "                </div>\n",
       "                "
      ],
      "text/plain": [
       "<Item title:\"Lights_Density\" type:Feature Layer Collection owner:arcgiswebservices>"
      ]
     },
     "metadata": {},
     "output_type": "display_data"
    },
    {
     "name": "stdout",
     "output_type": "stream",
     "text": [
      "Update Lights_Density [Y,N]n\n"
     ]
    },
    {
     "data": {
      "text/html": [
       "<div class=\"item_container\" style=\"height: auto; overflow: hidden; border: 1px solid #cfcfcf; border-radius: 2px; background: #f6fafa; line-height: 1.21429em; padding: 10px;\">\n",
       "                    <div class=\"item_left\" style=\"width: 210px; float: left;\">\n",
       "                       <a href='https://gru.maps.arcgis.com/home/item.html?id=9b9d1fd55bc74bf4965ccf5ad363b98d' target='_blank'>\n",
       "                        <img src='data:image/png;base64,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' width='200' height='133' class=\"itemThumbnail\">\n",
       "                       </a>\n",
       "                    </div>\n",
       "\n",
       "                    <div class=\"item_right\"     style=\"float: none; width: auto; overflow: hidden;\">\n",
       "                        <a href='https://gru.maps.arcgis.com/home/item.html?id=9b9d1fd55bc74bf4965ccf5ad363b98d' target='_blank'><b>MapGrids1200</b>\n",
       "                        </a>\n",
       "                        <br/>Map Grids for 2018 foreign attachment audit<img src='https://gru.maps.arcgis.com/home/js/jsapi/esri/css/images/item_type_icons/featureshosted16.png' style=\"vertical-align:middle;\">Feature Layer Collection by arcgiswebservices\n",
       "                        <br/>Last Modified: May 23, 2018\n",
       "                        <br/>0 comments, 1,567 views\n",
       "                    </div>\n",
       "                </div>\n",
       "                "
      ],
      "text/plain": [
       "<Item title:\"MapGrids1200\" type:Feature Layer Collection owner:arcgiswebservices>"
      ]
     },
     "metadata": {},
     "output_type": "display_data"
    },
    {
     "name": "stdout",
     "output_type": "stream",
     "text": [
      "Update MapGrids1200 [Y,N]n\n"
     ]
    },
    {
     "data": {
      "text/html": [
       "<div class=\"item_container\" style=\"height: auto; overflow: hidden; border: 1px solid #cfcfcf; border-radius: 2px; background: #f6fafa; line-height: 1.21429em; padding: 10px;\">\n",
       "                    <div class=\"item_left\" style=\"width: 210px; float: left;\">\n",
       "                       <a href='https://gru.maps.arcgis.com/home/item.html?id=7756744575e94576aaad9b1df93d4278' target='_blank'>\n",
       "                        <img src='data:image/png;base64,iVBORw0KGgoAAAANSUhEUgAAAMgAAACFCAIAAACR/CB7AAAACXBIWXMAAAAnAAAAJwEqCZFPAAAekElEQVR4nO1dSYwk21W9L+YpK7Om7vYf+TayDML+kg22EJYtI5ANK3bIsgQLxJYlrFgjsQchgWCBvAAkNhYgEBsW9sqDkPVtLGz88f/dXf2rq3KOyBgfi0Ncv3oRmZ3VXdUZmZV3kcqMfBHxIuLGHc4dnpBS0p72dNNkbHoCe9pN2jPWnm6F9oy1p1uhHWEsKeXeWOwUWZuewA2QlLIoiqIoDMNwXXfT09kTEZHYgRe9LMs8zw3DqKqKiEzTtG1705O667Q7qjBN06qqDMMgosViUZblpid1p2kXJFZRFLImIQQRsfSyLAustqeXTFt508uyVN8HKWVVVVVVWZYFJQjRZZpmURRZlu3Ay7N1tH0SK8/zsizLsvR9H9IoTVMiAidhS1VVRVEQkWma7DDuDa+XSdvHWHEcm6aZZZlhGI7jCCGqqsKn5hKWZQlXEf9KKW3bZs0IsYefe3V547R9cINlWcwuQgj4g9iujTRNE9oQhjy+E5Ft22VZpmlaliW0J1izKAohhOM4L/+ido+2T2JVVbVYLNiKMgwDl7CaIdI0FTVlWRbHcZZlVVU5jmOapmVZkF7gs73SfHHaPollGEYQBPheVRWkzjN1meu6MLwwHhY9bDXXdfEdcmsPsd4IbR9jqWQYxvrmEWyyoijyPKcapIByhLgSQkB73uKM7wxtN2M9B8EU8zyvLEvTNMFMkGdpmpqmCSm414YvSHfOG4IS9DzPsiyAqIvFAozled5isRiNRkmSzGazTc90u+nOMRY8xKqqTk9PIassy0I4KEmS6XQ6n8+TJIHo2vRkt5junCokoizL0jQtisL3/SRJXNdN0xS4qxDCsiwY8ntw60XoLt67PM+FEEmSCCGCIJBSZlkGriIibAzDcNPT3G66c4zlui5sc9u2sywDVGGapuM4CBM5juN53qanufW0s4wFaKq5HSjoYrEgouPj4zAMe70eECxIKdu2IbpugwB2ILi527SbjCWlZLCq+a9lWb7vm6YJzrMs6/DwEIEdIlosFrdnXWnxyh2m3bxCgJ+wwZv/AoKvqirLMvCfaZowtpBm08qON0IIbt6eROwO7SZjGYaR5zlM8ua/tm2DdZDgMJvNkM7FcejpdHqrvNWMl+8e7eYVIizD6Vka5XleFIVlWXmeV1WV53kcx0II5M6DvYbD4cnJyc2KFoQpkZa489pw+7Ib1qTpdIo0LMRtyrKEjoNwojrvFLk0Qvz0PnCSVhAEJycnNzglFp+IS97gkTtIO8tY8LyQGJPnOXwxxHP4khEo5ERn5jB+8GEYRlGE7Z7nvTg3QOHuPFfRDjMWdBzVz3KxWMRxDB1UliUnjnqeB9EFgHSxWHBRBpdmWJblOE4URb7vb/iqtod208YiIq14tSgKQKNgI9d1bduWUkZRhFfLMIwkSZIkwU/1EynOyxzMa1lLnKiz89kTO8tYKgF6YIve933koBZFcX5+jjH9fh+oKQsqjZquHJwAaMk1Z1IUBQCznbff7wRjZVkGy4bh+DAMVTyiqipwGKwu27aR6IwxjuO04vjI30rTdH3GMk0TjufOIw47fnkgKSVqow3D6PV6UEZIZ2AFx7rPNM2DgwOEd6SUk8kEYilJkqqqoijiwwJihZw7ODhYxyRHyisjtLcaPtos7bI0VgkKDsCp53mu66KGQhum5ToLIXq9nmVZEHhJkkwmE/63LMskSfAZx/G1JgOHYFc9J7ojEotqgcRFOEIIuHi2bSM3i4EGsBHvCCHHcms6nQ6HQ6hLwGMAw66VFQjwDHHDG7/SjtCdYCwoQU4ryPPctm3P83zfRx0Y1ZxHiuPGZBjGwcHBdDqFWAIbpWkKBxPsdV0kAumEyxyFHaDdZyzEbRzHgZpjYZPnuZRyPp9D2KgGdRzHvu8Dj8BfhmH0+30hxGQyYeCe2QIHx/Y1fT2OKT2H0AI+13Fpt2sAKaQI1Q9+OByyQ4f6aRB4BQAV5BP8QXQWQRQIWpKIXNflKjGMx8E1GN0wjDAM+/3+Oh4fGItBkPUJYU3MqsuAxa5JLHh/eZ7DNM7znNmCiNDBAaAooHa8/XhCGAkUnkFRHASRH7ARm1PqcwWfxXFsWVa/33/mPMFV1+UMxMt938cL0OXo0K4xFlI0AV1y6TPsaw7UUK3doBm59N5xHECXYESgXxjP4epl50WlPwCINacKWZVl2ZqgQ1mWs9kMchRdAkzTvNkw+Q3S7jAWJA0RaWlYmlwBTIWfYLvFYgGugtEDm1rTUE2LvpWum7YACTedTnlKrQS3g90FIsLbUpZlr9frZk+AXWAs3Gt0j5nNZuAMBjyZISCWVAMIMgzSSwiBKDWkFBtqvG+rMcrwGCSi4zjXalYDcw3qeAUB4scLAEeEu389ffo0CAL4rZ1Si921/tYkBN04ZwGyB5Y4G+lqUxopZZIk2BeuHDdng/HOMWmM4b1aGQvPEhYbtDAaJEEdP3PymExRFDylVkrT9OLigqUp/FkYgsigNwyjawUaWy+xACPBieN0K8dx0ENGCDGbzdRIH1zFoih6vR7AdzAHhAfVwkl9+zWbvUnMdkVRjMfjOI4xgdlsptYnqhkTOH6WZZgz2IL7XHKW6WKxSNMU0SRcKdXvEk8yTVO8V6y+uxCL3B24Abf78vISDT96vR62P3nyxLbt+XzuOM5iscDdB+rd6/U4+w9WC3MP2ruJul0gXWUIupoE0cQ5ISmpfsboDYFGhGAOTDKOYzClbduocIQQgtMH9xaykE/BSllKGYYhYAsMRncnlsGbrbndeomlESSQauhAWSCYA9MELAhzmIFNlQzDwNNFkEdlKf6ucpLKWHjwIOSEAT+jWrBhGmzYsToGygrpC7W+WCy4HSGfCIflafPpOMrJR7iV+7s2bStjwc5QGQjSBRiV6tP5vo/UF8uy7t27F8fxZDLhBqStDwBNA0kx3kmx9JsynntVqkeD/APHAO5HWAmnhqbmUjMk3rC96Lou0llRfEG1fsTZ+eWBlAJkCrOSahfyBm7xi9H2MVaSJGmauq7rui7aPUopfd+HOQUeYj1IdU09jDDGRflpkYIRaLKBlH7xpCjBVueLnYb5fK5utG37+PiYt0AV5nmO2CK0IRSfmpADKopiNBppE0CUM4qiOI5hv4MRy7LEa4ZaoI3nEm4TY0FK4XM4HEIGQIMgIAjfajgclmU5GAzAc0mSoAHufD7nXqNUY1qs2lzXVXmCrrnwk5RyPp+rkpLNedWszrIsSRLbts/Ozh48eAA9yzXZGnEiBuw8/AzD0PO82WzGws8wDOhW3kttCL0p2hrGQjIxWsRwYjGjCRjDq55MJpMwDLmAAlIKVgt7kaqZgg6RURSp/daaqm3Zo2I0SyopEnjSVVXN53MwB3IihBBBEHAwe8X6Bqz7oE+Pjo5wpePxGPyK9ypNU3WqsOVf7GbfAG1+BmsSAixUly9DdNm2HcdxFEXc56OqGz1y30dZF0SoiBQbvPii5iirnjxIta5U16w5TB2P70j24sPC4EuSBPFE/GWaZpIk8/lcXoVYue+NaZr9fh9chXn6vg9DCiEp7kneHdoauGE4HCKmAbyK6jZXnAjKXWvxXGGEoXyeFHSKDXZxtUiVuRYcgBwHqN1Wo2rZ9tZhzMRgUAABiJez+ISVVhTF8fHxiiT6qqqm0ylY0LbtxWIBDAXMd/37elu0NYx1eXkJRBsIEzbiUaEklfsvUC14NNaBbFCPqWFRpHAbgwv8ZR2rRR2/DI8gIkxY1igo/mWATdQ5XoBwoUbZ8TTqNV2Mep0zyGYiapr/G6StYaynT58iWiKUNU60Ma2PU/3kv9TtzzefpsRqlWEaRzIPaR6oxlUcqQzDUNT9AUzT9DxPy/cqigLuYRiGnVpTY2tsLCEEbHP8bGUITVpon6pwYtm2PjVZs/XszY3NvTT8DKoQbmwcxzAWqa6h5Ysq66WBVDeCizKAs1zrim6VumXxrSDV+2MCe2ldZfhBqlyIAA5G4mHgy3PYvBpqunqY+smkZuBApKF09vLykl0Qvmq4I3gZpJSj0Ug7EY52e32Xno+2hrFIURBqdh4RiboWmX8aV9f0whcsGEa1Y2Xb9upMpmU8t1puMQ9pw1TxqfKZ+hdvB9NzJ3o+lOd5juNwKgSYcrFYXFxcTKdTtTRt47Q1qhAkhOB2tJyXYtbUdPdAsq7riuPYMAzUFQIJY0uraXerLLKmD0gN8591XxiGABSau6jj2e0IggDXqEJro9HI931kBcZxPJ/P0YIQ/47H4yAIugBi0RYxFvdcgO8DlYHIGiciYyTUh8orsKjwXNkX41z4aklrIamEezWGYDi0NZem9VBqYwhNmfJ4FsNY49N13YODA/jCGAB8QQjBNruaQAbTbc9Y1yYE+waDwWw2YxHFyS08rDVbgYVZVXc1gkJpiiL15+oyVDBBUzo2EQcY1ywatSM0ZxuGIYei+/3+ZDKBHQbExDCM6XTKaVt8qE4tiNdpuAHxEK4yxYMJggDhPzw5Fb5qPQJeZX4GreJkBXDQilZQm7W0bALMfKsdBUYiBoMBMqs0ZyWO4zzP0cELx0QyFq4xDEOw4+r5vDTqtMTiZUhEjUojoQVJDRyxWcZVbMUz5N06rAmcakILvgI1GO6ZRhjjn1SX8TwT+rIsS03NUInz+IioKAoEN4kIvXGui57cNnWasdhXB4oDeJ17Eq3YUW0A6XkeGBR/MQjEppVxtYxH4yGV59STqhY3tQlCdWTzFMzrPB/MxPO81QVheMdM0wzDsMtLK3aasahORXccR63Xw9uvZROouVMqwM2gIrOCVPItqc0N1LbzT2rDGlaITA310Kwr/qI6GTDVpZTs/WnEIxEiFHWSFtB5LGa28o6+JOrEJFYQLAkYFnQ1+4DL3jUBxmAEu+605KFqP1VLvGmVr7DxSQndsCBs6s2mAYQxnLCFxB6cFw1ImrzFKWVSSlS8IU1ICOF5XpIkyzTpS6auMxbVGUssZlQcga4WF2AL8xMyFCzLwvqDKsqlQgxNG4uPvM70hBBZUX7169/5vux9bzij/snnj6wv+NnPv/Vq4Dh8ohVH47NriRjz+Rz2uLovEm84H4sLLqqq6pSl1RUnYhmxec5MIGtiBmoN9Zimef/+fcTRNCcfDMrPoNWK4l3UL+opeGRVyX9+58d/P3b+9fvvvtN7453C+QfrjT94V/7t9x6l+U/LKPhQ6vem2CPFCMM6BpeXl+oY2GH9fh/9cFjICSHQU+757vONU6clFltC2sMQNagNPmv16aqqevToEZxKDY9gCGCZkaSaU5oKayrWrKy+LcPRkx9PPvWr9OpHKFtcPvxR1Xvwd/P5wQ8/+PLPvdJq4KvfWRXydfGssJpwa/IqQs6LxSIIAuQ+qMn1G6dOM5YQgm129qG0AaJR6tS0wfHFuFr3rB5kxRxaw9vqYc+S9Gv/czF68+NkWPTkfTEflUGPiuL9R08fpsl/usXj0UxOnsrggNzglcB5+2ff1A7Vqogx2/F4rHLVfD5HTjPYPYoiRB2I6PDwcMVVvHzqNGNpLWI0jtESSJhEnSaqMRyYUo3PLHPompZ7c6PiytE0SenDr9Pph4hIpsdifCFfezO///pffvcbf25+Wt6z6fKb5l//WfnpL1mj88995Mlf/OYn14HIhRCoROItFxcX/GrBumJjQErJrQnZVrNte1OQRKeRdyJ6+PCh53lFUdy/f19KOR6PiQhMw64fD0b+gqib2GKjyprsr6l/rTj7MwcQUVKUn/23n1y+/Xl69CM6f0xvf5Z+8G365r/Tr32Z7r9OsiIpyTDp7H/pwZt0+YH1tb/6w1/52O9//hefeXx5FUtrhiz5ikzT5CURGEDG9gcPHmwEgOi68Q6blGOCKMfzfb/X6/m+7/s+bigaivLbyWKMDTINrNK04YqzkyIptb3w0zGNt+4dExG990P6zn8QEfWO6GO/RJBJ//Q39Me/TURQlLSYF7/xu++894SPrx1Ty2Q0DAMW+jK/Utb11uwvV0pPgKIoNlW8unlVKNuy0VUCRnpxcQFQJwgC2K3IgEMpMDQLbi5j7nTVwFKPqeFeokZNW9PlNHyLj/z/4oTok+b0W2VJn/kifeaLRCRMW37qC+In/y2PHtCXfod+/StEJIQh732IiMSjd/PT11mJawJVeyXQ0wFySPUZeYxlWSjNQIkY1XVyPMlN1dpvXmIB5ZvP5623oKx7/BdFgfUpUVBF9TOGnVFVFYelxdUojUpaVTFYCmHsKIpWRHCbWBR/dxzn995+0/7u1+nijC7OxLv/JWVFTx8fZjM6e59Mi1xPjM7lO9+gr/5pIOTPBMYnBo6ahNiURpiS53kPHjw4PT29d+9eGIZIS1S5CoGdKIp6vR46sCHThg24DcJanZBYMAJa5ZaoO2SUSvNqToMx6s4ZqDGH4VXVrf2aJ9JcPFZD6Nh2cHAA7sQArdRHSokMAl5+5969ewgMv0L0g68cfutsTMIo8/ByNO5Z4nuHwZ8Yr4bjs3g4lq+9RR/+OPWOHhjVe0l5ehDylFrBCMwTWAO0Ifqqvf/++xiA6zXqhWRhXeE2oqri8ePH0ImbSoTfPGNZloUCpmXwN3t/HIFG5iSDpYZh4Aiy7t/XrAfU/EcV2ZJ1KAbYI5dsIDSE3kOiLmBkiWiaJrgK9NYgfGsQElGapo8fSyJ6O83/5Qc/+vHJW9IKaLGgNz5Kb3w0KdJPxI+PXxvw1akXK69GgS4vL4GCep6HV4jHwOLErUNCrGqoWZaFlwT7vsDDeX7aPGOtTk+rlHUfWHOpPbSrqsKbyugi2yvL5IH2k78DY5xOp1xEahgG0nUuLy/Z6IFKUrlKJRaWgWV8+WDyRx886dsiTgvz4lGa5RfJ+O037v9Cv0XnarYmZoWy6TiOOd9V1KA8ON73fdwNzt9HJBv1q3daFT6TwFVcQAE+Y/ScbRQug8Ze5dUW6uhpy644H1kVY+j9BxsuiqLBYMB/JUmC6JBt26enp9SGamZZNplMEDxGPOC3Xu+/mw7/sTya284vm/LTXllag88dZMe+HlqWSs1q89rRlEazrtCvgXNK8VeaphDnSPDfYO+1ruNY7733HvQd0sCNurEHEkpFncOEbJMVmcSGYbz22muGYZyfn2NwM5+djSocB7YwPDK0eo+i6OjoCIOn0+l0OnVd9/j4GN1HuE1DebWBO5tozUQdJpXFcV2QmqS4jfwicRSrqqper4dPdMtJ0xRtuoUQYRhuMNOh6xILNxG1KGiCZds298AAH2RZtpqr8IQuLy+llOjOyE4AEp21Qj9WQ2gWwrgAq7nJZILubXiQECE8BxVHIEVHi6vYLAw1nJovBxyjtiVSL4EdDlaLWZZ5nmfWLeO5FcrG89+3gLHw7kJ4sMpQcaDmY2gehFmKgcdXXnkFxtn5+fmKak/GAjATlCZjBR5ZJ91rDY94x+Y01L9kXYOKU8DcZvORrqaaafai+hPv22Qy4f4DrusGQbDZTIdOMxbePFhUSJiEKY03W439tSp0iDd16RvejlUI8bPf74PnWnEsdSOyNNH0TH20rLaa1NR6KvGOYAh0vEXbHG7bpB5HdU34FhmGgaY6qLiUUg4Gg41nLXfaxqqq6vz8nAun+M6yIhBL4tNMohFOllIGQXBycqLe+tlslqYpbCltMClWDjQvJwwCJXJdN4oidARFOTJLVj6CCiIsgxhgD/G+ap0qtiARXo1JszxzXRcT8DwPfUSueadvnjotsQzDgM0O3mJb23VdGDTaY9NIZTsWDJZlcWs8pjAMq3ptpkpZk4KZSdW8qgzj7g84MnoCqgKsaSoh9ofWcHBB8Fee50EQwC/hWjftINB6eDfQ9VnUkYOiKJrXtUHqNGOR8mgZC0X0Rq3XY4nS3BdfVIGBRBSkO2OxEKpLX0ajkaH0j+RP9Vx8QJwUi+EwMMEiZBn5vn96eoryQDAlFr6juufgsoI2WJla0tXZ2Rmg+TzP0fLkOrf2dqnrjOU4ThRFKgAIOj8/55RcNeqsEgf88VPUfR+m02kURegMiGpjIoJvpSXb8I6a508KbyH5wjRNIFi9Xm84HLZeCwBxJCPw5YzHY2Ypqi16NRgqpURVajP75eDgACKW24d0h7rOWMucPnm1/ItJBYQgabT6C6gP6FaNWdWztH7XzCaWamVZjsdjrguihq1NtRLUVvhlhQ6NlmWZZVme5+GqWfVzJEC7WKBo4/FYfSU6Ql1nLIiZVme+6Qxqdx/2LP+Ejwk+g9ENJVsUBXIrNMtmGTUf8Gw2Q3tmDaZSxZtpmk24UgPVELfxfR8L3HHIgQsktd3xFzd8H41GarRgs9R1xgK1SqbWYar/CK5CTI0FiZQS7hU0i5RyNBphFSQ1Ms3SYh0PC21q1S2amETkrhle5M7yeCUA3A+HQzbJoePYD22eGmvJzmYzRJxac7U3Qp2YxApSPTJtuxoD4e0qb5mmCfRZ1IU6YJeiKIBFYTx34teO0zzyskmqkCZ/QcgItY3Hx8et0RXVq8DicjAc0RoeTUfRmkFt3NA8gqhDpV0AGkBdl1jLwE/0TuY8LW0Xrj1XpY6UEj5UWZZQOry2hZa/uwxuVbm2dbxmmYGrjo6OlmWd83rmRITXgDvO4yy87qsQAskzzfuAJnLIu1pTxL4E6jpjgZo3C7qGFxlsEmQGkHfVeMJLz6t2Az2aTqd0Fe5qrV9QMYhWkab+LMsyiqKDg4MVKACqaFgOobkcXGAhBJL60zT1fb8sS83wVw9CdTZHR/QgdZ+xliFDvDwTW76k5EJhI8ePjauLsEEzLhaLhw8fqspFwxR4HUDNamYbjq4ykzpP5Fw8s9YviqLxeAzJhF04LJ1lGXcpanUJVdp4yLlJXWHw1dQUS+pKz0ZjjS5YwUh5Q0aoyqCyLriA58VoOxO0GMx8o+55pJ2ClN6nLMmYTGVJ8xVkmuarr746GAxwRqzWiTh0r9dT0+G7uaL4Cuq6xFpGRr1mJOMObJrwmEpZZ0DD6EXdrEZNdGFCtDsMwyzL4Lgxe/FIpCYzyISsB3YRgiBYprk0QpoX9F2SJIZh9Pt9DhwB/bqB+/XSaTskVquNRbVpr7IOU2vWg3YclmRqyM9xnJOTk8Fg4LquFtA16nVHpJRRFAVBwAiFWrQt11iYXrsW2FLcVLw7ptJzU9clVrWkpTFDO2rmSXP3Zf5dVfcmNeslBZDja9s2oj18FvUIXHMBRozjGIY2PrlbFREhAbDVj2ulTi2DcyPU9TdDLF+QvWorOddIe648Hg4jyqmpDvFGUXR4eKiqHq7P4d1FnUlXliVKQ5FBihZcpPS40pZzvmvUdYkl2hZjIiLP8yplLUyq05Q5rU+LJKrogGEYvV5vMBiAM1zXBb7VTLlUE7CojgcDD8OheLF7TIMXEpdSdqe53kao64y1jDjjBQTBhjKbSumprwIQos5iODw8BJzoOA66jPi+36q2eJl7NaOBFCseZVhI/mRQDVqVm4Le/s3oInWdseSStebVzBMmIQQqJjQMgmqL+OjoSK2IAiy+7NToq86SD7ACTDowE/qRsOvAwlJKiehkkiR7xuooyTVqJVSq6vUaENjhNHnXdfv9/nW9LRj4qAsCtA0AE/Y7tqDHKZ+XnURxNY34rlHXGQuPds3BDEqVZcnhZyzT/RwOPCx0WecSImaH5GA+vlkvYMlSTQXMEMXbAezgOajrjCWXdxdqklF3w2Y0fDAYPHcVFDKoXNdFMSqUIMx8MBACKUjLgbgKggAlYpgzUr6e7+zbTl1nLLEkbaZJsl7XHnY6+vu8eKgfWSsAulgygZ8ODw9FnZXqOA7m2ev1MA3LsrYUNL8R6jpjLQNINUKpNCxlpBXc1EMVQkAOYe14Nt1UrkXzN0RywHBoLXRnxRV1vK6QiNCtDy5Y6wCEbKH7YObfhiMmpTw/P8ciNkhrXj1+zfdhh6nrEgvG+7JEZGQuALRE4t4tNXIVQiDqgsT5Z46/y7IK1HWJBdZBoYG6HVxFtScIM+i2J7OXQ+tT1yUWoihasgBX1CCV6qUVle/l0PrUdcZqZi6gIUdHmvXsaRl1/RXU4jlcbQf9uOeqzlLXGUstuWF7Czj4nqu6TF1XhUwojQfA7Xne3oLuOHVdYgkhuF8PHFhu47GnLlPXJRbXc3Kd4Gbns6c1qdMSC13O0RBrz1XbRd2VWDDVwUx7U33rqKOMlaYpFxwjuLvpGe3petS5kA5KFRD+Q7fWvam+jbQxxlqWZQUHEAV6juPsuWpLaTOMhWgu8hF4IxJguLr8zpYh7AZtzCtEOjmjCVmWIa0KWeR7rtp22gxjoYO0qDvDcEMYwAp7rtoB2pjEQs9MdECgug7C87yNLLm+pxunTXqFvLYWEhb2DuAu0YbhBthYUsrNLlW1pxunzeNYd7akc7dp84y1p52kvajY063QnrH2dCu0Z6w93Qr9H5FRYoAzmyjMAAAAAElFTkSuQmCC' width='200' height='133' class=\"itemThumbnail\">\n",
       "                       </a>\n",
       "                    </div>\n",
       "\n",
       "                    <div class=\"item_right\"     style=\"float: none; width: auto; overflow: hidden;\">\n",
       "                        <a href='https://gru.maps.arcgis.com/home/item.html?id=7756744575e94576aaad9b1df93d4278' target='_blank'><b>Production_AlpineAudit</b>\n",
       "                        </a>\n",
       "                        <br/>Production 2018 foreign attachment audit<img src='https://gru.maps.arcgis.com/home/js/jsapi/esri/css/images/item_type_icons/featureshosted16.png' style=\"vertical-align:middle;\">Feature Layer Collection by arcgiswebservices\n",
       "                        <br/>Last Modified: May 23, 2018\n",
       "                        <br/>0 comments, 1,227 views\n",
       "                    </div>\n",
       "                </div>\n",
       "                "
      ],
      "text/plain": [
       "<Item title:\"Production_AlpineAudit\" type:Feature Layer Collection owner:arcgiswebservices>"
      ]
     },
     "metadata": {},
     "output_type": "display_data"
    },
    {
     "name": "stdout",
     "output_type": "stream",
     "text": [
      "Update Production_AlpineAudit [Y,N]n\n"
     ]
    },
    {
     "data": {
      "text/html": [
       "<div class=\"item_container\" style=\"height: auto; overflow: hidden; border: 1px solid #cfcfcf; border-radius: 2px; background: #f6fafa; line-height: 1.21429em; padding: 10px;\">\n",
       "                    <div class=\"item_left\" style=\"width: 210px; float: left;\">\n",
       "                       <a href='https://gru.maps.arcgis.com/home/item.html?id=0b23303252af4f78977e97cd75d886c0' target='_blank'>\n",
       "                        <img src='data:image/png;base64,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' width='200' height='133' class=\"itemThumbnail\">\n",
       "                       </a>\n",
       "                    </div>\n",
       "\n",
       "                    <div class=\"item_right\"     style=\"float: none; width: auto; overflow: hidden;\">\n",
       "                        <a href='https://gru.maps.arcgis.com/home/item.html?id=0b23303252af4f78977e97cd75d886c0' target='_blank'><b>shared_GRUElectric</b>\n",
       "                        </a>\n",
       "                        <br/>GRU Electric. All attributes removed to share with external agencies.<img src='https://gru.maps.arcgis.com/home/js/jsapi/esri/css/images/item_type_icons/featureshosted16.png' style=\"vertical-align:middle;\">Feature Layer Collection by arcgiswebservices\n",
       "                        <br/>Last Modified: July 27, 2018\n",
       "                        <br/>0 comments, 2 views\n",
       "                    </div>\n",
       "                </div>\n",
       "                "
      ],
      "text/plain": [
       "<Item title:\"shared_GRUElectric\" type:Feature Layer Collection owner:arcgiswebservices>"
      ]
     },
     "metadata": {},
     "output_type": "display_data"
    },
    {
     "name": "stdout",
     "output_type": "stream",
     "text": [
      "Update shared_GRUElectric [Y,N]y\n"
     ]
    }
   ],
   "source": [
    "# search and list all items owned by connected user\n",
    "query=f'owner:{portal_desc[\"user\"][\"username\"]}'\n",
    "item_type=\"Feature Layer\"\n",
    "sort_field=\"title\"\n",
    "sort_order=\"asc\"\n",
    "# default max__items is 10\n",
    "max_items=100\n",
    "search_result = gis.content.search(query,item_type,sort_field,sort_order,max_items)\n",
    "for i in range(len(search_result)):\n",
    "    display(search_result[i])\n",
    "    updateResult = input(f'Update {(search_result[i].title)} [Y,N]')\n",
    "    if updateResult.upper() in \"YES\":\n",
    "        sdItem = search_result[i]\n",
    "        #print(sdItem.title, sdItem.id, sdItem.modified, sdItem.access)\n",
    "        break\n",
    "if updateResult.upper() not in \"YES\":\n",
    "    print(f'All Service Definitions in your Content on {portal} were presented')"
   ]
  },
  {
   "cell_type": "markdown",
   "metadata": {},
   "source": [
    "Prepare sharing information for item\n",
    "Using the dictionary we created above, find to which groups the item will be shared."
   ]
  },
  {
   "cell_type": "code",
   "execution_count": 7,
   "metadata": {},
   "outputs": [
    {
     "name": "stdout",
     "output_type": "stream",
     "text": [
      "sdItem 0b23303252af4f78977e97cd75d886c0\n",
      "Item shared_GRUElectric is shared with Group GRU to Alachua County\n",
      "['GRU to Alachua County']\n",
      "Item shared_GRUElectric is shared with Group GRU to Parks and Recreation\n",
      "['GRU to Alachua County', 'GRU to Parks and Recreation']\n",
      "Item shared_GRUElectric is shared with Group GRU to Public Works\n",
      "['GRU to Alachua County', 'GRU to Parks and Recreation', 'GRU to Public Works']\n"
     ]
    }
   ],
   "source": [
    "print(f'sdItem {sdItem.id}')\n",
    "groupNames = []\n",
    "for group in source_groups:\n",
    "    #iterate through each item shared to the source group\n",
    "    for group_item in group.content():\n",
    "        #display(group_item)\n",
    "        if sdItem.id == group_item.itemid:\n",
    "            print(f'Item {sdItem.title} is shared with Group {group.title}')\n",
    "            #assign the target portal's corresponding group's name\n",
    "            groupNames.append(group['title'])\n",
    "            print(groupNames)"
   ]
  },
  {
   "cell_type": "markdown",
   "metadata": {},
   "source": [
    "Name the ArcGIS Pro Project service definition draft and service definition the same as the service definition item selected above."
   ]
  },
  {
   "cell_type": "code",
   "execution_count": 8,
   "metadata": {},
   "outputs": [],
   "source": [
    "# Local paths to create temporary content\n",
    "sddraft = os.path.join(prjPath, f'{sdItem.title}.sddraft')\n",
    "#print(sddraft)\n",
    "sd = os.path.join(prjPath, f'{sdItem.title}.sd')\n",
    "#print(sd)"
   ]
  },
  {
   "cell_type": "markdown",
   "metadata": {},
   "source": [
    "Find the [map](http://pro.arcgis.com/en/pro-app/arcpy/mapping/map-class.htm) in the ArcGIS Pro Project"
   ]
  },
  {
   "cell_type": "code",
   "execution_count": 9,
   "metadata": {},
   "outputs": [
    {
     "name": "stdout",
     "output_type": "stream",
     "text": [
      "C:\\Users\\friendde\\Documents\\ArcGIS\\Projects\\Shared_Utilities\n",
      "True\n",
      "Use map shared_GRUElectric [Y/N]y\n"
     ]
    }
   ],
   "source": [
    "arcpy.env.workspace = prjPath\n",
    "arcpy.env.overwriteOutput = True\n",
    "prjMap = arcpy.mp.ArcGISProject(aprx)\n",
    "#m = prjMap.listMaps()[0]\n",
    "prjMaps = prjMap.listMaps()\n",
    "if len(prjMaps) > 1:\n",
    "    for prjMap in prjMaps:\n",
    "        if (input(f'Use map {prjMap.name} [Y/N]')).upper() in 'YES':\n",
    "            m = prjMap\n",
    "            break\n",
    "else:\n",
    "    m = prjMaps[0]\n",
    "arcpy.env.overwriteOutput = False"
   ]
  },
  {
   "cell_type": "code",
   "execution_count": 10,
   "metadata": {},
   "outputs": [
    {
     "name": "stdout",
     "output_type": "stream",
     "text": [
      "Uploading Service Definition...\n"
     ]
    },
    {
     "ename": "TypeError",
     "evalue": "'>' not supported between instances of 'list' and 'int'",
     "output_type": "error",
     "traceback": [
      "\u001b[1;31m---------------------------------------------------------------------------\u001b[0m",
      "\u001b[1;31mTypeError\u001b[0m                                 Traceback (most recent call last)",
      "\u001b[1;32m<ipython-input-10-380a3654fd24>\u001b[0m in \u001b[0;36m<module>\u001b[1;34m()\u001b[0m\n\u001b[0;32m     18\u001b[0m \u001b[0marcpy\u001b[0m\u001b[1;33m.\u001b[0m\u001b[0mUploadServiceDefinition_server\u001b[0m\u001b[1;33m(\u001b[0m\u001b[0msd\u001b[0m\u001b[1;33m,\u001b[0m \u001b[1;34m\"My Hosted Services\"\u001b[0m\u001b[1;33m,\u001b[0m\u001b[0min_override\u001b[0m\u001b[1;33m=\u001b[0m\u001b[1;34m\"USE_DEFINITION\"\u001b[0m\u001b[1;33m)\u001b[0m\u001b[1;33m\u001b[0m\u001b[0m\n\u001b[0;32m     19\u001b[0m \u001b[0mcurrentModified\u001b[0m \u001b[1;33m=\u001b[0m \u001b[0mgis\u001b[0m\u001b[1;33m.\u001b[0m\u001b[0mcontent\u001b[0m\u001b[1;33m.\u001b[0m\u001b[0msearch\u001b[0m\u001b[1;33m(\u001b[0m\u001b[0mquery\u001b[0m\u001b[1;33m=\u001b[0m\u001b[1;34mf'id:{sdItem.id}'\u001b[0m\u001b[1;33m)\u001b[0m\u001b[1;33m\u001b[0m\u001b[0m\n\u001b[1;32m---> 20\u001b[1;33m \u001b[1;32mif\u001b[0m \u001b[0mcurrentModified\u001b[0m \u001b[1;33m>\u001b[0m \u001b[0mpreviousModified\u001b[0m\u001b[1;33m:\u001b[0m\u001b[1;33m\u001b[0m\u001b[0m\n\u001b[0m\u001b[0;32m     21\u001b[0m     \u001b[0mprint\u001b[0m\u001b[1;33m(\u001b[0m\u001b[1;34m\"Uploaded service.\"\u001b[0m\u001b[1;33m)\u001b[0m\u001b[1;33m\u001b[0m\u001b[0m\n\u001b[0;32m     22\u001b[0m \u001b[1;32melse\u001b[0m\u001b[1;33m:\u001b[0m\u001b[1;33m\u001b[0m\u001b[0m\n",
      "\u001b[1;31mTypeError\u001b[0m: '>' not supported between instances of 'list' and 'int'"
     ]
    }
   ],
   "source": [
    "# Create FeatureSharingDraft and set service properties\n",
    "sharing_draft = m.getWebLayerSharingDraft(\"HOSTING_SERVER\", \"FEATURE\", sdItem.title)\n",
    "#sharing_draft.summary = \"My Summary\"\n",
    "#sharing_draft.tags = \"My Tags\"\n",
    "#sharing_draft.description = \"My Description\"\n",
    "#sharing_draft.credits = \"My Credits\"\n",
    "#sharing_draft.useLimitations = \"My Use Limitations\"\n",
    "sharing_draft.overwriteExistingService = True\n",
    "\n",
    "# Create Service Defintion Draft file\n",
    "sharing_draft.exportToSDDraft(sddraft)\n",
    "\n",
    "# Stage Service\n",
    "arcpy.StageService_server(sddraft, sd)\n",
    "previousModified = sdItem.modified\n",
    "# Share to portal\n",
    "print(\"Uploading Service Definition...\")\n",
    "arcpy.UploadServiceDefinition_server(sd, \"My Hosted Services\",in_override=\"USE_DEFINITION\")\n",
    "currentModified = gis.content.search(query=f'id:{sdItem.id}')\n",
    "if currentModified.modified > previousModified:\n",
    "    print(\"Uploaded service.\")\n",
    "else:\n",
    "    print(f'{sdItem.title} was not updated')"
   ]
  },
  {
   "cell_type": "markdown",
   "metadata": {},
   "source": [
    "https://esri.github.io/arcgis-python-api/apidoc/html/arcgis.gis.toc.html#arcgis.gis.GroupManager.search\n",
    "https://esri.github.io/arcgis-python-api/apidoc/html/arcgis.gis.toc.html#arcgis.gis.GroupManager\n",
    "https://developers.arcgis.com/python/guide/accessing-and-managing-groups/"
   ]
  },
  {
   "cell_type": "code",
   "execution_count": null,
   "metadata": {},
   "outputs": [],
   "source": [
    "#display(sdItem.access)\n",
    "#grps = sdItem.shared_with.get('groups',[0])\n",
    "#grps = sdItem.shared_with\n",
    "#grps.groups\n",
    "# search and list all groups owned by connected user\n",
    "#query=f'owner:{portal_desc[\"user\"][\"username\"]}'\n",
    "#sort_field=\"title\"\n",
    "#sort_order=\"asc\"\n",
    "#max_groups=100\n",
    "#outside_org=False, \n",
    "#categories=None\n",
    "#grps = []\n",
    "#for grp in gis.groups.search(query,sort_field,sort_order,max_groups,outside_org,categories):\n",
    "#    display(grp.title, grp.groupid)\n",
    "    #sdItem.share(everyone=False, org=True, groups=\"Energy Delivery Engineering\", allow_members_to_edit=False)"
   ]
  }
 ],
 "metadata": {
  "kernelspec": {
   "display_name": "Python 3",
   "language": "python",
   "name": "python3"
  },
  "language_info": {
   "codemirror_mode": {
    "name": "ipython",
    "version": 3
   },
   "file_extension": ".py",
   "mimetype": "text/x-python",
   "name": "python",
   "nbconvert_exporter": "python",
   "pygments_lexer": "ipython3",
   "version": "3.6.5"
  }
 },
 "nbformat": 4,
 "nbformat_minor": 2
}
