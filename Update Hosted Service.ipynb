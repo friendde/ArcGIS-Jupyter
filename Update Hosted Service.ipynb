{
 "cells": [
  {
   "cell_type": "markdown",
   "metadata": {},
   "source": [
    "# Overwrite Portal Content with ArcGIS Pro Projects\n",
    "\n",
    "This Notebook will use a [map](http://pro.arcgis.com/en/pro-app/help/mapping/map-authoring/maps.htm) in your [ArcGIS Pro Project](http://pro.arcgis.com/en/pro-app/get-started/overview-of-arcgis-pro.htm) to update [Items](http://doc.arcgis.com/en/arcgis-online/manage-data/add-items.htm) in your ArcGIS Online/Enterprise (collectivly called portal). If you want to [use a CSV file to update your Feature Layer](https://github.com/Esri/arcgis-python-api/blob/master/samples/05_content_publishers/overwriting_feature_layers.ipynb) in ArcGIS Online/Portal check out [Esri's GitHub Python API page](https://github.com/Esri/arcgis-python-api)\n",
    "\n"
   ]
  },
  {
   "cell_type": "markdown",
   "metadata": {},
   "source": [
    "#### Import Libraries\n",
    "1. It all starts with the [arcgis.gis module](https://esri.github.io/arcgis-python-api/apidoc/html/arcgis.gis.toc.html#module-arcgis.gis) which is the most important and provides the entry point into the GIS.\n",
    "\n",
    "2. The [getpass module](https://docs.python.org/3.7/library/getpass.html) provides two functions\n",
    "    * getpass() prompts for a password\n",
    "    * getuser() returns login name. This could be useful if your portal is federated with Active Directory\n",
    "3. The [display](https://ipython.readthedocs.io/en/stable/api/generated/IPython.display.html?highlight=display#IPython.display.display) in IPython is similar to print() but does more in Jupyter"
   ]
  },
  {
   "cell_type": "code",
   "execution_count": null,
   "metadata": {},
   "outputs": [],
   "source": [
    "import os, sys\n",
    "import arcpy\n",
    "from arcgis.gis import GIS\n",
    "from arcgis import features\n",
    "from getpass import getpass\n",
    "#from getpass import getuser\n",
    "from IPython.display import display"
   ]
  },
  {
   "cell_type": "markdown",
   "metadata": {},
   "source": [
    "Now we get the input() from the user to set the ArcGIS Pro Project path then find the file extension of ArcGIS Pro Project to use later. \n",
    "\n",
    "The next cell uses Python 3 [formatted string literal](https://docs.python.org/3/reference/lexical_analysis.html#f-strings), or f-string. By the way [this is an excellent tutorial](https://realpython.com/python-f-strings/) on using f-strings\n",
    "    "
   ]
  },
  {
   "cell_type": "code",
   "execution_count": null,
   "metadata": {},
   "outputs": [],
   "source": [
    "prjPath = (os.environ['USERPROFILE']+'\\Documents\\ArcGIS\\Projects\\\\')\n",
    "changePath = input(f'Use default ArcGIS Project Path is: {prjPath}? [Y or N]')\n",
    "if changePath.upper() in \"YES\":\n",
    "    prjPath = input('Enter new path ')\n",
    "    os.chdir(prjPath)\n",
    "for project in os.listdir(prjPath):\n",
    "    usePrj = input(f'Use project {project} [Y or N]')\n",
    "    if usePrj.upper() in \"YES\":\n",
    "        prjPath = os.path.join(prjPath,project)\n",
    "        break\n",
    "for root, dirs, files in os.walk(prjPath):\n",
    "    for file in files:\n",
    "        if file.endswith(\".aprx\"):\n",
    "            aprx = os.path.join(root, file)\n",
    "            display(aprx)"
   ]
  },
  {
   "cell_type": "markdown",
   "metadata": {},
   "source": [
    "Now we [get the active portal](http://pro.arcgis.com/en/pro-app/arcpy/functions/getactiveportalurl.htm) and instantiate the [GIS](https://esri.github.io/arcgis-python-api/apidoc/html/arcgis.gis.toc.html#gis). The [GetPortalDescription()](http://pro.arcgis.com/en/pro-app/arcpy/functions/getportaldescription.htm) returns a dictionary containing portal information."
   ]
  },
  {
   "cell_type": "code",
   "execution_count": null,
   "metadata": {},
   "outputs": [],
   "source": [
    "response = input(f'Do you want to use the active portal - {(arcpy.GetActivePortalURL())} [Y or N]')\n",
    "if response.upper() in \"YES\":\n",
    "    #arcpy.SignInToPortal(input(\"Enter portal address \"), username=(input(\"Enter User Name \")), password=(getpass()))\n",
    "    gis = GIS(arcpy.GetActivePortalURL(), username=input(\"Enter User Name \"), password=(getpass()))\n",
    "else:\n",
    "    #arcpy.SignInToPortal(input(\"Enter portal address\"), username=(input(\"Enter User Name\")), password=(getpass()))\n",
    "    gis = GIS(input(\"Enter portal address \"), input(\"Enter User Name \"), getpass())\n",
    "portal_desc = arcpy.GetPortalDescription()\n",
    "print(f'Connected to Organization {portal_desc[\"name\"]}\\nPortal Name {portal_desc[\"portalName\"]} as user {portal_desc[\"user\"][\"username\"]}')"
   ]
  },
  {
   "cell_type": "markdown",
   "metadata": {},
   "source": [
    "Using [gis.content.search()](https://esri.github.io/arcgis-python-api/apidoc/html/arcgis.gis.toc.html#arcgis.gis.ContentManager.search) we are going to find all [item_types](https://developers.arcgis.com/rest/users-groups-and-items/items-and-item-types.htm) that are Feature Layers."
   ]
  },
  {
   "cell_type": "markdown",
   "metadata": {},
   "source": [
    "https://esri.github.io/arcgis-python-api/apidoc/html/arcgis.gis.toc.html#arcgis.gis.GroupManager\n",
    "https://developers.arcgis.com/python/guide/accessing-and-managing-groups/"
   ]
  },
  {
   "cell_type": "code",
   "execution_count": null,
   "metadata": {},
   "outputs": [],
   "source": [
    "# search and list all items owned by connected user\n",
    "query=f'owner:{portal_desc[\"user\"][\"username\"]}'\n",
    "item_type=\"Feature Layer\"\n",
    "sort_field=\"title\"\n",
    "sort_order=\"asc\"\n",
    "# default max__items is 10\n",
    "max_items=100\n",
    "search_result = gis.content.search(query,item_type,sort_field,sort_order,max_items)\n",
    "for i in range(len(search_result)):\n",
    "    display(search_result[i])\n",
    "    updateResult = input(f'Update {(search_result[i].title)} [Y,N]')\n",
    "    if updateResult.upper() in \"YES\":\n",
    "        sd_fs_name = search_result[i].title\n",
    "        print(sd_fs_name)\n",
    "        query = \"owner:{} AND title:{}\".format(user,sd_fs_name)\n",
    "        sdItem = gis.content.search(query,item_type=\"Service Definition\")[0]\n",
    "        print(sdItem)\n",
    "        break\n",
    "if updateResult.upper() not in \"YES\":\n",
    "    print(f'All Service Definitions in your Content on {portal} were presented')"
   ]
  },
  {
   "cell_type": "markdown",
   "metadata": {},
   "source": [
    "Name the ArcGIS Pro Project service definition draft and service definition the same as the service definition item selected above."
   ]
  },
  {
   "cell_type": "code",
   "execution_count": null,
   "metadata": {},
   "outputs": [],
   "source": [
    "# Local paths to create temporary content\n",
    "sddraft = os.path.join(prjPath, \"{}.sddraft\".format(sdItem.title))\n",
    "#print(sddraft)\n",
    "sd = os.path.join(prjPath, \"{}.sd\".format(sdItem.title))\n",
    "#print(sd)"
   ]
  },
  {
   "cell_type": "code",
   "execution_count": null,
   "metadata": {},
   "outputs": [],
   "source": [
    "arcpy.env.overwriteOutput = True\n",
    "prjMap = arcpy.mp.ArcGISProject(aprx)\n",
    "#m = prjMap.listMaps()[0]\n",
    "prjMaps = prjMap.listMaps()\n",
    "for prjMap in prjMaps:\n",
    "    if useMap.upper(input(f'Use map {prjMap} [Y/N]')) in 'YES':\n",
    "        m = prjMap\n",
    "        break"
   ]
  },
  {
   "cell_type": "code",
   "execution_count": null,
   "metadata": {},
   "outputs": [],
   "source": [
    "# Create FeatureSharingDraft and set service properties\n",
    "sharing_draft = m.getWebLayerSharingDraft(\"HOSTING_SERVER\", \"FEATURE\", sdItem.title)\n",
    "#sharing_draft.summary = \"My Summary\"\n",
    "#sharing_draft.tags = \"My Tags\"\n",
    "#sharing_draft.description = \"My Description\"\n",
    "#sharing_draft.credits = \"My Credits\"\n",
    "#sharing_draft.useLimitations = \"My Use Limitations\"\n",
    "sharing_draft.overwriteExistingService = True\n",
    "\n",
    "# Create Service Defintion Draft file\n",
    "sharing_draft.exportToSDDraft(sddraft)\n",
    "\n",
    "# Stage Service\n",
    "arcpy.StageService_server(sddraft, sd)\n",
    "\n",
    "# Share to portal\n",
    "print(\"Uploading Service Definition...\")\n",
    "arcpy.UploadServiceDefinition_server(sd, \"My Hosted Services\")\n",
    "\n",
    "print(\"Uploaded service.\")"
   ]
  },
  {
   "cell_type": "markdown",
   "metadata": {},
   "source": [
    "https://esri.github.io/arcgis-python-api/apidoc/html/arcgis.gis.toc.html#arcgis.gis.GroupManager.search"
   ]
  },
  {
   "cell_type": "code",
   "execution_count": null,
   "metadata": {},
   "outputs": [],
   "source": [
    "# search and list all groups owned by connected user\n",
    "query=f'owner:{portal_desc[\"user\"][\"username\"]}'\n",
    "sort_field=\"title\"\n",
    "sort_order=\"asc\"\n",
    "max_groups=100\n",
    "outside_org=False, \n",
    "categories=None\n",
    "grps = []\n",
    "for grp in gis.groups.search(querysort_field,sort_order,max_groups,outside_org,categories):\n",
    "    print(grp.title, grp.groupid)\n",
    "    #sdItem.share(everyone=False, org=True, groups=\"Energy Delivery Engineering\", allow_members_to_edit=False)"
   ]
  }
 ],
 "metadata": {
  "kernelspec": {
   "display_name": "Python 3",
   "language": "python",
   "name": "python3"
  },
  "language_info": {
   "codemirror_mode": {
    "name": "ipython",
    "version": 3
   },
   "file_extension": ".py",
   "mimetype": "text/x-python",
   "name": "python",
   "nbconvert_exporter": "python",
   "pygments_lexer": "ipython3",
   "version": "3.6.5"
  }
 },
 "nbformat": 4,
 "nbformat_minor": 2
}
