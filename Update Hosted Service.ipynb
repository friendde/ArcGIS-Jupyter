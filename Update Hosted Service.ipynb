{
 "cells": [
  {
   "cell_type": "markdown",
   "metadata": {},
   "source": [
    "# Overwrite Portal Content with ArcGIS Pro Projects\n",
    "\n",
    "This Notebook will use a [map](http://pro.arcgis.com/en/pro-app/help/mapping/map-authoring/maps.htm) in your [ArcGIS Pro Project](http://pro.arcgis.com/en/pro-app/get-started/overview-of-arcgis-pro.htm) to update [Items](http://doc.arcgis.com/en/arcgis-online/manage-data/add-items.htm) in your ArcGIS Online/Enterprise (collectivly called portal). If you want to [use a CSV file to update your Feature Layer](https://github.com/Esri/arcgis-python-api/blob/master/samples/05_content_publishers/overwriting_feature_layers.ipynb) in your portal check out [Esri's GitHub Python API page](https://github.com/Esri/arcgis-python-api)\n",
    "\n"
   ]
  },
  {
   "cell_type": "markdown",
   "metadata": {},
   "source": [
    "#### Import Libraries\n",
    "1. It all starts with the [arcgis.gis module](https://esri.github.io/arcgis-python-api/apidoc/html/arcgis.gis.toc.html#module-arcgis.gis) which is the most important and provides the entry point into the GIS.\n",
    "\n",
    "2. The [getpass module](https://docs.python.org/3.7/library/getpass.html) provides two functions\n",
    "    * getpass() prompts for a password\n",
    "    * getuser() returns login name. This could be useful if your portal is federated with Active Directory\n",
    "3. The [display](https://ipython.readthedocs.io/en/stable/api/generated/IPython.display.html?highlight=display#IPython.display.display) in IPython is similar to print() but does more in Jupyter"
   ]
  },
  {
   "cell_type": "code",
   "execution_count": 1,
   "metadata": {},
   "outputs": [],
   "source": [
    "import os, sys\n",
    "import arcpy\n",
    "from arcgis.gis import GIS\n",
    "from arcgis import features\n",
    "from getpass import getpass\n",
    "#from getpass import getuser\n",
    "from IPython.display import display"
   ]
  },
  {
   "cell_type": "markdown",
   "metadata": {},
   "source": [
    "Now we get the ```input()``` from the user to set the ArcGIS Pro Project path then find the file extension of that ArcGIS Pro Project to use later.\n",
    "\n",
    "The next cell uses Python 3 [formatted string literal](https://docs.python.org/3/reference/lexical_analysis.html#f-strings), or f-string. By the way [this is an excellent tutorial on using f-strings](https://realpython.com/python-f-strings/)\n",
    "    "
   ]
  },
  {
   "cell_type": "code",
   "execution_count": 2,
   "metadata": {},
   "outputs": [
    {
     "name": "stdout",
     "output_type": "stream",
     "text": [
      "Use default ArcGIS Project Path? C:\\Users\\friendde\\Documents\\ArcGIS\\Projects\\? [y or n]y\n",
      "Use project AlpineAuditProduction [y or n]n\n",
      "Use project LED Change Out [y or n]y\n",
      "Using C:\\Users\\friendde\\Documents\\ArcGIS\\Projects\\LED Change Out\\LED Change Out.aprx\n"
     ]
    }
   ],
   "source": [
    "prjPath = (os.environ['USERPROFILE']+'\\Documents\\ArcGIS\\Projects\\\\')\n",
    "changePath = input(f'Use default ArcGIS Project Path? {prjPath}? [y or n]')\n",
    "if changePath.upper() in \"NO\":\n",
    "    prjPath = input('Enter new path ')\n",
    "    os.chdir(prjPath)\n",
    "for project in os.listdir(prjPath):\n",
    "    usePrj = input(f'Use project {project} [y or n]')\n",
    "    if usePrj.upper() in \"YES\":\n",
    "        prjPath = os.path.join(prjPath,project)\n",
    "        break\n",
    "for root, dirs, files in os.walk(prjPath):\n",
    "    for file in files:\n",
    "        if file.endswith(\".aprx\"):\n",
    "            aprx = os.path.join(root, file)\n",
    "            print(f'Using {aprx}')\n",
    "arcpy.env.workspace = prjPath\n",
    "arcpy.env.overwriteOutput = True"
   ]
  },
  {
   "cell_type": "markdown",
   "metadata": {},
   "source": [
    "Now we [get the active portal](http://pro.arcgis.com/en/pro-app/arcpy/functions/getactiveportalurl.htm) and instantiate the [GIS](https://esri.github.io/arcgis-python-api/apidoc/html/arcgis.gis.toc.html#gis). The [GetPortalDescription()](http://pro.arcgis.com/en/pro-app/arcpy/functions/getportaldescription.htm) returns a dictionary containing portal information."
   ]
  },
  {
   "cell_type": "code",
   "execution_count": 3,
   "metadata": {},
   "outputs": [
    {
     "name": "stdout",
     "output_type": "stream",
     "text": [
      "Do you want to use the active portal? https://gru.maps.arcgis.com/ [y or n]y\n",
      "Enter User Name arcgiswebservices\n",
      "········\n",
      "Connected to Organization Gainesville Regional Utilities - Gainesville, FL\n",
      "Portal Name ArcGIS Online as user arcgiswebservices\n"
     ]
    }
   ],
   "source": [
    "response = input(f'Do you want to use the active portal? {(arcpy.GetActivePortalURL())} [y or n]')\n",
    "if response.upper() in \"YES\":\n",
    "    #arcpy.SignInToPortal(input(\"Enter portal address \"), username=(input(\"Enter User Name \")), password=(getpass()))\n",
    "    gis = GIS(arcpy.GetActivePortalURL(), username=input(\"Enter User Name \"), password=(getpass()))\n",
    "else:\n",
    "    #arcpy.SignInToPortal(input(\"Enter portal address\"), username=(input(\"Enter User Name\")), password=(getpass()))\n",
    "    gis = GIS(input(\"Enter portal address \"), input(\"Enter User Name \"), getpass())\n",
    "portal_desc = arcpy.GetPortalDescription()\n",
    "print(f'Connected to Organization {portal_desc[\"name\"]}\\nPortal Name {portal_desc[\"portalName\"]} as user {portal_desc[\"user\"][\"username\"]}')"
   ]
  },
  {
   "cell_type": "markdown",
   "metadata": {},
   "source": [
    "Using [gis.content.search()](https://esri.github.io/arcgis-python-api/apidoc/html/arcgis.gis.toc.html#arcgis.gis.ContentManager.search) we are going to find all Groups and [item_types](https://developers.arcgis.com/rest/users-groups-and-items/items-and-item-types.htm) (that are Feature Layers) owned by connected user."
   ]
  },
  {
   "cell_type": "code",
   "execution_count": 4,
   "metadata": {},
   "outputs": [
    {
     "data": {
      "text/plain": [
       "[<Group title:\"Chief Officers\" owner:arcgiswebservices>,\n",
       " <Group title:\"Conservation Services\" owner:arcgiswebservices>,\n",
       " <Group title:\"Electric Transmission and Distribution\" owner:arcgiswebservices>,\n",
       " <Group title:\"Energy Delivery\" owner:arcgiswebservices>,\n",
       " <Group title:\"Energy Delivery Engineering\" owner:arcgiswebservices>,\n",
       " <Group title:\"Energy Delivery WARM\" owner:arcgiswebservices>,\n",
       " <Group title:\"GRU Communications Engineering\" owner:arcgiswebservices>,\n",
       " <Group title:\"GRU to Alachua County\" owner:arcgiswebservices>,\n",
       " <Group title:\"GRU to Alpine Communication\" owner:arcgiswebservices>,\n",
       " <Group title:\"GRU to Community Redevelopment Agency\" owner:arcgiswebservices>,\n",
       " <Group title:\"GRU to Department of Doing\" owner:arcgiswebservices>,\n",
       " <Group title:\"GRU to Gainesville Fire Rescue\" owner:arcgiswebservices>,\n",
       " <Group title:\"GRU to Gainesville Police Department\" owner:arcgiswebservices>,\n",
       " <Group title:\"GRU to GG Administrative Services\" owner:arcgiswebservices>,\n",
       " <Group title:\"GRU to Newberry\" owner:arcgiswebservices>,\n",
       " <Group title:\"GRU to Parks and Recreation\" owner:arcgiswebservices>,\n",
       " <Group title:\"GRU to Public Works\" owner:arcgiswebservices>,\n",
       " <Group title:\"GRU to Regional Transit System\" owner:arcgiswebservices>,\n",
       " <Group title:\"GRUCom Sales\" owner:arcgiswebservices>,\n",
       " <Group title:\"Information Technology\" owner:arcgiswebservices>,\n",
       " <Group title:\"Marketing and Communications\" owner:arcgiswebservices>,\n",
       " <Group title:\"System Control\" owner:arcgiswebservices>]"
      ]
     },
     "execution_count": 4,
     "metadata": {},
     "output_type": "execute_result"
    }
   ],
   "source": [
    "# search for all Groups owned by connected user\n",
    "sourceGroups = gis.groups.search(query=f'owner:{portal_desc[\"user\"][\"username\"]}')\n",
    "sourceGroups"
   ]
  },
  {
   "cell_type": "code",
   "execution_count": 5,
   "metadata": {},
   "outputs": [
    {
     "data": {
      "text/html": [
       "<div class=\"item_container\" style=\"height: auto; overflow: hidden; border: 1px solid #cfcfcf; border-radius: 2px; background: #f6fafa; line-height: 1.21429em; padding: 10px;\">\n",
       "                    <div class=\"item_left\" style=\"width: 210px; float: left;\">\n",
       "                       <a href='https://gru.maps.arcgis.com/home/item.html?id=a10b0399bad14580a30c5182934bcab1' target='_blank'>\n",
       "                        <img src='data:image/png;base64,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' width='200' height='133' class=\"itemThumbnail\">\n",
       "                       </a>\n",
       "                    </div>\n",
       "\n",
       "                    <div class=\"item_right\"     style=\"float: none; width: auto; overflow: hidden;\">\n",
       "                        <a href='https://gru.maps.arcgis.com/home/item.html?id=a10b0399bad14580a30c5182934bcab1' target='_blank'><b>AerialCable</b>\n",
       "                        </a>\n",
       "                        <br/>Aerial Cable<img src='https://gru.maps.arcgis.com/home/js/jsapi/esri/css/images/item_type_icons/featureshosted16.png' style=\"vertical-align:middle;\">Feature Layer Collection by arcgiswebservices\n",
       "                        <br/>Last Modified: May 23, 2018\n",
       "                        <br/>0 comments, 3 views\n",
       "                    </div>\n",
       "                </div>\n",
       "                "
      ],
      "text/plain": [
       "<Item title:\"AerialCable\" type:Feature Layer Collection owner:arcgiswebservices>"
      ]
     },
     "metadata": {},
     "output_type": "display_data"
    },
    {
     "name": "stdout",
     "output_type": "stream",
     "text": [
      "Update AerialCable [Y,N]n\n"
     ]
    },
    {
     "data": {
      "text/html": [
       "<div class=\"item_container\" style=\"height: auto; overflow: hidden; border: 1px solid #cfcfcf; border-radius: 2px; background: #f6fafa; line-height: 1.21429em; padding: 10px;\">\n",
       "                    <div class=\"item_left\" style=\"width: 210px; float: left;\">\n",
       "                       <a href='https://gru.maps.arcgis.com/home/item.html?id=03f0ee6418754725ac942dd4d2b5932b' target='_blank'>\n",
       "                        <img src='data:image/png;base64,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' width='200' height='133' class=\"itemThumbnail\">\n",
       "                       </a>\n",
       "                    </div>\n",
       "\n",
       "                    <div class=\"item_right\"     style=\"float: none; width: auto; overflow: hidden;\">\n",
       "                        <a href='https://gru.maps.arcgis.com/home/item.html?id=03f0ee6418754725ac942dd4d2b5932b' target='_blank'><b>CW_BaseMap</b>\n",
       "                        </a>\n",
       "                        <br/>GRU Basemap<img src='https://gru.maps.arcgis.com/home/js/jsapi/esri/css/images/item_type_icons/featureshosted16.png' style=\"vertical-align:middle;\">Feature Layer Collection by arcgiswebservices\n",
       "                        <br/>Last Modified: May 23, 2018\n",
       "                        <br/>0 comments, 4 views\n",
       "                    </div>\n",
       "                </div>\n",
       "                "
      ],
      "text/plain": [
       "<Item title:\"CW_BaseMap\" type:Feature Layer Collection owner:arcgiswebservices>"
      ]
     },
     "metadata": {},
     "output_type": "display_data"
    },
    {
     "name": "stdout",
     "output_type": "stream",
     "text": [
      "Update CW_BaseMap [Y,N]n\n"
     ]
    },
    {
     "data": {
      "text/html": [
       "<div class=\"item_container\" style=\"height: auto; overflow: hidden; border: 1px solid #cfcfcf; border-radius: 2px; background: #f6fafa; line-height: 1.21429em; padding: 10px;\">\n",
       "                    <div class=\"item_left\" style=\"width: 210px; float: left;\">\n",
       "                       <a href='https://gru.maps.arcgis.com/home/item.html?id=22e03eb9ceea4e1ca6cdf994bc030d9a' target='_blank'>\n",
       "                        <img src='data:image/png;base64,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' width='200' height='133' class=\"itemThumbnail\">\n",
       "                       </a>\n",
       "                    </div>\n",
       "\n",
       "                    <div class=\"item_right\"     style=\"float: none; width: auto; overflow: hidden;\">\n",
       "                        <a href='https://gru.maps.arcgis.com/home/item.html?id=22e03eb9ceea4e1ca6cdf994bc030d9a' target='_blank'><b>ElectricDamageAssessmentPie</b>\n",
       "                        </a>\n",
       "                        <br/>Electric Damage Assessment using Pie symbols<img src='https://gru.maps.arcgis.com/home/js/jsapi/esri/css/images/item_type_icons/featureshosted16.png' style=\"vertical-align:middle;\">Feature Layer Collection by arcgiswebservices\n",
       "                        <br/>Last Modified: May 23, 2018\n",
       "                        <br/>0 comments, 1,445 views\n",
       "                    </div>\n",
       "                </div>\n",
       "                "
      ],
      "text/plain": [
       "<Item title:\"ElectricDamageAssessmentPie\" type:Feature Layer Collection owner:arcgiswebservices>"
      ]
     },
     "metadata": {},
     "output_type": "display_data"
    },
    {
     "name": "stdout",
     "output_type": "stream",
     "text": [
      "Update ElectricDamageAssessmentPie [Y,N]n\n"
     ]
    },
    {
     "data": {
      "text/html": [
       "<div class=\"item_container\" style=\"height: auto; overflow: hidden; border: 1px solid #cfcfcf; border-radius: 2px; background: #f6fafa; line-height: 1.21429em; padding: 10px;\">\n",
       "                    <div class=\"item_left\" style=\"width: 210px; float: left;\">\n",
       "                       <a href='https://gru.maps.arcgis.com/home/item.html?id=f3c2701f955f455f8d725acf093c93d6' target='_blank'>\n",
       "                        <img src='data:image/png;base64,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' width='200' height='133' class=\"itemThumbnail\">\n",
       "                       </a>\n",
       "                    </div>\n",
       "\n",
       "                    <div class=\"item_right\"     style=\"float: none; width: auto; overflow: hidden;\">\n",
       "                        <a href='https://gru.maps.arcgis.com/home/item.html?id=f3c2701f955f455f8d725acf093c93d6' target='_blank'><b>Fuse UJB School</b>\n",
       "                        </a>\n",
       "                        <br/>Fuses and Surface Structures wityhin 1 mile of a schol<img src='https://gru.maps.arcgis.com/home/js/jsapi/esri/css/images/item_type_icons/featureshosted16.png' style=\"vertical-align:middle;\">Feature Layer Collection by arcgiswebservices\n",
       "                        <br/>Last Modified: September 23, 2018\n",
       "                        <br/>0 comments, 35 views\n",
       "                    </div>\n",
       "                </div>\n",
       "                "
      ],
      "text/plain": [
       "<Item title:\"Fuse UJB School\" type:Feature Layer Collection owner:arcgiswebservices>"
      ]
     },
     "metadata": {},
     "output_type": "display_data"
    },
    {
     "name": "stdout",
     "output_type": "stream",
     "text": [
      "Update Fuse UJB School [Y,N]n\n"
     ]
    },
    {
     "data": {
      "text/html": [
       "<div class=\"item_container\" style=\"height: auto; overflow: hidden; border: 1px solid #cfcfcf; border-radius: 2px; background: #f6fafa; line-height: 1.21429em; padding: 10px;\">\n",
       "                    <div class=\"item_left\" style=\"width: 210px; float: left;\">\n",
       "                       <a href='https://gru.maps.arcgis.com/home/item.html?id=d579c6118bb04d399440d4504f40eaeb' target='_blank'>\n",
       "                        <img src='data:image/png;base64,iVBORw0KGgoAAAANSUhEUgAAAMgAAACFCAIAAACR/CB7AAAACXBIWXMAAAAnAAAAJwEqCZFPAAAIE0lEQVR4nO3a/28T9x3H8fclcSBnx3csDjFZbAMOJd9QnKYrTaALgh8K0zRRqe320xa0fwCk/QH8xv+w/cKP7Q9dkaYN6EolKAmjEMg1OCad3eRsN7GbS+I7nz8mPsPtB6M0W0uCpr61Ln49frLuiz+29NTnPr6z5LouAfzQGv7XHwB2JoQFLBAWsEBYwAJhAQuEBSwQFrBAWMACYQELhAUsEBawQFjAAmEBC4QFLBAWsEBYwAJhAQuEBSwQFrBAWMACYQELhAUsEBawQFjAAmEBC4QFLBAWsEBYwAJhAQuEBSwQFrBAWMACYQELhAUsEBawQFjAAmEBC4QFLBAWsEBYwAJhAQuEBSwQFrBAWMACYQELhAUsEBawQFjAAmEBC4QFLBAWsEBYdUfTNNM0N28xTVPX9W3P2vaYzZr+m48G/88S+VRSLDrFJ0Ymt69vf23jniZvJBJ50SmapiXLX8989NGFCxcURXmZURBW3bGyK0PvjBFR5ZkT7o8SUWJSWzaX1qolIhKWLSw70BXUHyUjA916PPn7d3/7Re7LcH/06Lsnr979dLeQzp49u+0oCGuHu3z5sqz4VEWxnz5RVVVY9q7G5touSSJh2UY2Z2SWIgPdtciIKDExHQh1kOSG+6J7mrwLCws9I4NEJCy7sLZGEpmmue28hTXWDjc+Pn744KG8sxY6erj1cEfWWNr72gEjk0tMTgdCQf1RcupvE8Nnjof7uzdOEUX7+h8/1GeSRiY/Pa0lxeKD6xNEJPt9JNHw6ePvf/zn/1ilfRdmrJ1PVdWlGzqRFOjqaA8H07MpfSb59h9+N3X1NpEUOdIt+30bBwvLliSpZ3SwdzSWjqdkvy/cHyXJfXxHc123dzRGRK++dexW4vOevQcOHeh+0aCYsXY+VVWFVeoZGRRWqWTaruuGB6JENHzmuLCKpbVi6v6ssGwienB9Qn+UDPdFySUiCvdHh88cI6JwX7ew7N7R2EaCwd5IxljcYlDMWDufoijnzp1bsFZqqyhh2UYm93yfJMlPPZVcMTn/0DBX33jvlOz3GdlcejbVHt4XCHUY2ZwwS0QU6ApOXbvdHgpuXDQLhcIWg0qu6/J+LfgR0DSt0PZU9vvS8ZTs9xrZnOz3yYrPzK2U5leb5V1yW2shY1BTQ2fsoLBsp7xOjQ0ebzMRhfu+vd49uHY7ENpHRLLfm55NnX795ItuUmDGqiNT1273jsaMTM59RkS0PJd1VstE5LpUyBiO43jIs3g/WTtYbmv1eFuSM3Oy3xfoChqZ3HIm19MRHRsZIyJd1+e+frDFrS+sseqCqqoLN2aISPb7wv3dJJGwSlR9frFyyuuelmaPx7P5FLFS1O99mY5/Ra50/U8fLqdzvaOx1HK6tjcSiZw/f36LEXEprBeapi16TCJKTGjh/qhX9RW+you8VdsrKmW5ueW7Z1WbngVe6Qr3R6eu3pYkqWQWT70+Njg4uO1wCKteaJpWOdCSjqeEVewZiRHRPz74RG7Y9b0He1p2OeV1InLcKrV6hFXyKt5XTx8nonQ82bYunzhxYuvhcCmsF4VCIR1PEZGR+SY9myQiI5t/0cFqKFB7oQT2DJ85HjkS/fYOqkRDQ0PbDofFe70oVkUg2iH7fbLfGwgFiSgQ6iAiT0szSRIROWL9+aFNDYvxhdqSq7ZRn0m++evTRJSYnI60dLzMc2jMWPUiFOg0srnE5LSwSsKy0/GU4zhE5JQrjlivBSSEUEMBj6dJOE+ISG5rdcoVIooc6a7dQc3N6mNjYy8zHMKqFzfu3SJX6h2NhfujiQlNVryRoUNmxe6MHdw4JjoyUMgYTrkS6GiX21q9Ab/c1pqOp/SZVGJCS0xO72psfsl/ZWHxXhdM0/wkMbH5Vqf+KCksW/b7VhaW/H5FDbULy3YbpfZ9e8VqUX+c8sreyqoQQjgtNHz62MbDnOJc7uTPfr7tiFhj1YW7U5+HX/u3B8a1Z39EtJLNdcYO1p7kfPb+dVnxhfujQgghys3NHvWVYKlQ3PyUel0mTdO2veOAsHY+0zRXq8U9m7YYmZwkPX9dMku1bmS/783fvCUsu/bIufZHPyOT1x8lN79bIBRM3Z3L3Fj85akzWwyKNdYOZ5rmX/7+1+gbAxtb0vFUqWD3jMSMTO7xHa13dNDI5KauTQjT/uyDjzcmJyOTT0xOk+Runq5qQkcPV545W4/bePHixR/0i8CPiK7rly5dio4MOOsVWfE9vqPJhtvZ2t4onplVkbijGZl8tVJR2n/irFe8iq891LH6RbZrd2B3ueHtX/wq+0+9pVMRpl1cWH66Wratoq9drb2z41bFUiEYDL5oaCzedzhN0x4+fDg0NFQoFObn58fHx2vbr1y58s2a0dbz041/JAvLNjL5brlz8/rp5s2bqqru379fURRd1+/MTW1Mfs3z5S1WWgirfum6fn9xVrKrqqoSkbDsI919W/xhgYg+vXercZ/PyORlv7ezqiAs+H4v8/tuM13XC4XC4ODgticiLGCBX4XAAmEBC4QFLBAWsEBYwAJhAQuEBSwQFrBAWMACYQELhAUsEBawQFjAAmEBC4QFLBAWsEBYwAJhAQuEBSwQFrBAWMACYQELhAUsEBawQFjAAmEBC4QFLBAWsEBYwAJhAQuEBSwQFrBAWMACYQELhAUsEBawQFjAAmEBC4QFLBAWsEBYwAJhAQuEBSwQFrBAWMACYQELhAUsEBawQFjAAmEBC4QFLBAWsEBYwAJhAQuEBSz+BfqQG6ekHc7zAAAAAElFTkSuQmCC' width='200' height='133' class=\"itemThumbnail\">\n",
       "                       </a>\n",
       "                    </div>\n",
       "\n",
       "                    <div class=\"item_right\"     style=\"float: none; width: auto; overflow: hidden;\">\n",
       "                        <a href='https://gru.maps.arcgis.com/home/item.html?id=d579c6118bb04d399440d4504f40eaeb' target='_blank'><b>GRUBaseMap</b>\n",
       "                        </a>\n",
       "                        <br/>GRU Base Map<img src='https://gru.maps.arcgis.com/home/js/jsapi/esri/css/images/item_type_icons/featureshosted16.png' style=\"vertical-align:middle;\">Feature Layer Collection by arcgiswebservices\n",
       "                        <br/>Last Modified: June 01, 2018\n",
       "                        <br/>0 comments, 7 views\n",
       "                    </div>\n",
       "                </div>\n",
       "                "
      ],
      "text/plain": [
       "<Item title:\"GRUBaseMap\" type:Feature Layer Collection owner:arcgiswebservices>"
      ]
     },
     "metadata": {},
     "output_type": "display_data"
    },
    {
     "name": "stdout",
     "output_type": "stream",
     "text": [
      "Update GRUBaseMap [Y,N]n\n"
     ]
    },
    {
     "data": {
      "text/html": [
       "<div class=\"item_container\" style=\"height: auto; overflow: hidden; border: 1px solid #cfcfcf; border-radius: 2px; background: #f6fafa; line-height: 1.21429em; padding: 10px;\">\n",
       "                    <div class=\"item_left\" style=\"width: 210px; float: left;\">\n",
       "                       <a href='https://gru.maps.arcgis.com/home/item.html?id=a329ee7d8c844143bd3ea1399d3e82db' target='_blank'>\n",
       "                        <img src='data:image/png;base64,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' width='200' height='133' class=\"itemThumbnail\">\n",
       "                       </a>\n",
       "                    </div>\n",
       "\n",
       "                    <div class=\"item_right\"     style=\"float: none; width: auto; overflow: hidden;\">\n",
       "                        <a href='https://gru.maps.arcgis.com/home/item.html?id=a329ee7d8c844143bd3ea1399d3e82db' target='_blank'><b>GRUComFiber</b>\n",
       "                        </a>\n",
       "                        <br/>GruCom Fiber<img src='https://gru.maps.arcgis.com/home/js/jsapi/esri/css/images/item_type_icons/featureshosted16.png' style=\"vertical-align:middle;\">Feature Layer Collection by arcgiswebservices\n",
       "                        <br/>Last Modified: May 23, 2018\n",
       "                        <br/>0 comments, 1,166 views\n",
       "                    </div>\n",
       "                </div>\n",
       "                "
      ],
      "text/plain": [
       "<Item title:\"GRUComFiber\" type:Feature Layer Collection owner:arcgiswebservices>"
      ]
     },
     "metadata": {},
     "output_type": "display_data"
    },
    {
     "name": "stdout",
     "output_type": "stream",
     "text": [
      "Update GRUComFiber [Y,N]n\n"
     ]
    },
    {
     "data": {
      "text/html": [
       "<div class=\"item_container\" style=\"height: auto; overflow: hidden; border: 1px solid #cfcfcf; border-radius: 2px; background: #f6fafa; line-height: 1.21429em; padding: 10px;\">\n",
       "                    <div class=\"item_left\" style=\"width: 210px; float: left;\">\n",
       "                       <a href='https://gru.maps.arcgis.com/home/item.html?id=56d52f05d1db4a379071252eef5b0234' target='_blank'>\n",
       "                        <img src='data:image/png;base64,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' width='200' height='133' class=\"itemThumbnail\">\n",
       "                       </a>\n",
       "                    </div>\n",
       "\n",
       "                    <div class=\"item_right\"     style=\"float: none; width: auto; overflow: hidden;\">\n",
       "                        <a href='https://gru.maps.arcgis.com/home/item.html?id=56d52f05d1db4a379071252eef5b0234' target='_blank'><b>Lights</b>\n",
       "                        </a>\n",
       "                        <br/><img src='https://gru.maps.arcgis.com/home/js/jsapi/esri/css/images/item_type_icons/featureshosted16.png' style=\"vertical-align:middle;\">Feature Layer Collection by arcgiswebservices\n",
       "                        <br/>Last Modified: September 26, 2018\n",
       "                        <br/>0 comments, 5 views\n",
       "                    </div>\n",
       "                </div>\n",
       "                "
      ],
      "text/plain": [
       "<Item title:\"Lights\" type:Feature Layer Collection owner:arcgiswebservices>"
      ]
     },
     "metadata": {},
     "output_type": "display_data"
    },
    {
     "name": "stdout",
     "output_type": "stream",
     "text": [
      "Update Lights [Y,N]y\n"
     ]
    }
   ],
   "source": [
    "# search and list all items owned by connected user\n",
    "query=f'owner:{portal_desc[\"user\"][\"username\"]}'\n",
    "itemType=\"Feature Layer\"\n",
    "sortField=\"title\"\n",
    "sortOrder=\"asc\"\n",
    "# default max__items is 10\n",
    "maxItems=100\n",
    "searchResult = gis.content.search(query,itemType,sortField,sortOrder,maxItems)\n",
    "for i in range(len(searchResult)):\n",
    "    display(searchResult[i])\n",
    "    updateResult = input(f'Update {(searchResult[i].title)} [Y,N]')\n",
    "    if updateResult.upper() in \"YES\":\n",
    "        sdItem = searchResult[i]\n",
    "        #print(sdItem.title, sdItem.id, sdItem.modified, sdItem.access)\n",
    "        break\n",
    "if updateResult.upper() not in \"YES\":\n",
    "    print(f'All Service Definitions in your Content on {portal_desc[\"portalName\"]} were presented')"
   ]
  },
  {
   "cell_type": "markdown",
   "metadata": {},
   "source": [
    "Prepare sharing information for item\n",
    "Using the dictionary we created above, find to which groups the item will be shared."
   ]
  },
  {
   "cell_type": "code",
   "execution_count": 6,
   "metadata": {},
   "outputs": [
    {
     "name": "stdout",
     "output_type": "stream",
     "text": [
      "sdItem 56d52f05d1db4a379071252eef5b0234\n",
      "Lights is shared with Group Energy Delivery Engineering\n",
      "['Energy Delivery Engineering']\n"
     ]
    }
   ],
   "source": [
    "print(f'sdItem {sdItem.id}')\n",
    "groupNames = []\n",
    "for group in sourceGroups:\n",
    "    #iterate through each item shared to the source group\n",
    "    for groupItem in group.content():\n",
    "        #display(group_item)\n",
    "        if sdItem.id == groupItem.itemid:\n",
    "            print(f'{sdItem.title} is shared with Group {group.title}')\n",
    "            #assign the target portal's corresponding group's name\n",
    "            groupNames.append(group['title'])\n",
    "            print(groupNames)"
   ]
  },
  {
   "cell_type": "markdown",
   "metadata": {},
   "source": [
    "Name the ArcGIS Pro Project service definition draft and service definition the same as the service definition item selected above."
   ]
  },
  {
   "cell_type": "code",
   "execution_count": 7,
   "metadata": {},
   "outputs": [],
   "source": [
    "# Local paths to create temporary content\n",
    "sddraft = os.path.join(prjPath, f'{sdItem.title}.sddraft')\n",
    "#print(sddraft)\n",
    "sd = os.path.join(prjPath, f'{sdItem.title}.sd')\n",
    "#print(sd)"
   ]
  },
  {
   "cell_type": "markdown",
   "metadata": {},
   "source": [
    "Find the [map](http://pro.arcgis.com/en/pro-app/arcpy/mapping/map-class.htm) in the ArcGIS Pro Project"
   ]
  },
  {
   "cell_type": "code",
   "execution_count": 8,
   "metadata": {},
   "outputs": [
    {
     "name": "stdout",
     "output_type": "stream",
     "text": [
      "Use map All Lights [Y/N]y\n"
     ]
    }
   ],
   "source": [
    "arcpy.env.workspace = prjPath\n",
    "arcpy.env.overwriteOutput = True\n",
    "prjMap = arcpy.mp.ArcGISProject(aprx)\n",
    "#m = prjMap.listMaps()[0]\n",
    "prjMaps = prjMap.listMaps()\n",
    "if len(prjMaps) > 1:\n",
    "    for prjMap in prjMaps:\n",
    "        if (input(f'Use map {prjMap.name} [Y/N]')).upper() in 'YES':\n",
    "            m = prjMap\n",
    "            break\n",
    "else:\n",
    "    m = prjMaps[0]\n",
    "arcpy.env.overwriteOutput = True"
   ]
  },
  {
   "cell_type": "code",
   "execution_count": 9,
   "metadata": {},
   "outputs": [
    {
     "name": "stdout",
     "output_type": "stream",
     "text": [
      "Uploading Service Definition...\n"
     ]
    }
   ],
   "source": [
    "# Create FeatureSharingDraft and set service properties\n",
    "sharing_draft = m.getWebLayerSharingDraft(\"HOSTING_SERVER\", \"FEATURE\", sdItem.title)\n",
    "#sharing_draft.summary = \"My Summary\"\n",
    "#sharing_draft.tags = \"My Tags\"\n",
    "#sharing_draft.description = \"My Description\"\n",
    "#sharing_draft.credits = \"My Credits\"\n",
    "#sharing_draft.useLimitations = \"My Use Limitations\"\n",
    "sharing_draft.overwriteExistingService = True\n",
    "\n",
    "# Create Service Defintion Draft file\n",
    "sharing_draft.exportToSDDraft(sddraft)\n",
    "\n",
    "# Stage Service\n",
    "arcpy.StageService_server(sddraft, sd)\n",
    "previousModified = sdItem.modified\n",
    "# Share to portal\n",
    "print(\"Uploading Service Definition...\")\n",
    "arcpy.UploadServiceDefinition_server(sd, \"My Hosted Services\",in_override=\"USE_DEFINITION\")\n",
    "currentModified = gis.content.search(query=f'id:{sdItem.id}')\n",
    "#if currentModified.modified > previousModified:\n",
    "#    print(\"Uploaded service.\")\n",
    "#else:\n",
    "#    print(f'{sdItem.title} was not updated')"
   ]
  },
  {
   "cell_type": "markdown",
   "metadata": {},
   "source": [
    "https://esri.github.io/arcgis-python-api/apidoc/html/arcgis.gis.toc.html#arcgis.gis.GroupManager.search\n",
    "https://esri.github.io/arcgis-python-api/apidoc/html/arcgis.gis.toc.html#arcgis.gis.GroupManager\n",
    "https://developers.arcgis.com/python/guide/accessing-and-managing-groups/\n",
    "\n",
    "Dont know why but ```in_override=\"USE_DEFINITION\"``` from above cell does not use existing share definition. Update sharing to Groups with ```.share``` is a work around below."
   ]
  },
  {
   "cell_type": "code",
   "execution_count": 10,
   "metadata": {},
   "outputs": [
    {
     "data": {
      "text/plain": [
       "{'notSharedWith': [''], 'itemId': '56d52f05d1db4a379071252eef5b0234'}"
      ]
     },
     "execution_count": 10,
     "metadata": {},
     "output_type": "execute_result"
    }
   ],
   "source": [
    "#display(sdItem.access)\n",
    "#grps = sdItem.shared_with.get('groups',[0])\n",
    "#grps = sdItem.shared_with\n",
    "#grps.groups\n",
    "# search and list all groups owned by connected user\n",
    "#query=f'owner:{portal_desc[\"user\"][\"username\"]}'\n",
    "#sort_field=\"title\"\n",
    "#sort_order=\"asc\"\n",
    "#max_groups=100\n",
    "#outside_org=False, \n",
    "#categories=None\n",
    "#grps = []\n",
    "#for grp in gis.groups.search(query,sort_field,sort_order,max_groups,outside_org,categories):\n",
    "#    display(grp.title, grp.groupid)\n",
    "sdItem.share(everyone=False, org=False, groups=groupNames, allow_members_to_edit=False)"
   ]
  },
  {
   "cell_type": "code",
   "execution_count": null,
   "metadata": {},
   "outputs": [],
   "source": []
  }
 ],
 "metadata": {
  "kernelspec": {
   "display_name": "Python 3",
   "language": "python",
   "name": "python3"
  },
  "language_info": {
   "codemirror_mode": {
    "name": "ipython",
    "version": 3
   },
   "file_extension": ".py",
   "mimetype": "text/x-python",
   "name": "python",
   "nbconvert_exporter": "python",
   "pygments_lexer": "ipython3",
   "version": "3.6.5"
  }
 },
 "nbformat": 4,
 "nbformat_minor": 2
}
