{
 "cells": [
  {
   "cell_type": "markdown",
   "metadata": {},
   "source": [
    "## Export Feature Service\n",
    ">Download data from an ArcGIS Online/Portal Hosted Feature Service"
   ]
  },
  {
   "cell_type": "code",
   "execution_count": 2,
   "metadata": {},
   "outputs": [],
   "source": [
    "import arcpy\n",
    "import os\n",
    "import time\n",
    "import zipfile\n",
    "from arcgis.gis import GIS\n",
    "from getpass import getpass\n",
    "from zipfile import ZipFile\n",
    "from zipfile import ZipInfo"
   ]
  },
  {
   "cell_type": "code",
   "execution_count": 3,
   "metadata": {},
   "outputs": [],
   "source": [
    "# Directory to download exported feature service data\n",
    "downloadPath = 'c://users//friendde//Downloads//UserGroupDemo//'"
   ]
  },
  {
   "cell_type": "markdown",
   "metadata": {},
   "source": [
    "### If you have access to more than one Portal site (such as ArcGIS Online and ArcGIS Enterprise Portal) you can switch between the active portal or a different portal"
   ]
  },
  {
   "cell_type": "code",
   "execution_count": null,
   "metadata": {},
   "outputs": [],
   "source": [
    "response = input(f'Do you want to use the active portal? {(arcpy.GetActivePortalURL())} [y or n] ')\n",
    "if response.upper() in \"YES\":\n",
    "    gis = GIS(arcpy.GetActivePortalURL(), username=input(\"Enter User Name \"), password=(getpass()))\n",
    "else:\n",
    "    portalURL=input(\"Enter Portal Address\")\n",
    "    username=input(\"Enter User Name\")\n",
    "    gis = GIS(portalURL, username, password=getpass())"
   ]
  },
  {
   "cell_type": "markdown",
   "metadata": {},
   "source": [
    "#### Verify you are connected to the intended Portal site"
   ]
  },
  {
   "cell_type": "code",
   "execution_count": null,
   "metadata": {},
   "outputs": [],
   "source": [
    "portal_desc = arcpy.GetPortalDescription()\n",
    "print(f'Portal Name {portal_desc[\"portalName\"]}\\nConnected to {portal_desc[\"name\"]} as user {portal_desc[\"user\"][\"username\"]}')"
   ]
  },
  {
   "cell_type": "markdown",
   "metadata": {},
   "source": [
    "### Search and list all items hosted on the Portal\n",
    "> You can limit search using query paramters such as items owned by user <br>\n",
    "> Or you can search for everything the user has access to on the Portal"
   ]
  },
  {
   "cell_type": "code",
   "execution_count": null,
   "metadata": {},
   "outputs": [],
   "source": [
    "# query items owned by logged in user\n",
    "query=f'owner:{portal_desc[\"user\"][\"username\"]}'\n",
    "#query=f'owner:tuckerza'\n",
    "# query all Feature Layer Items available to logged in user\n",
    "#query=''\n",
    "itemType=\"Feature Layer\"\n",
    "sortField=\"title\"\n",
    "sortOrder=\"asc\"\n",
    "# default max__items is 10\n",
    "maxItems=100\n",
    "searchResult = gis.content.search(query,itemType,sortField,sortOrder,maxItems)\n",
    "for i in range(len(searchResult)):\n",
    "    display(searchResult[i])\n",
    "    downloadResult = input(f'Download {(searchResult[i].title)} [Y,N]')\n",
    "    if downloadResult.upper() in \"YES\":\n",
    "        sdItem = searchResult[i]\n",
    "        print(sdItem.title, sdItem.id, sdItem.modified, sdItem.access)\n",
    "        break\n",
    "if downloadResult.upper() not in \"YES\":\n",
    "    print(f'All Feature Layers hosted on {portal_desc[\"portalName\"]} were presented')\n",
    "    exit"
   ]
  },
  {
   "cell_type": "markdown",
   "metadata": {},
   "source": [
    "You've selected the item to download from above <br>\n",
    "Now request the Portal site to prepare the selected Item for export <br>\n",
    "which will be downloaded in a later step"
   ]
  },
  {
   "cell_type": "code",
   "execution_count": null,
   "metadata": {},
   "outputs": [],
   "source": [
    "fgdbItem = gis.content.get(sdItem.id).export(sdItem.title + '_fgdb', 'File Geodatabase', parameters=None, wait='True')\n",
    "print(fgdbItem)"
   ]
  },
  {
   "cell_type": "code",
   "execution_count": null,
   "metadata": {},
   "outputs": [],
   "source": [
    "print(sdItem.title)"
   ]
  },
  {
   "cell_type": "markdown",
   "metadata": {},
   "source": [
    "gis.content.get(fgdbItem['exportItemId']).download(save_path = downloadPath)"
   ]
  },
  {
   "cell_type": "markdown",
   "metadata": {},
   "source": [
    "Now download the exported Item from the Portal site <br>\n",
    "> The intial output is a 1 KB file that is not a valid zipped file <br>\n",
    "The ```while``` statement waits for a valid zipped file to be created"
   ]
  },
  {
   "cell_type": "code",
   "execution_count": null,
   "metadata": {},
   "outputs": [],
   "source": [
    "zf = downloadPath + sdItem.title +'fgdb.zip'\n",
    "while  zipfile.is_zipfile(zf)==False:\n",
    "    print(\"Waiting for valid zip file\")\n",
    "    gis.content.get(fgdbItem['exportItemId']).download(save_path = downloadPath)\n",
    "    time.sleep(30)\n",
    "print(f'{zf} ready')"
   ]
  },
  {
   "cell_type": "markdown",
   "metadata": {},
   "source": [
    "#### Prepare the downloaded file to be extracted from the Zip file"
   ]
  },
  {
   "cell_type": "code",
   "execution_count": null,
   "metadata": {},
   "outputs": [],
   "source": [
    "zf_extract = ZipFile(zf)\n",
    "zf_extract.extractall(path=downloadPath + sdItem.title + '_fgdb')"
   ]
  },
  {
   "cell_type": "markdown",
   "metadata": {},
   "source": [
    "After extracting the Zip file show the GDB name within"
   ]
  },
  {
   "cell_type": "code",
   "execution_count": null,
   "metadata": {},
   "outputs": [],
   "source": [
    "file_list = os.listdir(downloadPath + sdItem.title + '_fgdb')\n",
    "file_list"
   ]
  },
  {
   "cell_type": "markdown",
   "metadata": {},
   "source": [
    "#### Now you can use the downloaded exported Item in your ArcGIS Pro project"
   ]
  }
 ],
 "metadata": {
  "kernelspec": {
   "display_name": "Python 3",
   "language": "python",
   "name": "python3"
  },
  "language_info": {
   "codemirror_mode": {
    "name": "ipython",
    "version": 3
   },
   "file_extension": ".py",
   "mimetype": "text/x-python",
   "name": "python",
   "nbconvert_exporter": "python",
   "pygments_lexer": "ipython3",
   "version": "3.6.8"
  },
  "toc": {
   "base_numbering": 1,
   "nav_menu": {},
   "number_sections": true,
   "sideBar": true,
   "skip_h1_title": false,
   "title_cell": "Table of Contents",
   "title_sidebar": "Contents",
   "toc_cell": false,
   "toc_position": {},
   "toc_section_display": true,
   "toc_window_display": true
  }
 },
 "nbformat": 4,
 "nbformat_minor": 2
}
