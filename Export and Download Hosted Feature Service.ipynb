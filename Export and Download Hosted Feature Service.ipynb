{
 "cells": [
  {
   "cell_type": "markdown",
   "metadata": {},
   "source": [
    "GOAL: Export and download data from ArcGIS Online/Portal Hosted Feature Service"
   ]
  },
  {
   "cell_type": "code",
   "execution_count": null,
   "metadata": {},
   "outputs": [],
   "source": [
    "import arcpy\n",
    "import os\n",
    "import time\n",
    "import zipfile\n",
    "from arcgis.gis import GIS\n",
    "from getpass import getpass\n",
    "from zipfile import ZipFile\n",
    "from zipfile import ZipInfo"
   ]
  },
  {
   "cell_type": "code",
   "execution_count": null,
   "metadata": {},
   "outputs": [],
   "source": [
    "downloadPath = 'c://users//friendde//Downloads//'\n",
    "downloadPostfix = '_fgdb.zip'"
   ]
  },
  {
   "cell_type": "code",
   "execution_count": null,
   "metadata": {},
   "outputs": [],
   "source": [
    "response = input(f'Do you want to use the active portal? {(arcpy.GetActivePortalURL())} [y or n]')\n",
    "if response.upper() in \"YES\":\n",
    "    #arcpy.SignInToPortal(input(\"Enter portal address \"), username=(input(\"Enter User Name \")), password=(getpass()))\n",
    "    gis = GIS(arcpy.GetActivePortalURL(), username=input(\"Enter User Name \"), password=(getpass()))\n",
    "else:\n",
    "    arcpy.SignInToPortal(input(\"Enter portal address \"), username=(input(\"Enter User Name \")), password=getpass())\n",
    "    #gis = GIS(input(\"Enter portal address \"), input(\"Enter User Name \"), getpass())\n",
    "portal_desc = arcpy.GetPortalDescription()\n",
    "print(f'Portal Name {portal_desc[\"portalName\"]}\\nConnected to {portal_desc[\"name\"]} as user {portal_desc[\"user\"][\"username\"]}')"
   ]
  },
  {
   "cell_type": "code",
   "execution_count": null,
   "metadata": {},
   "outputs": [],
   "source": [
    "# search and list all items hosted on the portal\n",
    "query=f'owner:{portal_desc[\"user\"][\"username\"]}'\n",
    "#query=''\n",
    "itemType=\"Feature Layer\"\n",
    "sortField=\"title\"\n",
    "sortOrder=\"asc\"\n",
    "# default max__items is 10\n",
    "maxItems=100\n",
    "searchResult = gis.content.search(query,itemType,sortField,sortOrder,maxItems)\n",
    "for i in range(len(searchResult)):\n",
    "    display(searchResult[i])\n",
    "    downloadResult = input(f'Download {(searchResult[i].title)} [Y,N]')\n",
    "    if downloadResult.upper() in \"YES\":\n",
    "        sdItem = searchResult[i]\n",
    "        print(sdItem.title, sdItem.id, sdItem.modified, sdItem.access)\n",
    "        break\n",
    "if downloadResult.upper() not in \"YES\":\n",
    "    print(f'All Feature Layers hosted on {portal_desc[\"portalName\"]} were presented')"
   ]
  },
  {
   "cell_type": "markdown",
   "metadata": {},
   "source": [
    "data_item = gis.content.get(sdItem.id)\n",
    "data_item"
   ]
  },
  {
   "cell_type": "code",
   "execution_count": null,
   "metadata": {},
   "outputs": [],
   "source": [
    "fgdbItem = gis.content.get(sdItem.id).export(sdItem.title + '_fgdb', 'File Geodatabase', parameters=None, wait='True')\n",
    "\n",
    "## intial output is a 1 KB file that is not a valid zipped file.\n",
    "## The while statement waits for a valid zipped file to be created.\n",
    "#full path to the zipped file\n",
    "zipfullpath=os.path.join(downloadPath,sdItem.title + '_fgdb.zip')\n",
    "while  zipfile.is_zipfile(zipfullpath)==False:\n",
    "    print(\"Waiting for valid zip file\")\n",
    "    gis.content.get(fgdbItem['exportItemId']).download(save_path = downloadPath)\n",
    "    time.sleep(5)\n",
    "zf = ZipFile(os.path.join(downloadPath,sdItem.title + '_fgdb.zip'))\n",
    "zf.extractall(path=downloadPath + sdItem.title + '_fgdb')"
   ]
  },
  {
   "cell_type": "code",
   "execution_count": null,
   "metadata": {},
   "outputs": [],
   "source": [
    "file_list = os.listdir(downloadPath + sdItem.title + '_fgdb')\n",
    "file_list"
   ]
  },
  {
   "cell_type": "code",
   "execution_count": null,
   "metadata": {},
   "outputs": [],
   "source": []
  }
 ],
 "metadata": {
  "kernelspec": {
   "display_name": "Python 3",
   "language": "python",
   "name": "python3"
  },
  "language_info": {
   "codemirror_mode": {
    "name": "ipython",
    "version": 3
   },
   "file_extension": ".py",
   "mimetype": "text/x-python",
   "name": "python",
   "nbconvert_exporter": "python",
   "pygments_lexer": "ipython3",
   "version": "3.6.6"
  }
 },
 "nbformat": 4,
 "nbformat_minor": 2
}
