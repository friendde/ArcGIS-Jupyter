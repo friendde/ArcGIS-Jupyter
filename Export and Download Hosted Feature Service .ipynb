{
 "cells": [
  {
   "cell_type": "markdown",
   "metadata": {},
   "source": [
    "GOAL: Export and downlaod data from ArcGIS Online/Portal Hosted Feature Service\n",
    "TODO: determine if service is configured to allow Export"
   ]
  },
  {
   "cell_type": "code",
   "execution_count": null,
   "metadata": {},
   "outputs": [],
   "source": [
    "import arcpy\n",
    "import os\n",
    "import time\n",
    "from arcgis.gis import GIS\n",
    "from getpass import getpass\n",
    "from zipfile import ZipFile"
   ]
  },
  {
   "cell_type": "code",
   "execution_count": null,
   "metadata": {},
   "outputs": [],
   "source": [
    "response = input(f'Do you want to use the active portal? {(arcpy.GetActivePortalURL())} [y or n]')\n",
    "if response.upper() in \"YES\":\n",
    "    #arcpy.SignInToPortal(input(\"Enter portal address \"), username=(input(\"Enter User Name \")), password=(getpass()))\n",
    "    gis = GIS(arcpy.GetActivePortalURL(), username=input(\"Enter User Name \"), password=(getpass()))\n",
    "else:\n",
    "    arcpy.SignInToPortal(input(\"Enter portal address \"), username=(input(\"Enter User Name \")), password=getpass())\n",
    "    #gis = GIS(input(\"Enter portal address \"), input(\"Enter User Name \"), getpass())\n",
    "portal_desc = arcpy.GetPortalDescription()\n",
    "print(f'Portal Name {portal_desc[\"portalName\"]}\\nConnected to {portal_desc[\"name\"]} as user {portal_desc[\"user\"][\"username\"]}')"
   ]
  },
  {
   "cell_type": "code",
   "execution_count": null,
   "metadata": {},
   "outputs": [],
   "source": [
    "# search and list all items hosted on the portal\n",
    "query=f'owner:{portal_desc[\"user\"][\"username\"]}'\n",
    "#query=''\n",
    "itemType=\"Feature Layer\"\n",
    "sortField=\"title\"\n",
    "sortOrder=\"asc\"\n",
    "# default max__items is 10\n",
    "maxItems=100\n",
    "searchResult = gis.content.search(query,itemType,sortField,sortOrder,maxItems)\n",
    "for i in range(len(searchResult)):\n",
    "    display(searchResult[i])\n",
    "    downloadResult = input(f'Download {(searchResult[i].title)} [Y,N]')\n",
    "    if downloadResult.upper() in \"YES\":\n",
    "        sdItem = searchResult[i]\n",
    "        print(sdItem.title, sdItem.id, sdItem.modified, sdItem.access)\n",
    "        break\n",
    "if downloadResult.upper() not in \"YES\":\n",
    "    print(f'All Feature Layers hosted on {portal_desc[\"portalName\"]} were presented')"
   ]
  },
  {
   "cell_type": "code",
   "execution_count": null,
   "metadata": {},
   "outputs": [],
   "source": [
    "data_item = gis.content.get(sdItem.id)\n",
    "data_item"
   ]
  },
  {
   "cell_type": "code",
   "execution_count": null,
   "metadata": {},
   "outputs": [],
   "source": [
    "fgdbItem = data_item.export(sdItem.title + '_fgdb', 'File Geodatabase', parameters=None, wait='True')\n",
    "#TODO use this solution instead of timer \n",
    "#https://community.esri.com/thread/208467-download-feature-service-as-file-geodatabase\n",
    "time.sleep(120)\n",
    "gis.content.get(fgdbItem['exportItemId']).download(save_path = r'c:\\users\\friendde\\Downloads')"
   ]
  },
  {
   "cell_type": "code",
   "execution_count": null,
   "metadata": {},
   "outputs": [],
   "source": [
    "zipFile = 'c://users//friendde//Downloads//' + sdItem.title + '_fgdb.zip'\n",
    "zipFile"
   ]
  },
  {
   "cell_type": "code",
   "execution_count": null,
   "metadata": {},
   "outputs": [],
   "source": [
    "extractPath, ext = os.path.splitext(zipFile)\n",
    "extractPath"
   ]
  },
  {
   "cell_type": "code",
   "execution_count": null,
   "metadata": {},
   "outputs": [],
   "source": [
    "zf = ZipFile(zipFile)\n",
    "zf.extractall(path=extractPath)"
   ]
  },
  {
   "cell_type": "code",
   "execution_count": null,
   "metadata": {},
   "outputs": [],
   "source": [
    "file_list = os.listdir(extractPath)\n",
    "file_list"
   ]
  },
  {
   "cell_type": "markdown",
   "metadata": {},
   "source": [
    "TODO: Delete hosted exported fgdb? Delete local copies?"
   ]
  }
 ],
 "metadata": {
  "kernelspec": {
   "display_name": "Python 3",
   "language": "python",
   "name": "python3"
  },
  "language_info": {
   "codemirror_mode": {
    "name": "ipython",
    "version": 3
   },
   "file_extension": ".py",
   "mimetype": "text/x-python",
   "name": "python",
   "nbconvert_exporter": "python",
   "pygments_lexer": "ipython3",
   "version": "3.6.5"
  }
 },
 "nbformat": 4,
 "nbformat_minor": 2
}
