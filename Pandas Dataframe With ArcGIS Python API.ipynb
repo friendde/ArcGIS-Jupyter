{
 "cells": [
  {
   "cell_type": "markdown",
   "metadata": {},
   "source": [
    "# Using Pandas Dataframe with ArcGIS Python API\n",
    "\n",
    "### This notebook was inspired by this [tutorial](http://geospatialtraining.com/tutorial-using-pandas-dataframes-with-the-arcgis-api-for-python/) published by [GeoSpatial Training Services](http://geospatialtraining.com)\n",
    "I extended the orginal tutorial to explore pandas further and demonstrate the power of Jupyter with ArcGIS Python API"
   ]
  },
  {
   "cell_type": "markdown",
   "metadata": {},
   "source": [
    "This short tutorial covers how to use the ArcGIS API for Python and pandas DataFrame objects for displaying tabular data inside of your Jupyter Notebook application. After searching and referencing spatial data, using the pandas library enables you to subset, describe and plot attribute data.\n",
    "\n",
    "[pandas](https://pandas.pydata.org/) is a [Python](https://www.python.org/) package for data manipulation and analysis. It works particularly well with [Jupyter Notebooks](http://jupyter.org/), where you can also use bash commands, magic commands, plotting capabilities and take advantage of a nice overall presentation of code, visuals and comments. The ArcGIS API for Python uses the pandas library to display and edit attribute info. Specifically, it uses pandas DataFrame objects that present data in a tabular form, comparable to Excel spreadsheets.\n",
    "\n",
    "To follow the instructions, you can open a new Jupyter Notebook. Make sure you have the latest available version of the API installed, which is version 1.3.\n",
    "\n",
    "Import the module and GIS class\n",
    "First, we´ll login to ArcGIS Online using the Jupyter Notebook app:\n",
    "\n",
    "\n",
    "In:    import arcgis\n",
    "\n",
    "from arcgis.gis import GIS\n",
    "\n",
    "gis = GIS()\n",
    "\n",
    "Search for feature layer content\n",
    "Feature layers are collections of layers containing geographical features as vectors. We´ll search for a feature layer called “Bruce Trail” inside of ArcGIS Online:\n",
    "\n",
    "In:    search_result = gis.content.search(query=”bruce trail”, item_type=”Feature Layer”, max_items = 5)\n",
    "\n",
    "search_result\n",
    "\n",
    "The item we’re interested in is the following item, returned as the first search result: out:   [<Item title:”Bruce Trail” type:Feature Layer Collection owner:DufferinGIS>, …\n",
    "\n",
    "Reference the item and create the DataFrame object\n",
    "We can reference this item as follows, in order to see how many layers it contains. Python returns only one item, so there´s only one layer (it is not displayed here to save space):\n",
    "\n",
    "In:    bruce_trail_item = search_result[0]\n",
    "\n",
    "bruce_trail_item.layers\n",
    "\n",
    "We´ll now create a variable that holds the DataFrame object from the layer we´re interested in. Using the head function in the second line, we´ll only print the first five rows.\n",
    "\n",
    "In:    btl_df = bruce_trail_item.layers[0].query().df\n",
    "\n",
    "btl_df.head()\n",
    "\n",
    "It is not necessary to import the pandas library, as it one of the dependencies of the arcgis package, imported in the first line of code. The following pandas dataframe will be shown inside your Jupyter Notebook:\n",
    "\n",
    "Describe the item´s attribute data\n",
    "There are many functions to describe the data inside pandas DataFrame objects. For example, the shape function returns the amount of rows and columns of the entire DataFrame as a tuple:\n",
    "\n",
    "In:    btl_df.shape\n",
    "\n",
    "Out:   (367, 5)\n",
    "\n",
    "We can print the different column names as follows:\n",
    "\n",
    "In:    btl_df.columns\n",
    "\n",
    "Out:   Index([‘Name’, ‘OBJECTID’, ‘PopupInfo’, ‘Shape__Length’, ‘SHAPE’], dtype=’object’)\n",
    "\n",
    "The .loc property can be used to subset entire rows, using the row´s index number, starting from zero. Here, we print the column names and values of the first item:\n",
    "\n",
    "You can also access a separate cell value. For example, the PopupInfo value of the first item can be accessed as follows:\n",
    "\n",
    "In:    bt_df.loc[0][‘PopupInfo’]\n",
    "\n",
    "The outcome looks like XML data inside a HTML file and is not very readable for humans. We can use the HTML library to return the same output in a more readable way:\n",
    "\n",
    "In:    from IPython.display import HTML\n",
    "\n",
    "HTML(bt_df.loc[0][‘PopupInfo’])\n",
    "\n",
    "Create a histogram\n",
    "We can also create a histogram using the shape length field as input. The first line of the code below is a magic command that enable the use of plotting capabilities inside the Jupyter Notebook application:\n",
    "\n",
    "In:    %matplotlib inline\n",
    "\n",
    "import matplotlib.pyplot as pd\n",
    "\n",
    "bt_df[‘Shape__Length’].hist()\n",
    "\n",
    "The following histogram is displayed next:\n",
    "\n",
    "Picture1"
   ]
  },
  {
   "cell_type": "markdown",
   "metadata": {},
   "source": [
    "Import the module and GIS class\n",
    "First, we´ll login to ArcGIS Online using the Jupyter Notebook app:\n"
   ]
  },
  {
   "cell_type": "code",
   "execution_count": null,
   "metadata": {},
   "outputs": [],
   "source": [
    "import arcgis\n",
    "from arcgis.gis import GIS\n",
    "gis = GIS()\n",
    "#from IPython.display import display"
   ]
  },
  {
   "cell_type": "markdown",
   "metadata": {},
   "source": [
    "Now that we are connected anonymously we can search for specific feature layer content.\n",
    "Feature layers are collections of layers containing geographical features as vectors.\n",
    "\n",
    "We´ll search for a feature layer called “Bruce Trail” inside of ArcGIS Online.\n",
    "\n",
    "The ```for``` loop will display the feature layer detail and thumbnail map. This is where the ArcGIS Python API excels when used with Jupyter Notebook."
   ]
  },
  {
   "cell_type": "code",
   "execution_count": null,
   "metadata": {},
   "outputs": [],
   "source": [
    "search_result = gis.content.search(query='bruce trail', item_type='Feature Layer', max_items = 5)\n",
    "for i in range(len(search_result)):\n",
    "    display(search_result[i])"
   ]
  },
  {
   "cell_type": "markdown",
   "metadata": {},
   "source": [
    "If we knew the owner of the feature layer before we searched we could modify the search and use\n",
    "```gis.content.search(query=\"owner:DufferinGIS AND title:bruce trail\", item_type='Feature Layer', max_items = 5)```\n"
   ]
  },
  {
   "cell_type": "markdown",
   "metadata": {},
   "source": [
    "Search results are zero based. We will reference the first item in the search result to create the DataFrame object later"
   ]
  },
  {
   "cell_type": "code",
   "execution_count": null,
   "metadata": {},
   "outputs": [],
   "source": [
    "bruce_trail_item = search_result[0]"
   ]
  },
  {
   "cell_type": "markdown",
   "metadata": {},
   "source": [
    "Now we can determine how many layers are in the feature collection. You can get the count of layers by dispalying the ```len()```. And we can dispaly each layer using a ```for`` loop"
   ]
  },
  {
   "cell_type": "code",
   "execution_count": null,
   "metadata": {},
   "outputs": [],
   "source": [
    "display(len(bruce_trail_item.layers))\n",
    "for lyr in bruce_trail_item.layers:\n",
    "    display(lyr)"
   ]
  },
  {
   "cell_type": "markdown",
   "metadata": {},
   "source": [
    "We´ll now create a variable that holds the DataFrame object from the layer we´re interested in. Using the head function in the second line, we´ll only print the first five rows."
   ]
  },
  {
   "cell_type": "code",
   "execution_count": null,
   "metadata": {},
   "outputs": [],
   "source": [
    "btl_df = bruce_trail_item.layers[0].query().df\n",
    "\n",
    "btl_df.head()"
   ]
  },
  {
   "cell_type": "markdown",
   "metadata": {},
   "source": [
    "It is not necessary to import the pandas library, as it one of the dependencies of the arcgis package, imported in the first line of code. The following pandas dataframe will be shown inside your Jupyter Notebook:\n",
    "\n",
    "Describe the item´s attribute data\n",
    "There are many functions to describe the data inside pandas DataFrame objects. For example, the shape function returns the amount of rows and columns of the entire DataFrame as a tuple:"
   ]
  },
  {
   "cell_type": "code",
   "execution_count": null,
   "metadata": {},
   "outputs": [],
   "source": [
    "btl_df.shape"
   ]
  },
  {
   "cell_type": "markdown",
   "metadata": {},
   "source": [
    "We can print the different column names as follows:"
   ]
  },
  {
   "cell_type": "code",
   "execution_count": null,
   "metadata": {},
   "outputs": [],
   "source": [
    "btl_df.columns"
   ]
  },
  {
   "cell_type": "markdown",
   "metadata": {},
   "source": [
    "The .loc property can be used to subset entire rows, using the row´s index number, starting from zero. Here, we print the column names and values of the first item:\n",
    "\n",
    "You can also access a separate cell value. For example, the PopupInfo value of the first item can be accessed as follows:\n",
    "\n"
   ]
  },
  {
   "cell_type": "code",
   "execution_count": null,
   "metadata": {},
   "outputs": [],
   "source": [
    "btl_df.loc[0]['PopupInfo']"
   ]
  },
  {
   "cell_type": "markdown",
   "metadata": {},
   "source": [
    "The outcome looks like XML data inside a HTML file and is not very readable for humans. \n",
    "We can use the HTML library to return the same output in a more readable way:"
   ]
  },
  {
   "cell_type": "code",
   "execution_count": null,
   "metadata": {},
   "outputs": [],
   "source": [
    "from IPython.display import HTML\n",
    "HTML(btl_df.loc[0]['PopupInfo'])"
   ]
  },
  {
   "cell_type": "markdown",
   "metadata": {},
   "source": [
    "Create a histogram\n",
    "We can also create a histogram using the shape length field as input. The first line of the code below is a magic command that enable the use of plotting capabilities inside the Jupyter Notebook application:"
   ]
  },
  {
   "cell_type": "code",
   "execution_count": null,
   "metadata": {},
   "outputs": [],
   "source": [
    "%matplotlib inline\n",
    "\n",
    "import matplotlib.pyplot as pd\n",
    "\n",
    "btl_df['Shape__Length'].hist()\n",
    "\n",
    "\n"
   ]
  },
  {
   "cell_type": "markdown",
   "metadata": {},
   "source": [
    "The following histogram is displayed next:"
   ]
  }
 ],
 "metadata": {
  "kernelspec": {
   "display_name": "Python 3",
   "language": "python",
   "name": "python3"
  },
  "language_info": {
   "codemirror_mode": {
    "name": "ipython",
    "version": 3
   },
   "file_extension": ".py",
   "mimetype": "text/x-python",
   "name": "python",
   "nbconvert_exporter": "python",
   "pygments_lexer": "ipython3",
   "version": "3.6.5"
  }
 },
 "nbformat": 4,
 "nbformat_minor": 2
}
