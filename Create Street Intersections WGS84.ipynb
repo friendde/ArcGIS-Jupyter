{
 "cells": [
  {
   "cell_type": "markdown",
   "metadata": {},
   "source": [
    "### Create Street Intersection Point Feature Class in WGS84\n",
    "- Requires a line featureclass with street names\n",
    "- ```FeatureVerticesToPoints_management()``` [Available with Advanced license](http://pro.arcgis.com/en/pro-app/tool-reference/data-management/feature-vertices-to-points.htm)\n",
    "\n",
    "#### Using [FeatureVerticesToPoints_management()](http://pro.arcgis.com/en/pro-app/tool-reference/data-management/feature-vertices-to-points.htm) will create a point at ```BOTH_ENDS``` for each line representing the street\n",
    "#### [FindIdentical_management()](http://pro.arcgis.com/en/pro-app/tool-reference/data-management/find-identical.htm) will create the table from the point featureclass created above. The identical ```fields``` is simply the SHAPE of the point created where one street segment ends and another street segment begins.\n",
    "\n",
    "Looping through a list created will exlclude points that are not representing the intersection of a street with a different name\n",
    "\n",
    "New Capability: Adding fields to support hyperlinks to Google Streetview and Bing BirdsEye"
   ]
  },
  {
   "cell_type": "code",
   "execution_count": null,
   "metadata": {},
   "outputs": [],
   "source": [
    "import arcpy\n",
    "import numpy as np\n",
    "import pandas as pd"
   ]
  },
  {
   "cell_type": "code",
   "execution_count": null,
   "metadata": {},
   "outputs": [],
   "source": [
    "sourceStreets = r'C:\\GISData\\Data\\Snapshot\\mxBaseMap.geodatabase\\main.Cartographic\\main.Streets'\n",
    "destGDB = r'C:\\Users\\friendde\\Documents\\ArcGIS\\Projects\\NAStreets\\NAStreets.gdb'\n",
    "stIntersectionWGS84 = r'C:\\Users\\friendde\\Documents\\ArcGIS\\Projects\\NAStreets\\NAStreets.gdb\\StreetIntersectionWGS84'\n",
    "stVerticesWGS84 = r'C:\\Users\\friendde\\Documents\\ArcGIS\\Projects\\NAStreets\\NAStreets.gdb\\StreetVerticesWGS84'\n",
    "identEndsWGS84 = r'C:\\Users\\friendde\\Documents\\ArcGIS\\Projects\\NAStreets\\NAStreets.gdb\\IdenticalStreetEndsWGS84'\n",
    "fldNames = {'IntersectingStreets':'Intersecting Streets','StreetName1':'Street Name 1','StreetName2':'Street Name 2','StreetName3':'Street Name 3','StreetName4':'Street Name 4'}\n",
    "outFlds =['IntersectingStreets','StreetName1','StreetName2','StreetName3','StreetName4','POINT_X','POINT_Y']"
   ]
  },
  {
   "cell_type": "code",
   "execution_count": null,
   "metadata": {},
   "outputs": [],
   "source": [
    "arcpy.env.workspace = destGDB\n",
    "for fc in arcpy.ListFeatureClasses():\n",
    "    arcpy.Delete_management(fc)\n",
    "for tbl in arcpy.ListTables():\n",
    "    arcpy.Delete_management(tbl)"
   ]
  },
  {
   "cell_type": "code",
   "execution_count": null,
   "metadata": {},
   "outputs": [],
   "source": [
    "sr = arcpy.SpatialReference(4326)\n",
    "sr.name"
   ]
  },
  {
   "cell_type": "code",
   "execution_count": null,
   "metadata": {},
   "outputs": [],
   "source": [
    "#sr = arcpy.Describe(sourceStreets).spatialReference\n",
    "arcpy.CreateFeatureclass_management(destGDB,'StreetIntersection','POINT',spatial_reference=sr,out_alias='Steet Intersection')\n",
    "for fName,fAlias in fldNames.items():\n",
    "    #print(fName,fAlias)\n",
    "    arcpy.AddField_management (stIntersection,fName,'TEXT',field_length=100,field_alias=fAlias,)"
   ]
  },
  {
   "cell_type": "code",
   "execution_count": null,
   "metadata": {},
   "outputs": [],
   "source": [
    "arcpy.FeatureVerticesToPoints_management(sourceStreets,stVertices,'BOTH_ENDS')\n",
    "arcpy.FindIdentical_management(stVertices,identEnds,'SHAPE',output_record_option='ONLY_DUPLICATES')\n",
    "lastFeatSeq = [row for row in arcpy.da.SearchCursor(identEnds, \"FEAT_SEQ\")][-1]\n",
    "lastFeatSeq = lastFeatSeq[0]+1\n",
    "print(f\"number of intersections: {lastFeatSeq}\")"
   ]
  },
  {
   "cell_type": "code",
   "execution_count": null,
   "metadata": {},
   "outputs": [],
   "source": [
    "for i in range(1,lastFeatSeq,1):\n",
    "    FID = []\n",
    "    streetIntersection = []\n",
    "    with arcpy.da.SearchCursor(identEnds,[\"IN_FID\",\"FEAT_SEQ\"],f\"FEAT_SEQ = {i}\") as sc:\n",
    "        for fid in sc:\n",
    "            FID.append(fid[0])\n",
    "        for oid in FID:\n",
    "            with arcpy.da.SearchCursor(stVertices,[\"OID@\",\"Street_Label\",\"SHAPE@\"],f'OBJECTID = {oid}') as stCur:\n",
    "                for st in stCur:\n",
    "                    if len(st[1])>2:\n",
    "                        streetIntersection.append(st[1])\n",
    "        # Convert list to set and then back to list to remove duplicate street label names\n",
    "        streetIntersect = list(set(streetIntersection))\n",
    "        streetIntersect.sort()\n",
    "        #print(f\"sorted list {streetIntersect} length {len(streetIntersect)}\")\n",
    "        # convert list to string\n",
    "        stringIntersect = '<->'.join(streetIntersect)\n",
    "        if len(streetIntersect) == 2:\n",
    "            #print(f\"{stringIntersect}\")\n",
    "            ic = arcpy.da.InsertCursor(stIntersection,[\"IntersectingStreets\",\"StreetName1\",\"StreetName2\",\"SHAPE@\"])\n",
    "            row = [stringIntersect,streetIntersect[0],streetIntersect[1],st[2]]\n",
    "            ic.insertRow(row)\n",
    "            del ic\n",
    "        elif len(streetIntersect) == 3:\n",
    "            #print(f\"{stringIntersect}\")\n",
    "            ic = arcpy.da.InsertCursor(stIntersection,[\"IntersectingStreets\",\"StreetName1\",\"StreetName2\",\"StreetName3\",\"SHAPE@\"])\n",
    "            row = [stringIntersect,streetIntersect[0],streetIntersect[1],streetIntersect[2],st[2]]\n",
    "            ic.insertRow(row)\n",
    "            del ic\n",
    "        elif len(streetIntersect) == 4:\n",
    "            #print(f\"{stringIntersect}\")\n",
    "            ic = arcpy.da.InsertCursor(stIntersection,[\"IntersectingStreets\",\"StreetName1\",\"StreetName2\",\"StreetName3\",\"StreetName4\",\"SHAPE@\"])\n",
    "            row = [stringIntersect,streetIntersect[0],streetIntersect[1],streetIntersect[2],streetIntersect[3],st[2]]\n",
    "            ic.insertRow(row)\n",
    "            del ic\n",
    "        else:\n",
    "            pass\n",
    "            #print(f\"string list other {stringIntersect}\")\n",
    "            #ic = arcpy.da.InsertCursor(stIntersection,[\"IntersectingStreets\",\"SHAPE@\"])\n",
    "            #row = [stringIntersect,st[2]]\n",
    "            #ic.insertRow(row)\n",
    "            #del ic"
   ]
  },
  {
   "cell_type": "code",
   "execution_count": null,
   "metadata": {},
   "outputs": [],
   "source": [
    "lastIntersect = [row for row in arcpy.da.SearchCursor(stIntersection, \"OID@\")][-1]\n",
    "print(f\"number of intersections: {lastIntersect}\")"
   ]
  },
  {
   "cell_type": "code",
   "execution_count": null,
   "metadata": {},
   "outputs": [],
   "source": [
    "arcpy.AddXY_management(stIntersection)"
   ]
  },
  {
   "cell_type": "markdown",
   "metadata": {},
   "source": [
    "Using [arcpy.da.TableToNumPyArray()](http://pro.arcgis.com/en/pro-app/arcpy/data-access/tabletonumpyarray.htm) and [pandas.DataFrame()](https://pandas.pydata.org/pandas-docs/stable/generated/pandas.DataFrame.html) display the first 25 rows of the Street Intersection point featureclass"
   ]
  },
  {
   "cell_type": "code",
   "execution_count": null,
   "metadata": {},
   "outputs": [],
   "source": [
    "arr = arcpy.da.TableToNumPyArray(stIntersection,outFlds)\n",
    "df = pd.DataFrame(arr)\n",
    "#df['StreetView'] = pd.Series(index=df.index) \n",
    "#df.count()\n",
    "df.head(25)"
   ]
  },
  {
   "cell_type": "code",
   "execution_count": null,
   "metadata": {},
   "outputs": [],
   "source": [
    "df.head()"
   ]
  },
  {
   "cell_type": "markdown",
   "metadata": {},
   "source": [
    "http://maps.google.com/?cbll=%VALUE%&cbp=12,90,0,0,5&layer=c"
   ]
  },
  {
   "cell_type": "markdown",
   "metadata": {},
   "source": [
    "df.drop(['StreetView'], axis=1, inplace=True)"
   ]
  },
  {
   "cell_type": "code",
   "execution_count": null,
   "metadata": {},
   "outputs": [],
   "source": [
    "df = df.astype({'POINT_X':str}, copy=False)\n",
    "df = df.astype({'POINT_Y':str}, copy=False)"
   ]
  },
  {
   "cell_type": "code",
   "execution_count": null,
   "metadata": {},
   "outputs": [],
   "source": [
    "df.dtypes"
   ]
  },
  {
   "cell_type": "code",
   "execution_count": null,
   "metadata": {},
   "outputs": [],
   "source": [
    "#df = df.assign(StreetView='http://maps.google.com/?cbll=' + df[\"POINY_Y\"] + df[\"POINT_X\"] + '&cbp=12,90,0,0,5&layer=c')\n",
    "df = df.assign(StreetView='http://maps.google.com/?cbll=' + df.POINT_Y + ',' + df.POINT_X + '&cbp=12,90,0,0,5&layer=c')"
   ]
  },
  {
   "cell_type": "code",
   "execution_count": null,
   "metadata": {},
   "outputs": [],
   "source": [
    "df.StreetView.head()"
   ]
  },
  {
   "cell_type": "code",
   "execution_count": null,
   "metadata": {},
   "outputs": [],
   "source": [
    "arcpy.env.workspace = r'C:\\Users\\friendde\\Documents\\ArcGIS\\Projects\\NAStreets'\n",
    "arcpy.env.overwriteOutput = True"
   ]
  },
  {
   "cell_type": "code",
   "execution_count": null,
   "metadata": {},
   "outputs": [],
   "source": [
    "arcpy.ExportXMLWorkspaceDocument_management (stIntersection, r'C:\\Users\\friendde\\Documents\\ArcGIS\\Projects\\NAStreets\\StreetIntersectionWGS84.xml', 'DATA')"
   ]
  }
 ],
 "metadata": {
  "kernelspec": {
   "display_name": "Python 3",
   "language": "python",
   "name": "python3"
  },
  "language_info": {
   "codemirror_mode": {
    "name": "ipython",
    "version": 3
   },
   "file_extension": ".py",
   "mimetype": "text/x-python",
   "name": "python",
   "nbconvert_exporter": "python",
   "pygments_lexer": "ipython3",
   "version": "3.6.8"
  }
 },
 "nbformat": 4,
 "nbformat_minor": 2
}
