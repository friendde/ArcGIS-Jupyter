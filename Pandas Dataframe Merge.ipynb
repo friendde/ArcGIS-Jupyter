{
 "cells": [
  {
   "cell_type": "markdown",
   "metadata": {},
   "source": [
    "Goal: use Panadas Dataframe Merge to join many related tables into a single table"
   ]
  },
  {
   "cell_type": "code",
   "execution_count": null,
   "metadata": {},
   "outputs": [],
   "source": [
    "import arcpy\n",
    "#import time\n",
    "import pandas as pd"
   ]
  },
  {
   "cell_type": "code",
   "execution_count": null,
   "metadata": {},
   "outputs": [],
   "source": [
    "# Poles use shape@ to create point feature for damage assessment\n",
    "PoleFldsOrig = ['GLOBALID','SUBTYPE','OWNER','FACILITYID','POLESIZE','MATERIAL','COLOR','TREATMENTTYPE','YEARMANUFACTURED','STUBDATE','BILLINGGROUP','FEEDERIDS','INSTALL_NUM','UNIT_TYPE','STREETADDRESS','BACKBONEINDICATOR','StockNumber','SHAPE@']\n",
    "PoleFldsDest = ['eSupportStructure_GLOBALID','eSupportStructure_SUBTYPE','eSupportStructure_OWNER','eSupportStructure_FACILITYID','eSupportStructure_POLESIZE','eSupportStructure_MATERIAL','eSupportStructure_COLOR','eSupportStructure_TREATMENTTYPE','eSupportStructure_YEARMANUFACTURED','eSupportStructure_STUBDATE','eSupportStructure_BILLINGGROUP','eSupportStructure_FEEDERIDS','eSupportStructure_INSTALLNUM','eSupportStructure_UNITTYPE','eSupportStructure_STREETADDRESS','eSupportStructure_BACKBONE','eSupportStructure_StockNumber','SHAPE@']\n",
    "PoleFldsDestOut = ['eSupportStructure_GLOBALID','eSupportStructure_SUBTYPE','eSupportStructure_OWNER','eSupportStructure_FACILITYID','eSupportStructure_POLESIZE','eSupportStructure_MATERIAL','eSupportStructure_COLOR','eSupportStructure_TREATMENTTYPE','eSupportStructure_YEARMANUFACTURED','eSupportStructure_STUBDATE','eSupportStructure_BILLINGGROUP','eSupportStructure_FEEDERIDS','eSupportStructure_INSTALLNUM','eSupportStructure_UNITTYPE','eSupportStructure_STREETADDRESS','eSupportStructure_BACKBONE','eSupportStructure_StockNumber']\n",
    "\n",
    "# feature classes that have 1:1 relationship with poles\n",
    "CapBankFldsOrig = ['eSupportStructure_GLOBALID','DEVICEID','SUBTYPE','STRUCTUREID','GLOBALID']\n",
    "CapBankFldsRename = {'DEVICEID':'eCapacitorBank_DEVICEID','SUBTYPE':'eCapacitorBank_SUBTYPE','STRUCTUREID':'eCapacitorBank_STRUCTUREID','GLOBALID':'eCapacitorBank_GLOBALID'}\n",
    "CapBankFldsDest = ['eSupportStructure_GLOBALID','eCapacitorBank_DEVICEID','eCapacitorBank_SUBTYPE','eCapacitorBank_STRUCTUREID','eCapacitorBank_GLOBALID']\n",
    "\n",
    "RecloserFldsOrig = ['eSupportStructure_GLOBALID','DEVICEID','FEEDERID','FEEDERID2','PHASEDESIGNATION','SUBTYPE','AMPRATING','BACKBONEPASSTHRU','CUSTOMERCOUNT','STRUCTUREID','INTERRUPTINGTYPE','INTERRUPTRATING','CONTROLLERTYPE','BACKBONEINDICATOR','GLOBALID']\n",
    "RecloserFldsRename = {'DEVICEID':'eRecloser_DEVICEID','FEEDERID':'eRecloser_FEEDERID','FEEDERID2':'eRecloser_FEEDERID2','PHASEDESIGNATION':'eRecloser_PHASE','SUBTYPE':'eRecloser_SUBTYPE','AMPRATING':'eRecloser_AMPRATING','BACKBONEPASSTHRU':'eRecloser_BACKBONEPASSTHRU','CUSTOMERCOUNT':'eRecloser_CUSTOMERCOUNT','STRUCTUREID':'eRecloser_STRUCTUREID','INTERRUPTINGTYPE':'eRecloser_INTERRUPTINGTYPE','INTERRUPTRATING':'eRecloser_INTERRUPTRATING','CONTROLLERTYPE':'eRecloser_CONTROLLERTYPE','BACKBONEINDICATOR':'eRecloser_BACKBONEINDICATOR','GLOBALID':'eRecloser_GLOBALID'}\n",
    "RecloserFldsDest = ['eSupportStructure_GLOBALID','eRecloser_DEVICEID','eRecloser_FEEDERID','eRecloser_FEEDERID2','eRecloser_PHASE','eRecloser_SUBTYPE','eRecloser_AMPRATING','eRecloser_BACKBONEPASSTHRU','eRecloser_CUSTOMERCOUNT','eRecloser_STRUCTUREID','eRecloser_INTERRUPTINGTYPE','eRecloser_INTERRUPTRATING','eRecloser_CONTROLLERTYPE','eRecloser_BACKBONE','eRecloser_GLOBALID']\n",
    "\n",
    "SectionalizerFldsOrig = ['eSupportStructure_GLOBALID','DEVICEID','FEEDERID','FEEDERID2','BACKBONEPASSTHRU','CUSTOMERCOUNT','STRUCTUREID','GLOBALID']\n",
    "SectionalizerFldsRename = {'DEVICEID':'eSectionalizer_DEVICEID','FEEDERID':'eSectionalizer_FEEDERID','FEEDERID2':'eSectionalizer_FEEDERID2','BACKBONEPASSTHRU':'eSectionalize_BACKBONEPASSTHRU','CUSTOMERCOUNT':'eSectionalizer_CUSTOMERCOUNT','STRUCTUREID':'eSectionalizer_STRUCTUREID','GLOBALID':'eSectionalizer_GLOBALID'}\n",
    "SectionalizerFldsDest = ['eSupportStructure_GLOBALID','eSectionalizer_DEVICEID','eSectionalizer_FEEDERID','eSectionalizer_FEEDERID2','eSectionalize_BACKBONEPASSTHRU','eSectionalizer_CUSTOMERCOUNT','eSectionalizer_STRUCTUREID','eSectionalizer_GLOBALID']\n",
    "\n",
    "VoltRegBankFldsOrig = ['eSupportStructure_GLOBALID','DEVICEID','FEEDERID','STRUCTUREID','GLOBALID']\n",
    "VoltRegBankFldsDest = ['eSupportStructure_GLOBALID','eVoltRegBank_DEVICEID','eVoltRegBank_FEEDERID','eVoltRegBank_STRUCTUREID','eVoltRegBank_GLOBALID']\n"
   ]
  },
  {
   "cell_type": "code",
   "execution_count": null,
   "metadata": {},
   "outputs": [],
   "source": [
    "# fGDB variables\n",
    "unitTable = r'C:\\Users\\friendde\\Documents\\ArcGIS\\Projects\\PandasDataframeMerge\\PandasDataframeMerge.gdb\\MIMS\\mmPoleEquipment'\n",
    "connectionRoot = r'C:\\Users\\friendde\\Documents\\ArcGIS\\Projects\\PandasDataframeMerge\\PandasDataframeMerge.gdb\\%s'\n",
    "workspace = r'C:\\Users\\friendde\\Documents\\ArcGIS\\Projects\\PandasDataframeMerge\\PandasDataframeMerge.gdb'\n",
    "origFGDB = r'C:\\GISData\\Data\\Snapshot\\mxElectric.geodatabase\\main.'\n",
    "\n",
    "# feature classes\n",
    "MM_POLEEQUIPMENT_XML = r\"C:\\Users\\friendde\\Documents\\ArcGIS\\Projects\\PandasDataframeMerge\\MIMS_DATASET_20181019.XML\"\n",
    "poleFC = r'C:\\GISData\\Data\\Snapshot\\mxElectric.geodatabase\\Electric\\main.eSupportStructure'\n",
    "origFC = ['eCapacitorBank','eRecloser','eSectionalizer','eVoltageRegulatorBank']\n",
    "fuseFC = 'eFuse'\n",
    "lightFC = 'eLight'\n",
    "#poleFC = 'eSupportStructure'\n",
    "servicepointFC = 'eServicePoint'\n",
    "switchFC = 'eSwitch'\n",
    "transformerFC = 'eTransformerBank'"
   ]
  },
  {
   "cell_type": "code",
   "execution_count": null,
   "metadata": {},
   "outputs": [],
   "source": [
    "# prep unitTable\n",
    "if not arcpy.Exists(unitTable):\n",
    "    arcpy.ImportXMLWorkspaceDocument_management(workspace, MM_POLEEQUIPMENT_XML, \"Schema_Only\")\n",
    "else:\n",
    "    print('Truncating...',unitTable)\n",
    "    arcpy.TruncateTable_management(unitTable)"
   ]
  },
  {
   "cell_type": "code",
   "execution_count": null,
   "metadata": {},
   "outputs": [],
   "source": [
    "# Start Main\n",
    "with arcpy.da.Editor(workspace) as edit:\n",
    "    print('Inserting...poles')\n",
    "    ic = arcpy.da.InsertCursor(unitTable,PoleFldsDest)\n",
    "    with arcpy.da.SearchCursor(poleFC,PoleFldsOrig) as sc:\n",
    "        for scrow in sc:\n",
    "            ic.insertRow(scrow)\n",
    "    del ic\n",
    "    del sc"
   ]
  },
  {
   "cell_type": "code",
   "execution_count": null,
   "metadata": {},
   "outputs": [],
   "source": [
    "nparrUnitTable = arcpy.da.TableToNumPyArray(unitTable,PoleFldsDestOut,skip_nulls=True)\n",
    "dfUnitTable = pd.DataFrame(nparrUnitTable)\n",
    "#pdarr.to_csv(custAcctFile,header=False, index=False)\n",
    "dfUnitTable"
   ]
  },
  {
   "cell_type": "code",
   "execution_count": null,
   "metadata": {},
   "outputs": [],
   "source": [
    "nparrCapBank = arcpy.da.TableToNumPyArray(r'C:\\GISData\\Data\\Snapshot\\mxElectric.geodatabase\\main.eCapacitorBank',CapBankFldsOrig,skip_nulls=True)\n",
    "dfCapBank = pd.DataFrame(nparrCapBank)\n",
    "#pdarr.to_csv(custAcctFile,header=False, index=False)\n",
    "dfCapBank"
   ]
  },
  {
   "cell_type": "markdown",
   "metadata": {},
   "source": [
    "DataFrame.merge(right, how='inner', on=None, left_on=None, right_on=None, left_index=False, right_index=False, sort=False, suffixes=('_x', '_y'), copy=True, indicator=False, validate=None)\n",
    "https://pandas.pydata.org/pandas-docs/stable/generated/pandas.DataFrame.merge.html"
   ]
  },
  {
   "cell_type": "code",
   "execution_count": null,
   "metadata": {},
   "outputs": [],
   "source": [
    "df2 = pd.merge(dfUnitTable,dfCapBank, how='outer', on='eSupportStructure_GLOBALID', left_index=False, right_index=False, sort=False, suffixes=('_x', '_y'), copy=False, indicator=False, validate=None)"
   ]
  },
  {
   "cell_type": "code",
   "execution_count": null,
   "metadata": {},
   "outputs": [],
   "source": [
    "df2"
   ]
  },
  {
   "cell_type": "code",
   "execution_count": null,
   "metadata": {},
   "outputs": [],
   "source": [
    "df2.rename(index=str,inplace=True,columns=CapBankFldsRename)"
   ]
  },
  {
   "cell_type": "code",
   "execution_count": null,
   "metadata": {},
   "outputs": [],
   "source": [
    "df2"
   ]
  },
  {
   "cell_type": "code",
   "execution_count": null,
   "metadata": {},
   "outputs": [],
   "source": [
    "nparrRecloser = arcpy.da.TableToNumPyArray(r'C:\\GISData\\Data\\Snapshot\\mxElectric.geodatabase\\main.eRecloser',RecloserFldsOrig,skip_nulls=True)\n",
    "dfRecloser = pd.DataFrame(nparrRecloser)\n",
    "#pdarr.to_csv(custAcctFile,header=False, index=False)\n",
    "dfRecloser"
   ]
  },
  {
   "cell_type": "code",
   "execution_count": null,
   "metadata": {},
   "outputs": [],
   "source": [
    "dfRecloser.rename(index=str,inplace=True,columns=RecloserFldsRename)"
   ]
  },
  {
   "cell_type": "code",
   "execution_count": null,
   "metadata": {},
   "outputs": [],
   "source": [
    "dfRecloser.head()"
   ]
  },
  {
   "cell_type": "code",
   "execution_count": null,
   "metadata": {},
   "outputs": [],
   "source": [
    "df3 = pd.merge(df2, dfRecloser, how='outer', on='eSupportStructure_GLOBALID', left_index=False, right_index=False, sort=False, suffixes=('_x', '_y'), copy=False, indicator=False, validate=None)\n"
   ]
  },
  {
   "cell_type": "code",
   "execution_count": null,
   "metadata": {},
   "outputs": [],
   "source": [
    "list(df3)"
   ]
  },
  {
   "cell_type": "code",
   "execution_count": null,
   "metadata": {},
   "outputs": [],
   "source": [
    "nparrSectionalizer = arcpy.da.TableToNumPyArray(r'C:\\GISData\\Data\\Snapshot\\mxElectric.geodatabase\\main.eSectionalizer',SectionalizerFldsOrig,skip_nulls=True)\n",
    "dfSectionalizer = pd.DataFrame(nparrSectionalizer)\n",
    "dfSectionalizer"
   ]
  },
  {
   "cell_type": "code",
   "execution_count": null,
   "metadata": {},
   "outputs": [],
   "source": [
    "dfSectionalizer.rename(index=str,inplace=True,columns=SectionalizerFldsRename)"
   ]
  },
  {
   "cell_type": "code",
   "execution_count": null,
   "metadata": {},
   "outputs": [],
   "source": [
    "df4 = pd.merge(df3, dfSectionalizer, how='outer', on='eSupportStructure_GLOBALID', left_index=False, right_index=False, sort=False, suffixes=('_x', '_y'), copy=False, indicator=False, validate=None)"
   ]
  },
  {
   "cell_type": "code",
   "execution_count": null,
   "metadata": {},
   "outputs": [],
   "source": [
    "list(df4)"
   ]
  }
 ],
 "metadata": {
  "kernelspec": {
   "display_name": "Python 3",
   "language": "python",
   "name": "python3"
  },
  "language_info": {
   "codemirror_mode": {
    "name": "ipython",
    "version": 3
   },
   "file_extension": ".py",
   "mimetype": "text/x-python",
   "name": "python",
   "nbconvert_exporter": "python",
   "pygments_lexer": "ipython3",
   "version": "3.6.5"
  }
 },
 "nbformat": 4,
 "nbformat_minor": 2
}
