{
 "cells": [
  {
   "cell_type": "markdown",
   "metadata": {},
   "source": [
    "### Create Street Intersection Point Feature Class \n",
    "#### Projects from FL North to WGS84\n",
    "- Requires a line featureclass with street names\n",
    "- ```FeatureVerticesToPoints_management()``` [Available with Advanced license](http://pro.arcgis.com/en/pro-app/tool-reference/data-management/feature-vertices-to-points.htm)\n",
    "\n",
    "#### Using [FeatureVerticesToPoints_management()](http://pro.arcgis.com/en/pro-app/tool-reference/data-management/feature-vertices-to-points.htm) will create a point at ```BOTH_ENDS``` for each line representing the street centerline\n",
    "#### [FindIdentical_management()](http://pro.arcgis.com/en/pro-app/tool-reference/data-management/find-identical.htm) will create the table from the point featureclass created above. The identical ```fields``` is simply the SHAPE of the point created where one street segment ends and another street segment begins.\n",
    "\n",
    "Known Issue: Looping through the list created will exlclude points that are not representing the intersection of a streets with different names\n",
    "\n",
    "New Capability: Added field to support hyperlinks to Google Streetview (and next Bing BirdsEye)\n",
    "\n",
    "TODO: Use Data Frame Merge so State Plane FL North feature class will have WGS84 Bing Birds Eye hyperlinks\n",
    "\n",
    "TODO: Explore [Spatially Enabled Data Frame](https://developers.arcgis.com/python/guide/introduction-to-the-spatially-enabled-dataframe/)\n",
    "\n",
    "TODO: Add GlobalIDs in source Enterprise Geodatabase"
   ]
  },
  {
   "cell_type": "code",
   "execution_count": null,
   "metadata": {},
   "outputs": [],
   "source": [
    "import arcpy\n",
    "import numpy as np\n",
    "import pandas as pd"
   ]
  },
  {
   "cell_type": "code",
   "execution_count": null,
   "metadata": {},
   "outputs": [],
   "source": [
    "sourceStreets = r'C:\\GISData\\Data\\Snapshot\\mxBaseMap.geodatabase\\main.Cartographic\\main.Streets'\n",
    "destGDB = r'C:\\Users\\friendde\\Documents\\ArcGIS\\Projects\\NAStreets\\NAStreets.gdb'\n",
    "stIntersection = r'C:\\Users\\friendde\\Documents\\ArcGIS\\Projects\\NAStreets\\NAStreets.gdb\\StreetIntersection'\n",
    "stIntersectionWGS84 = r'C:\\Users\\friendde\\Documents\\ArcGIS\\Projects\\NAStreets\\NAStreets.gdb\\StreetIntersectionWGS84'\n",
    "stVertices = r'C:\\Users\\friendde\\Documents\\ArcGIS\\Projects\\NAStreets\\NAStreets.gdb\\StreetVertices'\n",
    "identEnds = r'C:\\Users\\friendde\\Documents\\ArcGIS\\Projects\\NAStreets\\NAStreets.gdb\\IdenticalStreetEnds'\n",
    "fldNames = {'IntersectingStreets':'Intersecting Streets','StreetName1':'Street Name 1','StreetName2':'Street Name 2','StreetName3':'Street Name 3','StreetName4':'Street Name 4','Streetview':'Google Streetview'}\n",
    "outFlds =['IntersectingStreets','StreetName1','StreetName2','StreetName3','StreetName4','POINT_X','POINT_Y','Streetview','GlobalID']\n",
    "outFldsWGS84 =['IntersectingStreets','StreetName1','StreetName2','StreetName3','StreetName4','POINT_X','POINT_Y','GlobalID']\n",
    "outFldsGoogle =['IntersectingStreets','StreetName1','StreetName2','StreetName3','StreetName4','POINT_X','POINT_Y','Streetview','GlobalID']\n",
    "outDirectory = 'C://Users//friendde//Documents//ArcGIS//Projects//NAStreets//'"
   ]
  },
  {
   "cell_type": "markdown",
   "metadata": {},
   "source": [
    "Cleanup Workspace - caution deletes all existing objects in destGDB, ie feature classes and tables"
   ]
  },
  {
   "cell_type": "code",
   "execution_count": null,
   "metadata": {},
   "outputs": [],
   "source": [
    "arcpy.env.workspace = destGDB\n",
    "for fc in arcpy.ListFeatureClasses():\n",
    "    arcpy.Delete_management(fc)\n",
    "for tbl in arcpy.ListTables():\n",
    "    arcpy.Delete_management(tbl)"
   ]
  },
  {
   "cell_type": "markdown",
   "metadata": {},
   "source": [
    "Create the Street Intersection Point Feature Class"
   ]
  },
  {
   "cell_type": "code",
   "execution_count": null,
   "metadata": {},
   "outputs": [],
   "source": [
    "sr = arcpy.Describe(sourceStreets).spatialReference\n",
    "arcpy.CreateFeatureclass_management(destGDB,'StreetIntersection','POINT',spatial_reference=sr,out_alias='Steet Intersection')\n",
    "for fName,fAlias in fldNames.items():\n",
    "    #print(fName,fAlias)\n",
    "    arcpy.AddField_management (stIntersection,fName,'TEXT',field_length=100,field_alias=fAlias,)"
   ]
  },
  {
   "cell_type": "markdown",
   "metadata": {},
   "source": [
    "Create intersection points by finding vertices where two or more streets intersect"
   ]
  },
  {
   "cell_type": "code",
   "execution_count": null,
   "metadata": {},
   "outputs": [],
   "source": [
    "arcpy.FeatureVerticesToPoints_management(sourceStreets,stVertices,'BOTH_ENDS')\n",
    "arcpy.FindIdentical_management(stVertices,identEnds,'SHAPE',output_record_option='ONLY_DUPLICATES')\n",
    "lastFeatSeq = [row for row in arcpy.da.SearchCursor(identEnds, \"FEAT_SEQ\")][-1]\n",
    "lastFeatSeq = lastFeatSeq[0]+1\n",
    "print(f\"number of intersections: {lastFeatSeq}\")"
   ]
  },
  {
   "cell_type": "markdown",
   "metadata": {},
   "source": [
    "Split street intersection names into individual fields for use in MIMS Mobile Search Tool"
   ]
  },
  {
   "cell_type": "code",
   "execution_count": null,
   "metadata": {},
   "outputs": [],
   "source": [
    "for i in range(1,lastFeatSeq,1):\n",
    "    FID = []\n",
    "    streetIntersection = []\n",
    "    with arcpy.da.SearchCursor(identEnds,[\"IN_FID\",\"FEAT_SEQ\"],f\"FEAT_SEQ = {i}\") as sc:\n",
    "        for fid in sc:\n",
    "            FID.append(fid[0])\n",
    "        for oid in FID:\n",
    "            with arcpy.da.SearchCursor(stVertices,[\"OID@\",\"Street_Label\",\"SHAPE@\"],f'OBJECTID = {oid}') as stCur:\n",
    "                for st in stCur:\n",
    "                    if len(st[1])>2:\n",
    "                        streetIntersection.append(st[1])\n",
    "        # Convert list to set and then back to list to remove duplicate street label names\n",
    "        streetIntersect = list(set(streetIntersection))\n",
    "        streetIntersect.sort()\n",
    "        #print(f\"sorted list {streetIntersect} length {len(streetIntersect)}\")\n",
    "        # convert list to string\n",
    "        stringIntersect = '<->'.join(streetIntersect)\n",
    "        if len(streetIntersect) == 2:\n",
    "            #print(f\"{stringIntersect}\")\n",
    "            ic = arcpy.da.InsertCursor(stIntersection,[\"IntersectingStreets\",\"StreetName1\",\"StreetName2\",\"SHAPE@\"])\n",
    "            row = [stringIntersect,streetIntersect[0],streetIntersect[1],st[2]]\n",
    "            ic.insertRow(row)\n",
    "            del ic\n",
    "        elif len(streetIntersect) == 3:\n",
    "            #print(f\"{stringIntersect}\")\n",
    "            ic = arcpy.da.InsertCursor(stIntersection,[\"IntersectingStreets\",\"StreetName1\",\"StreetName2\",\"StreetName3\",\"SHAPE@\"])\n",
    "            row = [stringIntersect,streetIntersect[0],streetIntersect[1],streetIntersect[2],st[2]]\n",
    "            ic.insertRow(row)\n",
    "            del ic\n",
    "        elif len(streetIntersect) == 4:\n",
    "            #print(f\"{stringIntersect}\")\n",
    "            ic = arcpy.da.InsertCursor(stIntersection,[\"IntersectingStreets\",\"StreetName1\",\"StreetName2\",\"StreetName3\",\"StreetName4\",\"SHAPE@\"])\n",
    "            row = [stringIntersect,streetIntersect[0],streetIntersect[1],streetIntersect[2],streetIntersect[3],st[2]]\n",
    "            ic.insertRow(row)\n",
    "            del ic\n",
    "        else:\n",
    "            pass\n",
    "            #print(f\"string list other {stringIntersect}\")\n",
    "            #ic = arcpy.da.InsertCursor(stIntersection,[\"IntersectingStreets\",\"SHAPE@\"])\n",
    "            #row = [stringIntersect,st[2]]\n",
    "            #ic.insertRow(row)\n",
    "            #del ic"
   ]
  },
  {
   "cell_type": "markdown",
   "metadata": {},
   "source": [
    "Count number of features for reference"
   ]
  },
  {
   "cell_type": "code",
   "execution_count": null,
   "metadata": {},
   "outputs": [],
   "source": [
    "lastIntersect = [row for row in arcpy.da.SearchCursor(stIntersection, \"OID@\")][-1]\n",
    "print(f\"number of intersections: {lastIntersect}\")"
   ]
  },
  {
   "cell_type": "code",
   "execution_count": null,
   "metadata": {},
   "outputs": [],
   "source": [
    "#Add GUID to make use of in Data Frame Join \n",
    "arcpy.AddGlobalIDs_management(stIntersection)"
   ]
  },
  {
   "cell_type": "code",
   "execution_count": null,
   "metadata": {},
   "outputs": [],
   "source": [
    "#Project to WGS84 to obtain Lat Long during AddXY\n",
    "srWGS84 = arcpy.SpatialReference(4326)\n",
    "arcpy.Project_management(stIntersection, stIntersectionWGS84, srWGS84)\n",
    "arcpy.AddXY_management(stIntersectionWGS84)"
   ]
  },
  {
   "cell_type": "markdown",
   "metadata": {},
   "source": [
    "Perform this step after Project so we will have State Plane FL North Coords in original stIntersection"
   ]
  },
  {
   "cell_type": "code",
   "execution_count": null,
   "metadata": {},
   "outputs": [],
   "source": [
    "# AddXY to original stIntersection for use later\n",
    "#TODO will new Spatially Enabled Data Frame negate this step?\n",
    "arcpy.AddXY_management(stIntersection)"
   ]
  },
  {
   "cell_type": "markdown",
   "metadata": {},
   "source": [
    "Using [arcpy.da.TableToNumPyArray()](http://pro.arcgis.com/en/pro-app/arcpy/data-access/tabletonumpyarray.htm) and [pandas.DataFrame()](https://pandas.pydata.org/pandas-docs/stable/generated/pandas.DataFrame.html) display the first 5 rows of the Street Intersection point featureclass"
   ]
  },
  {
   "cell_type": "code",
   "execution_count": null,
   "metadata": {},
   "outputs": [],
   "source": [
    "#Create Data Frame with Projected feature clasee and verify results\n",
    "arrWGS84 = arcpy.da.TableToNumPyArray(stIntersectionWGS84,outFldsWGS84)\n",
    "dfWGS84 = pd.DataFrame(arrWGS84)\n",
    "#verify results\n",
    "dfWGS84.head()"
   ]
  },
  {
   "cell_type": "code",
   "execution_count": null,
   "metadata": {},
   "outputs": [],
   "source": [
    "#Change dtype of X and Y to string\n",
    "dfWGS84 = dfWGS84.astype({'POINT_X':str}, copy=False)\n",
    "dfWGS84 = dfWGS84.astype({'POINT_Y':str}, copy=False)\n",
    "dfWGS84.dtypes"
   ]
  },
  {
   "cell_type": "markdown",
   "metadata": {},
   "source": [
    "Google Streetview Template - http://maps.google.com/?cbll=%VALUE%&cbp=12,90,0,0,5&layer=c\n",
    "\n",
    "Bing Birdseye Template - "
   ]
  },
  {
   "cell_type": "markdown",
   "metadata": {},
   "source": [
    "Note cbp parameter, if you want default street view to point a certain compass direction alter second number"
   ]
  },
  {
   "cell_type": "code",
   "execution_count": null,
   "metadata": {},
   "outputs": [],
   "source": [
    "#default view towards 90 degrees\n",
    "#df = df.assign(StreetView='http://maps.google.com/?cbll=' + df[\"POINY_Y\"] + df[\"POINT_X\"] + '&cbp=12,90,0,0,5&layer=c')\n",
    "# default view towards 0 degrees\n",
    "dfWGS84 = dfWGS84.assign(Google='http://maps.google.com/?cbll=' + dfWGS84.POINT_Y + ',' + dfWGS84.POINT_X + '&cbp=12,0,0,0,5&layer=c')\n",
    "# verify Google Streetview results\n",
    "dfWGS84.Google.head()"
   ]
  },
  {
   "cell_type": "code",
   "execution_count": null,
   "metadata": {},
   "outputs": [],
   "source": [
    "#Create Data Frame for original stIntersection and prep for Data Frame Merge\n",
    "arr = arcpy.da.TableToNumPyArray(stIntersection,outFlds)\n",
    "df = pd.DataFrame(arr)\n",
    "df.head()"
   ]
  },
  {
   "cell_type": "code",
   "execution_count": null,
   "metadata": {},
   "outputs": [],
   "source": [
    "# add BaseURL to orginal stIntersection df for use in MIMS Configuration\n",
    "df = df.assign(BaseURLGoogle= dfWGS84.POINT_Y + ',' + dfWGS84.POINT_X)\n",
    "# verify Google Streetview results\n",
    "df.BaseURLGoogle.head()"
   ]
  },
  {
   "cell_type": "code",
   "execution_count": null,
   "metadata": {},
   "outputs": [],
   "source": [
    "# Drop Pandas Data Frame Columns in dfWGS84 to prep for Data Frame Merge\n",
    "dfWGS84 = dfWGS84.drop(['IntersectingStreets','StreetName1','StreetName2','StreetName3','StreetName4','POINT_X','POINT_Y'],axis=1)\n",
    "#verify results\n",
    "dfWGS84.head()"
   ]
  },
  {
   "cell_type": "code",
   "execution_count": null,
   "metadata": {},
   "outputs": [],
   "source": [
    "#Merge the two Data Frames\n",
    "df2 = pd.merge(df,dfWGS84, how='outer', on='GlobalID', left_index=False, right_index=False, sort=False, suffixes=('_x', '_y'), copy=False, indicator=False, validate=None)\n",
    "#verify results\n",
    "df2.head()"
   ]
  },
  {
   "cell_type": "code",
   "execution_count": null,
   "metadata": {},
   "outputs": [],
   "source": [
    "#Update Streetview Hyperlink field that original stIntersection wull use in MIMS Mobile\n",
    "df2.Streetview = df2.Google\n",
    "#verify results\n",
    "df2.head()"
   ]
  },
  {
   "cell_type": "code",
   "execution_count": null,
   "metadata": {},
   "outputs": [],
   "source": [
    "#overwrite orginal df and drop extra columns from previous Merge\n",
    "df = df2.drop(['Google'], axis = 1)\n",
    "#verify results\n",
    "df.head()"
   ]
  },
  {
   "cell_type": "markdown",
   "metadata": {},
   "source": [
    "The following steps my not be required when using new Spatially Enabled Data Frame"
   ]
  },
  {
   "cell_type": "code",
   "execution_count": null,
   "metadata": {},
   "outputs": [],
   "source": [
    "df.to_csv(outDirectory + 'StreetIntersection.csv',header=True, index=False)\n",
    "arcpy.env.workspace = destGDB\n",
    "arcpy.env.overwriteOutput = True\n",
    "#arcpy.TableToTable_conversion (outDirectory + 'StreetIntersection.csv', destGDB, 'StreetIntersection')\n",
    "arcpy.XYTableToPoint_management (outDirectory + 'StreetIntersection.csv', 'StreetIntersection', 'POINT_X', 'POINT_Y','',sr)\n",
    "arcpy.env.workspace = outDirectory\n",
    "arcpy.env.overwriteOutput = True\n",
    "arcpy.ExportXMLWorkspaceDocument_management (stIntersection, outDirectory + 'StreetIntersection.xml', 'DATA')"
   ]
  },
  {
   "cell_type": "code",
   "execution_count": null,
   "metadata": {},
   "outputs": [],
   "source": []
  }
 ],
 "metadata": {
  "kernelspec": {
   "display_name": "Python 3",
   "language": "python",
   "name": "python3"
  },
  "language_info": {
   "codemirror_mode": {
    "name": "ipython",
    "version": 3
   },
   "file_extension": ".py",
   "mimetype": "text/x-python",
   "name": "python",
   "nbconvert_exporter": "python",
   "pygments_lexer": "ipython3",
   "version": "3.6.5"
  }
 },
 "nbformat": 4,
 "nbformat_minor": 2
}
