{
 "cells": [
  {
   "cell_type": "code",
   "execution_count": null,
   "metadata": {},
   "outputs": [],
   "source": [
    "import arcpy\n",
    "import os, sys\n",
    "from arcgis.gis import GIS\n",
    "from arcgis import features\n",
    "from getpass import getpass #to accept passwords in an interactive fashion\n",
    "from getpass import getuser\n",
    "from IPython.display import display"
   ]
  },
  {
   "cell_type": "code",
   "execution_count": null,
   "metadata": {},
   "outputs": [],
   "source": [
    "# Set the default path to ArcGIS Pro projects\n",
    "prjPath = (os.environ['USERPROFILE']+'\\Documents\\ArcGIS\\Projects\\\\')\n",
    "#print(prjPath)"
   ]
  },
  {
   "cell_type": "code",
   "execution_count": null,
   "metadata": {},
   "outputs": [],
   "source": [
    "changePath = input('Default ArcGIS Project Path: {}, change path? [Y or N]'.format(prjPath))\n",
    "if changePath.upper() in \"YES\":\n",
    "    prjPath = input(\"Enter new path \")\n",
    "    os.chdir(prjPath)\n",
    "for project in os.listdir(prjPath):\n",
    "    usePrj = input(\"Use project {} [Y or N]\".format(project))\n",
    "    if usePrj.upper() in \"YES\":\n",
    "        prj = os.path.join(prjPath,project)\n",
    "        break\n",
    "for root, dirs, files in os.walk(prj):\n",
    "    for file in files:\n",
    "        if file.endswith(\".aprx\"):\n",
    "            prj = os.path.join(root, file)\n",
    "            display(prj)"
   ]
  },
  {
   "cell_type": "code",
   "execution_count": null,
   "metadata": {},
   "outputs": [],
   "source": [
    "response = input(\"Do you want to use the active portal - {} [Y or N]\".format(arcpy.GetActivePortalURL()))\n",
    "if response.upper() in \"YES\":\n",
    "    portal = arcpy.GetActivePortalURL()\n",
    "else:\n",
    "    portal = input(\"Enter portal address\")\n",
    "\n",
    "display(portal)\n",
    "#portal = 'https://www.arcgis.com' # Can also reference a local portal\n",
    "user = input(\"enter username\")\n",
    "#print(getuser())\n",
    "password = getpass()\n",
    "print('Connecting to {}'.format(portal))\n",
    "gis = GIS(portal, user, password)"
   ]
  },
  {
   "cell_type": "code",
   "execution_count": null,
   "metadata": {},
   "outputs": [],
   "source": [
    "# search and list all items owned by connected user\n",
    "query=\"owner:{}\".format(user)\n",
    "item_type=\"Feature Layer\"\n",
    "sort_field=\"title\"\n",
    "sort_order=\"asc\"\n",
    "max_items=100\n",
    "search_result = gis.content.search(query,item_type,sort_field,sort_order,max_items)\n",
    "for i in range(len(search_result)):\n",
    "    display(search_result[i])\n",
    "    updateResult = input(\"Update {} [Y,N]\".format(search_result[i].title))\n",
    "    if updateResult.upper() in \"YES\":\n",
    "        sd_fs_name = search_result[i].title\n",
    "        print(sd_fs_name)\n",
    "        query = \"owner:{} AND title:{}\".format(user,sd_fs_name)\n",
    "        sdItem = gis.content.search(query,item_type=\"Service Definition\")[0]\n",
    "        print(sdItem)\n",
    "        break"
   ]
  },
  {
   "cell_type": "code",
   "execution_count": null,
   "metadata": {},
   "outputs": [],
   "source": [
    "# Set sharing options\n",
    "shrOrg = True\n",
    "shrEveryone = False\n",
    "shrGroups = \"\"\n",
    "# Local paths to create temporary content\n",
    "relPath = sys.path[0]\n",
    "sddraft = os.path.join(relPath, \"{}.sddraft\".format(sdItem.title))\n",
    "sd = os.path.join(relPath, \"{}.sd\".format(sdItem.title))"
   ]
  },
  {
   "cell_type": "code",
   "execution_count": null,
   "metadata": {},
   "outputs": [],
   "source": [
    "# Create a new SDDraft and stage to SD\n",
    "print('Creating SD file')\n",
    "arcpy.env.overwriteOutput = True\n",
    "prj = arcpy.mp.ArcGISProject(prj)\n",
    "mp = prj.listMaps()[0]\n",
    "display(mp)"
   ]
  },
  {
   "cell_type": "code",
   "execution_count": null,
   "metadata": {},
   "outputs": [],
   "source": [
    "#m = aprx.listMaps(\"World\")[0]\n",
    "# Create FeatureSharingDraft and set service properties\n",
    "sharing_draft = mp.getWebLayerSharingDraft(\"HOSTING_SERVER\", \"FEATURE\", sdItem.title)\n",
    "#sharing_draft.summary = \"My Summary\"\n",
    "#sharing_draft.tags = \"My Tags\"\n",
    "#sharing_draft.description = \"My Description\"\n",
    "#sharing_draft.credits = \"My Credits\"\n",
    "#sharing_draft.useLimitations = \"My Use Limitations\"\n",
    "\n",
    "# Create Service Defintion Draft file\n",
    "sharing_draft.exportToSDDraft(sddraft)\n",
    "\n",
    "# Stage Service\n",
    "#sd_filename = service + \".sd\"\n",
    "#sd_output_filename = os.path.join(outdir, sd)\n",
    "arcpy.StageService_server(sddraft, sd)\n",
    "\n",
    "# Share to portal\n",
    "print(\"Uploading Service Definition...\")\n",
    "arcpy.UploadServiceDefinition_server(sd, \"My Hosted Services\")\n",
    "\n",
    "print(\"Successfully Uploaded service.\")"
   ]
  },
  {
   "cell_type": "code",
   "execution_count": null,
   "metadata": {},
   "outputs": [],
   "source": []
  }
 ],
 "metadata": {
  "kernelspec": {
   "display_name": "Python 3",
   "language": "python",
   "name": "python3"
  },
  "language_info": {
   "codemirror_mode": {
    "name": "ipython",
    "version": 3
   },
   "file_extension": ".py",
   "mimetype": "text/x-python",
   "name": "python",
   "nbconvert_exporter": "python",
   "pygments_lexer": "ipython3",
   "version": "3.6.5"
  }
 },
 "nbformat": 4,
 "nbformat_minor": 2
}
