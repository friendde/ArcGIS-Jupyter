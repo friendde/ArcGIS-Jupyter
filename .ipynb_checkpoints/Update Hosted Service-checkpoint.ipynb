{
 "cells": [
  {
   "cell_type": "code",
   "execution_count": null,
   "metadata": {},
   "outputs": [],
   "source": [
    "import arcpy\n",
    "import os, sys\n",
    "from arcgis.gis import GIS\n",
    "from arcgis import features\n",
    "from getpass import getpass #to accept passwords in an interactive fashion\n",
    "from getpass import getuser\n",
    "from IPython.display import display"
   ]
  },
  {
   "cell_type": "code",
   "execution_count": null,
   "metadata": {},
   "outputs": [],
   "source": [
    "# Set the default path to ArcGIS Pro projects\n",
    "prjPath = (os.environ['USERPROFILE']+'\\Documents\\ArcGIS\\Projects\\\\')\n",
    "#print(prjPath)"
   ]
  },
  {
   "cell_type": "code",
   "execution_count": null,
   "metadata": {},
   "outputs": [],
   "source": [
    "changePath = input(f'Default ArcGIS Project Path is: {prjPath}, change path? [Y or N]')\n",
    "if changePath.upper() in \"YES\":\n",
    "    prjPath = input('Enter new path ')\n",
    "    os.chdir(prjPath)\n",
    "for project in os.listdir(prjPath):\n",
    "    usePrj = input(f'Use project {project} [Y or N]')\n",
    "    if usePrj.upper() in \"YES\":\n",
    "        prjPath = os.path.join(prjPath,project)\n",
    "        break\n",
    "for root, dirs, files in os.walk(prjPath):\n",
    "    for file in files:\n",
    "        if file.endswith(\".aprx\"):\n",
    "            aprx = os.path.join(root, file)\n",
    "            display(aprx)"
   ]
  },
  {
   "cell_type": "code",
   "execution_count": null,
   "metadata": {},
   "outputs": [],
   "source": [
    "response = input(f'Do you want to use the active portal - {(arcpy.GetActivePortalURL())} [Y or N]')\n",
    "if response.upper() in \"YES\":\n",
    "    portal = arcpy.GetActivePortalURL()\n",
    "else:\n",
    "    portal = input(\"Enter portal address\")\n",
    "\n",
    "display(portal)\n",
    "#portal = 'https://www.arcgis.com' # Can also reference a local portal\n",
    "user = input(\"enter username\")\n",
    "#print(getuser())\n",
    "password = getpass()\n",
    "gis = GIS(portal, user, password)\n",
    "print(f'Connected to {portal}')"
   ]
  },
  {
   "cell_type": "markdown",
   "metadata": {},
   "source": [
    "https://esri.github.io/arcgis-python-api/apidoc/html/arcgis.gis.toc.html#arcgis.gis.GroupManager\n",
    "https://developers.arcgis.com/python/guide/accessing-and-managing-groups/"
   ]
  },
  {
   "cell_type": "code",
   "execution_count": null,
   "metadata": {},
   "outputs": [],
   "source": [
    "for grp in gis.groups.search():\n",
    "    print(grp.title, grp.groupid)"
   ]
  },
  {
   "cell_type": "code",
   "execution_count": null,
   "metadata": {},
   "outputs": [],
   "source": [
    "# search and list all items owned by connected user\n",
    "query=\"owner:{}\".format(user)\n",
    "item_type=\"Feature Layer\"\n",
    "sort_field=\"title\"\n",
    "sort_order=\"asc\"\n",
    "max_items=100\n",
    "search_result = gis.content.search(query,item_type,sort_field,sort_order,max_items)\n",
    "for i in range(len(search_result)):\n",
    "    display(search_result[i])\n",
    "    updateResult = input(f'Update {(search_result[i].title)} [Y,N]')\n",
    "    if updateResult.upper() in \"YES\":\n",
    "        sd_fs_name = search_result[i].title\n",
    "        print(sd_fs_name)\n",
    "        query = \"owner:{} AND title:{}\".format(user,sd_fs_name)\n",
    "        sdItem = gis.content.search(query,item_type=\"Service Definition\")[0]\n",
    "        print(sdItem)\n",
    "        break\n",
    "if updateResult.upper() not in \"YES\":\n",
    "    print(f'All Service Definitions in your Content on {portal} were presented')"
   ]
  },
  {
   "cell_type": "code",
   "execution_count": null,
   "metadata": {},
   "outputs": [],
   "source": [
    "# Local paths to create temporary content\n",
    "#relPath = sys.path[0]\n",
    "sddraft = os.path.join(prjPath, \"{}.sddraft\".format(sdItem.title))\n",
    "print(sddraft)\n",
    "sd = os.path.join(prjPath, \"{}.sd\".format(sdItem.title))\n",
    "print(sd)"
   ]
  },
  {
   "cell_type": "code",
   "execution_count": null,
   "metadata": {},
   "outputs": [],
   "source": [
    "arcpy.env.overwriteOutput = True\n",
    "prjMap = arcpy.mp.ArcGISProject(aprx)\n",
    "#m = prjMap.listMaps()[0]\n",
    "prjMaps = prjMap.listMaps()\n",
    "for prjMap in prjMaps:\n",
    "    #useMap = input(f'Use map {} [Y/N]'(prjMap))\n",
    "    if useMap.upper(input(f'Use map {} [Y/N]'(prjMap))) in 'Y':\n",
    "        m = prjMap\n",
    "        break"
   ]
  },
  {
   "cell_type": "code",
   "execution_count": null,
   "metadata": {},
   "outputs": [],
   "source": [
    "# Create FeatureSharingDraft and set service properties\n",
    "sharing_draft = m.getWebLayerSharingDraft(\"HOSTING_SERVER\", \"FEATURE\", sdItem.title)\n",
    "#sharing_draft.summary = \"My Summary\"\n",
    "#sharing_draft.tags = \"My Tags\"\n",
    "#sharing_draft.description = \"My Description\"\n",
    "#sharing_draft.credits = \"My Credits\"\n",
    "#sharing_draft.useLimitations = \"My Use Limitations\"\n",
    "sharing_draft.overwriteExistingService = True\n",
    "\n",
    "# Create Service Defintion Draft file\n",
    "sharing_draft.exportToSDDraft(sddraft)\n",
    "\n",
    "# Stage Service\n",
    "#sd_filename = service + \".sd\"\n",
    "#sd_output_filename = os.path.join(outdir, sd)\n",
    "arcpy.StageService_server(sddraft, sd)\n",
    "\n",
    "# Share to portal\n",
    "print(\"Uploading Service Definition...\")\n",
    "arcpy.UploadServiceDefinition_server(sd, \"My Hosted Services\")\n",
    "\n",
    "print(\"Uploaded service.\")"
   ]
  },
  {
   "cell_type": "code",
   "execution_count": null,
   "metadata": {},
   "outputs": [],
   "source": [
    "sdItem.share(everyone=False, org=True, groups=\"Energy Delivery Engineering\", allow_members_to_edit=False)"
   ]
  }
 ],
 "metadata": {
  "kernelspec": {
   "display_name": "Python 3",
   "language": "python",
   "name": "python3"
  },
  "language_info": {
   "codemirror_mode": {
    "name": "ipython",
    "version": 3
   },
   "file_extension": ".py",
   "mimetype": "text/x-python",
   "name": "python",
   "nbconvert_exporter": "python",
   "pygments_lexer": "ipython3",
   "version": "3.6.5"
  }
 },
 "nbformat": 4,
 "nbformat_minor": 2
}
