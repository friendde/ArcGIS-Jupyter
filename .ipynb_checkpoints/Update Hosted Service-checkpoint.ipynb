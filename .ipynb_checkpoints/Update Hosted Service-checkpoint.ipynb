{
 "cells": [
  {
   "cell_type": "markdown",
   "metadata": {},
   "source": [
    "# Overwrite Portal Content with ArcGIS Pro Projects\n",
    "\n",
    "This Notebook will use a [map](http://pro.arcgis.com/en/pro-app/help/mapping/map-authoring/maps.htm) in your [ArcGIS Pro Project](http://pro.arcgis.com/en/pro-app/get-started/overview-of-arcgis-pro.htm) to update [Items](http://doc.arcgis.com/en/arcgis-online/manage-data/add-items.htm) in your ArcGIS Online/Enterprise (collectivly called portal). If you want to [use a CSV file to update your Feature Layer](https://github.com/Esri/arcgis-python-api/blob/master/samples/05_content_publishers/overwriting_feature_layers.ipynb) in your portal check out [Esri's GitHub Python API page](https://github.com/Esri/arcgis-python-api)\n",
    "\n"
   ]
  },
  {
   "cell_type": "markdown",
   "metadata": {},
   "source": [
    "#### Import Libraries\n",
    "1. It all starts with the [arcgis.gis module](https://esri.github.io/arcgis-python-api/apidoc/html/arcgis.gis.toc.html#module-arcgis.gis) which is the most important and provides the entry point into the GIS.\n",
    "\n",
    "2. The [getpass module](https://docs.python.org/3.7/library/getpass.html) provides two functions\n",
    "    * getpass() prompts for a password\n",
    "    * getuser() returns login name. This could be useful if your portal is federated with Active Directory\n",
    "3. The [display](https://ipython.readthedocs.io/en/stable/api/generated/IPython.display.html?highlight=display#IPython.display.display) in IPython is similar to print() but does more in Jupyter"
   ]
  },
  {
   "cell_type": "code",
   "execution_count": 1,
   "metadata": {},
   "outputs": [],
   "source": [
    "import os, sys\n",
    "import arcpy\n",
    "from arcgis.gis import GIS\n",
    "from arcgis import features\n",
    "from getpass import getpass\n",
    "#from getpass import getuser\n",
    "from IPython.display import display"
   ]
  },
  {
   "cell_type": "markdown",
   "metadata": {},
   "source": [
    "Now we get the ```input()``` from the user to set the ArcGIS Pro Project path then find the file extension of that ArcGIS Pro Project to use later.\n",
    "\n",
    "The next cell uses Python 3 [formatted string literal](https://docs.python.org/3/reference/lexical_analysis.html#f-strings), or f-string. By the way [this is an excellent tutorial on using f-strings](https://realpython.com/python-f-strings/)\n",
    "    "
   ]
  },
  {
   "cell_type": "code",
   "execution_count": 2,
   "metadata": {},
   "outputs": [
    {
     "name": "stdout",
     "output_type": "stream",
     "text": [
      "Use default ArcGIS Project Path? C:\\Users\\friendde\\Documents\\ArcGIS\\Projects\\? [y or n]y\n",
      "Use project AlpineAuditProduction [y or n]n\n",
      "Use project LED Change Out [y or n]y\n",
      "Using C:\\Users\\friendde\\Documents\\ArcGIS\\Projects\\LED Change Out\\LED Change Out.aprx\n"
     ]
    }
   ],
   "source": [
    "prjPath = (os.environ['USERPROFILE']+'\\Documents\\ArcGIS\\Projects\\\\')\n",
    "changePath = input(f'Use default ArcGIS Project Path? {prjPath}? [y or n]')\n",
    "if changePath.upper() in \"NO\":\n",
    "    prjPath = input('Enter new path ')\n",
    "    os.chdir(prjPath)\n",
    "for project in os.listdir(prjPath):\n",
    "    usePrj = input(f'Use project {project} [y or n]')\n",
    "    if usePrj.upper() in \"YES\":\n",
    "        prjPath = os.path.join(prjPath,project)\n",
    "        break\n",
    "for root, dirs, files in os.walk(prjPath):\n",
    "    for file in files:\n",
    "        if file.endswith(\".aprx\"):\n",
    "            aprx = os.path.join(root, file)\n",
    "            print(f'Using {aprx}')\n",
    "arcpy.env.workspace = prjPath\n",
    "arcpy.env.overwriteOutput = True"
   ]
  },
  {
   "cell_type": "markdown",
   "metadata": {},
   "source": [
    "Now we [get the active portal](http://pro.arcgis.com/en/pro-app/arcpy/functions/getactiveportalurl.htm) and instantiate the [GIS](https://esri.github.io/arcgis-python-api/apidoc/html/arcgis.gis.toc.html#gis). The [GetPortalDescription()](http://pro.arcgis.com/en/pro-app/arcpy/functions/getportaldescription.htm) returns a dictionary containing portal information."
   ]
  },
  {
   "cell_type": "code",
   "execution_count": 3,
   "metadata": {},
   "outputs": [
    {
     "name": "stdout",
     "output_type": "stream",
     "text": [
      "Do you want to use the active portal? https://gru.maps.arcgis.com/ [y or n]y\n",
      "Enter User Name arcgiswebservices\n",
      "········\n",
      "Connected to Organization Gainesville Regional Utilities - Gainesville, FL\n",
      "Portal Name ArcGIS Online as user arcgiswebservices\n"
     ]
    }
   ],
   "source": [
    "response = input(f'Do you want to use the active portal? {(arcpy.GetActivePortalURL())} [y or n]')\n",
    "if response.upper() in \"YES\":\n",
    "    #arcpy.SignInToPortal(input(\"Enter portal address \"), username=(input(\"Enter User Name \")), password=(getpass()))\n",
    "    gis = GIS(arcpy.GetActivePortalURL(), username=input(\"Enter User Name \"), password=(getpass()))\n",
    "else:\n",
    "    #arcpy.SignInToPortal(input(\"Enter portal address\"), username=(input(\"Enter User Name\")), password=(getpass()))\n",
    "    gis = GIS(input(\"Enter portal address \"), input(\"Enter User Name \"), getpass())\n",
    "portal_desc = arcpy.GetPortalDescription()\n",
    "print(f'Connected to Organization {portal_desc[\"name\"]}\\nPortal Name {portal_desc[\"portalName\"]} as user {portal_desc[\"user\"][\"username\"]}')"
   ]
  },
  {
   "cell_type": "markdown",
   "metadata": {},
   "source": [
    "Using [gis.content.search()](https://esri.github.io/arcgis-python-api/apidoc/html/arcgis.gis.toc.html#arcgis.gis.ContentManager.search) we are going to find all Groups and [item_types](https://developers.arcgis.com/rest/users-groups-and-items/items-and-item-types.htm) (that are Feature Layers) owned by connected user."
   ]
  },
  {
   "cell_type": "code",
   "execution_count": 4,
   "metadata": {},
   "outputs": [
    {
     "data": {
      "text/plain": [
       "[<Group title:\"Chief Officers\" owner:arcgiswebservices>,\n",
       " <Group title:\"Conservation Services\" owner:arcgiswebservices>,\n",
       " <Group title:\"Electric Transmission and Distribution\" owner:arcgiswebservices>,\n",
       " <Group title:\"Energy Delivery\" owner:arcgiswebservices>,\n",
       " <Group title:\"Energy Delivery Engineering\" owner:arcgiswebservices>,\n",
       " <Group title:\"Energy Delivery WARM\" owner:arcgiswebservices>,\n",
       " <Group title:\"GRU Communications Engineering\" owner:arcgiswebservices>,\n",
       " <Group title:\"GRU to Alachua County\" owner:arcgiswebservices>,\n",
       " <Group title:\"GRU to Alpine Communication\" owner:arcgiswebservices>,\n",
       " <Group title:\"GRU to Community Redevelopment Agency\" owner:arcgiswebservices>,\n",
       " <Group title:\"GRU to Department of Doing\" owner:arcgiswebservices>,\n",
       " <Group title:\"GRU to Gainesville Fire Rescue\" owner:arcgiswebservices>,\n",
       " <Group title:\"GRU to Gainesville Police Department\" owner:arcgiswebservices>,\n",
       " <Group title:\"GRU to GG Administrative Services\" owner:arcgiswebservices>,\n",
       " <Group title:\"GRU to Newberry\" owner:arcgiswebservices>,\n",
       " <Group title:\"GRU to Parks and Recreation\" owner:arcgiswebservices>,\n",
       " <Group title:\"GRU to Public Works\" owner:arcgiswebservices>,\n",
       " <Group title:\"GRU to Regional Transit System\" owner:arcgiswebservices>,\n",
       " <Group title:\"GRUCom Sales\" owner:arcgiswebservices>,\n",
       " <Group title:\"Information Technology\" owner:arcgiswebservices>,\n",
       " <Group title:\"Marketing and Communications\" owner:arcgiswebservices>,\n",
       " <Group title:\"System Control\" owner:arcgiswebservices>]"
      ]
     },
     "execution_count": 4,
     "metadata": {},
     "output_type": "execute_result"
    }
   ],
   "source": [
    "# search for all Groups owned by connected user\n",
    "sourceGroups = gis.groups.search(query=f'owner:{portal_desc[\"user\"][\"username\"]}')\n",
    "sourceGroups"
   ]
  },
  {
   "cell_type": "code",
   "execution_count": 5,
   "metadata": {},
   "outputs": [
    {
     "data": {
      "text/html": [
       "<div class=\"item_container\" style=\"height: auto; overflow: hidden; border: 1px solid #cfcfcf; border-radius: 2px; background: #f6fafa; line-height: 1.21429em; padding: 10px;\">\n",
       "                    <div class=\"item_left\" style=\"width: 210px; float: left;\">\n",
       "                       <a href='https://gru.maps.arcgis.com/home/item.html?id=a10b0399bad14580a30c5182934bcab1' target='_blank'>\n",
       "                        <img src='data:image/png;base64,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' width='200' height='133' class=\"itemThumbnail\">\n",
       "                       </a>\n",
       "                    </div>\n",
       "\n",
       "                    <div class=\"item_right\"     style=\"float: none; width: auto; overflow: hidden;\">\n",
       "                        <a href='https://gru.maps.arcgis.com/home/item.html?id=a10b0399bad14580a30c5182934bcab1' target='_blank'><b>AerialCable</b>\n",
       "                        </a>\n",
       "                        <br/>Aerial Cable<img src='https://gru.maps.arcgis.com/home/js/jsapi/esri/css/images/item_type_icons/featureshosted16.png' style=\"vertical-align:middle;\">Feature Layer Collection by arcgiswebservices\n",
       "                        <br/>Last Modified: May 23, 2018\n",
       "                        <br/>0 comments, 2 views\n",
       "                    </div>\n",
       "                </div>\n",
       "                "
      ],
      "text/plain": [
       "<Item title:\"AerialCable\" type:Feature Layer Collection owner:arcgiswebservices>"
      ]
     },
     "metadata": {},
     "output_type": "display_data"
    },
    {
     "name": "stdout",
     "output_type": "stream",
     "text": [
      "Update AerialCable [Y,N]n\n"
     ]
    },
    {
     "data": {
      "text/html": [
       "<div class=\"item_container\" style=\"height: auto; overflow: hidden; border: 1px solid #cfcfcf; border-radius: 2px; background: #f6fafa; line-height: 1.21429em; padding: 10px;\">\n",
       "                    <div class=\"item_left\" style=\"width: 210px; float: left;\">\n",
       "                       <a href='https://gru.maps.arcgis.com/home/item.html?id=03f0ee6418754725ac942dd4d2b5932b' target='_blank'>\n",
       "                        <img src='data:image/png;base64,iVBORw0KGgoAAAANSUhEUgAAAMgAAACFCAIAAACR/CB7AAAACXBIWXMAAA7EAAAOxAGVKw4bAAAgAElEQVR4nOy9aXRbWX4ndh8e3sO+r8S+cAH3nSIpUrtUqq2ru9PtZdxuz/TEHjvHycSTmcycyaec5JzJlyQfEmccz3G8tD12V7erukrVKqkkcRfFfScBkiA2AgRA7DvwgIeXD6+EgkAQIlUlqezR7wMPcbd37333/e///rcL/dEf/dHQ0BB4gzf4RkEdGhr64Q9/+Lq78Qb/2EAhCOJ19+EN/hGCAkHQ6+7DG/wjxBuK9QYvBW8o1hu8FLyhWG/wUvCGYr3BSwHldXfgDf5x4s1W+AYvBW+2wjd4KXhDsd7gpeDbSLGOj49fdxfe4OuC+topFoZh+/v79+/f1+l0bDZ7aWmJyWT++Mc/FgqFr7djb/B1QH3tFCsYDI6Njb333nswDFMoFIPBsLW1NT09nclkKBSKyWRyuVxarba9vf319vMNzgXq6+4AoNFo7e3tDAaD/EmlUmEY1uv1LBYrn88fHR01NjY+efLk6Ojo6tWrKIq+3t6+wRnx+uVYkUgEhmGCIKAyAAAQBGEymfX19XQ6fXR0lM/nr66uklWi0SiGYQCAQCCwuLgYiUQ2NjZyudzrHMYbPItXTbEwDDs8PNRqtVQq1e12f/zxxxKJpKGhwWKxuFwuGo0GAIhGozqdrpz5o1KpdXV1brc7HA4vLy/ncjkej3fhwoXl5WWtVjs/Px8KhWZnZ9955x2NRvOKR/QGVQF9+OGHr8zQb3V1dWtrq7m5OZlMajSalZUVqVQaj8eTyaRcLidXGwBgbW1Nr9fzeLyK6rlcbmNjw2QyMZlMCoWys7MjkUikUimZSxDEyspKIBD4rd/6Lbvd3tra+moG9QZV8eooVjgc3t7exnFcLBYLBAIMw5LJJIPBYLPZHR0dZzlD0Gi0/v7+0s+KpQNBUGtr6yeffHL37t1UKrWxsTE8PKzVar/5kbzBGfAqxA25XC4Wi3300UddXV3Hx8fRaFQkEqEoWiwWGxsb6XR6RXkajRYKhU5SrOeCIAidTtfW1kYy/mtra28W1uvCyxWQYhg2PT29vLy8urp65coVpVJpMpn29/fJXKFQGAgETtZSKBTBYPAFHpfL5Y6OjorFIgAAQRA6nb64uPh1+v8GL4yXeyrMZrPHx8cymaylpYXFYgEAGAxGsVgkz3QqlWp3dzeRSFTU4nA40WgUx/HzPs7pdDY1NVksFvJnS0uL1Wr92oN4gxfBy11YXC63t7cXwzDiKQAAMpnM5/OR/wiFwvKsL/tEodTX19vtdvJnRW45yuviOH58fKzT6UiKRaazWKw3YojXgtcgx1IoFBaLhSRIp60YqVTqdrvP3iaO4/Pz8waDoWJnDwaD2Wz26/T2DV4Mr2hhlUs+GQwGgiCZTIZML+WWl2ez2XQ6PZ1OV82taDaZTE5NTclkMqPRCJ4uVjLLaDTGYrGXPLg3qIJXIW44SZa0Wu3h4WFzc3ONbc5kMu3t7XV1dZVS8HwmjQEOixaPpSnFlN19zJfWLYzftR763//+b6rlrDs//xuMq7DPjx9Y9nwp7Cc/+Wd0Ov3o6OiN1PTVA/7BD37w8mSJ0Wh0fX1dKBQiCFKeToo3jUZjMODf3NoWCKUopbC2tAyYfDwRWNmw0JFiAoPNy/P5XCQGaAebtkzM+fNfjuGp0GEgmCogGc/K0kFk4ckslcH+ya+9e3AU0GvUqURKqqvPp6OO3a2Ogb5MgWUy1FmtVoPBAMPwSxrjG1TFyxU3RKNRjUbDZDLLEzMRz6btKOA/np6eyIR9B97AujNoWZ0Tak25ZHBxaaOtSTH3eNkbigrokMO+tziz4I3469sGWlp1o9dv+o797U0aFk8sV6upECYV0B/ObWp1RqKA+QLeWCAcjyY++PG/QHHIVC8GACiVyrGxsZc3xjeoipeyFebzeY/HQ8pCT4ooYTyzt7US80faWurNniw94arjo4w0x+dx5rI4m0l1HXqkOkPItp0tcBPp9MVrA2srCwAAtUYPUaj93X0wBGTGbgkFJWL+62/dpkIAAJDL5YZGr2ezWSre29JobGk0ko+TyWSFQuHOnTtyubxccP8GLxUvZWEdHh6Gw+G6urq6ujoypcRIQRCEMrmtA5c2H/5MrtaibEVWJSaySX1bP9Pt4Urr6DB+5Au1qBSU3g4AwMTEhFEpU4puhsNhPpcXDoc5LFYkEiEIAoA0gKB4JOz1ekOhUD6fl0gkAIBIJJJOp0t2OAAApVKpUCjW19fv3r0rFAp3d3dv3boFAPB4PBiGDQ8Pl3c+Ho9zudyXMS3/ReGlKKFtNhuGYaRE9DQsLy/r9fpisbi4uCgQCHK5XFUuPhAISCQSUsN4Mtdut+v1ei6XKxaLORwOmej1ere2tnp7e0/aoI6Pj1+9ejUWi1ksFplMJpFIIAja3NxEURTDMK1WGw6Hd3d3L1y4cOHChRcd/RsA8JIoVo2zXgkqlerBgwcEQYyOjrLZbBiG2Wx2RZlsNvv48eMrV66c1kg4HO7s7KxIrKur4/P5U1NTAwMDAoGglI7jOGk9QZrclNLL/0+lUhqNJp/Pf/LJJ7dv3ybNeN7gBfBS5FgajWZ7e5uUgJ+GSCRCSp44HA6Pxzu5qgAAuVyutuX7acuXwWAMDw8vLS2VJ5YWVo3W9vb2Ojo6tFptc3Pz2tpajcJvUBsvxf0LQRChUBiNRqvm4ji+t7d3eHiIYRiFQiH1hlVBo9HC4fBpucViscba5XA4KIomk8lSisfj4fP5NbodDocFAgEpGSF1mpOTkxMTE7u7uzVqvUFVvCxxg1wud7lcJ9Nzudzs7Gwmk7l27RqCIPX19aurqy6Xq+oSodPpFMqpNDWTyZRz6CehVCo9Hg/5fzabtVqtKpWqRnmn01l+hlWpVAaDQafTvdE2vgBeCo9VKBT8fn93d3cppVgs4jhutVpJgbtarQYAQBAEw/Do6OiTJ08AAKfZTpE09eQKc7vdJQvmk7nFYlGpVK6vrxMEAYjC0uJSa2tr+XGPXMqlisVi0e/39/b2VmRRKBSfzxeNRmEYvnjx4teYlf+y8A3wWKFQqLSfFgqFYDB4584dmUxGlIEkVLlc7vr16yqVikxUq9V2u51Op3d2dpIShJMAT7V+J7NIinVaLgRBdDo9fOy9f3/6/kcffvr5/QLCqihQXtHtdqvV6pNZEAQ1Nzfr9XoYhk9a+JyGZDJ5XjoXOfZ6A5FIwOsNROIhv9sfOlf1bxu+LsUqFArj4+NSqfTSpUsAgMnJSTab3draWtqkcBw/ODhwOp0mk4kkVCUoFIrx8fHW1tZMMrA9P2V3x9555xJ6tp0Zw7BAIFCuSaxAEc89mZwOJPNEeA0IRT/44Q8cVptG0n1aeQzDyo+QVUf66NEjBEEMBoPRaCQd0cY+//sQxvnud27trzze3PV1XWhbeDyP4XCbXvhkP9Sqlx3s7d+83L5iTTn21z/4tR/tLK7WiZG6ttGjjYdPNl0yDupOU8QCzm/92q877BazNdbUwLccxHKhLVh58Xe+d+VMc/GtxNelWHa7XafT8fn8Dz/88Be/+AWFQlEoFKVVFY/Hp6en0+n09evXK1YVAIDBYOj1eofDsbe6lgEECy2msUpO6zQWMJ1On8aJFwoFAEA+HZOotBQqEkmnRPIGMYvW0dFSYyDPPcRotdre3t6Ojg4EQT799FOSg9w0WwCVatnevjMxKxMj/+nP/7a7f5CF4BIeisr0x87tlc3l//j//jRWQLF8Xl8n7a1nTXvAzuLUytqG82DPHUqwZIYGOTORK8Q8x4rGprjnWGloMLT2CgrR7D/kqBrwD3/4wxdTQodCIbvdzuVyU6lUNBol2ReTyVQqEI/H5+bmuru79Xr9aetDIBAsLS01NjdaPbHvfPA+G6lc6A6HQ6fTnay4v78vlUorROTFfOaLu585Xc5kkaFU1AUtM3OWUHdvl1zAKAKIwPMcDue000AkEqFSqWeRuVOpVJVKtbe3t7i4GE/EEYgSicVECLFmsRiNjfvbFoIjaqjXrk9N4TTupcvX2+vVOMLOZVLpROI4HC3mC/3dHTyBaPTKdZCKufZ3AF10obsFUIoojcUTshwOd1+HSaxtFHGYz+3MtxYv7kxxcHAgEAg8Hk84HBYKhSKR6OHDhyaTqSQrWlpaunDhQm2fCCqVajQat3f3+ztbi5nY3OoKIlD1tjU+9+k4jldIL23Lj3ZzEioF6R+5uLy4CxpVqtar3xEdRQIBklgeHR1ZLJbe3t6S+4bf7yfNwgAAoVCo6go+DU1NTQAAAIaz2SzZIClmTaVSBEGksuCd92+TJV2uNB7z8lnMfD4PYKaMB2w2m9FohCCoe/hS9zCIRqNf3L+v1+sz8ZDFYqFSqVQGT/NUgFcsFguFwj84F/AXj90QDofj8bjRaJTL5eCph4zNZmtoaIAg6Pj4mMFglFZVua6woh2dTrexsQFBkMu8kqarB3XSZDrHZtJKFUssfHmtUCjU2tpKEAQg8vNTk9E0oRJC+5uLSrHo0f2p0WtXCYJgcNnxnXBjYyOpDhKLxfX19Ts7O6WWORyOTCYjW5ZKpXt7e+TJtOoTq4IgCHJ9RyKR3d1d0lqVzWaTXD/5VyQSSaXS5eVl8lkEQezv7zscDj6fH4/HSQqKYdj6+jqbzaZSqbdu3SL/FwgEYrE4k8lYrVaFQhGJREQikUAgYDAY336VwAsy74eHh6SF0/j4eEdHh0wmAwAYjcbp6Wk+ny+TyTY3N/v7+0vvpsbCQhBEIBAwmczGjlbYat1cXY8C2u1LgxXFyiuS4gAYIrbXljkiUZEjvdIh/mJ2/uZb32+sYwI6nQpAJpN58uRJJpMJhULk0gcAsFiskoFDhbihUCiUTFXPtbDIkpubm319feXq0Yr2URQt+daKxeJwOFwsFkUiUbmh2PHxsd/vp1AopClsMBj0er3ZbNbhcOA4Xl9fn0gk9vb2cBz/9t9SU2thpVJpBq1g2Y3mMj6FWEKXazkwtr7n0PAon3z6sKdZv2kLDFy44DzY/fyzz27cvBJLU5oNdZ98+kuBQFSEaVwu9+R6qrrz0mg0u91u1GuwHK5vMMzMzDv8Ua2UB8rskssrRiMhCEam739SoHHNgayakZmYP+oduqkUcQAARLF46PGQK1skEm1ubj58+LC/v7+CfzrZbAV1PAuTAEFQoVBIp9OpVIpOp5dXqWiEpFWl/0UiUdUJKbfDlkgkpL2GWq1eXFxkMpl1dXVsNrvkZvJtRq2F9R//z/91cKB93AkZcv4Njek3VbpcKr5rcxJoemXH3Nvfx4P8MJ1pUnCWFokNR8S2MVdXJ2cxkLmFlR//7h+cvROkL43L7W1p0T1+vEljsuIhL5DywIl5T6eSmUTwz/7q76/cuNncqvrowYpOSpHXDwzWfbnn5nK5lZWVYrF448YNUjnT0dGRTCZnZ2cHBwdr8OY1LOurAsdxt9tttVoLhYJAIOjo6KihJAAAFItFr9crl8trP6XqamaxWAMDA/Pz86QZ0muPPHUW1FpYuu4Br3lFgGqb3/7+n/3Jn711oYvP43FpFLPzUMPj76/ObXvyHTC0s+ts62oJxrDffPf6z8aXoVS4gGGHtv12o/KMU6BWq/P5/ObmpkAwKmQUIZ6+vbnpRCl8ZXJsxZNQ8GmpZLwAAGAqrlykarVf2rOn02mbzXZwcNDb21uhumGz2RcvXpyZmRkdHa0wZy2hRK7OiKWlJYlEcvHixZOe3FUxMjKysLDg9/ubm5tfgEMq7/YLn7deJWotrJuj1+iXRvKoiE2DgjeHt7e2EokEl8tt6Rvtv8wCAAwCAApY24VLpSp/8M9Mjx49unH7O+vr63Nzc52dnUwmEy8UIBimnL7IIAhCEKSvr29jY3N0dLSUTs5gJp0Kel2Ap+65fGP+//7j9hu/qZNy3bF4BsO1Wg0p63e5XPF4vLGxkcFgVFUIsliszs7O3d3dckXTyW7Umqpnkc1mtVrt2U3pURQdGRmxWCyTk5Pd3d3kHneuPpSySseCs/f21aOWuIHH5QIAyI9rb29PIpHAMBwKhcotDsqPP9lslkKhMJnMhoaGhoYGt9s9MzMjk8mgXNDsjLMYrOFrl4XMKh8rSS0kEonZbC434IzHo9bNFXcs2y2HZscXhq+/rVEpAEFt6RttAaBQKPh8vs3NTT6fr9fryVdls9lKbZbaJ9+BWCze2Ngofyh49kWWqpyFeX8um181y2QyKRSKx48fNzQ0kF6QFQXKCedpzbJYrFAoVNXy8duDs4obTCaTyWSqOOmUg8x68OBBZ2cnqSaTSCStra0bGxupREgk0Xa0NgkYaNXHkb6BCIJoNJr19XVSO5QIuB9MzLcMjODpJJXO0Lap2YUkyhMoxOxUKrW8vJzNZgUCweDgIJOOFiEEy2UpMJJJp6PhME8oPHbtUsV6+9IMqmzI+w6YSlOLQZFLRg+DCeA3A0WHf3/NbtvnSOtvXR+Gn3ajkMtRUFoByyaTaYTO5LKZeQyjomg2Gc9DCIGlmVwhAkO5TAYnCAzD6CgVK4JMIkFB6VwOq3xsp605Ho93/fr1zc3NsbGx1tbWurq6Gl6T5T9L3/BZ3tdrx1nFDSXP0hoFAoEAQRAOh6M8vbu7m0FkJxe2/vQ//dn1W7c7WhpRFCXFffFokErnM+lUgUCQz+cBADqd7sBqTYc9njSSt+9lQHHDevhbbw+HsvBlsYhBR/YdB2NjY1wut7W1VSwWk7Ps3Zn+1JI3IEdFpsq+b13eMP/bf/uvjl372TzX6vFoEP7B7p6BUQcM8qNDZ3Ji4te/c3VycownrQ9GY1wltXwzezJxjyJpSLoe7zhoI9eHB9p1f/Enf/aj/+4PPv7LP0FEqh1v4Nc++CfNBsnU5z8zh5j53GM5G+UZZB//7eyFK8NDPabygdeYKxRFe3t78/n83Nzc7u7u8PBwOddVe51BEMRgMFwu17edYp2xXDmJPu2jOTg4qLAGJuHaWw2EIiNDA6lCYXJyEkVRKpXa3t6+szxp9aR5PP7lt26SzR4feqz7m0fxlEFVPzLQa/no82wR5ogU3KfPxXGcFCI80w2UYRSjlgPQwHUNDPb+4t4CAkHaJpMnCfOZdCxfEEv5eA7LZ6NZDKEeuzwZVMTmapqNca82nYynCwQDBhAEJRIJDl/Oy/n24nkCoBQYJgC1ub+bThR1ncO+rYnm1lGPx2fgJ/d9uN+zdsl0w5mjvMejEwQBw9VpSQ0CgyDI6Ojo8fHx1NTUpUuXyI+t6tZckcJms08zovz24JuMjxWLxapaGGsau/95Y3cmk0mlUj4fo62tjUyXKHUpEM2kYhsLT6LRqMPh4DMoPn/8arfSfmi9PNx57e3bi4uL+3t7sVgslUoBACQSSUkCVIJY3TysQjub9XCxyBQIo/FkOp1mCHRGPmFUfRcAAEA3AKAIwM13b3G5XCkDAJX22HGgMDQBAA4P9iAI0uv1NBqtrbmZy6WJ1Y1Op5MKEQCAtuZmAKA6EVfxnd+NuPb1Hc35dOSf/u5PttcWuVxGr1AL0ZCRQROV8oKstFQqbWxsXFlZuXDhAoVCKTd5rUD5m6JSqZFIpLY5xuvFWXmssxRDUbTC45lEIROdXbJ0tjTGMtny2eEzEAogkvFUS/+V/M5iOp32emN6pchy4Ljc105q8eLxOIfD4fP5JbE1iXw+H41GnU7nyTeRyWLT09MQBJX8dkooFouk9prNZpdvJclk8uHDh/l83u/3+f0AACCQSJhMdG9vDwDg9/uOfCHgCwEAVuenAQBUKpVKpQKEpRBzAAD9zzqQnRcajSYUCjkcDr1eX368qAGhULi1tVV+gv624awU6yzFTivjcTllMsnd//yR+uplftkCZXC46bTL1Nwg5NI9VGpLS0sul0skElevXj06OlpYWJBIJDqdruScWMLy8nIwGBQIBFqtltQmlcNsNguFwpPpAIBCofDkyZOq+hClUkkak5Unln5WeAodHR0dHx/X9hY5F9Rq9fb2dqFQiEQiJa12DZDsxFlKvi6clcciTaxqn65LZ5aKAhpj/Z2PPucb9TIeMxv9KqgQT6L97ne1pboAgFQqBcMwgiBarVapVM7Pz2cyGbvdrlQqqVRq6TRKGhCDU1TUJaPQUkopl0qlCgQC0ra9oiKTyWQwGAqFovYwSSgUCoFAMDc3ZzAYakxI7SyiiKczORaLBUFALBY3NjYuLi7SaDQajVa1boWAQyqVWq3WEl/xbcNZnSlgGIaeB1AWrqgcPpfV2DusldGjyWx5ejoeuH/37ief3AkksqW6IpGI/AdBkO7u7lQqRaFQlpaWxsbGAoFAsVh8bjdqo7W11eFwnKv/VcFkMr9WP/Dsrz76xdyTxw+fLAEIAgA4HA4Oh0Oj0U6rUdE9Go2WzWZJ/dVLXCAvirNuhVCZBOW5VSoKSOp0v/qLn7b1XpKwaZlYppSLZZIybSOtkMwXvgzChqJoJBIhV08wGLRaralUqqRzvXfvHovF4nK5PB6vFHuy6hMr5rqCeolEIpvNptfrT1as0EmfcZg1SlbNSobck4sWCC02tg9uzT8uFItOm00oFDY1NY2Pj5fo98m6yWSSHDXxNDZiPp+/f/8+m80eHBwkR1fbd/KV4azM+9fisZz2y9ffXvz8UeH6FV5ZmXw24zuKXLrUz6ChuwQBAGCxWCSf4Xa7nU5nc3NzMBgs8TfhcJi0psrlctPT02q12mAwnPQAIw28TnJmJbS2tt67d08mk1XoDc97QMYwrFgs1tY9V6uW+vjzKSlSSEuMO/Nj2vaBsQcPuFwuac8jlUpnZ2cVMqFMo09E0jwuA4KpNBQp4jiHyyWtrsuBIEhbW1s0Gp2dnQUAhMPhjo4O0urm9eKs8bHcbvdzzXbJc83JdL5YSoGoXQOdFIjAstnS+S4WDbF5gr31Ha5c7j9yk3VRFB0fH1epVGq12mq1kiG7yfIMBkPzFHq9PpPJLC4u5vN5FotVfholVT01XAghCGKxWHa7neSontv/00CGdDvjlwkAIIpFDMMghMYtHtkyqtEWodDQcezc7enpqa+vJxeoVCql0Wh/9+d/6s/hth3LmmWXoDJlHOrP/+YjhoS/NbeubzVtLk2jAiUToRw5rAhL6Dk6lMtEiVB4d9ecgZgCNqNiXK8F36TDaj6fr+rWnAgc7dgPAUpjos8II3gczq55K57LEgAQBJHL5cbHx/f39/l8PunKNzAwcJoxAgzDOp3u1q1bDAZjaWlpaWnpXBG85XK53+8nQ1GSwHG8hk92VUAQVEPsdBJPxn41OTn980/vaDpvX+yQMkUay+qcWCyusN6WyWT9IzcTB6veoJdGQVgMFpXBNeq0iUiMz2MGXbs2pwsHMMgnZmfmrIe+lOdge8diO3S7jqJ0lFGDVL9KnM/FvoZtCWnpi+N4qUDxKVgcnnvr8b/79//BF88Wi8VgMGiz2Ww2G1akyHT6d965waQUY7HY2NhYe3v7xYsXi8WiQqHo6Ojg8XjQU/++qg8ll9fo6Khard7b27t//77ZbHY6nYlEwm63nzwefjVsCmVkZGR5ebmUsrW1RR7xag+zHDqdrtynssZcpcJHn38xFo4Vu4ZH1DxmDieEEtnM1MTAwMBT2/lnKl66duVHv/evBzpb3c59DMsRBBHKJNQKhcqg5wnFFAwqYDnL+irM462vbWjrjU8Wd+uVXJiKJCKhb5BSfB28LEZvY2MjFAqRViXZVCyUwuRCus26K2Cg6XSapNXmfXuhUJiZmQEAQBB048YNgiBmZmaampoikci5HieTyWQyGY7jLpfr8PAwEolMTU3t7e319PScplPjcDhyuXxlZaWnp4e0wrt9+/bXHnc1YMn//Msvfvzr37t7b2xjflrX2B32uTc3N4eHh2t4mqAoOnLlhkJjMJu3Pbbt+vp6cgkSBPHBb/wmBEF1vaPkkoQg6L/+HTWGYZcovNXVVb/fz+PxTqP0rwzncKYolTytSvlhOJ1ODw4OksOLHx8WAFVlaG1vVJezumI2MrmwRlBoV65cnn88hSDIyspKS0tLXV0daRMnl8tLR6Ta/SRzqVSqwWAgCY/P5wsEAmNjY83NzSdDHZGor6+fnJwk7fdP2naeZWZSqVRJFlAV0WiEw+Ff7dMtr9kobOG165ete3tWj+f27dvkVNSoC0GQ0WiMRCJ7e3s+n48Mjk8QRDqdLkluE4nEe++9V2rn+vXrQqFwYWEhGo3eunXrNS6vb1LcUCL+Jw2bQoe7jxetmn/z+3zGV2wWkU9HYxkBB8nmCwRBrK6uUqlUcjG1trZOT09fuXKlNO+1+3kyl6RhPp8vGAweHh5W5eUhCLp8+fLk5GQqlbp27VoN0UNVqNVq8vqW6iUJggCAiic+/dX8+7cu7k6tvHPj0tzsLIvFunz5cukDe66oQq/Xoyh62gWzExMTZDEywgqZaDQa8/n8nTt33n///de1ts7KvHO53OfytuVNlf9PEPlAHBrqaSLAM5PIkhnhxMHGnosAgIy60dHRQWYxmUy5XP7w4cPzMtTlyGQybDZ7dHR0Y2PjNHMACIKampr4fH7twDWn4dTZwxJ7O/P/x//1l49WHaPtup8/XLh+bXRpYU4sFnd2dp5bQnF+IAjS399/586dtbW1ku/kq8Q3GR/rtKY4Et2/+tf/8r33bgkYz3hdHluXgoS8tUF9aLeT/gjluZ2dnSqV6ujoqEaIrNogxa0Igly9enVqauppL/Hxz/763pODUjGpVPrCk5BOp08KvrHE8bLV7z4KC6iBFqP6uMj83o2LEw+/IPU2L/agFwC5th4+fPhabqr6JsUN521KWt/VaZACGjsS8F69evVkgc7Ozp6entnZ2RejWzAMS6VSn8/HYDB6enrm5uYAAHubK2yuIBHa+rvPxkvFTgoezwgOh1OxKDMh9+5RdHfx8eHBAadxWKnSGJTSiYmJoaGhhoaGF28sKWIAACAASURBVHvKaSBNiWqA/Khey52gL4tiicXihw8ffvzxx1XDr5FIhY6jaWxr+bFKZ6jRJpvNfvDgwYutrRKHoVKpUBS12WyNHf0olQayeTEbjM99ecl0sVh8sf2iYvawRLTIqaNmQtFY5t3f/t33Lg6E/d6xsbHBwcEXuH7xucAwrHaMQgAAm80u+QG8SpzDHqv2qZB4GlYKPD3OGI3GQCAQCASgZ301S1XYYuWt2xK+UFiv05RnufYWH694BHx238URAEBHR4fL5friiy/eeuutihAGVZutyCrltra23rlzBwDQOXjF+dHfEelknoLa3AGjWqrRaMLhcInBf651QwlSqdThcJBcc8S7N7HoaG00mLqGG9p6CAI9Pj7a39+/fft2hTNPVcuL0wZV0Znyn1UtOypSWCyW1Wr1+Xwld/BXg3PYY9UWG/o9R6lE5DgURAiaWECdfrKgamh3bSxwlQaCIPweJ0usTPi9EpXC67TZnS6YLRvqa5uZmSHPO8+0DNMuXLyslrNhKtUDQQCAzs5OFos1Njb21ltvVfTqtP5gGDY3N5dIJDAMo9PpJbOf3d1dhULx/vd/47OP/76lY8igEp887Z6dipNXuZLl55ae7JuPG031i+uW/s6mJ7OzTCaTPACe67xZkUt+rlX75nQ6KxjEqi23t7evrKy88847ZxzUN4KzhjEKBoMwDJNfXsVHtjpxd8mbmrzzV0w6Y29vjyo1ahTiqO+Qw6Xduz+OCOQt9eqV2XFPHGLjwaNAJBaLPt6wqVSqOjH/+Pi4JHouNUunUtyHhwsLC8I6TSTgk0qlKIqKRCKHw4GiaFWV5cnvnkKhqNVqUq5YX1+v1+t1Ol0gEOjv75+ZmVGrNS3tnQIus5hP/G//4X9XGkwcZmXLZ6FYsVgMx3EhG/nrn/4toKIooAZSxEBP8+rSIovFam9vf67jYcVTvNYNexiEvTszE3P+WE6tqTt2mh8v7xSzka0dm7BO6XPZ6Qx0dnry0JvAC4mD/QMc4Ur49KXHM/uusFiAzEw9YQnlxVQgkqMghfjk5EwGZqZCbq/XL1UbUPgVyeXPx7xXFQZm6Gx+OiSQKszHkMNxqFcJAYCSBUTKofDFUjyHpXzWPW9ud3NZYmxdW96sr9exEDifzuzbvox9VdFsOOBZXlkViSU2lyeTyXA4HDK3v79/e3v7ZH+qDgGCIPgpyoVGfD6/ra1tYmIil8tBEFhf3fjJf/tHUffmhs1Xe5i1gHI66kUafZdIrnz37as7G2stLS1dXV2nraoKK6tyxPNFt2XNvG858ochBKYA4LI707GIUl6XYojYRGx5aeEwjAm5NIne6LFafNE0BMOgkF5d3/d5zL96tDR0aWh1fmp7Y3V7ZysadPPUbeb1ueamJjGPNvPF3X/3P/8vzuOzBrz8OjirdQOpn6k6U2wmW9/YKJYouluNeoNer1IAANRq1ZPF7ZHhIQ4TUegae7rae7raUZTe1t7KZHE721qEfLbDdlBV7sfhyzRaDUHgTASiQFBJq0qn0x0OB41Ge+ErSUj7BS6XKxKJZmZm1Gq1SqtbnZ92mNd0zd1K2bkdqmKxWDAYJAiCwZf73A5Ta8vq4pzJZKqw0D87ctmMXq86dAZoCJXO5Gi0ykOX1XVwoNI3wixe+nDblyy4vdFGBYcuVO2uLRAoTy6Ty4X0SIZKz8XzBOH3HheKmSN31O/zSxXijXVzOl80iMCHn611NPBYsgYIZqhlz2H5vz7OyrwfHR2VohpHIpGKg67ZskserHK5XCTypSgyEAjk8/lsNht5VhCVSqVoNFowGBQKhRMTE1Uehud29u18Lrfe1Io82zvSA1apVNbubTab3djYGBgYOK2AQCC4cOHCxMTElStXupqNkRysELJ2ludRma5eVcVYvgbIMQIAWFzu2urKpUuXnntSqwGlWg8A+O73v1dK6eodwQhGc2srQQCCUDYPwnihAFMoAKKoG5qHhoZhKgIQ+NrlPkD0Fgkiny+gKAJBFEAUCQB0+jbPkbfIQH//9/vqJPzY+HRLQ2XMzpeBszLvxWJxZmaG3FPKQz2RMJlMXC7X7/dHIpHyaJGn4fj4WKVSlVQQFQi4zZkiIuNy0hQGQjyzguVy+dbW1tHRUW2TI4Igqt5VTqfTc7kc6R0qFAoHBgYmJycHBgZaDaqlxUUajc5IZDRSwbnC50ml0vr6eo/HY7Va33nnnW/WgDOfz4cj0Vg0+vjx40AgoFKpNBpNyU+EQoFLCgMKBQIAUAAo6wAMyECvOm2xWPT5fDqd7u333v8Gu1cDZ6VYSqWSVFqB08UN5F5JpVZps+IIvbu7OzQ0VPUIDQCQKJsuC3V+35FeIJqenqqQMMEwvLm5SRKtGuKGqvqlpqamtbU10oqXIAihUHjhwoWVlRWDwZBPBbCspP/Gbc/22FZU8P6VnrMLYsirnUqBk6oOqupsVC1A5ubz+eXl5WKxqFKpTCaTWCweGhoKh8MOh8NsNkMQlM/nA4HA5OQkACCTyXC5XIVCoVKpqs7/C2svXhjnc1h9rsb0NJFEeeLh4SGDwSgPU1ZRJR3z/T9//KcpCvdHP/4RaZgFyl6A2Ww+ODi4c+eOVqvVaDSn8VtVewLDcLFYLNeU8/n8vr6+paUlubZlcGgo5rNu+aCh9rosQZzRr4ogCIvF0tPTQ6VSn3vyf24WmRuPxxcWFkqhEsmgX3K5XCKRkFZA5Gp2Op1k8JxisZjNZre3t81ms1qtFggER0dHGIYlEgk6nU5G463q8vny8E3GbgCnn6dKiRiGbW1tXb9+vWouCSZf8Uf/5n/cs3nFbFqMQqnYmDo6OqRS6e7uLpfLXVtbKxaLJ8NN4TgejUZjsVgFu2M2m0vautJDuVxuU1PT3Nzcsd8vk2rfudUAn0dH7PV6uVzuSb7quXNVFS6Xi9RVjI6OlnwGyQGWLkw42Q4Z5Ke/vz+bzR4eHqbTaZVKtbu7e/PmTfK8FY/HQ6FXeiPBWbdCuVy+t7dX2+z1LE0tLi52dHTUZmLSAccf/82d5vpGhFXFYR8AQMY4hWH40qVLZDSRk8BxfGZmpvTRk8hkMic99EOh0Obm5s2bNxcXFwFoPo178wcCMokEAJDNZkt2iJFIJBwOD389T2gSgUDAYrGIxeLe3t6TphYNDQ1Wq7X8EF31G6bT6aRGcnt7WyqVlk7xwWDwFd/XctatkAzxW3thPdeiNxAIYBj2XFN/pkT33//h7yNUBMOwRZf1ZAEIgoaHh+fn50kNIAAAz6fvfPro3f/q/XJyf/nSyC8+uiPi0QGNg2czLAbtOBz98K/+v6NUUS+k2UO5Rp0iHouEQ1Ehh/VkaSUaPJ58YLO5A43tPRLul9SCQqGk02k6Jfvzu3NGhZArZEaDyUtvf4fPoAIA3G53U1PT17zJHMOw1dVVBEEuXLhw2icnEoksFkuhUDjL4YAk5OUh5r6MCfAK8Q3f/lWjtXw+v7q6OjAw8Nwn5pLhrS0rDgCKoqcRJBaLRRAEebkXlgh8duduDoI91r3yqy1QCHcd7qNExh0hAh5PLA8JBIKhSyNMGsIWifQCBpXN7m6U5QuwUMxgcWQiiZIv4OXz+dYW05WnUKvVIpFIX6f57juXC0IDo1jsHb3e3dZMycQjKQC+Cvj+gnC5XI8ePTo+Pm5vb69ByCEIEgqF5dsZlUoNBAITExOfffYZaVxKIh6Px+Pxnp5nDh+vPkz8ObiJciX0SYAyK9OquQcHBzqdjs1mV80tr0WB4WPH2r//H/4nVyhT/vQKDA4Oku5fAGFfu3TB59w5zkAIpaxNCOq8cDni9+AxV9fl4WQCR2FKIhzkAhqDCR5NL/X29roOwwoVZ8kaj1sfK1v62QyWTqedmJyORCKldmQymbq1q8Gov9KuQvlqAV+AUAssNm/s/keUTGJsZqXqlNSeKwBAIpF49OhRoVC4desWeSN6ee7JukajsWSnAEEQl8u9efPm1atXb9y4sba2RlYHT+1Bqj7xVeIc5LG001XtaCmLqBYeM5FIuFyuqkZX4MTJPJ9JhtPE9du3eUxqjYey2ey+vr5Hjx5du3YNRenvfve3JczsJ7/64r33biFkm1TmjeFBaKivUIRQGtpsaHw8M9PY2q1q6GSicCQKCZnMy29/F6bCMzMzQ4ODCJ1eEFxj71joTPbCwgLpW3F4eNjT0wPDMIDpUpn8wuCFVCoHcOzJ8pqkTsri8PbsLmK0b/PxF5C6V8WmCoRf3ZmAYVhVy1WS1iYSieHhYdKwhxSxls/GySGTvHwmk6HT6eVZDAZDKpXG43GRSEQQhMvlqriWlhRGVJ35l4dziBtKg6lh835agaWlpY6OjooD+WnVAQSLhHyeWMxEYfIawVKZWCxG0pKSyCASiXz88cdarbaQjf/0wfTQzVuPH32BI0wm8pW+nHgasCQajS6vfRknKJNOLSwskGd7CIJmnzwh00n/iEKhcO/ePaFQ6Pf7ySuASWWDw+GIRqNGo1GqqLvefmN7Ze6977zt2Z+bWdxogg0J3AtjGYOpYXb5gMdjIhSCfMdms1mhUJTf06FWq8VicWkghUKhIkx81Wmsr68nA4FUZDGZTPLiGQAAjuPlEfYBALlc7mVYg9XG+a48qVG4/BVWZHk8HtKG/ezNxgKeyTmLwagvFovlrmBUKrXc5SaVSpHhDEKh0LWrVzu7+u4/GtPo5J9Mb/43v/s7aNk+Pzs7Ozw8nEqlSgbQ4XCYy+XqdDoqlVou47Hb7TAM4zgOw7BGo0mlUqSPPxlCQq/XYxhmNpvJC6qGrtyGIChOMf2LP6xfXYweHR40XvrgcHt6e9c+ODg8PNwHACAFsKd5CpGgUL5idmtMslgs3t3drbjcOhYJZ+Ph6RXzP5eyH0zvysX017L3VeB8W2HtAlW383w+v7GxcdomWI5IJEI6vWDp8JPFnYbW9s215Xw+39zcfFoVOp0Ow3B7e/vm5qb14KC9vTUZDICOvt94R7BlsQ/1tpSWFoVCYTAY5F8yBYZhu91eutsSgqDOzs6TTC5BEPfu3YMgiNQROZ1OAIDX63377beDweCjR4+am5tJNUDvoKi5vY7JYv7iwbFIyDfq1JlMxmw2k3Exaww8EAic0ZWjmM943U6XR2fQqo73ls1JwaUO2a8++njk3beKS1tTD8Zsx2kqRd3/LH36tvNYz+0fh8OpiGwLAFhaWmpraztLfDC73a7VaskwfD0DX8aOJw3Va3Spqalpf3+/p6fn0aNHEARpG01yZnFt5xCn0t0hjUZUXRIGAGAwGE1NTSUHvWQyubi4ePHiReiEpNdkMlEoFNJpQqfT+Xw+LpcrFovFYjGpu9zf329ubpbJZEwW8/j4mCaQtgkFiWjoyfREc3Nze3t77amrzQNlk7ECzHTvzu87IlQ6oWkZuHf/4e/93j/lqxvA/HbAnQ5Eg5btg+b2rqTfyaEUh0dGKryAvkHr87Pjm5RtMJnM8mgIAIBQKJTNZmtf8V0OOp1e4Qf3XE8piUSysbGhVqt1Ot3S0hKKoljUbz8KcMUGvs3sf2rtHY1GJ8fGQ9GwZd9aJ2AjHAGNxsZySfvRkbGti04FyUiEKxT84ud/T2eg0VDwyB/gy1QtRk0oFCof1O7ubqFQKBmy8vn8kZERl8tlNpt3dnYgCOJwOLdv30YQZHV11WQyPXdVAQC8Xm9Ly5eXdBaLRRzLJJKpJ9MP2XVNibAHFCmXb7zt9h7HYxEZX1skClQsEY8nhFyurl4pVWn+8F82FnACosBTk/GRS5cFHFbtx70avMipsEacd7IYWSCfz6+srFy8eLH0uT+3LnhKF7PZbD4dsTp9x6Hooc0STuHNLS00apUbxREEISU6Dofj+9///szMjFKt1rUg5av5yZMnb7311t1PfrbrOJqenjTWiUzNHXG6SoQ6Pvvk8S1hY7cKXVt4KGp9Wy1g4iwWiseWnPTu+iYmAxoeHs7lcqSSEQAQjUbVanWJJyMTtVptxU3pq6urEASddsFO+XgLueTBvlVnUBcIJHJ08GjibnfHUJohU9RpRA3Nan7br+6PcRlUEY/V2HHRvLERLwauv/e9Q7sN0mgkQjEEQVSERkW+nFsyRHnFQ6PRaGnhvjK8yFb4XNJKFjg4ONAqlelkeG9vT6HSwCitkIpTQfHQ50cYPIOCfffhtExrKoat4ThA0eya2VO3FxzQIaE8lS3RM6PrG65cwOvnMIBJr17ZsQ22Vw/7RKVSW1paMAxzuVyXL1/+/PPPK7zLYRhmMpksuVaXSsn4HFTZtbj0QN9e3A54C3TG1sxYnJv8fGaHuR1+Z6ThzmfTV3vlWDy8srxsqBPE43GSYtFotFwuh6JoV1dX7ePb3t4ehmFkvKvT54rYXnpsD+FMWo7FZc9MTnIlzQpmWq7pxPJhqzX9/as6bzIJiaQ3rl8jCKKt/yoFRjTKG4UC7vf7l3d3s9lsMBhsaWkhQy/hOE4GrDv50JNL7RXgfNYNX1H1QjZZoLLp1GeysJQvGJ6bmeJxuHSp+i/+6s9/+/s/+GJ8AaaKxEqddW3et29l1qm9bjuWxiU/fNcdSCiNVOdxEAdMBouVyeelMmHrhe6//fijXxsZdW4fqnRo6MiTzReCwSSzrsqhsnweOzs7yQsKh4aGlpaWRkZGSnSFLHZt+OIsABcG+gGFBm70OhxOFG3vu8xic3lEId995b1CPo8iCIuvZjJoP66L0Nm8aOj4ypUrdrudQqFotdpHjx5dvny5+oQ8xf7+fjQarRB8l/DF3Z/laYqbly+iOb8Xl18d4k9MTBUgRobCFOfcrgRkMLXoNKrO3jyLzSTV2nQarVAoxGJxt9udSqWKxaJMJhseHo5Go62trSsrK6FQqKWlJZ/P83i8ikM0iee6H74MnEPc8MwSzHg/fuBoUTF4MmO99ul9QygrFbT5CtgBkhSHY23dXXvrS1k6m04ppjIYPxMC3UOWlS0eiw7otEwR5rMYqWhM0djToWbNbgRuXr3GAIU8AV8cGIIhoDX1aSBqIRIc6O/N5CG57EvlcTQaLQ+WBADAMCwYDCYSiUQiYbFYmpqacBwfGxtTKpXk5SuxWGx7ezuTyYTDkdW1DfIkEQqFaDQai8WCyvQhpFiLtF3KZLPRaJSM0IzjuMViSSaTZGwcGo1WNfRyLBbzeDwXL148TTFXzGTzhVy2WESZouLx/HwUbR+4PD/xxa233hZxGFmcwqKjAACAIoVCIRqNut3uSCRCmo6JxeKWlhby3JrNZt1uN5vNHhkZcTqdMzMzGIZRKJTJyUk+n19xtn09C+vsRZ+xTkFZSqlQZdDKxM+ai+Sgxks3pj/7rF7dUm8YlLFACGPCeJbFY3Euv09Q0QvNxlw6mc5T6uTi3/nRV3zJ2/Km1dVVg8GAUIBGpQIAwFQEAIDSaHyhmA8AjuMOh8PpdOI4XiESUyqVXq/X6bD1DQzjBczr9cbjcRzHGQwGh8Ph8XhcLjcQCJCSBaPRSIbxtNvtTCbzqe0DEU+kuBw2AMDtdpNMIYVCKRQKjY2NPB4PRVGLxfLB25c8cYZWzr57927VKXK5XAaDoYblU51K6fTnDg+PW42KW+++k8IAm4F69QYOgw4jdBYCAACRSCQYDJLRiMgzcldXV0U7dDodQZBEIsHhcPR6vV6vX19f12g0Va8UOHlUfwU4x8J6Zr5QgVwasyxPZTqv6eRfHemNnb2tSsmhtk5RV8dms/MAcBkAADbAc4k0ACANAAAQlY6CyAmbxnQ6HYvFXC5XueI5EomsrKzk8/l4PC6VSvv7+1dWVqqKhYL+w4X5JSEHYUiN5OVNU1NTDAaDxWLJZLKGhgbS5NJisTCZTKVSGY/HI5FIPB4HAACATzwaE8vq2Hwpn42WFlYymSS3tkwmg2HYk9mpu2MWpYJHpXPLrfWTySQptiD5npJGj0qljoyMlHey88KNkpwUglE2AwAAMAybnZ0tmUiQEUqGh4cpFEogEDjNRZsMpVkyYYjFYqcZWfyDEjckPJvrm3UGvc1i08m/CuYRjUYnJiYCgcD8/Hx9ff257EmSyaTf75fJZOVGcyW7eBaLRbb2TBAOAo+nMS6LlC5CPB6vc6CPw0DHjx0MBqOrq2tycjIUCimVyvb2dgRBFAqFQqFIJpNWq9Xr9VIolFgsRjYkUzfcuHqRwWC43e6S5D2fz5MdcLvdAIB9y3qTydhkVCSyePmVAuPj4xU3DJC4d+9ePp9/rukmhmHXrl2ryl9Dp1/3JRKJrFZrKBQSiUSk5fGrVwjWwPlOhV+JG3ia0QEYYVBpbDHJpZHvm8/nDwwMJBKJGzdulJ/LziJuKBQKRqPxpClmxV12xWIxGo1+qSvEko9mN4xKXjTPKuCQSEhfmbmPiuoxDAuHwzQaraOjw+12Z7PZnZ2dkpcbh8Pp7u5mMplsNvupww+xv2U59jlysEjMZpKWAvF4PJVKbW5ujoyMfPnmkCxNpZlb2gV4sau9VSaTlcZ1klUl7xKPRCIn78go/zYoFEqFX13FXFXoM0qzQaVSm5ubnU6nWCze3t5ubW2FIKjqvX/fdsk7QRCFQsHhcAQCgVwmGYlGcmlMqqkXcukAgGw2S14ZPz8/39fXx2AwqroMVP3+ykd+skDFEbpQKHwVaATPYplkEhOIubDNF9na3mTw5DTXolDEdbvdEASRN7+jKHpwcHBSlvOVZSKB2z22HERnwVkOIrdYLFQqFcdxCoWSz+c9Hg+GYSiKAqYcxGJv3R4mENHk5CR5u12FW0d5txUKRTQaPeljeHK8p83VablkCo/HSyaThUKhUCiQpg2niRtOzvnLxjnEDTabzWw2q1Sq1tZWLi3/4Ye/yNHkVDorGPSTHnxcLndiYuIsasFzI59Y3DoUsmEWX07SoS/TiSKNyU+E3FS2ni+S//bwKATDeYSzu77U0dFRLBZXVlaSyWQwGIQg6MGDB729vSWTkmcGDsG9XV3RaGLRfBDc2GhtbSXDkyII0tnZubq6mslkbt686XA4bn/vbbJGwCXp7u6+e/cueZVGhfY9n887nU6n01lb9wwAODo6qh10r8YLIsMIkJ9Q7ae8epzDglSlUt24ccNkMvF4PAjlNTY35kI+rVaPIAiPxytFOH7hrtTqCVHc3douAApUsZFi8b1dcxRn+O12UMyn84Rlcz0SJtkmYLPZaDTa1atX33vvPblcPjo6urS0NDc35/V6w+EwyTaBp5FCvnj44C9++lOPy0nK8V0uF3nLC5PJJB36UqkUwI//6k8/NO/aCwQAAPB4PJlM1t7ezmKxJiYmSi5W6XR6eno6n89fu3at9nWVhUJhc3OzhooagqBsNhuNRssNtsqhUqlIvXgNMBiMp2eUV4dzbIXPSEewqMvulhiagoHj8sWE43jJI/S8qLUoEfbNt67BIIcy6DiOP+W4AQBEg16P0Kh5hOfaW3n4yc+lpr7YvgWh4OFw+ODggPQgIE3h7HY7GSqCNPBiMpkEQbjd7u3tbalUIq1Td3T3HLqDjfU60mBmZmYmkUhMTEx0dXWl02mHw0FQqJ19vXQo4/dGS+aHdXV1dXV1wWBwZmZmYGAgnU67XK6+vr6zsNKPHz9uaWmpQbGYTCaCIGazmc1mV11/MAyTgQtrPIXBYMRisVfM2r/oqZAmoFGodDFHwuYmygL3q9Vqm81Ww9DlJOaXVwa62r3+cK2rhvLJ9Z2tbCzOZIlwvEDGcAcAAKLoOXRl8zibL07G0okCvZFNYyDsSCS0s7PT399fMl4wGo337t0jL/wlE3d3d1dWVkhPPb//2KhWEgjaaGpDoBx5l0kymRwaGir3GBt/YLc5VrT1Jjjlr+igWCy+cePG1NQUGbv2LPtANBplMplqdS2HdyaT2dXVlclknjy1QzyJxsZGUmz7rcL5VEhfcbu5IEPeyUoENsz2VCpVKBTILKPR6HA4TkZeJJ7iZJsh1/7dB+PxDHbayyAIgqAy6FhCa9CK1AoajdbV1dXd3d3d3d3V1YVSspp6U3t75/UbV7BcvJCMwUyRUqmsr68XCASlh8Iw3N/fHwwGyQ0rl8vt7e21t7cPDQ319PQo6urW5qf9sTwMAyaT6fP5MAxjMplLS0vlHwkEU9XKJgElFssRJ48jTCazr68vk8mUOOgapraRSGRhYaGqbvjkXJGWZJWv4CmEQiGLxSL3yhoPfcU4n7ihNJvhNIpCMZpIIUnnvN58yS2JDAq9sbHR09NTUfe0ZocvX6fAcKYApWOB054LILStu5/GEcBE8cmR/assCqTT1G9a96VSpUAm7ezuvnrzFgDAbDaffCgZfe/x48c4jh8cHIhEot3dXVIcH45EWi5cJuURdrtdpVJ5vd5oNFpfX18u/iAgdt+FFgCAHoDxcS8AIBQKFYvFkrBALBYjCELKwGpb25rN5qGhofILzGrP1WmG8CTkcrnX69Xr9d8eLv4FLUiX52fDqVwD06DWGZqaGsqZqoaGhocPH5aE0c/FzrY5lUgWCKqgTnTqvBSSy2tbCI5nYC69vMtFzBfK8vgs79GhmE3Z3trUGhsVpzs/trS0mM3mra2t4eHhYDCoUCi4XC4EQQpF3ad///M8Tq1TyjKZDIVCOTw81Gg0FRQlFjj4+JcxQONB2QyPzwAAnBQlIAgSDAar3u9awsHBAY1G43A4qZBnYm6xsf3C4cYS4MkvjfT7HE65QmDzBOOpYk+zGitSspk0g4aGwyGHwyWRiBGUls/nUBgceQOSurpE8BgDVL2xfmZqUiwWn7ytGLwuOdaLUU6ERtOiYPzRw5s/+IlSXqmfam5unpiYuH79+lksboUsKk4VQwBCIOjUCLZUppzLVpiMjoNAIv7V+agIUBYTInBuk0G9tLLSpFU8/OyjpoHbSn6VqfT7/WazWS6XUygUkUhEo9HW19d1Oh1BEORVvL/46z+lSQ1tRgUZZ1JrPgAAEpBJREFUjf3kohkdHvzLv/4VhjBb2wf6+loAAF868JTBZDLNzMzIZDKJRCKTyUilXnmBaDR6cHBw7do1AEA2kyYIPB3ymx3+jgt6GAKrTyZwuOiMEAwGvVHDWl7Ztbt89TpFOuL5/Mnm9WapL0ePRv08CsaXKHbMm4c2H5NHa29rdB3jnk8+a1MIvBnQPzRKS7vuTW7DXAYcj2cB9oNf//FzX8Q3i/M5U3wFoljAIb5IToeq8NxKpTKTyczMzAwODlb9hspR39rJ8geZXGE+m/R4PNXP54WML5oIzS5nqTx62WtKJxNzSyvd/UOTM7MwkQc4htB4eCrgzeDlLlD5fH5raysej/f397NYrNXVVYvFYjAYSI5kfX09lUp994PbU483O4YvZyNHp13iLVKa3vshy3ew2dDXxeHQQNml0SWIxeJ33303Ho8Hg8Ff/vKXAoGAw+EIhUKRSMThcNhs9vLy8uDgIMk5ZPMYAYA/EKLTkEIuixNArGnsbJH9yc8etahE9jARctvaWhq8IVgtk6RlRpQSTaWSiVSSx2Xy+JwjT4EjFOWzKRShyrlgzeLmFVIUmYZGQ7BAMhwNSrg6bp2xX5KOpKr7/b48nO9UaHe59BoNACCbTVMBs6urSySoflSur68XCoXj4+N9fX21feo3VpYpTN72mqVrpO9U8kllNOoNUrVo/yAYCnwV3zsWTwgYyMLUo5bR93vrpX/zNz/LZNM9EhHIf0nVSIHC1tZWfX19SV/b0dFx9+5dBoNRKBTW19cBABcvDq88nmrvbDPoVdthz6l9Tbp2tjZ5dbrdDXPdlUqLgxIQBBGJRCKRKJPJkC7OBEG4XC6bzZbJZJLJpMvlUqvVKIoq9a1K/TPhFIdGhgAA/+oPvoxPrma/D8HA2EjfWExeajcgoCBvpuUyKQaV2LMeXrzyFgWCKIV0KJ4cHjVEgl6MKDJxPJfLs6Xq3/gnLS7z6lHQu5yiftD6qj2hz7ew1mbGd/hinljL4kuz6XTI6wz4gzdvX4WrqR2EQuHbb7/9+PHjYrFYisF3kkBKRbzNA1ddUytag28tFhbmx9Fdua7xGRNyHC8EQ+FgrGDbXMYCnEg6w+cyosGUUsEFAGAYtr29vbe398EHH5R7c8AwfPXq1bt375J3ovT19QFQTOUpsdRxYmGJQaPG4/FS4NNnwNE2G9NcIY/Gl33Vt9O73dnZabFY5ubmbty4QS7r1dVVrVbLZDL39/dJmTuLxZJIJHV1dSiKEgSRTCbtdnssFiOPSvl8nkajkXqbpflZAEAulyOj/UIwdOiwKZVKBKEJBTQAwM133nE4HG1tbRAEAOAIGQzx8EgPAPF4/Fzxc74RnG9hdQ1d0ek0EATNzs7ykCLOleeLtbZSBEEuXrw4PT2dSCSampqqvgDzvo1CQQkcEDVkpBTkne9+D6bz6QhlwvtVOHylok6ja+qok7Z39h27bVG/r6F7EKKxIaiwvr5OEITBYDCZTE6nsyLCAoVCYbFYFArl6OgIx3GYAtGRHLNOk4NoKhHb6XSecjs83HTOW+Obm5uz2eyDBw8uXbqEYZjVar127RqNRuPz+SaTCUEQh8NxcHDg8/kSiQSVSpXJZBqNRigUlnsaliOVSpWcOzAMIx3mSj/Je9RJqw2CIEj2LplM9vb21haYfeM4n7ghFPAdHpgzVD4bIbqGr5bL4k/j1RAEuXTp0qNHj8iLd08Wa2rtVum0iVCkAFVvBIIgQOCZHM5jAvDs4oOJPFsmSYZD66tmuYTx1gc/kEgkqVRqbGyMjNiGIEg8Hp+amvJ6vaX+cLncw8PDgYGBQCCwuLg4PT3d39/f0jVENu5wOEhn6zPOyXOzGhoa3G737u4uQRB6vd5ms5FZZIRzgiDUavVznR0ymUzJ6oGU1Eci/39zV/7UxnXH37KrAwksAQJxCS1gIRCHwBwxYEwwjm1w4qbpNGfHMx03k5nM9Jf+J02nM81MJ9NpJ22nTaeZJMZxYCDgg8MSl7glkBAICVbi0n3svv7wHHUtiUUCTPL5Sdq379y3b9/3+77fz3fv4OCArbVHR+bIxxo9mnA4bDAY0HF4Mt05Q6R2pEPZzGFRviDshrwUgpURBHHt2jUUXVer1cZISVur+pFxXWG+sq7u6BDZEJqN82NPnpAtd17YLRN8ns+do1SG0jIBCIfD4ZWVFYvFIpVKi4qKUEUXLlxAEf0Q1tbWlpaWOjo6MjMzZTLZwcEBRVEPHjyIutnk5uaeIbFiKBSanJxsaWlJqIAIh8Orq6tGo3FnZ4e7HJFIFDOJpVJpjNzq8XgwDJuenqZpGslMoVCorq4uxtLkfJCCukEoFHbffoufRvsYwbSOy480Hjwer7W11WAwPHz4MEYN0dxxqzIEpBmi3d1dDp8Wu3mFyFZfuXRx+hnrCCmN39nzOgAACXdjY2Majaarq8tkMiVcS0Kh0NraWnt7Oxp3DMMuX7783XfftbS0RM2dGYZZWFhIqXdH4eDgYHx8XKPRHKXWQtv8SCRyxJc3NSCtbCQSIUmSHUqNdbR6fkiNH2tqfHjw8dzyzGzkRG9AbW2tRqMZGxtjn9UHAiFhEofWckUFKRfv7nriGxwIBEZHR30+32uvvYY2LglPNiCEo6OjWq2WzZCBYVhHR8fjx4+jLMvIDT8h6XJKoGl6bGystbWV2183Nzc3pTDpHNjc3CwoKOjt7d3d3U019vGZIzVpAWdEdZqildUjA3odi7KyMqVSOTQ0FJ1bTsfGfz//9Pef/Rskon54DshAYUYa43Nsv0CkCSG02WxDQ0NKpbKtrS2qM0Pl+L0ehjW7wuFwJBLJzc0FLyI9PV2lUq2srESv5OXlbW1tnbiPAACGYR49eqRWq49V450hdnZ2ysrKCIKor6/X6XQ/7qFhahOLwfwDjx7Liwvjs0EW4jOyk8rKylQq1dTU85Buh9TWmi34xs1rXHnpgHlpBs8qCgQO2NcnJyctFkt3d3d8SAE66Hnw7Vcjo3o6EqIZAAAgCILtphGtDsOwmpqaxcVF9u44yc9HwjYzDDMyMlJaWhrjHh0/GseOVZI1ous8Hg9pfaVSaXFx8ezs7I84t1Jk9GNoAhL0DyesGAsxd8YgJkmlUvH5fLvdjmFYZlZ+fZ1q27YNOfjveBfev/ubV5trO9ouo0Jomp6eniYIoq2tjcfjxWSBEG4sLMkKijIkMtv8hH5yWre4ur9/IBAIYpqEfiPC6pWVFfSXJEkUDe9YxPcXRVrIy8srKSlJOBRY3FgdNZJJ1oiwv78fPS/HMKyiogLH8bm5uWj5yT/oM0EKEwtCCIi0HJlCRqQxLFZ3BHYnYRzik7RardFo9Pl8/giUZoicB66EGaN5IYSEQMzHIYQwEAgMDg6KRCKtVpuwRgzDitQXYRAqCmXUjnvPt2szzKxR+x67cdXmMG9QyBudnbGmpsZsNiNXWIxl98KN+NoR87FGozlqKGDqY8VdI8L6+jrS5qBUHMdVKpXFYqFpWiAQnL/PamqfQiwsrKkqXDCtn36FJQiiurp6ZmbGvmnePAyLwp5Ici+W3+8fGhpqaGjgYJXFcVyQkd3Z9ao8S1yubW6rr8pRVNSShU67Z35u2myamjAsuT0vEOOIRCKSJDc2NtDfgoKCY1UACWG1WlOyczwrIK8k9hWBQJCfn+9yuYRC4fmbJqcWulfb/kquvOi99+4QZ7G05uTkiMViab7y7dudr3R1J3Oa5XA4aJru7u7mtiWvqKiI6nikebLMCwVXWmswDMMzJPU1pHU9iO2v9Q1MeKiNr7+5b7Q+F8rUanXUflyhUBxrS54QMQShyeD03ykU7DPexJkkSUREmNJTPhOkoG7AMGxmYuT+119OGIxn1VDkR7pssmSk89GSftSdEEKTyTQ/P4/Yp05QF5/Pr2yozZEqbnVV7IX4vt29cZ3hVu8tJnCwbZq3OL0ovgOyiBcKhSfTApxgZE4/mF6vN6HhfFZWVjAYDAQCP8IeK6VeRYIhfxAQBHGG87+2ttblciH2Do7+T01NORyOq1evniYmjEQiOTw8lJdU3Lx+/c4bnWSxbHCgP+hzfTE45DBt+1yWdCk5NDTk9XpxHBeLxWxe3WTgcrm4fbleEiwWC5IVYkAQRElJicmUIAjDy0YKKxaEsOyickGn36EOQVwu9kYyYV6OBUmtVk9NTWVmZkYZQdmgaVqn0yEehJhZlUyN7FSPx2O32xmGAQDLlmWV1TTfvHFTdCH3nVsd3mB4anx8eXH0ydPxP3zyicnmbm9v1+v1x44Ju3yKoqLfaI7+xrQt5hFwj1XCJKfTiRRm8alyuZwdXuDckJoF6YLB8vO7v2BwidcVK2VwT1DuVJlMZrPZ1tbW4r0wAoHAyMhISUlJwjCIHMXGJ9E07Xa78/Pz+/v7UZBpkiTFYvHFslIAQLcCrq4Jyn32zY5bNZn+2Vn91rx3zbQ6qpttqK0SChIvkzG1rK+vX79+/QRtO2Uqj8dDr1x8qlAoFAqFNpsNEcGdG1KzIA3z+du2XWHaIUw/qenpEdBoNE+fPo0xTXY4HFNTU83Nzdxb9SSxvLxMkiRJkpWVlRDCzc1Ng8HgdruzsrKUSmVubm55OQkA+TOebsnqCx049jIld9/p/ePfHnzx97+8d+/j6rIiYXo6R58hhAKB4ARxdU65xwqFQtzbg9bWVrZ1zfkgNbOZ0nxpmjgnAPB9x+bZCho8Hq+6uhoRiPH5fIZh5ubmKIqKiS7JAYZmMDwNg5BmGDoSwQkiEg6nETwegUciEbfHMzezcOfdt1aNxi2rycvLuXW1BZkoOZ3O9fX16elpZPapVDWUqNMoivrXPz/v99G//fj9P336H7dt4c8Ph3/9u3sZADB0BGI4npaAzj7hRudlA4Wb47gBx/HTRBM+GVL4FEIIlZXPmdBHd7Y8Hk9MaI1TQiaTIS1laWnp8PCwQqGICWsYg4nhb+37Aa32ktfnN29uZuFEU3ena1k/6QimOVeBrDKNMjDFbT3Nyn/89TNcVnX1klI3oQ/5ghaLlaySs+tFK6LX67VarU+ePPF6vdnZ2c2vtLlcruD+/r2PPuj/6hvzwuyux5ORkTH87ZdBKCC1V1RF0uj0ghAaDIYom3JKOP3af2wJP2l1AxtKpZKiErsBIjDHIWGuixcvGo3GgYGBhoaGY2NLFxYpCBzHhaIN4wzu3d+ieQIACssr0wmiWKmig/5secW11qo92/Kul1hbWS6uuOS2LpbWaiEDAof7/jjzBbFYXFVVdfXq1Z6envLychQDd/DJZMjtefvdd3714QchpxOA4M6Ol3K59GMPH9z/xnb4/Nut1+vVavXJOGT9fv9pjCmSmTTnr25IbfPOMAxN02azeW9vLxgMoub6fD7EAv3/QgmCW+q2Wq1sJoKocKTX6/1+/5tvvplMcGXX3g4DCT5flJedp6ipsqzvAwAAkd5QXbmzvnzpUkM6HhFA6Bfk97zeQzmdAMN7fnkXAHDvw4/AcwHqSHP1nJwcmUzm8/n6+vpGRkY0Gk22PM/j8YAg6Hn/XfPcpG3Hf1kpXjsIFGbyMAzzer2NjY0xhSRsdjQJQmi1WiGEoVAoFApFP2fRkeTIy06yWCzR026OSs8ZKezBFQqF2WwOBAKdnZ2npHeO+qFHEQwGnz59KpPJJBJJlAfGbreHQqHi4uLy8vL4dta3XNNCCACQd7yKYVhulnxrawvpwwSSXKtpHv0GAHi93itXriTsKbfsJhaLe3t779+//+zZs6amJqvVWlNTI8Gw+trGw2cj8wfCDs0FAMDCwkJFRcVRlHwJC6coCi1yOI4rlUqdTtfR0RFzc0pyJfvKT2JiJb9iHUV4cgLEqFuCweD333/f1NSUk5Njt9ujglV1dbVYLJ6ZmZmYmKivr+cgsYEQUhS1uLiIAtcCANRqdTQaVn9/v0QiOUrdxVEmAEAkEt2+fbuvr29xcVEkEiFWSIzP72h/rlagKIqiqKqqqiTL9/v98/Pzbrc7ashaUlKysLAwMTHR3NzMnhPHtu2oK9yp54MzjrCaJNiVbm9vDwwMNDY2ImJFDMNKfoBEIiEIorGxsaCgYHh4+Eg/aQAAAE6ns66uLpo3KliEw+FTykQikai3t7e6utrn8+Xn5w8PD7NTFxcXj2J1j0EgEFhaWhoaGiosLOzq6mLbAGo0GqFQODg4GK/JOxZyuZx7vwt+lD3WOdcXA4PB4HA4bty4gTZVKGKq0WiMLjwISIzv7+9XqVQikSihse9LfSlFIpFGo4EQMgxTWlra19fX1NSEzrkRJzZ3dpfLNT8/LxAISJLs7e1NeE9dXZ3D4UA+AcnEtGK3LeqD9NPB/wBkyoaPx0uuaQAAAABJRU5ErkJggg==' width='200' height='133' class=\"itemThumbnail\">\n",
       "                       </a>\n",
       "                    </div>\n",
       "\n",
       "                    <div class=\"item_right\"     style=\"float: none; width: auto; overflow: hidden;\">\n",
       "                        <a href='https://gru.maps.arcgis.com/home/item.html?id=03f0ee6418754725ac942dd4d2b5932b' target='_blank'><b>CW_BaseMap</b>\n",
       "                        </a>\n",
       "                        <br/>GRU Basemap<img src='https://gru.maps.arcgis.com/home/js/jsapi/esri/css/images/item_type_icons/featureshosted16.png' style=\"vertical-align:middle;\">Feature Layer Collection by arcgiswebservices\n",
       "                        <br/>Last Modified: May 23, 2018\n",
       "                        <br/>0 comments, 4 views\n",
       "                    </div>\n",
       "                </div>\n",
       "                "
      ],
      "text/plain": [
       "<Item title:\"CW_BaseMap\" type:Feature Layer Collection owner:arcgiswebservices>"
      ]
     },
     "metadata": {},
     "output_type": "display_data"
    },
    {
     "name": "stdout",
     "output_type": "stream",
     "text": [
      "Update CW_BaseMap [Y,N]n\n"
     ]
    },
    {
     "data": {
      "text/html": [
       "<div class=\"item_container\" style=\"height: auto; overflow: hidden; border: 1px solid #cfcfcf; border-radius: 2px; background: #f6fafa; line-height: 1.21429em; padding: 10px;\">\n",
       "                    <div class=\"item_left\" style=\"width: 210px; float: left;\">\n",
       "                       <a href='https://gru.maps.arcgis.com/home/item.html?id=cc0a9588dd0d44a68b40fa2b6c1bddd6' target='_blank'>\n",
       "                        <img src='data:image/png;base64,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' width='200' height='133' class=\"itemThumbnail\">\n",
       "                       </a>\n",
       "                    </div>\n",
       "\n",
       "                    <div class=\"item_right\"     style=\"float: none; width: auto; overflow: hidden;\">\n",
       "                        <a href='https://gru.maps.arcgis.com/home/item.html?id=cc0a9588dd0d44a68b40fa2b6c1bddd6' target='_blank'><b>ElectricCustomerMaxConsumption</b>\n",
       "                        </a>\n",
       "                        <br/><img src='https://gru.maps.arcgis.com/home/js/jsapi/esri/css/images/item_type_icons/featureshosted16.png' style=\"vertical-align:middle;\">Feature Layer Collection by arcgiswebservices\n",
       "                        <br/>Last Modified: August 06, 2018\n",
       "                        <br/>0 comments, 3 views\n",
       "                    </div>\n",
       "                </div>\n",
       "                "
      ],
      "text/plain": [
       "<Item title:\"ElectricCustomerMaxConsumption\" type:Feature Layer Collection owner:arcgiswebservices>"
      ]
     },
     "metadata": {},
     "output_type": "display_data"
    },
    {
     "name": "stdout",
     "output_type": "stream",
     "text": [
      "Update ElectricCustomerMaxConsumption [Y,N]n\n"
     ]
    },
    {
     "data": {
      "text/html": [
       "<div class=\"item_container\" style=\"height: auto; overflow: hidden; border: 1px solid #cfcfcf; border-radius: 2px; background: #f6fafa; line-height: 1.21429em; padding: 10px;\">\n",
       "                    <div class=\"item_left\" style=\"width: 210px; float: left;\">\n",
       "                       <a href='https://gru.maps.arcgis.com/home/item.html?id=22e03eb9ceea4e1ca6cdf994bc030d9a' target='_blank'>\n",
       "                        <img src='data:image/png;base64,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' width='200' height='133' class=\"itemThumbnail\">\n",
       "                       </a>\n",
       "                    </div>\n",
       "\n",
       "                    <div class=\"item_right\"     style=\"float: none; width: auto; overflow: hidden;\">\n",
       "                        <a href='https://gru.maps.arcgis.com/home/item.html?id=22e03eb9ceea4e1ca6cdf994bc030d9a' target='_blank'><b>ElectricDamageAssessmentPie</b>\n",
       "                        </a>\n",
       "                        <br/>Electric Damage Assessment using Pie symbols<img src='https://gru.maps.arcgis.com/home/js/jsapi/esri/css/images/item_type_icons/featureshosted16.png' style=\"vertical-align:middle;\">Feature Layer Collection by arcgiswebservices\n",
       "                        <br/>Last Modified: May 23, 2018\n",
       "                        <br/>0 comments, 1,445 views\n",
       "                    </div>\n",
       "                </div>\n",
       "                "
      ],
      "text/plain": [
       "<Item title:\"ElectricDamageAssessmentPie\" type:Feature Layer Collection owner:arcgiswebservices>"
      ]
     },
     "metadata": {},
     "output_type": "display_data"
    },
    {
     "name": "stdout",
     "output_type": "stream",
     "text": [
      "Update ElectricDamageAssessmentPie [Y,N]n\n"
     ]
    },
    {
     "data": {
      "text/html": [
       "<div class=\"item_container\" style=\"height: auto; overflow: hidden; border: 1px solid #cfcfcf; border-radius: 2px; background: #f6fafa; line-height: 1.21429em; padding: 10px;\">\n",
       "                    <div class=\"item_left\" style=\"width: 210px; float: left;\">\n",
       "                       <a href='https://gru.maps.arcgis.com/home/item.html?id=0ae3d7651771434ea87a3b99bd67a3d5' target='_blank'>\n",
       "                        <img src='data:image/png;base64,iVBORw0KGgoAAAANSUhEUgAAAMgAAACFCAYAAAAenrcsAAApXElEQVR42u19d1RV17a+f7zfGO/ed0tubu7Lu7kxJsYYjdFoEmOMSYy9d9HYQEBRmg0FQQWxINgVNWKvsYC919hjjQWknN577/377b0xKAHkAOfAAfYcwzHUfc4+e6+1vjnnN9ecczWBl6I4sgPqtK8gmRMEt92BuhC32wN+RhREm+aBt2EReFP+DwVd/grDk4doKGJ8dh/6DT9Cm9wdVi6n3M/IDmeBv3AkbFJhmWt2hQyilF6QLugPp0Zd797faTJDmjIMqtSvII3uAdWiMbBpdOCnR0G8eT48tfw8TbxenHYbzMzHcGiUPvtxfUEupLvWwkXcu6qiffoIv/X6GwoHvgXT49oHiM1ggN1i8fl9JTtWQRDbAqxxn8NlNFZvkRkNcJlNAQkAM48N0Z4NcHsqXuougw6c9fNRENwKvKgOsEvFxUr6zCFIjuyG58V3dc+fwKwqXo+ys9lgLZ4GI59bPAbE+3OJfwuzd5W6t4nLAmvRNMgvHvUtQHyvKUzQLhoF565QqE9nV+m7FpUKvMnfg/ljOzwe+RkcOm3tTrJSCXVCf4hi+sJOaDxfilUiBGfuQKh/OYmGKPzpfeFe0Rv8NcvKVzwSAYT7NsO0qC9U07qCE9oNdrWKsKZFsG2dAt2sTtD+egPqG+ehntUNsthukN+8BsuiXlDP+BacsL7wEJ6GPHsrcCQavEEtYeG9tMT8GX2BTSNQ1LslbCJB4ALE43KDvzwWrAlNYcp/UqXvqn+9iSed34B973CII3rAbbPX6rPrCxgQTWkG4ZhmsMmUoKUKAFmTAObof0P/4G7514kF7NgyBk86vYmCQX+BcGIL2IR82ORSFI5+j/AY/grtpVOQHtxOKKj3IZnyMUxMFhgTO+BZ5yYQrU8uti53r6Nw0J/wfERbOPX6l/dfnYD83v+F/HFfExbaELgAqZGfXliAJz+8idz+b0CYlVEnz2DIz4NJwKFXvI+FlxELUWwrqK5chOLSCejyHr20rgoldA+vUy6W2+kk3Kojpa6XUcK1yUECzpdl5cPEzqdXVAMTj8sFh14bMM/ThJ6SV3gRQez0N84S5lxMDwYtjQMgJrGoJOpRmbBSoyGO6YL88b3olUFLwweI/PgeGOf3gShzYeXWw2SCLm0c9BsmwpTSF6KlM+Bxu+kVQgOkARO+lfOgiP8A/JmjKuc0ag146THI7fUXyOa1hGTGYLgdzgYxDi6nC/IDm2CRCOkVTwOktGge/gqnzfp6N0yphCa+L6RxQ2EnMKF9cAv2AN1oqw6v4sSNgCy2CziRQ+kVTwOk6qIvKIJoyvsQjnkfNpmiTp+F3ORSnj0E5cVjPglT8hdOgmFNP6hntIV4Yzo92TRAqidGJgNmiaDOn8PKY8C2MwaGed1hFfBqfL+iSd8jf/A/wUz4sdbzmGiA0OJzcWjUYEV1AndGd7gMhhrfj78lA9KILyDetYEeXBogtPxRnnR7D/acSRBO/AbqM4dgEfPpQaEBQsvvor51GcLNceAtnAzXwSkQzxxW67lrNEBoCXjR3r4CflwryNfMofd3vBQFMWY0QBqROA16r7MKGv1YGY0oCO9OA6Sxidv+0r1y22x0ZKsCIWuMHvduRQOkMYku9yH0yyOgvnICFiEHhrVRUOTsokFSkYt1NqdxAoSqJ7A3PqLKTQyBKzsM/PA+UJ3cDfvBEEii+8BtsdJooEn67+AgCGt2FvRrY2AO4IInE5cByd4NcLlcPrunvigfBRPaQ3X1FOxKOeQHl8H0+BaNAl8BxMRjQnPpKFzW+qtxHDod1EuHw7x9NDQ5ewL2OQUz+8OzcSj4K5f47J7CtGnAiTngxgyjV76vAUKyeu2ysbBljYPmVHb9fWPCgujuXIQiezkcakXAPiZ/bSKY45pWWLtdFTEUPAV/xRw8j58M7tRPwV6VRK98XwOETP0WZURAMOsTmJ7co0eunghZ58Kb1g+ODeOgjvkGhdGjYJzZGbIzx+G2WugB8qWL5XF5qPRpWurYTbRYINuXCYvIu7SR3LHfIr//myjq92fkD2gNxewPIQjtBlky2ZRNSw+otwBx2axQXToGq0Ia8A8u3L0O+VP6wSKVNLpJEy6NBU7GV8olyPlUXz4O7dPf8DyiG6TnD1PdQCTnz0I2qzVEwS1gFUloFHgLEH7aDLh3B4MfFdgkTvXwPgzzvoMyuiO4ibMa3aTxN68Ec/DfwEya9PrP/T6f0SPK8pKn92Fi5tIIqApAZMcOEOBoBunmRYHFq8l9C8fLfsDshbHghjZFfrc/wyxpHB1IrBIBVURFZlHxkibClRMGXnCP134nUOezXnMQp9m7VppmpQJWna5WwCHZtQrcWSNh5DKLLcjl0yj68V2Id64OiEG022wwMgv9azWm9YZ9dT+IVi0j3CI+FIfSYcytPFji7XzWtbgsZij2roORw6q/JP13MalU0M7uBfHUHrCb/RsJsRFA1C4cBmfOLEjWLwu8iSV8elVGFCyLBkD/8I7ffoe3LBqCyc2guXa5QWpqRc5W4GwiJDEDAyodv1oAMZA13FObQzC2eY1ruCuzRG6ni/ClI8EKaQbjk/uBBxBCQYgTB0A65yPoLp7w6285rTY0VNE/vAVWcFNICHcwkDKOq51qYlXKYddpavTjJqUKuriehCXqBruparvzTosJqrMHYZaK6nwQSTfGxGc3Ov/cZjQgLz4UjI1p8DgaZm5btQFiYDOpA21qpDVKLNEHsEnLWiI7oTENjMJys00V2Vvg2jUeomlD6Aq5ugickMGS6SOgj+uKZx3fRuHY3lT6fKMCiJvQCm6zsTjD7xWR5uyEdUFviNYl+4Rj2MtpVkz69ur0SJgXDYT+we0y17W3L4Mb2xzyVbOpVjm01K6QOW2qxUNh2TkWzz7/G1ijOlb7wJ96CRAXoQ202xZAnxUL/b0bpSMqq+ZDMac5+LNG+9+3n0349pdOVOBmWelahrqyIITS1N05D3l2BmTHdsLIzGtcLhZ1Vtz8AVCltIXubNnjqswiPtwu/7bmdBIgobtw0BKwLpaZy4L25ulSm3SlrouFMMtljX4Q6XGopptG7n0c3FwjJWhSyP26H1dtkm5XSGFcNhbqmb1gr4enqfrAx4DH6aDHoQYiWBIDnEsGN7p6PYPJ/ThdXA+Ip3SDw0/7cdUP8wo4EM9uD0l0W9gl/g+1klxDn58HpyswWtaozx2EZmkYVLd/gSS+Q62NQ0MS5cVTYE14D7KdK6v1/eIo6IcQjP3Qbz2Va1Rya1OrarwX4q1ob1+EM30QhCmRARG14kz8ArasgRAuiIfdoK+1cXidGPlsKE4fogIsVRG3zUr9CeSAAGmty/VktBrYjQa//Xa9qUlXHN0F6dyPIJ41PCDO7dDduwpl9grYZYFRGkBWfGqWjIZ9YxA0VThW2yEXQ79nAVRp42BXKgISHNojW6HfMLNOegjUC4C47Tbqj0UqgvuVJgYepxMus5G61tiFTMkRpk0CL7o5TFVIybHyWJAnfQb5zC9gFwoC7r2KewgMg2UrAfzs3S/n3uUsroh8sUdnkQohO5dT3DWSzP4mrnl80PAiIADiMJuhPJRVbjRDz8wHY3IfKBaNh0XILXWNlRoJRXxviOeOJAgyXRlHiqsa1lV37xr0T+4E5PtQ+y23z0F5dCUcKnnJ/0szE6BfPgbyk0eofxeFdYVkQksINq6G8tgOmHbEQbR2QcMAiGBJNHAxFdyoIWWuMdISIY1qD/OWEVDty6I0BynsNcm499nfIZ/dCsJh/wurRE6jozqc5eQBOE0GeOqZFWZM7gJN4keQZK4oXg9h3wB7wsBKnA7eikRoU1uBHzusYQBEeeEk2MHNyo1miHZvQuGg/wFj2N/AC+8JfVYMrFwWnnX5E5TzOuG375pBdf0MvdqryllMJmgWj4JtQxDU66IJDjIedpWi3jy/lXC3tXcuvlSya+eCHdIc+nt3KCuquniE8CqUjYODcLdvwPPwHyCY8S1UKZ/CdPMynk0Ziic//BnS4wfrwu7DadBBenQPzNL6WdH4O2dhh78LWXwbKGYFJgep0JUkOIZ0TTyEK2f7tUtmveqsaJWIoblyjJjc4pBfXe2IKHO2QbZ4DNSxncEM7VvlsGpAAYXsE3b/BnSPb9er57awCqBfPwja+I7gLSS8Cj9t0gY2QMhohMsFbkYcCgc0B3d5fEAkJ/KWxYEX8h4cByZAFNENLmP9bYWkvncdmgAsRKsU2A4HOItjkB/0Mdx7w1AQPrpxAYSMXkj3rgM7ZggKh7WEaVVvKEI+gonDC4BFdRfs0W+DNepNaPxcRVhTIfvxVpRUqs3Lgzm5K2Rh7WER1i9X0UVoSotKjYLpI1DQ9/9Blr2/cQGEqkVfHATn6fl40P0T3O/4P+BsSK7U4pCVbbVxgtJvgzuANeD/IL8QuAECyeHtcKT0hXB12VajxEhBdv4kng1vCn5UFzitdVd0Rm5liFfGQZiZXKmHQHGP9QlgB38NY8wXkF0659dnC1iAkLvlgvQocCa1gOnZI6+5gXHrDIh9UMhVmbBjCYs2oxlk2zbBxHwO9bGdxCILrFaegtXzIUn4DPLJnaE+W3p33cpjwrJuFHTze8MmrdtsAPW9e9And4Q8uEWlHgLFPTKHQDu7PcTh70C6ZUPjBMhLTee9cNNmQ5v6Mfi10L2c7FBo02uoFA/D6jA4TiRCffJgwI2faPMSOPaPAXfcl+CEfI2iuAlw2e3U8QecaV9AMP0bOHV1v8nKTIkGb3OqV9yDnTwZnBUzYNP6P3u6QZ0P4rI7oDx7iBi4iuPfTmJx6JhFvgOwy0W4MDPAjfgYprzHgeeqSoRQHlsO/sII2A6OgWDAB4QWZpYoH7oisxKAyM/lwKooXezjcbuKd6wb4IGP4uXTYCY0p/T8qbqxiMS4evxYiUnmJHF3ZUJ6bB+hMF6Gn61yKXIHt8TzeaFl2uqI964DJ6I7LCJBMTshn9HtfR6T8vhuCOODYPXhnhD1HjvXg0/cV33jfOm1SYb5a2ltNnFmDgPvld6t5KBqt6dAu2EK9Pcb3ulDzMgekE8juMOWzFr/bbNICO3qSZAsGAO7xjdVcFSdzPNncDiLFzQvphccy3uDO+hjaM8drdzCqJSQTOsFbfIAgiRnwPDwGvRboiFdM5dYiJWDxCLgQjajM8xbh0N9ZJ/PxooXS7xHRi8Iwr8CN+xli1Vp5lxolwVBcfpo7QCEE072bl380gUxmSFJ6gNVchtozx5pcAAhXSK7UV8nv617lgdpbHOIx38Aq8g3xFhz6yJcK4dBNH9KMQ9bFgvu+LdRMLIpTM8eVPp9u1oNZXI/mLOGQ7U3C4qjO6Fa0gaS6QPhtjsq/b6Vz8LzEe8jr/87sPBYr40+ybJ3wCT3rps8+R680P8gd9Q3xLi93KdhTvoGmoQPIVm/snYAUp6hMhI+uur8QYqI1hfRFz6nWgUFuqhvXiYm3HcHECmO7IIsqRVEs0eULOiqcAvSU9HdOAVFTjocKhmVtqE8tQ8WmcjL73ugJUCqe3T99c+ZsxWebaMgihnkFfAoQl4eIMUiKM8drjXu1KRyA16LPORVv5L8u8e7/Qzp4e1wpvaHaM28RkgjPbDptSV7PyWaWiYpf3z/6LvXki+vufML2JP+DSnZx6wecdsmr3NF9NdPQ3v9XK28kIXHhIoge84XiWea84egTo+gOjhWJgKyT1dCSwhm/djooy6KbEJTbw2C8A+a2mUyQrc7Daqf5lMgIsVU+AzaU3vgtNTO/o27Ho5nExObUT554xbBdiwVxrQhhJ/p/1JH4eyB8OwNAz89hfo3O+Rz2DYTxHHebK++bydrGtzuRg8Q7a9XwSI19crSmtrKyodx/VBoF/aAjc2C02iAYU04HCfnB+T+DZmuzp0xpM5PEGsiWppQ7gWHWgnerO8hmNsPTr3/zwERrI4Hd1JL6O4Ud3HU3r4Axc+LYGskB+T41ukqhyQTVkJ5IhPqU1kUzyAjVCJy/yayNUy5vwXcO7DDOsK+piv4ixLrFiBWley1BKw2vUWPh962qjGH+30My+Mb5TFMb8bci3v53IJcv4iC6P5w1HH6ThN6VTUQbBCcUXk+G/ILxfsDmgvZUGVMgaGGJzY5FBJotyZAsXgsHCploxtXGiANRMyMPBhShkA5qSOsUukLDte/NIerhhUgu57IEttBPqM97CL/VhySDFK8fAaEa+eX9lzq0LOgAdJAxMIugmhaa4giPqYWsubWeSj2LYTtRfqHy2yC7sw+mLhVsyjk2lRfOwfNvV/8/g5knY1+4deQT2wJE7s4q9fI50BzZBvVJ5oGCC01c4csJjhtlpcM4xXNq8zeAs8vaZDOHAJXlY9yq739MNbiGeBvTaP+Tvbe5Y//HJ7r6dV8bj8CpFjj7IeZw6zWjclIiWbbAmjWhMHw4Ba9eutYdPeugxv5MaQ/LQzgA4dKP5ehoABFQ/8N5og/QZI5v06eu0KAKA9nwXON0DgzBlcLuVROV2IfKBe0hu7cUXqF+lmoSrtVsyDKmFFhl4+a7BOpLuSAP31Ilc6ldzodkBzZBaui+nlnLoe9VFZywABEd/caoXFaQvZTSrWRa2QUQXl6v98P2qGleCPQsGkUtImdYeX6/kBRduhXsK/rBn7qXK+/w0ufBWwcAl708Np1NY1G6M4egFUi8B9AKI3jg96mtNSOkCXKZJcP/vokv+wnqW9eQuG0wXBYve8CLz+VA/b4f0K6dWmtjoVw8VTgWgZ4kUNokk6L78Xw/DG062dCc/V0vXx+xdlj4Ea0gGz78voDEI+HzpOqL8KZGwzXnpHgje9Wp4S9JmuG8n58YEmblPbdDNCdP1Qj3418MMOdi9DfuVxi6pUn9oA3vQ8kKSFQbk4mCKWVXoUBLCZmEWS7k2D47WadPYM0MxHq1CFQnvVd3zGH3Q71loWQZy2B28uARZPyfbfB1X4IG7cQtuOpMC4bAiuvOAv4adRICIK/gH51P6hmf0X5prT4R8gjIgQxvZA3uA34AdKJsjpCdW+f3QySDat8dk/VrRswLP4GsvA2sDBYVQeI4uxR8Ka2hGxbRvVRqlaCP6crhIn94dTpqHCvev4QOH8aDe7EVmAN+l8UjexCTZx2TzphURaU1CfQUnOR7V0HW3YIpCGfQjK2Ocx11InSzGVAu2EWlKcPVOv7ZB9m+cn9PgW4gc2GZHpXcEO+gk2pqh4HcVejYwRZ5CQ+tA1WpeyFm+UsiYC5XW7wl0wCc8wbKBj1JgqGfwpd7kNYinJhWNkH6sRvYSnMp1e2r9yjwjzk9XsLD7u+AV5WzaJHHmLuqrJ38upnyaMs7LtHQBzVB25LYLjUutx8SGPeh3hcM1jFsuoBpMoWQyXDo36tYYjviXtfvA1dBY2Q/wg5C4+N/OFvgRH0LuxiIb2yfSjq6+egu/9Lje6huXkeoojOUC4dDf2Dyju/6+5cgm7tREjXJFFAsYoFkO5OhPH2hVKfE2SlgR/TF6p7ddNNXnXtErRP7laPpFeLc7Dy8OirN+E+8CMKOv8bBRO8jz277Fa4HPT5goEokv1bwJ/wLhRUJkTl3W3kh7dCufgTCEK/g8NUfrd7C+FyF/R4A/YtA8EMGlQvxqHmFkStQNGUrnhGcAtdeh+Ipw3xumuFP0RzKQfKjEgY/bCb7BMSzWdBfWQbtK9E+XwpTrMRhkvZFWa/kr9pKHhWUvtfkbgddgh3b4LsyA6vMiHsWi044Z2hXdq3wnZRxqICPO35dxSO+BfERw/67UyPgAJIse/pgub2FTBD/gXp6vg6bcjICm4P28beXtey+92kX8iGYPrgkhwmYdwAuH+OQFH/T2ET+p5AK7Oz4PllaYXZr6Tr5M4cC9H8yWVCna/jGySwlFdOQXH9QvmAesE12aHvwERwzIqBZ4OOcKlNc/tCGtkddpOp4QMksPzvM5BtnVNSB1HXwgnvBHtmj5IcJv6qOLAJ14UR3gOuatT6F1uAXDgdDlhE/DJHwJE5dPy49pBnLSp3wStydhBuUxuI5wSVsvTqWxcgmNUL0nVJ5aYYUd3gVw2HbvY3BLD5FT+fN9Gk/EJI4z6DMKQVbBJZ/QCIWcBFUch3VAhMn//MLz9GTpiv3QqXzQrxvk0wlXS/8ARUT2H1rStgzB5ZUltNLj6X1UydY1Jd8uzeMB68mOGwrJsCXUJf2NUvQ5YWAQeimQMgP3GgwjmwW4zF/W1fJc/zQ2BP6Y2C4F7Es5V1qewqJdiR7Ynf/brGTTwMHAZEezIJrqIvF2Dyi8dRuGRWSVQ0IAAi3LoK7FGtwQr6BLw03zdgcyil0GycDnnKKIK3qHx2X0XOdni2BUEY2b9OuY+vxHjvKhRnD0OzYQ4018oezqMgOIF8wafgh3WFbEEXiCNaQ7Bldcl1ah/kcDCk0b3htnkPQlZUDyjmtIRk4xrqnBMdweV0p/fCzPNtJR+1L5Y8FI7ModCcySnXUllXj4R+5pdghg+te4AorhV3zjbnPYR5/xxoE38gJsH3fZKo2ua5n0I+rR3sIt+FdbV3r4MZ/BYka+LrfTN6zYO7sG0OBmtsO7j2jgBv3A/lOPHukqrBvHHfwrE3CIWd3nmp6RUyFM0aBkZ6PKGBvT87niTlTpuZ+rt4WQzUy8fBfXUJpMS9nGaLzyw/ubciWBb5gquUPRjJrlaCOakNGEPewPOJfeoeIPqE7wmfUgAr4c8yJ34EdvhnsMv9c+KQ6spZaH69CloqUCIqLRihn4JFuEjS7QnQl9Pv1kxoWEHyRMjPZlMxfcGaSWDFjYRwzlDIXkSPBOQJWz8NBz82qHpW+Uw2isa2AGfqhxCnRUOTOQ3yZN9YfiOrAKLFUyA9f7LCz/DXLYIypT0EcWPrHiBcyqcs9gWdFjPl09NSNyI5uBnO9BEQLp9T8eJZn0pwkLHgjPkOTqMJDp2OIN19Ydk8BIxeHajPSE8eBiPo72AtjoY0eydVlUfxNbJZ3MGtlfv2hLUg039cxHqwcBmQzG0HaWw7n2zoCsmNxCuLISJcRKfBSDybEzpmAcT7NxMAz4bs8mmKJzmspjI8yQPUevfMRlEPQkZ7LFJRwD8nf+U8qAh+IZhR8ZHG8kNboUhuCzHZzf0Fx1Ac2Q7husnQ3ioOwQrWzoN761iw+7WAa/MIaM4fp/6flzGbqvDjvlLhV+mhmU43xClhUGVMgOHJgxq/o/rqGfCntYZ07VwI9m4mgPIl5BEdKE4inNwVouA24GeUPXSUPDZOsHAyBMEdoL55hQaIr8QuF8OaORXauf2pSEwgi8fpJKy4geIDFfvwLjjMengqqNMmNb9wXjAYw5vh+fC2YE1qCtGKOZAuGAfBzk1gjn4DkhddQ4Tps8AL+YpwpXpBcepQWYu2cxV4Ed3Bj+xIuDxtwIwaAUFMH5hfE+at2Ch5qJN1i61TMdfJnx0FSdR7KBr0Fpjj3oYwqjlkU94HZ1LZbAy7UgllUg+YNw6ALDODBoivxFyUC0lce4ij2sHCKKQmyliYRxDShpniYmUXwLgtGPpFPeFQqkAemaJZMhzmnT9C+woIbAo5lIk9YdkbDFFMJ8iie5XaWLSrVFDN60NcnwBW4jSI922EfG4PWPaMg2h51U4RJhtQq5aOhThhJBx6Qynrxc1cCl3RM7Cje0IU2Rp54YNgN5YfRlYc3wnx5umwycU0QHy2YPhsiOJaQRz9CRzERFH7CD+FQJwc4XXRTH0Sm0QAZnAngmS3J0BQzDXkZ46CM38cwVc0pT7LXpWKvNHtUBDdD+oH11+JaDlgJMbt4eAOyO3/L+ge34PTZMLzoHbIH/B3yA5sq9Iz6fIKCEvRDOKxzWCtYGNQc+cqmEnj4bCYywfHjQtQP6z9BMdGwUFUV89Bc/dqib9O+fB/2EmuVkSm8ClU6+Kgvn42cBSCgA35/K8hi/uKINUV8y67RgnD+Z9hIKxpqcX86xXo1gSjaFhbaOd8B2bG4lciUEzCFdtTLaKsunYZ2qf3qFQT4y/HYOZ5nyunyn0K2QTCxev3PkwCQcMCSKBt3pG1KqQJ9/ggWsdJnAjnzsF1XLtdNgLlNBvgspARIgfEP2dRJ9yWefbF0fBcToVocreSKCalQLK3Q5naGrxB70A5sxl4ybN9Ov9krpj7yiJqf8XtZb81+cUL0Cd/CemEFjA+zW04AFEc3w1tBuF7Zi4MXGJMkF7Tg19guH+typqRPMtRvD4K+ofXAvLdeOlxwIYh4L7YD3k1YvWoa1NwQv4BVlhP6qwQMstYlTkT3JVJyB/2IZ72fwdF84oPBiUzf5VbUyEjyH1V3FLlyX2l5t/EKoDy2nkI4tpBvnGB1+NNfkyyPRXKA6trvYTYrwDhpidAPf8D8KcND1iAkDX0liMLYFg2tKSGvqGI9FQ2WCPeAzNyMBXmliWNLMnR0ty5hqK5hM9vNhZ/ducqOHYOBaNvU8iSW0MSTCzi6G9h4fGhunMbhoUEkQ/9GBZGaddIce0cVPdLN3cwazTgTh+Kp71aQrOwFfjTR0L/5A5cmeMgTJpENQfx9hx2EhAuu73OxtCvACGRL83ZA7teE7CLyK5SQDD3B0hShsBlMDQogGh/ewRjek+oor8ENy0BtpwwSKd0L9e1sYh44K+NBGv0B3g+uAUYM3tAGN+Pyp2iNPjWZCj2ryilwZWPH0EY1AJFfd6DNq/Y9dHfvQJuRFdoU7tDPqcLOJM/geLkQchJ123hYAgnfU1YK67X7yDJnAvV3N5QXjjd8ABSX4R0s6QXjkJ570YV3X1PwGceCLOWgbk2CfyfMsBKGA3N4ztU7UaF2tqkg4vgMG7ivdyv6YlL1nEo5o2Cdc0YyOMHQZc4AA6dlgKCguAwTz7/bzwmuBk/LYKKnpnyn0A0rTkkkz6Apcj7HgSMyd9BNfNdSDatoQFSV6LJy4N5bmcqUmIRe5eHRpJP9U+JUC8NIjjInYB8LzLKJlgWC3lkZzg3joDm6nkwYgdBHN4Wwn07qnQvcgPSyHl54KuJkQ/uxA4QRrQHc/j7kMV3ppJQycbZ8qN7YNGU3pQl+Ybk562E27cfFomAcPm828uwymSQnTpQZ+2Lah0gZH6PYs0sSDKmE9o3MDbr7HoTGKHtwIn6jvB3vYu6kRmu4rl9CC3aEtrzxwISINx5YZDEdgAn+COwQ/4DXmY6nn3/39Alt0F+/++rdC/JiumwzetOLPAjsJlNyIsYDP3ynlDHdwJ74H9gzM39A6DKn1u7XALLxmjokgZQ7m2gS60DhOpCvmUctPO+g5XDRn0WI5MFxemfCZclMJt8kx0SeemTIVofRp13ry8oxK/t/wv3O/8PlFXMZ2JFdocyoTXkWzaiYMpAYNdE5HX7J/hT2yJ/8IfQczjUhqJVIYfixF7olo2GODO17PwL2JAldoR0Vieflj00GICQu7SCzAUQ78ygzzWvZZFfuQDLupGQRXWC+u6vUK6bU6kll189AxXBzcgKSIeu2G1ir16Ewv5NkDexH9hhbeDaEgr2iA4wrQ6FIWUEmElToU6qIHpJ8DaHQQOnUYv6UMDjU4D88X3JjSrltsWQbktvkGkd9SIA8SrXuv8QRYP/Ckbff0B79RIMWydAO/+7Cs8TobhZ4jeQBZflZuR9jSIxiga8C9WSL8Do0xTimBaQzuwIG8EbpEf3wW7Qlrsu6pP4DCBkLbRi/ijIj/9c8n+q27ehT/kSsoktYWFy6NVay2IoyiPcmSCoXjnGgEwxcejUcDudEG5MhnhXaUsu/+UsVHevv+BmZjAntgUnkuRm5dSpE9cZIZ+CEfE1nDotrBoZnHp1KUSUty4aJUCoWuicUEin9ighaOS4izYlQrZnGTz0eq19kk6mwmSHghvS3avPa/JyX7EYMr+ti0YJEJtcCm5qKLQPb9IrM0DEKpeBszAchucv+1RRXWB2rIGez6HCp/LLr1gXvQlMKpr3vdfRvIa+Luh9kEYmZDYzdo9Ffo/3YF07CvrZXWCtRgFUYxEaII1MtPdvgh3ybzzt3QysMW+BG90ZLqORHhgaILS8KuS5HYzwLuCuiIftNfX6mivHIU2PgknApQFCS+MR1oTPYN/QC+yeTaE9tu+1n7Ot+R6CBfE0QOqTkDk/ustHobl0jApZ0lJFC3L5GPgLx4C/PAJ2pfS1nxOmBZdbdEUDJIDFUvgEpp0x0CR1h7ngOb3i60JJuT1w6PU0QAJRrIRPzJ76KXhRHWGXiKhzMYw3TsPSSH3lioSqmPztJoyPbvk0tYdMGVJtjIcmdSgMj36tt+NDZimb+ZyGyUEcWnVJp3Hl4Sy4ziRCOmu417XOjUFs3CJYDsRDv3QwbDzvlQe5XyLasRpGUflNEn7PZpYntoTugn+ymd0eN+w6nV/HR7pqBqyL+kN6svyTl5uQGsZMaBiDjzWMX7QhOWjO8jNntbcvQxj/GRTrk6gGyXX2jB4PVXutf3IXypxtUF88Wqccya6UQzivGyTzB8Cp9b6yU3F0B7BnAkRRAypsvGHkcqG6kEO4Wr7PZqYsFNnhPnWIXy0UK7IblIltINtYfkFWk2INM6fKGqYuwKHO3gLlomCYyivZJLt56DReHRfmT1FdOwNt4kCwxrSDZd/MgOBILiPZ5aRqJzkpLp4EY+TfwZkzllCctZ8oVMpC+bHexmnQwSbllekDXAIQSsMkdYN4fv8qaZhad6cIMqhePAyW/RPBHPEVHCZz9Qk+oRSMN89SxVu+Fsn+LAhCmiK3/1tghTYr4Ui/i+bqCUiWRcLs4+PXSMtl4bF81jFSvj8TtqOTIYvp61UOlT/ey8TlQXnhiF8sVJVIOqVhzIF9Vhy1+A7tRv6gv4A79B1YZdWrRiM7BBrWhsORMwOak4f84BrYYRGxYZFwYJNLqDrtUiZ9QnvYVn8LQXKCT39Xe/M8nDtjIFkc7ZMCLptMAsGKaOgeeZdD5a/3oqNYVV0I9+9AX1i9I+JIy6G7ehKs2D7gBrcitN65Wn9+JcFJ+CmjStqC+koU2dugSu0A8ZyRddKsz1/vRQPEF34kQejIM+8sMvFrfE0DdGvCYN4/HbKoz2De0BeaI3sbzESSG6dWMQsuvRa0+BAgTj/44b4WC+f1nIG/bCawfRy4McNf4/o4IVkVDdHcjhCsTAQ/bdxrd5BpoYUCiDxjesA2HXhV89sOTIPuXHE0w2mxUO0wX5r3U2AE/RPSnSter2VtdirSRQstXgNEmjgyoE+HJTW/eHU0hAlfgJEagyfjuoET+hV449vCxGbQM0iLn10ssoY4AMWqUpWU6ZIANvPZeNyvDZ4MaAHW6DbI7fkO1Ad20jNIS+Mj6fIT+6BPGQhx5qKXrpZeh9tdmkMW/S2EE7/E/W9aERxC4mNr5WhUk++P9yX3Q4RLIsBNmQzNzQs0QPwhzORoqOZ9DGZ471L/X5S2EIIJb0E0/B/gr1ji098kj1fWpIVAcWRPowBHyfse9e37soLbw7a2G/jDWoA/sQcNEH8IL3kqJPGdwAjuWeaa8tY1iE/5poWMkfkc0hWx0N69CsWBjbBnh0M46QdYZQ0/uiUnu41kh0ES1Qtuq+8acCsvHQNnXhBYSaOge/BLwL4/mXmgPn8IkoxoWCWi+gUQq0QM0cYEGJ8/8uvvcBJD4dzSB7wJ3ah0eSbhGhhShkIWPxQ2rb5CTtQQhNwpF22cA/1vtxoltyBTl5QL+sKc2RuanL31CyC1JSYOG+yEISWazlDAgHRmGwhDW8MmfGlFpIQbIgz5HNyV8+BQyyFdHgnVpROBqRnJoxwObQE/ORTWenA2fF2K7Mgu8BaOgl0lL3PNaTLCcPMsXZNexnoJWbBJS7fBKYgYAFVCXzzv9iEk2TsgiPwMrPCeAVl3Is3eButPYWAPbAHV4b30hFbXVTycBfuBaBog3gh7/QoYl/eCIuZLcNISgZwYiKL6w2V7uVkZKBEwwboUwnX4BJyg9rCKhfTkVVO0ty5BmNCBBoh3bosH0p/XQXlmN3QP74Ax5m1INqWUdIbWP38MzeIQqK/UvdtFZmXrCx7CLhXQE1czFk/1G6YBUo5YeAwYbpyBy2Lx6vNUD9yccHCDu9OD18CEBsgfyZnRCO3yYFi2TYTmTI53vEUigmTHIpgKHtMD2MDk/wOBgXLQlB3wcQAAAABJRU5ErkJggg==' width='200' height='133' class=\"itemThumbnail\">\n",
       "                       </a>\n",
       "                    </div>\n",
       "\n",
       "                    <div class=\"item_right\"     style=\"float: none; width: auto; overflow: hidden;\">\n",
       "                        <a href='https://gru.maps.arcgis.com/home/item.html?id=0ae3d7651771434ea87a3b99bd67a3d5' target='_blank'><b>FieldCheckLights</b>\n",
       "                        </a>\n",
       "                        <br/>Lights with Install Num not like 5000<img src='https://gru.maps.arcgis.com/home/js/jsapi/esri/css/images/item_type_icons/featureshosted16.png' style=\"vertical-align:middle;\">Feature Layer Collection by arcgiswebservices\n",
       "                        <br/>Last Modified: August 07, 2018\n",
       "                        <br/>0 comments, 2 views\n",
       "                    </div>\n",
       "                </div>\n",
       "                "
      ],
      "text/plain": [
       "<Item title:\"FieldCheckLights\" type:Feature Layer Collection owner:arcgiswebservices>"
      ]
     },
     "metadata": {},
     "output_type": "display_data"
    },
    {
     "name": "stdout",
     "output_type": "stream",
     "text": [
      "Update FieldCheckLights [Y,N]n\n"
     ]
    },
    {
     "data": {
      "text/html": [
       "<div class=\"item_container\" style=\"height: auto; overflow: hidden; border: 1px solid #cfcfcf; border-radius: 2px; background: #f6fafa; line-height: 1.21429em; padding: 10px;\">\n",
       "                    <div class=\"item_left\" style=\"width: 210px; float: left;\">\n",
       "                       <a href='https://gru.maps.arcgis.com/home/item.html?id=0ef57504a4084338b567af2c43ec3480' target='_blank'>\n",
       "                        <img src='data:image/png;base64,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' width='200' height='133' class=\"itemThumbnail\">\n",
       "                       </a>\n",
       "                    </div>\n",
       "\n",
       "                    <div class=\"item_right\"     style=\"float: none; width: auto; overflow: hidden;\">\n",
       "                        <a href='https://gru.maps.arcgis.com/home/item.html?id=0ef57504a4084338b567af2c43ec3480' target='_blank'><b>FieldCheckPoles</b>\n",
       "                        </a>\n",
       "                        <br/>Poles that need field check<img src='https://gru.maps.arcgis.com/home/js/jsapi/esri/css/images/item_type_icons/featureshosted16.png' style=\"vertical-align:middle;\">Feature Layer Collection by arcgiswebservices\n",
       "                        <br/>Last Modified: June 05, 2018\n",
       "                        <br/>0 comments, 5 views\n",
       "                    </div>\n",
       "                </div>\n",
       "                "
      ],
      "text/plain": [
       "<Item title:\"FieldCheckPoles\" type:Feature Layer Collection owner:arcgiswebservices>"
      ]
     },
     "metadata": {},
     "output_type": "display_data"
    },
    {
     "name": "stdout",
     "output_type": "stream",
     "text": [
      "Update FieldCheckPoles [Y,N]n\n"
     ]
    },
    {
     "data": {
      "text/html": [
       "<div class=\"item_container\" style=\"height: auto; overflow: hidden; border: 1px solid #cfcfcf; border-radius: 2px; background: #f6fafa; line-height: 1.21429em; padding: 10px;\">\n",
       "                    <div class=\"item_left\" style=\"width: 210px; float: left;\">\n",
       "                       <a href='https://gru.maps.arcgis.com/home/item.html?id=d579c6118bb04d399440d4504f40eaeb' target='_blank'>\n",
       "                        <img src='data:image/png;base64,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' width='200' height='133' class=\"itemThumbnail\">\n",
       "                       </a>\n",
       "                    </div>\n",
       "\n",
       "                    <div class=\"item_right\"     style=\"float: none; width: auto; overflow: hidden;\">\n",
       "                        <a href='https://gru.maps.arcgis.com/home/item.html?id=d579c6118bb04d399440d4504f40eaeb' target='_blank'><b>GRUBaseMap</b>\n",
       "                        </a>\n",
       "                        <br/>GRU Base Map<img src='https://gru.maps.arcgis.com/home/js/jsapi/esri/css/images/item_type_icons/featureshosted16.png' style=\"vertical-align:middle;\">Feature Layer Collection by arcgiswebservices\n",
       "                        <br/>Last Modified: June 01, 2018\n",
       "                        <br/>0 comments, 7 views\n",
       "                    </div>\n",
       "                </div>\n",
       "                "
      ],
      "text/plain": [
       "<Item title:\"GRUBaseMap\" type:Feature Layer Collection owner:arcgiswebservices>"
      ]
     },
     "metadata": {},
     "output_type": "display_data"
    },
    {
     "name": "stdout",
     "output_type": "stream",
     "text": [
      "Update GRUBaseMap [Y,N]n\n"
     ]
    },
    {
     "data": {
      "text/html": [
       "<div class=\"item_container\" style=\"height: auto; overflow: hidden; border: 1px solid #cfcfcf; border-radius: 2px; background: #f6fafa; line-height: 1.21429em; padding: 10px;\">\n",
       "                    <div class=\"item_left\" style=\"width: 210px; float: left;\">\n",
       "                       <a href='https://gru.maps.arcgis.com/home/item.html?id=a329ee7d8c844143bd3ea1399d3e82db' target='_blank'>\n",
       "                        <img src='data:image/png;base64,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' width='200' height='133' class=\"itemThumbnail\">\n",
       "                       </a>\n",
       "                    </div>\n",
       "\n",
       "                    <div class=\"item_right\"     style=\"float: none; width: auto; overflow: hidden;\">\n",
       "                        <a href='https://gru.maps.arcgis.com/home/item.html?id=a329ee7d8c844143bd3ea1399d3e82db' target='_blank'><b>GRUComFiber</b>\n",
       "                        </a>\n",
       "                        <br/>GruCom Fiber<img src='https://gru.maps.arcgis.com/home/js/jsapi/esri/css/images/item_type_icons/featureshosted16.png' style=\"vertical-align:middle;\">Feature Layer Collection by arcgiswebservices\n",
       "                        <br/>Last Modified: May 23, 2018\n",
       "                        <br/>0 comments, 1,166 views\n",
       "                    </div>\n",
       "                </div>\n",
       "                "
      ],
      "text/plain": [
       "<Item title:\"GRUComFiber\" type:Feature Layer Collection owner:arcgiswebservices>"
      ]
     },
     "metadata": {},
     "output_type": "display_data"
    },
    {
     "name": "stdout",
     "output_type": "stream",
     "text": [
      "Update GRUComFiber [Y,N]n\n"
     ]
    },
    {
     "data": {
      "text/html": [
       "<div class=\"item_container\" style=\"height: auto; overflow: hidden; border: 1px solid #cfcfcf; border-radius: 2px; background: #f6fafa; line-height: 1.21429em; padding: 10px;\">\n",
       "                    <div class=\"item_left\" style=\"width: 210px; float: left;\">\n",
       "                       <a href='https://gru.maps.arcgis.com/home/item.html?id=49540032bafb43f08994850b0939fd2f' target='_blank'>\n",
       "                        <img src='data:image/png;base64,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' width='200' height='133' class=\"itemThumbnail\">\n",
       "                       </a>\n",
       "                    </div>\n",
       "\n",
       "                    <div class=\"item_right\"     style=\"float: none; width: auto; overflow: hidden;\">\n",
       "                        <a href='https://gru.maps.arcgis.com/home/item.html?id=49540032bafb43f08994850b0939fd2f' target='_blank'><b>Lights</b>\n",
       "                        </a>\n",
       "                        <br/>All GRU lights. Published from ArcGIS Pro geodatabase file format from M20456.<img src='https://gru.maps.arcgis.com/home/js/jsapi/esri/css/images/item_type_icons/featureshosted16.png' style=\"vertical-align:middle;\">Feature Layer Collection by arcgiswebservices\n",
       "                        <br/>Last Modified: August 15, 2018\n",
       "                        <br/>0 comments, 114 views\n",
       "                    </div>\n",
       "                </div>\n",
       "                "
      ],
      "text/plain": [
       "<Item title:\"Lights\" type:Feature Layer Collection owner:arcgiswebservices>"
      ]
     },
     "metadata": {},
     "output_type": "display_data"
    },
    {
     "name": "stdout",
     "output_type": "stream",
     "text": [
      "Update Lights [Y,N]y\n"
     ]
    }
   ],
   "source": [
    "# search and list all items owned by connected user\n",
    "query=f'owner:{portal_desc[\"user\"][\"username\"]}'\n",
    "itemType=\"Feature Layer\"\n",
    "sortField=\"title\"\n",
    "sortOrder=\"asc\"\n",
    "# default max__items is 10\n",
    "maxItems=100\n",
    "searchResult = gis.content.search(query,itemType,sortField,sortOrder,maxItems)\n",
    "for i in range(len(searchResult)):\n",
    "    display(searchResult[i])\n",
    "    updateResult = input(f'Update {(searchResult[i].title)} [Y,N]')\n",
    "    if updateResult.upper() in \"YES\":\n",
    "        sdItem = searchResult[i]\n",
    "        #print(sdItem.title, sdItem.id, sdItem.modified, sdItem.access)\n",
    "        break\n",
    "if updateResult.upper() not in \"YES\":\n",
    "    print(f'All Service Definitions in your Content on {portal} were presented')"
   ]
  },
  {
   "cell_type": "markdown",
   "metadata": {},
   "source": [
    "Prepare sharing information for item\n",
    "Using the dictionary we created above, find to which groups the item will be shared."
   ]
  },
  {
   "cell_type": "code",
   "execution_count": 6,
   "metadata": {},
   "outputs": [
    {
     "name": "stdout",
     "output_type": "stream",
     "text": [
      "sdItem 49540032bafb43f08994850b0939fd2f\n",
      "Lights is shared with Group Energy Delivery Engineering\n",
      "['Energy Delivery Engineering']\n"
     ]
    }
   ],
   "source": [
    "print(f'sdItem {sdItem.id}')\n",
    "groupNames = []\n",
    "for group in sourceGroups:\n",
    "    #iterate through each item shared to the source group\n",
    "    for groupItem in group.content():\n",
    "        #display(group_item)\n",
    "        if sdItem.id == groupItem.itemid:\n",
    "            print(f'{sdItem.title} is shared with Group {group.title}')\n",
    "            #assign the target portal's corresponding group's name\n",
    "            groupNames.append(group['title'])\n",
    "            print(groupNames)"
   ]
  },
  {
   "cell_type": "markdown",
   "metadata": {},
   "source": [
    "Name the ArcGIS Pro Project service definition draft and service definition the same as the service definition item selected above."
   ]
  },
  {
   "cell_type": "code",
   "execution_count": 7,
   "metadata": {},
   "outputs": [],
   "source": [
    "# Local paths to create temporary content\n",
    "sddraft = os.path.join(prjPath, f'{sdItem.title}.sddraft')\n",
    "#print(sddraft)\n",
    "sd = os.path.join(prjPath, f'{sdItem.title}.sd')\n",
    "#print(sd)"
   ]
  },
  {
   "cell_type": "markdown",
   "metadata": {},
   "source": [
    "Find the [map](http://pro.arcgis.com/en/pro-app/arcpy/mapping/map-class.htm) in the ArcGIS Pro Project"
   ]
  },
  {
   "cell_type": "code",
   "execution_count": 8,
   "metadata": {},
   "outputs": [],
   "source": [
    "arcpy.env.workspace = prjPath\n",
    "arcpy.env.overwriteOutput = True\n",
    "prjMap = arcpy.mp.ArcGISProject(aprx)\n",
    "#m = prjMap.listMaps()[0]\n",
    "prjMaps = prjMap.listMaps()\n",
    "if len(prjMaps) > 1:\n",
    "    for prjMap in prjMaps:\n",
    "        if (input(f'Use map {prjMap.name} [Y/N]')).upper() in 'YES':\n",
    "            m = prjMap\n",
    "            break\n",
    "else:\n",
    "    m = prjMaps[0]\n",
    "arcpy.env.overwriteOutput = True"
   ]
  },
  {
   "cell_type": "code",
   "execution_count": 9,
   "metadata": {},
   "outputs": [
    {
     "name": "stdout",
     "output_type": "stream",
     "text": [
      "Uploading Service Definition...\n"
     ]
    }
   ],
   "source": [
    "# Create FeatureSharingDraft and set service properties\n",
    "sharing_draft = m.getWebLayerSharingDraft(\"HOSTING_SERVER\", \"FEATURE\", sdItem.title)\n",
    "#sharing_draft.summary = \"My Summary\"\n",
    "#sharing_draft.tags = \"My Tags\"\n",
    "#sharing_draft.description = \"My Description\"\n",
    "#sharing_draft.credits = \"My Credits\"\n",
    "#sharing_draft.useLimitations = \"My Use Limitations\"\n",
    "sharing_draft.overwriteExistingService = True\n",
    "\n",
    "# Create Service Defintion Draft file\n",
    "sharing_draft.exportToSDDraft(sddraft)\n",
    "\n",
    "# Stage Service\n",
    "arcpy.StageService_server(sddraft, sd)\n",
    "previousModified = sdItem.modified\n",
    "# Share to portal\n",
    "print(\"Uploading Service Definition...\")\n",
    "arcpy.UploadServiceDefinition_server(sd, \"My Hosted Services\",in_override=\"USE_DEFINITION\")\n",
    "currentModified = gis.content.search(query=f'id:{sdItem.id}')\n",
    "#if currentModified.modified > previousModified:\n",
    "#    print(\"Uploaded service.\")\n",
    "#else:\n",
    "#    print(f'{sdItem.title} was not updated')"
   ]
  },
  {
   "cell_type": "markdown",
   "metadata": {},
   "source": [
    "https://esri.github.io/arcgis-python-api/apidoc/html/arcgis.gis.toc.html#arcgis.gis.GroupManager.search\n",
    "https://esri.github.io/arcgis-python-api/apidoc/html/arcgis.gis.toc.html#arcgis.gis.GroupManager\n",
    "https://developers.arcgis.com/python/guide/accessing-and-managing-groups/\n",
    "\n",
    "Dont know why but ```in_override=\"USE_DEFINITION\"``` from above cell does not use existing share definition. Update sharing to Groups with ```.share``` is a work around below."
   ]
  },
  {
   "cell_type": "code",
   "execution_count": 10,
   "metadata": {},
   "outputs": [
    {
     "data": {
      "text/plain": [
       "{'notSharedWith': [''], 'itemId': '49540032bafb43f08994850b0939fd2f'}"
      ]
     },
     "execution_count": 10,
     "metadata": {},
     "output_type": "execute_result"
    }
   ],
   "source": [
    "#display(sdItem.access)\n",
    "#grps = sdItem.shared_with.get('groups',[0])\n",
    "#grps = sdItem.shared_with\n",
    "#grps.groups\n",
    "# search and list all groups owned by connected user\n",
    "#query=f'owner:{portal_desc[\"user\"][\"username\"]}'\n",
    "#sort_field=\"title\"\n",
    "#sort_order=\"asc\"\n",
    "#max_groups=100\n",
    "#outside_org=False, \n",
    "#categories=None\n",
    "#grps = []\n",
    "#for grp in gis.groups.search(query,sort_field,sort_order,max_groups,outside_org,categories):\n",
    "#    display(grp.title, grp.groupid)\n",
    "sdItem.share(everyone=False, org=False, groups=groupNames, allow_members_to_edit=False)"
   ]
  },
  {
   "cell_type": "code",
   "execution_count": null,
   "metadata": {},
   "outputs": [],
   "source": []
  }
 ],
 "metadata": {
  "kernelspec": {
   "display_name": "Python 3",
   "language": "python",
   "name": "python3"
  },
  "language_info": {
   "codemirror_mode": {
    "name": "ipython",
    "version": 3
   },
   "file_extension": ".py",
   "mimetype": "text/x-python",
   "name": "python",
   "nbconvert_exporter": "python",
   "pygments_lexer": "ipython3",
   "version": "3.6.5"
  }
 },
 "nbformat": 4,
 "nbformat_minor": 2
}
