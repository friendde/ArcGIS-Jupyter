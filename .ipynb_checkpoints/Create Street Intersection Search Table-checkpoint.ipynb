{
 "cells": [
  {
   "cell_type": "code",
   "execution_count": 1,
   "metadata": {},
   "outputs": [],
   "source": [
    "import arcpy\n",
    "sourceStreets = r'C:\\GISData\\Data\\Snapshot\\mxBaseMap.geodatabase\\main.Cartographic\\main.Streets'\n",
    "destGDB = r'C:\\Users\\friendde\\Documents\\ArcGIS\\Projects\\NAStreets\\NAStreets.gdb'\n",
    "stIntersection = r'C:\\Users\\friendde\\Documents\\ArcGIS\\Projects\\NAStreets\\NAStreets.gdb\\StreetIntersection'\n",
    "stVertices = r'C:\\Users\\friendde\\Documents\\ArcGIS\\Projects\\NAStreets\\NAStreets.gdb\\StreetVertices'\n",
    "identEnds = r'C:\\Users\\friendde\\Documents\\ArcGIS\\Projects\\NAStreets\\NAStreets.gdb\\IdenticalStreetEnds'\n",
    "fldNames = {'IntersectingStreets':'Intersecting Streets','StreetName1':'Street Name 1','StreetName2':'Street Name 2','StreetName3':'Street Name 3','StreetName4':'Street Name 4'}"
   ]
  },
  {
   "cell_type": "code",
   "execution_count": 8,
   "metadata": {},
   "outputs": [],
   "source": [
    "sr = arcpy.Describe(sourceStreets).spatialReference\n",
    "arcpy.CreateFeatureclass_management(destGDB,'StreetIntersection','POINT',spatial_reference=sr,out_alias='Steet Intersection')\n",
    "for fName,fAlias in fldNames.items():\n",
    "    #print(fName,fAlias)\n",
    "    arcpy.AddField_management (stIntersection,fName,'TEXT',field_length=100,field_alias=fAlias,)"
   ]
  },
  {
   "cell_type": "code",
   "execution_count": 9,
   "metadata": {},
   "outputs": [
    {
     "data": {
      "text/plain": [
       "<Result 'C:\\\\Users\\\\friendde\\\\Documents\\\\ArcGIS\\\\Projects\\\\NAStreets\\\\NAStreets.gdb\\\\IdenticalStreetEnds'>"
      ]
     },
     "execution_count": 9,
     "metadata": {},
     "output_type": "execute_result"
    }
   ],
   "source": [
    "arcpy.FeatureVerticesToPoints_management(sourceStreets,stVertices,'BOTH_ENDS')\n",
    "arcpy.FindIdentical_management(stVertices,identEnds,'SHAPE',output_record_option='ONLY_DUPLICATES')"
   ]
  },
  {
   "cell_type": "code",
   "execution_count": 10,
   "metadata": {},
   "outputs": [],
   "source": [
    "lastFeatSeq = [row for row in arcpy.da.SearchCursor(identEnds, \"FEAT_SEQ\")][-1]\n",
    "lastFeatSeq = lastFeatSeq[0]+1\n",
    "lastFeatSeq"
   ]
  },
  {
   "cell_type": "code",
   "execution_count": 14,
   "metadata": {},
   "outputs": [
    {
     "ename": "RuntimeError",
     "evalue": "cannot open 'C:\\Users\\friendde\\Documents\\ArcGIS\\Projects\\NAStreets\\NAStreets.gdb\\IdenticalStreetEnds'",
     "output_type": "error",
     "traceback": [
      "\u001b[1;31m---------------------------------------------------------------------------\u001b[0m",
      "\u001b[1;31mRuntimeError\u001b[0m                              Traceback (most recent call last)",
      "\u001b[1;32m<ipython-input-14-00d3ed31002f>\u001b[0m in \u001b[0;36m<module>\u001b[1;34m()\u001b[0m\n\u001b[0;32m      2\u001b[0m     \u001b[0mFID\u001b[0m \u001b[1;33m=\u001b[0m \u001b[1;33m[\u001b[0m\u001b[1;33m]\u001b[0m\u001b[1;33m\u001b[0m\u001b[0m\n\u001b[0;32m      3\u001b[0m     \u001b[0mstreetIntersection\u001b[0m \u001b[1;33m=\u001b[0m \u001b[1;33m[\u001b[0m\u001b[1;33m]\u001b[0m\u001b[1;33m\u001b[0m\u001b[0m\n\u001b[1;32m----> 4\u001b[1;33m     \u001b[1;32mwith\u001b[0m \u001b[0marcpy\u001b[0m\u001b[1;33m.\u001b[0m\u001b[0mda\u001b[0m\u001b[1;33m.\u001b[0m\u001b[0mSearchCursor\u001b[0m\u001b[1;33m(\u001b[0m\u001b[0midentEnds\u001b[0m\u001b[1;33m,\u001b[0m\u001b[1;33m[\u001b[0m\u001b[1;34m\"IN_FID\"\u001b[0m\u001b[1;33m,\u001b[0m\u001b[1;34m\"FEAT_SEQ\"\u001b[0m\u001b[1;33m]\u001b[0m\u001b[1;33m,\u001b[0m\u001b[1;34mf\"FEAT_SEQ = {i}\"\u001b[0m\u001b[1;33m)\u001b[0m \u001b[1;32mas\u001b[0m \u001b[0msc\u001b[0m\u001b[1;33m:\u001b[0m\u001b[1;33m\u001b[0m\u001b[0m\n\u001b[0m\u001b[0;32m      5\u001b[0m         \u001b[1;32mfor\u001b[0m \u001b[0mfid\u001b[0m \u001b[1;32min\u001b[0m \u001b[0msc\u001b[0m\u001b[1;33m:\u001b[0m\u001b[1;33m\u001b[0m\u001b[0m\n\u001b[0;32m      6\u001b[0m             \u001b[0mFID\u001b[0m\u001b[1;33m.\u001b[0m\u001b[0mappend\u001b[0m\u001b[1;33m(\u001b[0m\u001b[0mfid\u001b[0m\u001b[1;33m[\u001b[0m\u001b[1;36m0\u001b[0m\u001b[1;33m]\u001b[0m\u001b[1;33m)\u001b[0m\u001b[1;33m\u001b[0m\u001b[0m\n",
      "\u001b[1;31mRuntimeError\u001b[0m: cannot open 'C:\\Users\\friendde\\Documents\\ArcGIS\\Projects\\NAStreets\\NAStreets.gdb\\IdenticalStreetEnds'"
     ]
    }
   ],
   "source": [
    "for i in range(0,lastFeatSeq,1):\n",
    "    FID = []\n",
    "    streetIntersection = []\n",
    "    with arcpy.da.SearchCursor(identEnds,[\"IN_FID\",\"FEAT_SEQ\"],f\"FEAT_SEQ = {i}\") as sc:\n",
    "        for fid in sc:\n",
    "            FID.append(fid[0])\n",
    "        for oid in FID:\n",
    "            with arcpy.da.SearchCursor(stVertices,[\"OID@\",\"Street_Label\",\"SHAPE@\"],f'OBJECTID = {oid}') as stCur:\n",
    "                for st in stCur:\n",
    "                    streetIntersection.append(st[1])\n",
    "        # Convert list to set and then back to list to remove duplicate street label names\n",
    "        streetIntersect = list(set(streetIntersection))\n",
    "        # convert list to string\n",
    "        stringIntersect = ','.join(streetIntersect)\n",
    "        ic = arcpy.da.InsertCursor(stIntersection,[\"Street_Label\",\"SHAPE@\"])\n",
    "        row = [stringIntersect,st[2]]\n",
    "        del ic"
   ]
  },
  {
   "cell_type": "code",
   "execution_count": null,
   "metadata": {},
   "outputs": [],
   "source": []
  },
  {
   "cell_type": "code",
   "execution_count": null,
   "metadata": {},
   "outputs": [],
   "source": []
  },
  {
   "cell_type": "markdown",
   "metadata": {},
   "source": [
    "insert shape\n",
    "row = [((sv[1][0]))]\n",
    "insert row\n",
    "row = [stringIntersect,sv[1]]"
   ]
  }
 ],
 "metadata": {
  "kernelspec": {
   "display_name": "Python 3",
   "language": "python",
   "name": "python3"
  },
  "language_info": {
   "codemirror_mode": {
    "name": "ipython",
    "version": 3
   },
   "file_extension": ".py",
   "mimetype": "text/x-python",
   "name": "python",
   "nbconvert_exporter": "python",
   "pygments_lexer": "ipython3",
   "version": "3.6.5"
  }
 },
 "nbformat": 4,
 "nbformat_minor": 2
}
