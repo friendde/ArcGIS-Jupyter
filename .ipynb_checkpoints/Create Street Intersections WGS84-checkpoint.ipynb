{
 "cells": [
  {
   "cell_type": "markdown",
   "metadata": {},
   "source": [
    "### Create Street Intersection Point Feature Class in WGS84\n",
    "- Requires a line featureclass with street names\n",
    "- ```FeatureVerticesToPoints_management()``` [Available with Advanced license](http://pro.arcgis.com/en/pro-app/tool-reference/data-management/feature-vertices-to-points.htm)\n",
    "\n",
    "#### Using [FeatureVerticesToPoints_management()](http://pro.arcgis.com/en/pro-app/tool-reference/data-management/feature-vertices-to-points.htm) will create a point at ```BOTH_ENDS``` for each line representing the street\n",
    "#### [FindIdentical_management()](http://pro.arcgis.com/en/pro-app/tool-reference/data-management/find-identical.htm) will create the table from the point featureclass created above. The identical ```fields``` is simply the SHAPE of the point created where one street segment ends and another street segment begins.\n",
    "\n",
    "Looping through a list created will exlclude points that are not representing the intersection of a street with a different name\n",
    "\n",
    "New Capability: Adding fields to support hyperlinks to Google Streetview and Bing BirdsEye"
   ]
  },
  {
   "cell_type": "code",
   "execution_count": 1,
   "metadata": {},
   "outputs": [],
   "source": [
    "import arcpy\n",
    "import numpy as np\n",
    "import pandas as pd"
   ]
  },
  {
   "cell_type": "code",
   "execution_count": 2,
   "metadata": {},
   "outputs": [],
   "source": [
    "sourceStreets = r'C:\\GISData\\Data\\Snapshot\\mxBaseMap.geodatabase\\main.Cartographic\\main.Streets'\n",
    "destGDB = r'C:\\Users\\friendde\\Documents\\ArcGIS\\Projects\\NAStreets\\NAStreets.gdb'\n",
    "stIntersectionWGS84 = r'C:\\Users\\friendde\\Documents\\ArcGIS\\Projects\\NAStreets\\NAStreets.gdb\\StreetIntersectionWGS84'\n",
    "stVerticesWGS84 = r'C:\\Users\\friendde\\Documents\\ArcGIS\\Projects\\NAStreets\\NAStreets.gdb\\StreetVerticesWGS84'\n",
    "identEndsWGS84 = r'C:\\Users\\friendde\\Documents\\ArcGIS\\Projects\\NAStreets\\NAStreets.gdb\\IdenticalStreetEndsWGS84'\n",
    "fldNames = {'IntersectingStreets':'Intersecting Streets','StreetName1':'Street Name 1','StreetName2':'Street Name 2','StreetName3':'Street Name 3','StreetName4':'Street Name 4'}\n",
    "outFlds =['IntersectingStreets','StreetName1','StreetName2','StreetName3','StreetName4','POINT_X','POINT_Y']"
   ]
  },
  {
   "cell_type": "code",
   "execution_count": 3,
   "metadata": {},
   "outputs": [],
   "source": [
    "arcpy.env.workspace = destGDB\n",
    "for fc in arcpy.ListFeatureClasses():\n",
    "    arcpy.Delete_management(fc)\n",
    "for tbl in arcpy.ListTables():\n",
    "    arcpy.Delete_management(tbl)"
   ]
  },
  {
   "cell_type": "code",
   "execution_count": 4,
   "metadata": {},
   "outputs": [
    {
     "data": {
      "text/plain": [
       "'GCS_WGS_1984'"
      ]
     },
     "execution_count": 4,
     "metadata": {},
     "output_type": "execute_result"
    }
   ],
   "source": [
    "sr = arcpy.SpatialReference(4326)\n",
    "sr.name"
   ]
  },
  {
   "cell_type": "code",
   "execution_count": 5,
   "metadata": {},
   "outputs": [],
   "source": [
    "#sr = arcpy.Describe(sourceStreets).spatialReference\n",
    "arcpy.CreateFeatureclass_management(destGDB,'StreetIntersection','POINT',spatial_reference=sr,out_alias='Steet Intersection')\n",
    "for fName,fAlias in fldNames.items():\n",
    "    #print(fName,fAlias)\n",
    "    arcpy.AddField_management (stIntersection,fName,'TEXT',field_length=100,field_alias=fAlias,)"
   ]
  },
  {
   "cell_type": "code",
   "execution_count": 6,
   "metadata": {},
   "outputs": [
    {
     "name": "stdout",
     "output_type": "stream",
     "text": [
      "number of intersections: 11131\n"
     ]
    }
   ],
   "source": [
    "arcpy.FeatureVerticesToPoints_management(sourceStreets,stVertices,'BOTH_ENDS')\n",
    "arcpy.FindIdentical_management(stVertices,identEnds,'SHAPE',output_record_option='ONLY_DUPLICATES')\n",
    "lastFeatSeq = [row for row in arcpy.da.SearchCursor(identEnds, \"FEAT_SEQ\")][-1]\n",
    "lastFeatSeq = lastFeatSeq[0]+1\n",
    "print(f\"number of intersections: {lastFeatSeq}\")"
   ]
  },
  {
   "cell_type": "code",
   "execution_count": 7,
   "metadata": {},
   "outputs": [],
   "source": [
    "for i in range(1,lastFeatSeq,1):\n",
    "    FID = []\n",
    "    streetIntersection = []\n",
    "    with arcpy.da.SearchCursor(identEnds,[\"IN_FID\",\"FEAT_SEQ\"],f\"FEAT_SEQ = {i}\") as sc:\n",
    "        for fid in sc:\n",
    "            FID.append(fid[0])\n",
    "        for oid in FID:\n",
    "            with arcpy.da.SearchCursor(stVertices,[\"OID@\",\"Street_Label\",\"SHAPE@\"],f'OBJECTID = {oid}') as stCur:\n",
    "                for st in stCur:\n",
    "                    if len(st[1])>2:\n",
    "                        streetIntersection.append(st[1])\n",
    "        # Convert list to set and then back to list to remove duplicate street label names\n",
    "        streetIntersect = list(set(streetIntersection))\n",
    "        streetIntersect.sort()\n",
    "        #print(f\"sorted list {streetIntersect} length {len(streetIntersect)}\")\n",
    "        # convert list to string\n",
    "        stringIntersect = '<->'.join(streetIntersect)\n",
    "        if len(streetIntersect) == 2:\n",
    "            #print(f\"{stringIntersect}\")\n",
    "            ic = arcpy.da.InsertCursor(stIntersection,[\"IntersectingStreets\",\"StreetName1\",\"StreetName2\",\"SHAPE@\"])\n",
    "            row = [stringIntersect,streetIntersect[0],streetIntersect[1],st[2]]\n",
    "            ic.insertRow(row)\n",
    "            del ic\n",
    "        elif len(streetIntersect) == 3:\n",
    "            #print(f\"{stringIntersect}\")\n",
    "            ic = arcpy.da.InsertCursor(stIntersection,[\"IntersectingStreets\",\"StreetName1\",\"StreetName2\",\"StreetName3\",\"SHAPE@\"])\n",
    "            row = [stringIntersect,streetIntersect[0],streetIntersect[1],streetIntersect[2],st[2]]\n",
    "            ic.insertRow(row)\n",
    "            del ic\n",
    "        elif len(streetIntersect) == 4:\n",
    "            #print(f\"{stringIntersect}\")\n",
    "            ic = arcpy.da.InsertCursor(stIntersection,[\"IntersectingStreets\",\"StreetName1\",\"StreetName2\",\"StreetName3\",\"StreetName4\",\"SHAPE@\"])\n",
    "            row = [stringIntersect,streetIntersect[0],streetIntersect[1],streetIntersect[2],streetIntersect[3],st[2]]\n",
    "            ic.insertRow(row)\n",
    "            del ic\n",
    "        else:\n",
    "            pass\n",
    "            #print(f\"string list other {stringIntersect}\")\n",
    "            #ic = arcpy.da.InsertCursor(stIntersection,[\"IntersectingStreets\",\"SHAPE@\"])\n",
    "            #row = [stringIntersect,st[2]]\n",
    "            #ic.insertRow(row)\n",
    "            #del ic"
   ]
  },
  {
   "cell_type": "code",
   "execution_count": 8,
   "metadata": {},
   "outputs": [
    {
     "name": "stdout",
     "output_type": "stream",
     "text": [
      "number of intersections: (9164,)\n"
     ]
    }
   ],
   "source": [
    "lastIntersect = [row for row in arcpy.da.SearchCursor(stIntersection, \"OID@\")][-1]\n",
    "print(f\"number of intersections: {lastIntersect}\")"
   ]
  },
  {
   "cell_type": "code",
   "execution_count": 9,
   "metadata": {},
   "outputs": [
    {
     "data": {
      "text/plain": [
       "<Result 'C:\\\\Users\\\\friendde\\\\Documents\\\\ArcGIS\\\\Projects\\\\NAStreets\\\\NAStreets.gdb\\\\StreetIntersection'>"
      ]
     },
     "execution_count": 9,
     "metadata": {},
     "output_type": "execute_result"
    }
   ],
   "source": [
    "arcpy.AddXY_management(stIntersection)"
   ]
  },
  {
   "cell_type": "markdown",
   "metadata": {},
   "source": [
    "Using [arcpy.da.TableToNumPyArray()](http://pro.arcgis.com/en/pro-app/arcpy/data-access/tabletonumpyarray.htm) and [pandas.DataFrame()](https://pandas.pydata.org/pandas-docs/stable/generated/pandas.DataFrame.html) display the first 25 rows of the Street Intersection point featureclass"
   ]
  },
  {
   "cell_type": "code",
   "execution_count": 10,
   "metadata": {},
   "outputs": [
    {
     "data": {
      "text/html": [
       "<div>\n",
       "<style scoped>\n",
       "    .dataframe tbody tr th:only-of-type {\n",
       "        vertical-align: middle;\n",
       "    }\n",
       "\n",
       "    .dataframe tbody tr th {\n",
       "        vertical-align: top;\n",
       "    }\n",
       "\n",
       "    .dataframe thead th {\n",
       "        text-align: right;\n",
       "    }\n",
       "</style>\n",
       "<table border=\"1\" class=\"dataframe\">\n",
       "  <thead>\n",
       "    <tr style=\"text-align: right;\">\n",
       "      <th></th>\n",
       "      <th>IntersectingStreets</th>\n",
       "      <th>StreetName1</th>\n",
       "      <th>StreetName2</th>\n",
       "      <th>StreetName3</th>\n",
       "      <th>StreetName4</th>\n",
       "      <th>POINT_X</th>\n",
       "      <th>POINT_Y</th>\n",
       "    </tr>\n",
       "  </thead>\n",
       "  <tbody>\n",
       "    <tr>\n",
       "      <th>0</th>\n",
       "      <td>NW 104TH CT&lt;-&gt;NW 25TH PL</td>\n",
       "      <td>NW 104TH CT</td>\n",
       "      <td>NW 25TH PL</td>\n",
       "      <td>None</td>\n",
       "      <td>None</td>\n",
       "      <td>-82.452705</td>\n",
       "      <td>29.675202</td>\n",
       "    </tr>\n",
       "    <tr>\n",
       "      <th>1</th>\n",
       "      <td>NW 106TH DR&lt;-&gt;NW 106TH WAY&lt;-&gt;NW 25TH PL</td>\n",
       "      <td>NW 106TH DR</td>\n",
       "      <td>NW 106TH WAY</td>\n",
       "      <td>NW 25TH PL</td>\n",
       "      <td>None</td>\n",
       "      <td>-82.454380</td>\n",
       "      <td>29.675591</td>\n",
       "    </tr>\n",
       "    <tr>\n",
       "      <th>2</th>\n",
       "      <td>SW 89TH DR&lt;-&gt;SW 89TH TER</td>\n",
       "      <td>SW 89TH DR</td>\n",
       "      <td>SW 89TH TER</td>\n",
       "      <td>None</td>\n",
       "      <td>None</td>\n",
       "      <td>-82.437357</td>\n",
       "      <td>29.599095</td>\n",
       "    </tr>\n",
       "    <tr>\n",
       "      <th>3</th>\n",
       "      <td>SW 61ST AVE&lt;-&gt;SW 89TH TER</td>\n",
       "      <td>SW 61ST AVE</td>\n",
       "      <td>SW 89TH TER</td>\n",
       "      <td>None</td>\n",
       "      <td>None</td>\n",
       "      <td>-82.438188</td>\n",
       "      <td>29.597783</td>\n",
       "    </tr>\n",
       "    <tr>\n",
       "      <th>4</th>\n",
       "      <td>SW 61ST PL&lt;-&gt;SW 86TH WAY</td>\n",
       "      <td>SW 61ST PL</td>\n",
       "      <td>SW 86TH WAY</td>\n",
       "      <td>None</td>\n",
       "      <td>None</td>\n",
       "      <td>-82.434523</td>\n",
       "      <td>29.597539</td>\n",
       "    </tr>\n",
       "    <tr>\n",
       "      <th>5</th>\n",
       "      <td>SW 61ST PL&lt;-&gt;SW 86TH DR</td>\n",
       "      <td>SW 61ST PL</td>\n",
       "      <td>SW 86TH DR</td>\n",
       "      <td>None</td>\n",
       "      <td>None</td>\n",
       "      <td>-82.434933</td>\n",
       "      <td>29.597786</td>\n",
       "    </tr>\n",
       "    <tr>\n",
       "      <th>6</th>\n",
       "      <td>SW 61ST AVE&lt;-&gt;SW 99TH ST</td>\n",
       "      <td>SW 61ST AVE</td>\n",
       "      <td>SW 99TH ST</td>\n",
       "      <td>None</td>\n",
       "      <td>None</td>\n",
       "      <td>-82.447799</td>\n",
       "      <td>29.597835</td>\n",
       "    </tr>\n",
       "    <tr>\n",
       "      <th>7</th>\n",
       "      <td>SW 103RD ST&lt;-&gt;SW 61ST AVE</td>\n",
       "      <td>SW 103RD ST</td>\n",
       "      <td>SW 61ST AVE</td>\n",
       "      <td>None</td>\n",
       "      <td>None</td>\n",
       "      <td>-82.451907</td>\n",
       "      <td>29.597780</td>\n",
       "    </tr>\n",
       "    <tr>\n",
       "      <th>8</th>\n",
       "      <td>NW 2ND AVE&lt;-&gt;NW 55TH ST</td>\n",
       "      <td>NW 2ND AVE</td>\n",
       "      <td>NW 55TH ST</td>\n",
       "      <td>None</td>\n",
       "      <td>None</td>\n",
       "      <td>-82.401470</td>\n",
       "      <td>29.654162</td>\n",
       "    </tr>\n",
       "    <tr>\n",
       "      <th>9</th>\n",
       "      <td>NW 2ND PL&lt;-&gt;NW 55TH ST</td>\n",
       "      <td>NW 2ND PL</td>\n",
       "      <td>NW 55TH ST</td>\n",
       "      <td>None</td>\n",
       "      <td>None</td>\n",
       "      <td>-82.401410</td>\n",
       "      <td>29.654722</td>\n",
       "    </tr>\n",
       "    <tr>\n",
       "      <th>10</th>\n",
       "      <td>FORT CLARKE BLVD&lt;-&gt;NW 18TH PL&lt;-&gt;NW 89TH DR</td>\n",
       "      <td>FORT CLARKE BLVD</td>\n",
       "      <td>NW 18TH PL</td>\n",
       "      <td>NW 89TH DR</td>\n",
       "      <td>None</td>\n",
       "      <td>-82.438408</td>\n",
       "      <td>29.669959</td>\n",
       "    </tr>\n",
       "    <tr>\n",
       "      <th>11</th>\n",
       "      <td>FORT CLARKE BLVD&lt;-&gt;NW 23RD AVE</td>\n",
       "      <td>FORT CLARKE BLVD</td>\n",
       "      <td>NW 23RD AVE</td>\n",
       "      <td>None</td>\n",
       "      <td>None</td>\n",
       "      <td>-82.439227</td>\n",
       "      <td>29.674343</td>\n",
       "    </tr>\n",
       "    <tr>\n",
       "      <th>12</th>\n",
       "      <td>SW 1ST PL&lt;-&gt;SW 91ST ST</td>\n",
       "      <td>SW 1ST PL</td>\n",
       "      <td>SW 91ST ST</td>\n",
       "      <td>None</td>\n",
       "      <td>None</td>\n",
       "      <td>-82.439017</td>\n",
       "      <td>29.651134</td>\n",
       "    </tr>\n",
       "    <tr>\n",
       "      <th>13</th>\n",
       "      <td>SW 1ST PL&lt;-&gt;SW 93RD ST</td>\n",
       "      <td>SW 1ST PL</td>\n",
       "      <td>SW 93RD ST</td>\n",
       "      <td>None</td>\n",
       "      <td>None</td>\n",
       "      <td>-82.441266</td>\n",
       "      <td>29.651154</td>\n",
       "    </tr>\n",
       "    <tr>\n",
       "      <th>14</th>\n",
       "      <td>NE 132ND AVE&lt;-&gt;NE COUNTY RD 1471</td>\n",
       "      <td>NE 132ND AVE</td>\n",
       "      <td>NE COUNTY RD 1471</td>\n",
       "      <td>None</td>\n",
       "      <td>None</td>\n",
       "      <td>-82.129665</td>\n",
       "      <td>29.776174</td>\n",
       "    </tr>\n",
       "    <tr>\n",
       "      <th>15</th>\n",
       "      <td>NW 214TH ST&lt;-&gt;NW 78TH AV&lt;-&gt;NW 78TH AVE</td>\n",
       "      <td>NW 214TH ST</td>\n",
       "      <td>NW 78TH AV</td>\n",
       "      <td>NW 78TH AVE</td>\n",
       "      <td>None</td>\n",
       "      <td>-82.569754</td>\n",
       "      <td>29.727448</td>\n",
       "    </tr>\n",
       "    <tr>\n",
       "      <th>16</th>\n",
       "      <td>NW 218TH ST&lt;-&gt;NW 78TH AVE</td>\n",
       "      <td>NW 218TH ST</td>\n",
       "      <td>NW 78TH AVE</td>\n",
       "      <td>None</td>\n",
       "      <td>None</td>\n",
       "      <td>-82.573830</td>\n",
       "      <td>29.727470</td>\n",
       "    </tr>\n",
       "    <tr>\n",
       "      <th>17</th>\n",
       "      <td>NW 210TH ST&lt;-&gt;NW 58TH PL</td>\n",
       "      <td>NW 210TH ST</td>\n",
       "      <td>NW 58TH PL</td>\n",
       "      <td>None</td>\n",
       "      <td>None</td>\n",
       "      <td>-82.565415</td>\n",
       "      <td>29.710057</td>\n",
       "    </tr>\n",
       "    <tr>\n",
       "      <th>18</th>\n",
       "      <td>NW 210TH ST&lt;-&gt;NW 62ND AVE</td>\n",
       "      <td>NW 210TH ST</td>\n",
       "      <td>NW 62ND AVE</td>\n",
       "      <td>None</td>\n",
       "      <td>None</td>\n",
       "      <td>-82.565432</td>\n",
       "      <td>29.712890</td>\n",
       "    </tr>\n",
       "    <tr>\n",
       "      <th>19</th>\n",
       "      <td>NW 210TH ST&lt;-&gt;NW 56TH PL</td>\n",
       "      <td>NW 210TH ST</td>\n",
       "      <td>NW 56TH PL</td>\n",
       "      <td>None</td>\n",
       "      <td>None</td>\n",
       "      <td>-82.565431</td>\n",
       "      <td>29.707314</td>\n",
       "    </tr>\n",
       "    <tr>\n",
       "      <th>20</th>\n",
       "      <td>NW 216TH TER&lt;-&gt;NW 56TH PL</td>\n",
       "      <td>NW 216TH TER</td>\n",
       "      <td>NW 56TH PL</td>\n",
       "      <td>None</td>\n",
       "      <td>None</td>\n",
       "      <td>-82.571805</td>\n",
       "      <td>29.707429</td>\n",
       "    </tr>\n",
       "    <tr>\n",
       "      <th>21</th>\n",
       "      <td>NW 290TH ST&lt;-&gt;NW 62ND AVE</td>\n",
       "      <td>NW 290TH ST</td>\n",
       "      <td>NW 62ND AVE</td>\n",
       "      <td>None</td>\n",
       "      <td>None</td>\n",
       "      <td>-82.648592</td>\n",
       "      <td>29.711531</td>\n",
       "    </tr>\n",
       "    <tr>\n",
       "      <th>22</th>\n",
       "      <td>NW 290TH ST&lt;-&gt;NW 64TH LN</td>\n",
       "      <td>NW 290TH ST</td>\n",
       "      <td>NW 64TH LN</td>\n",
       "      <td>None</td>\n",
       "      <td>None</td>\n",
       "      <td>-82.648634</td>\n",
       "      <td>29.713562</td>\n",
       "    </tr>\n",
       "    <tr>\n",
       "      <th>23</th>\n",
       "      <td>NW 62ND AVE&lt;-&gt;NW STATE  RD 45</td>\n",
       "      <td>NW 62ND AVE</td>\n",
       "      <td>NW STATE  RD 45</td>\n",
       "      <td>None</td>\n",
       "      <td>None</td>\n",
       "      <td>-82.607114</td>\n",
       "      <td>29.712833</td>\n",
       "    </tr>\n",
       "    <tr>\n",
       "      <th>24</th>\n",
       "      <td>NW 68TH LN&lt;-&gt;NW STATE  RD 45</td>\n",
       "      <td>NW 68TH LN</td>\n",
       "      <td>NW STATE  RD 45</td>\n",
       "      <td>None</td>\n",
       "      <td>None</td>\n",
       "      <td>-82.607138</td>\n",
       "      <td>29.718474</td>\n",
       "    </tr>\n",
       "  </tbody>\n",
       "</table>\n",
       "</div>"
      ],
      "text/plain": [
       "                            IntersectingStreets        StreetName1         StreetName2  StreetName3 StreetName4    POINT_X    POINT_Y\n",
       "0                      NW 104TH CT<->NW 25TH PL        NW 104TH CT          NW 25TH PL         None        None -82.452705  29.675202\n",
       "1       NW 106TH DR<->NW 106TH WAY<->NW 25TH PL        NW 106TH DR        NW 106TH WAY   NW 25TH PL        None -82.454380  29.675591\n",
       "2                      SW 89TH DR<->SW 89TH TER         SW 89TH DR         SW 89TH TER         None        None -82.437357  29.599095\n",
       "3                     SW 61ST AVE<->SW 89TH TER        SW 61ST AVE         SW 89TH TER         None        None -82.438188  29.597783\n",
       "4                      SW 61ST PL<->SW 86TH WAY         SW 61ST PL         SW 86TH WAY         None        None -82.434523  29.597539\n",
       "5                       SW 61ST PL<->SW 86TH DR         SW 61ST PL          SW 86TH DR         None        None -82.434933  29.597786\n",
       "6                      SW 61ST AVE<->SW 99TH ST        SW 61ST AVE          SW 99TH ST         None        None -82.447799  29.597835\n",
       "7                     SW 103RD ST<->SW 61ST AVE        SW 103RD ST         SW 61ST AVE         None        None -82.451907  29.597780\n",
       "8                       NW 2ND AVE<->NW 55TH ST         NW 2ND AVE          NW 55TH ST         None        None -82.401470  29.654162\n",
       "9                        NW 2ND PL<->NW 55TH ST          NW 2ND PL          NW 55TH ST         None        None -82.401410  29.654722\n",
       "10   FORT CLARKE BLVD<->NW 18TH PL<->NW 89TH DR   FORT CLARKE BLVD          NW 18TH PL   NW 89TH DR        None -82.438408  29.669959\n",
       "11               FORT CLARKE BLVD<->NW 23RD AVE   FORT CLARKE BLVD         NW 23RD AVE         None        None -82.439227  29.674343\n",
       "12                       SW 1ST PL<->SW 91ST ST          SW 1ST PL          SW 91ST ST         None        None -82.439017  29.651134\n",
       "13                       SW 1ST PL<->SW 93RD ST          SW 1ST PL          SW 93RD ST         None        None -82.441266  29.651154\n",
       "14            NE 132ND AVE<->NE COUNTY RD 1471        NE 132ND AVE  NE COUNTY RD 1471          None        None -82.129665  29.776174\n",
       "15       NW 214TH ST<->NW 78TH AV<->NW 78TH AVE        NW 214TH ST          NW 78TH AV  NW 78TH AVE        None -82.569754  29.727448\n",
       "16                    NW 218TH ST<->NW 78TH AVE        NW 218TH ST         NW 78TH AVE         None        None -82.573830  29.727470\n",
       "17                     NW 210TH ST<->NW 58TH PL        NW 210TH ST          NW 58TH PL         None        None -82.565415  29.710057\n",
       "18                    NW 210TH ST<->NW 62ND AVE        NW 210TH ST         NW 62ND AVE         None        None -82.565432  29.712890\n",
       "19                     NW 210TH ST<->NW 56TH PL        NW 210TH ST          NW 56TH PL         None        None -82.565431  29.707314\n",
       "20                    NW 216TH TER<->NW 56TH PL       NW 216TH TER          NW 56TH PL         None        None -82.571805  29.707429\n",
       "21                    NW 290TH ST<->NW 62ND AVE        NW 290TH ST         NW 62ND AVE         None        None -82.648592  29.711531\n",
       "22                     NW 290TH ST<->NW 64TH LN        NW 290TH ST          NW 64TH LN         None        None -82.648634  29.713562\n",
       "23               NW 62ND AVE<->NW STATE  RD 45         NW 62ND AVE    NW STATE  RD 45          None        None -82.607114  29.712833\n",
       "24                NW 68TH LN<->NW STATE  RD 45          NW 68TH LN    NW STATE  RD 45          None        None -82.607138  29.718474"
      ]
     },
     "execution_count": 10,
     "metadata": {},
     "output_type": "execute_result"
    }
   ],
   "source": [
    "arr = arcpy.da.TableToNumPyArray(stIntersection,outFlds)\n",
    "df = pd.DataFrame(arr)\n",
    "#df['StreetView'] = pd.Series(index=df.index) \n",
    "#df.count()\n",
    "df.head(25)"
   ]
  },
  {
   "cell_type": "code",
   "execution_count": 18,
   "metadata": {},
   "outputs": [
    {
     "data": {
      "text/html": [
       "<div>\n",
       "<style scoped>\n",
       "    .dataframe tbody tr th:only-of-type {\n",
       "        vertical-align: middle;\n",
       "    }\n",
       "\n",
       "    .dataframe tbody tr th {\n",
       "        vertical-align: top;\n",
       "    }\n",
       "\n",
       "    .dataframe thead th {\n",
       "        text-align: right;\n",
       "    }\n",
       "</style>\n",
       "<table border=\"1\" class=\"dataframe\">\n",
       "  <thead>\n",
       "    <tr style=\"text-align: right;\">\n",
       "      <th></th>\n",
       "      <th>IntersectingStreets</th>\n",
       "      <th>StreetName1</th>\n",
       "      <th>StreetName2</th>\n",
       "      <th>StreetName3</th>\n",
       "      <th>StreetName4</th>\n",
       "      <th>POINT_X</th>\n",
       "      <th>POINT_Y</th>\n",
       "      <th>StreetView</th>\n",
       "    </tr>\n",
       "  </thead>\n",
       "  <tbody>\n",
       "    <tr>\n",
       "      <th>0</th>\n",
       "      <td>NW 104TH CT&lt;-&gt;NW 25TH PL</td>\n",
       "      <td>NW 104TH CT</td>\n",
       "      <td>NW 25TH PL</td>\n",
       "      <td>None</td>\n",
       "      <td>None</td>\n",
       "      <td>-82.45270466599999</td>\n",
       "      <td>29.675202471000034</td>\n",
       "      <td>http://maps.google.com/?cbll=29.675202471000034,-82.45270466599999&amp;cbp=12,90,0,0,5&amp;layer=c</td>\n",
       "    </tr>\n",
       "    <tr>\n",
       "      <th>1</th>\n",
       "      <td>NW 106TH DR&lt;-&gt;NW 106TH WAY&lt;-&gt;NW 25TH PL</td>\n",
       "      <td>NW 106TH DR</td>\n",
       "      <td>NW 106TH WAY</td>\n",
       "      <td>NW 25TH PL</td>\n",
       "      <td>None</td>\n",
       "      <td>-82.45438000399997</td>\n",
       "      <td>29.675591460000078</td>\n",
       "      <td>http://maps.google.com/?cbll=29.675591460000078,-82.45438000399997&amp;cbp=12,90,0,0,5&amp;layer=c</td>\n",
       "    </tr>\n",
       "    <tr>\n",
       "      <th>2</th>\n",
       "      <td>SW 89TH DR&lt;-&gt;SW 89TH TER</td>\n",
       "      <td>SW 89TH DR</td>\n",
       "      <td>SW 89TH TER</td>\n",
       "      <td>None</td>\n",
       "      <td>None</td>\n",
       "      <td>-82.43735656799998</td>\n",
       "      <td>29.59909469400003</td>\n",
       "      <td>http://maps.google.com/?cbll=29.59909469400003,-82.43735656799998&amp;cbp=12,90,0,0,5&amp;layer=c</td>\n",
       "    </tr>\n",
       "    <tr>\n",
       "      <th>3</th>\n",
       "      <td>SW 61ST AVE&lt;-&gt;SW 89TH TER</td>\n",
       "      <td>SW 61ST AVE</td>\n",
       "      <td>SW 89TH TER</td>\n",
       "      <td>None</td>\n",
       "      <td>None</td>\n",
       "      <td>-82.43818802199996</td>\n",
       "      <td>29.597782557000073</td>\n",
       "      <td>http://maps.google.com/?cbll=29.597782557000073,-82.43818802199996&amp;cbp=12,90,0,0,5&amp;layer=c</td>\n",
       "    </tr>\n",
       "    <tr>\n",
       "      <th>4</th>\n",
       "      <td>SW 61ST PL&lt;-&gt;SW 86TH WAY</td>\n",
       "      <td>SW 61ST PL</td>\n",
       "      <td>SW 86TH WAY</td>\n",
       "      <td>None</td>\n",
       "      <td>None</td>\n",
       "      <td>-82.43452271799998</td>\n",
       "      <td>29.597539399000027</td>\n",
       "      <td>http://maps.google.com/?cbll=29.597539399000027,-82.43452271799998&amp;cbp=12,90,0,0,5&amp;layer=c</td>\n",
       "    </tr>\n",
       "  </tbody>\n",
       "</table>\n",
       "</div>"
      ],
      "text/plain": [
       "                       IntersectingStreets  StreetName1   StreetName2 StreetName3 StreetName4             POINT_X             POINT_Y                                                                                  StreetView\n",
       "0                 NW 104TH CT<->NW 25TH PL  NW 104TH CT    NW 25TH PL        None        None  -82.45270466599999  29.675202471000034  http://maps.google.com/?cbll=29.675202471000034,-82.45270466599999&cbp=12,90,0,0,5&layer=c\n",
       "1  NW 106TH DR<->NW 106TH WAY<->NW 25TH PL  NW 106TH DR  NW 106TH WAY  NW 25TH PL        None  -82.45438000399997  29.675591460000078  http://maps.google.com/?cbll=29.675591460000078,-82.45438000399997&cbp=12,90,0,0,5&layer=c\n",
       "2                 SW 89TH DR<->SW 89TH TER   SW 89TH DR   SW 89TH TER        None        None  -82.43735656799998   29.59909469400003   http://maps.google.com/?cbll=29.59909469400003,-82.43735656799998&cbp=12,90,0,0,5&layer=c\n",
       "3                SW 61ST AVE<->SW 89TH TER  SW 61ST AVE   SW 89TH TER        None        None  -82.43818802199996  29.597782557000073  http://maps.google.com/?cbll=29.597782557000073,-82.43818802199996&cbp=12,90,0,0,5&layer=c\n",
       "4                 SW 61ST PL<->SW 86TH WAY   SW 61ST PL   SW 86TH WAY        None        None  -82.43452271799998  29.597539399000027  http://maps.google.com/?cbll=29.597539399000027,-82.43452271799998&cbp=12,90,0,0,5&layer=c"
      ]
     },
     "execution_count": 18,
     "metadata": {},
     "output_type": "execute_result"
    }
   ],
   "source": [
    "df.head()"
   ]
  },
  {
   "cell_type": "markdown",
   "metadata": {},
   "source": [
    "http://maps.google.com/?cbll=%VALUE%&cbp=12,90,0,0,5&layer=c"
   ]
  },
  {
   "cell_type": "markdown",
   "metadata": {},
   "source": [
    "df.drop(['StreetView'], axis=1, inplace=True)"
   ]
  },
  {
   "cell_type": "code",
   "execution_count": 14,
   "metadata": {},
   "outputs": [],
   "source": [
    "df = df.astype({'POINT_X':str}, copy=False)\n",
    "df = df.astype({'POINT_Y':str}, copy=False)"
   ]
  },
  {
   "cell_type": "code",
   "execution_count": 15,
   "metadata": {},
   "outputs": [
    {
     "data": {
      "text/plain": [
       "IntersectingStreets    object\n",
       "StreetName1            object\n",
       "StreetName2            object\n",
       "StreetName3            object\n",
       "StreetName4            object\n",
       "POINT_X                object\n",
       "POINT_Y                object\n",
       "dtype: object"
      ]
     },
     "execution_count": 15,
     "metadata": {},
     "output_type": "execute_result"
    }
   ],
   "source": [
    "df.dtypes"
   ]
  },
  {
   "cell_type": "code",
   "execution_count": 16,
   "metadata": {},
   "outputs": [],
   "source": [
    "#df = df.assign(StreetView='http://maps.google.com/?cbll=' + df[\"POINY_Y\"] + df[\"POINT_X\"] + '&cbp=12,90,0,0,5&layer=c')\n",
    "df = df.assign(StreetView='http://maps.google.com/?cbll=' + df.POINT_Y + ',' + df.POINT_X + '&cbp=12,90,0,0,5&layer=c')"
   ]
  },
  {
   "cell_type": "code",
   "execution_count": 17,
   "metadata": {},
   "outputs": [
    {
     "data": {
      "text/plain": [
       "0    http://maps.google.com/?cbll=29.675202471000034,-82.45270466599999&cbp=12,90,0,0,5&layer=c\n",
       "1    http://maps.google.com/?cbll=29.675591460000078,-82.45438000399997&cbp=12,90,0,0,5&layer=c\n",
       "2     http://maps.google.com/?cbll=29.59909469400003,-82.43735656799998&cbp=12,90,0,0,5&layer=c\n",
       "3    http://maps.google.com/?cbll=29.597782557000073,-82.43818802199996&cbp=12,90,0,0,5&layer=c\n",
       "4    http://maps.google.com/?cbll=29.597539399000027,-82.43452271799998&cbp=12,90,0,0,5&layer=c\n",
       "Name: StreetView, dtype: object"
      ]
     },
     "execution_count": 17,
     "metadata": {},
     "output_type": "execute_result"
    }
   ],
   "source": [
    "df.StreetView.head()"
   ]
  },
  {
   "cell_type": "code",
   "execution_count": null,
   "metadata": {},
   "outputs": [],
   "source": [
    "arcpy.env.workspace = r'C:\\Users\\friendde\\Documents\\ArcGIS\\Projects\\NAStreets'\n",
    "arcpy.env.overwriteOutput = True"
   ]
  },
  {
   "cell_type": "code",
   "execution_count": null,
   "metadata": {},
   "outputs": [],
   "source": [
    "arcpy.ExportXMLWorkspaceDocument_management (stIntersection, r'C:\\Users\\friendde\\Documents\\ArcGIS\\Projects\\NAStreets\\StreetIntersectionWGS84.xml', 'DATA')"
   ]
  }
 ],
 "metadata": {
  "kernelspec": {
   "display_name": "Python 3",
   "language": "python",
   "name": "python3"
  },
  "language_info": {
   "codemirror_mode": {
    "name": "ipython",
    "version": 3
   },
   "file_extension": ".py",
   "mimetype": "text/x-python",
   "name": "python",
   "nbconvert_exporter": "python",
   "pygments_lexer": "ipython3",
   "version": "3.6.5"
  }
 },
 "nbformat": 4,
 "nbformat_minor": 2
}
