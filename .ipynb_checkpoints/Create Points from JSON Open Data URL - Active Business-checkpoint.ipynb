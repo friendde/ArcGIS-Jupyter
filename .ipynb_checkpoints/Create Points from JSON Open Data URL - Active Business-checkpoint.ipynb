{
 "cells": [
  {
   "cell_type": "markdown",
   "metadata": {},
   "source": [
    "GOAL:\n",
    "\n",
    "- Create points using JSON URL from Open Data site\n",
    "- Publish the points to ArcGIS Online or ArcGIS Portal"
   ]
  },
  {
   "cell_type": "markdown",
   "metadata": {},
   "source": [
    "Inspired by:\n",
    "\n",
    "- [Bryan McIntosh - Export ArcGIS Server Map Service Layer to Shapefile](http://www.spatialtimes.com/2016/03/extract-map-service-layer-shapefile-using-python/)\n",
    "- [Corey Schafer python JSON YouTube video](https://youtu.be/9N6a-VLBa2I)\n",
    "- [Corey Schafer GitHub](https://github.com/CoreyMSchafer/code_snippets/blob/master/Python-JSON/api.py)"
   ]
  },
  {
   "cell_type": "code",
   "execution_count": null,
   "metadata": {},
   "outputs": [],
   "source": [
    "import urllib3\n",
    "import json\n",
    "import arcpy\n",
    "import pandas as pd\n",
    "import numpy as np"
   ]
  },
  {
   "cell_type": "markdown",
   "metadata": {},
   "source": [
    "[urllib3 SSL Warnings](https://urllib3.readthedocs.io/en/latest/advanced-usage.html#ssl-warnings)"
   ]
  },
  {
   "cell_type": "code",
   "execution_count": null,
   "metadata": {},
   "outputs": [],
   "source": [
    "urllib3.disable_warnings()"
   ]
  },
  {
   "cell_type": "code",
   "execution_count": null,
   "metadata": {},
   "outputs": [],
   "source": [
    "# for active city business permits\n",
    "jsonURL = \"https://data.cityofgainesville.org/resource/c2ek-5hm9.json\"\n",
    "#for landlord permits\n",
    "#jsonURL = \"https://data.cityofgainesville.org/resource/c2ek-5hm9.json\"\n",
    "#jsonURL = 'https://data.cityofgainesville.org/api/views/f4t5-t3b5/rows.json'\n",
    "#geojsonURL = 'https://data.cityofgainesville.org/resource/pqg3-m2ek.geojson'\n",
    "gdb = r\"C:\\Users\\friendde\\Documents\\ArcGIS\\Projects\\MIMS\\MIMS.gdb\"\n",
    "#fc = r\"C:\\Users\\friendde\\Documents\\ArcGIS\\Projects\\MIMS\\MIMS.gdb\\ActiveBusiness\\ActiveBusinessCity\"\n",
    "tbl = r\"C:\\Users\\friendde\\Documents\\ArcGIS\\Projects\\MIMS\\MIMS.gdb\\BusinessCity\"\n",
    "#flds = ['BusinessName','BusinessPhone','BusinessType','BusinessAddress','BusinessOwner','POINT_X','POINT_Y','SHAPE@XY']\n",
    "flds = ['BusinessName','BusinessPhone','BusinessType','BusinessAddress','BusinessOwner','POINT_X','POINT_Y']\n",
    "location = [0,0]\n",
    "tupleXY = (0,0)"
   ]
  },
  {
   "cell_type": "code",
   "execution_count": null,
   "metadata": {},
   "outputs": [],
   "source": [
    "arcpy.env.workspace = gdb\n",
    "arcpy.env.overwriteOutput = True\n",
    "#arcpy.env.outputCoordinateSystem = arcpy.SpatialReference(4326)"
   ]
  },
  {
   "cell_type": "code",
   "execution_count": null,
   "metadata": {},
   "outputs": [],
   "source": [
    "def getCoords(_dict):\n",
    "    if _dict is None:\n",
    "        return [0,0]\n",
    "    else:\n",
    "        #print(_dict.get('coordinates'))\n",
    "        return _dict.get('coordinates')"
   ]
  },
  {
   "cell_type": "code",
   "execution_count": null,
   "metadata": {},
   "outputs": [],
   "source": [
    "http = urllib3.PoolManager()\n",
    "response = http.request('GET', jsonURL)\n",
    "#response.status\n",
    "#response.data"
   ]
  },
  {
   "cell_type": "code",
   "execution_count": null,
   "metadata": {},
   "outputs": [],
   "source": [
    "data = json.loads(response.data)"
   ]
  },
  {
   "cell_type": "code",
   "execution_count": null,
   "metadata": {},
   "outputs": [],
   "source": [
    "#print(json.dumps(data, indent=2))"
   ]
  },
  {
   "cell_type": "code",
   "execution_count": null,
   "metadata": {},
   "outputs": [],
   "source": [
    "arcpy.TruncateTable_management(tbl)"
   ]
  },
  {
   "cell_type": "code",
   "execution_count": null,
   "metadata": {},
   "outputs": [],
   "source": [
    "# use try/except to catch keyerror\n",
    "for item in data:\n",
    "    try:\n",
    "        cursor = arcpy.da.InsertCursor(tbl,flds)\n",
    "        bizowner = item['owner']\n",
    "        bizname = item['name']\n",
    "        bizphone = item['business_phone']\n",
    "        biztype = item['business_type']\n",
    "        bizaddress = item['location_address']\n",
    "        location = getCoords(item['location'])\n",
    "        locationX = location[0]\n",
    "        locationY = location[1]\n",
    "        tupleXY = (locationX,locationY)\n",
    "        #print(bizname,'\\n','\\t',bizphone,'\\n','\\t',biztype,'\\n','\\t',bizaddress,'\\n','\\t',locationX,locationY)\n",
    "        #business = [bizname,bizphone,biztype,bizaddress,bizowner,locationX,locationY,tupleXY]\n",
    "        business = [bizname,bizphone,biztype,bizaddress,bizowner,locationX,locationY]\n",
    "        print(business)\n",
    "        cursor.insertRow(business)\n",
    "        del cursor\n",
    "    except KeyError:\n",
    "        location = [0,0]\n",
    "        tupleXY = (0,0)\n",
    "        continue\n"
   ]
  },
  {
   "cell_type": "markdown",
   "metadata": {},
   "source": [
    "### Use numpy and pandas to export to CSV\n",
    " \n",
    "Use arcpy [```TableToNumPyArray()```](http://pro.arcgis.com/en/pro-app/arcpy/data-access/tabletonumpyarray.htm)\n",
    "See also [Working with numpy in ArcGIS](http://pro.arcgis.com/en/pro-app/arcpy/get-started/working-with-numpy-in-arcgis.htm)\n"
   ]
  },
  {
   "cell_type": "markdown",
   "metadata": {},
   "source": [
    "#nparr = arcpy.da.TableToNumPyArray(tbl,flds,skip_nulls=True)\n",
    "#pdarr = pd.DataFrame(nparr)\n",
    "#pdarr.to_csv(custAcctFile,header=False, index=False)"
   ]
  },
  {
   "cell_type": "markdown",
   "metadata": {},
   "source": [
    "Ready new numpy array for consumption analysis"
   ]
  },
  {
   "cell_type": "code",
   "execution_count": null,
   "metadata": {},
   "outputs": [],
   "source": [
    "nparr = arcpy.da.TableToNumPyArray(tbl,flds,skip_nulls=True)\n",
    "df = pd.DataFrame(nparr)\n",
    "df.head(10)"
   ]
  },
  {
   "cell_type": "code",
   "execution_count": null,
   "metadata": {},
   "outputs": [],
   "source": [
    "df.groupby('BusinessType')['BusinessType'].value_counts()"
   ]
  },
  {
   "cell_type": "markdown",
   "metadata": {},
   "source": [
    "#pivot table\n",
    "pivotTbl = df.pivot_table(values=[\"BusinessType\"], index=[\"BusinessType\"], aggfunc='count')\n",
    "pivotTbl"
   ]
  },
  {
   "cell_type": "markdown",
   "metadata": {},
   "source": [
    "[```gis.features.SpatialDataFrame()```](https://esri.github.io/arcgis-python-api/apidoc/html/arcgis.features.toc.html?highlight=spatialdataframe#arcgis.features.SpatialDataFrame.from_xy)"
   ]
  },
  {
   "cell_type": "code",
   "execution_count": null,
   "metadata": {},
   "outputs": [],
   "source": [
    "from arcgis.features import SpatialDataFrame\n",
    "from arcgis.gis import GIS\n",
    "from getpass import getpass\n",
    "from IPython.display import display"
   ]
  },
  {
   "cell_type": "code",
   "execution_count": null,
   "metadata": {},
   "outputs": [],
   "source": [
    "sdf = SpatialDataFrame.from_xy(df,\"POINT_X\",\"POINT_Y\")\n",
    "display(sdf)"
   ]
  },
  {
   "cell_type": "code",
   "execution_count": null,
   "metadata": {},
   "outputs": [],
   "source": [
    "#gis = GIS(\"https://wms.gru.com/portal\", username=input(\"Enter User Name \"), password=(getpass()))\n",
    "gis = GIS(arcpy.GetActivePortalURL(), username=input(\"Enter User Name \"), password=(getpass()))\n",
    "#gis = GIS()\n",
    "#portalDesc = arcpy.GetPortalDescription()\n",
    "# search and list all items owned by connected user\n",
    "#query=f'owner:{portalDesc[\"user\"][\"username\"]} AND title:CW BaseMap'\n",
    "#itemType=\"Feature Layer\"\n",
    "#sortField=\"title\"\n",
    "#sortOrder=\"asc\"\n",
    "# default max__items is 10\n",
    "#maxItems=100\n",
    "#m = gis.content.search(query,itemType,sortField,sortOrder,maxItems)\n"
   ]
  },
  {
   "cell_type": "code",
   "execution_count": null,
   "metadata": {},
   "outputs": [],
   "source": [
    "bizLayer = gis.content.import_data(sdf)"
   ]
  },
  {
   "cell_type": "code",
   "execution_count": null,
   "metadata": {},
   "outputs": [],
   "source": [
    "m = gis.map('Gainesville,FL')"
   ]
  },
  {
   "cell_type": "code",
   "execution_count": null,
   "metadata": {},
   "outputs": [],
   "source": [
    "m"
   ]
  },
  {
   "cell_type": "code",
   "execution_count": null,
   "metadata": {},
   "outputs": [],
   "source": [
    "m.add_layer(bizLayer)\n",
    "m"
   ]
  },
  {
   "cell_type": "code",
   "execution_count": null,
   "metadata": {},
   "outputs": [],
   "source": []
  }
 ],
 "metadata": {
  "kernelspec": {
   "display_name": "Python 3",
   "language": "python",
   "name": "python3"
  },
  "language_info": {
   "codemirror_mode": {
    "name": "ipython",
    "version": 3
   },
   "file_extension": ".py",
   "mimetype": "text/x-python",
   "name": "python",
   "nbconvert_exporter": "python",
   "pygments_lexer": "ipython3",
   "version": "3.6.6"
  }
 },
 "nbformat": 4,
 "nbformat_minor": 2
}
