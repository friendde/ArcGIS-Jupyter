{
 "cells": [
  {
   "cell_type": "code",
   "execution_count": 1,
   "metadata": {},
   "outputs": [],
   "source": [
    "import arcpy\n",
    "import numpy\n",
    "import pandas as pd"
   ]
  },
  {
   "cell_type": "code",
   "execution_count": 2,
   "metadata": {},
   "outputs": [],
   "source": [
    "gdb = r\"C:\\Users\\friendde\\Documents\\ArcGIS\\Projects\\OSILatLong\\OSILatLong.gdb\"\n",
    "svcPntSource = r\"C:\\GISData\\Data\\Snapshot\\mxElectric.geodatabase\\Electric\\main.eServicePoint\"\n",
    "#custAcctSource = r\"C:\\GISData\\Data\\Snapshot\\mxElectric.geodatabase\\main.eCUSTOMERACCOUNT\"\n",
    "svcPntDest = r\"C:\\Users\\friendde\\Documents\\ArcGIS\\Projects\\OSILatLong\\OSILatLong.gdb\\eServicePoint\"\n",
    "custAcctDest = r\"C:\\Users\\friendde\\Documents\\ArcGIS\\Projects\\OSILatLong\\OSILatLong.gdb\\eCUSTOMERACCOUNT\"\n",
    "svcPntDestFlds = [\"OID@\",\"POINT_X\",\"POINT_Y\",\"PHASEDESIGNATION\"]\n",
    "custAcctDestFlds = [\"OID@\",\"POINT_X\",\"POINT_Y\",\"PHASEDESIGNATION\",\"SERVICEPOINTOBJECTID\"]\n",
    "custAcctOutFlds = [\"OID@\",\"SERVICEPOINTOBJECTID\",\"INSTALL_NUM\",\"POINT_X\",\"POINT_Y\",\"PHASEDESIGNATION\"]\n",
    "custAcctFile = r'C:\\Users\\friendde\\Documents\\ArcGIS\\Projects\\OSILatLong\\GIS.csv'"
   ]
  },
  {
   "cell_type": "markdown",
   "metadata": {},
   "source": [
    "OSI Phase Designation\n",
    "1 – A\n",
    "2 – B\n",
    "3 – C\n",
    "12 – AB\n",
    "13 – AC\n",
    "23 – BC\n",
    "123 – ABC"
   ]
  },
  {
   "cell_type": "code",
   "execution_count": 3,
   "metadata": {},
   "outputs": [],
   "source": [
    "def getPhaseDesignation(phaseDesignation):\n",
    "        if phaseDesignation is None:\n",
    "                ph = 0\n",
    "                return ph\n",
    "        if phaseDesignation == 1:\n",
    "                ph = 3\n",
    "                return ph\n",
    "        if phaseDesignation == 2:\n",
    "                ph = 2\n",
    "                return ph\n",
    "        if phaseDesignation == 3:\n",
    "                ph = 23\n",
    "                return ph\n",
    "        if phaseDesignation == 4:\n",
    "                ph = 1\n",
    "                return ph\n",
    "        if phaseDesignation == 5:\n",
    "                ph = 13\n",
    "                return ph\n",
    "        if phaseDesignation == 6:\n",
    "                ph = 12\n",
    "                return ph\n",
    "        if phaseDesignation == 7:\n",
    "                ph = 123\n",
    "                return ph"
   ]
  },
  {
   "cell_type": "code",
   "execution_count": 4,
   "metadata": {},
   "outputs": [],
   "source": [
    "arcpy.env.workspace = gdb\n",
    "arcpy.env.overwriteOutput = True\n",
    "arcpy.env.outputCoordinateSystem = arcpy.SpatialReference(4326)"
   ]
  },
  {
   "cell_type": "code",
   "execution_count": 5,
   "metadata": {},
   "outputs": [
    {
     "data": {
      "text/plain": [
       "'C:\\\\Users\\\\friendde\\\\Documents\\\\ArcGIS\\\\Projects\\\\OSILatLong\\\\OSILatLong.gdb'"
      ]
     },
     "execution_count": 5,
     "metadata": {},
     "output_type": "execute_result"
    }
   ],
   "source": [
    "arcpy.env.workspace"
   ]
  },
  {
   "cell_type": "code",
   "execution_count": 6,
   "metadata": {},
   "outputs": [
    {
     "name": "stdout",
     "output_type": "stream",
     "text": [
      "Found C:\\Users\\friendde\\Documents\\ArcGIS\\Projects\\OSILatLong\\OSILatLong.gdb\\eServicePoint\n",
      "Copying C:\\GISData\\Data\\Snapshot\\mxElectric.geodatabase\\Electric\\main.eServicePoint to C:\\Users\\friendde\\Documents\\ArcGIS\\Projects\\OSILatLong\\OSILatLong.gdb\\eServicePoint\n",
      "Copy Success, adding XY\n",
      "XY completed\n"
     ]
    }
   ],
   "source": [
    "if arcpy.Exists(svcPntDest):\n",
    "    print(f'Found {svcPntDest}')\n",
    "    arcpy.Delete_management (svcPntDest)\n",
    "print(f'Copying {svcPntSource} to {svcPntDest}')\n",
    "arcpy.Copy_management(svcPntSource,svcPntDest)\n",
    "if arcpy.Exists(svcPntDest):\n",
    "    print(f'Copy Success, adding XY')\n",
    "    arcpy.AddXY_management(svcPntDest)\n",
    "    print(f'XY completed')"
   ]
  },
  {
   "cell_type": "code",
   "execution_count": 7,
   "metadata": {},
   "outputs": [
    {
     "name": "stdout",
     "output_type": "stream",
     "text": [
      "Copy Success\n"
     ]
    }
   ],
   "source": [
    "if arcpy.Exists(custAcctDest):\n",
    "    print(f'Copy Success')\n",
    "    arcpy.AddField_management(custAcctDest, \"POINT_X\", \"DOUBLE\")\n",
    "    arcpy.AddField_management(custAcctDest, \"POINT_Y\", \"DOUBLE\")\n",
    "    arcpy.AddField_management(custAcctDest, \"PHASEDESIGNATION\", \"LONG\")\n",
    "else:\n",
    "    print(f'Copy Failed!')"
   ]
  },
  {
   "cell_type": "code",
   "execution_count": 8,
   "metadata": {},
   "outputs": [],
   "source": [
    "edit = arcpy.da.Editor(gdb)\n",
    "edit.startEditing(False, False)\n",
    "edit.startOperation()"
   ]
  },
  {
   "cell_type": "code",
   "execution_count": 9,
   "metadata": {},
   "outputs": [],
   "source": [
    "with arcpy.da.SearchCursor(svcPntDest,svcPntDestFlds) as svcpnts:\n",
    "        for svcpnt in svcpnts:\n",
    "                whereClause = \"SERVICEPOINTOBJECTID = {}\".format(svcpnt[0])\n",
    "                #print(whereClause,svcpnt[1])\n",
    "                with arcpy.da.UpdateCursor(custAcctDest,custAcctDestFlds,whereClause) as uc:\n",
    "                    #print(row)\n",
    "                    for row in uc:\n",
    "                            row[1] = svcpnt[1]\n",
    "                            row[2] = svcpnt[2]\n",
    "                            row[3] = getPhaseDesignation(svcpnt[3])\n",
    "                            uc.updateRow(row)"
   ]
  },
  {
   "cell_type": "code",
   "execution_count": 10,
   "metadata": {},
   "outputs": [],
   "source": [
    "edit.stopOperation()\n",
    "edit.stopEditing(True)"
   ]
  },
  {
   "cell_type": "markdown",
   "metadata": {},
   "source": [
    "http://pro.arcgis.com/en/pro-app/arcpy/get-started/working-with-numpy-in-arcgis.htm"
   ]
  },
  {
   "cell_type": "code",
   "execution_count": 11,
   "metadata": {},
   "outputs": [],
   "source": [
    "import numpy\n",
    "import pandas as pd\n",
    "nparr = arcpy.da.TableToNumPyArray(custAcctDest,custAcctOutFlds,skip_nulls=True)\n",
    "#nparr = arcpy.da.TableToNumPyArray(custAcctDest,custAcctOutFlds,null_value=-9999)\n",
    "pdarr = pd.DataFrame(nparr)\n",
    "pdarr.to_csv(custAcctFile,header=False, index=False)"
   ]
  },
  {
   "cell_type": "markdown",
   "metadata": {},
   "source": [
    "\\\\gruadmin.gru.com\\fs\\Groups\\OMS Replacement Project\\Documents for OSII\\Customer and Premise Files"
   ]
  }
 ],
 "metadata": {
  "kernelspec": {
   "display_name": "Python 3",
   "language": "python",
   "name": "python3"
  },
  "language_info": {
   "codemirror_mode": {
    "name": "ipython",
    "version": 3
   },
   "file_extension": ".py",
   "mimetype": "text/x-python",
   "name": "python",
   "nbconvert_exporter": "python",
   "pygments_lexer": "ipython3",
   "version": "3.6.5"
  }
 },
 "nbformat": 4,
 "nbformat_minor": 2
}
