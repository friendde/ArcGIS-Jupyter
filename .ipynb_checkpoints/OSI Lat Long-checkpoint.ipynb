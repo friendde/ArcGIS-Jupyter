{
 "cells": [
  {
   "cell_type": "markdown",
   "metadata": {},
   "source": [
    "# OSI Lat Long\n",
    "### This Notebook uses the XY of the point featureclass and adds Lat Long to each related row in a related table\n",
    "A CSV file is generated that will be used to support a seperate project.\n",
    "\n",
    "The second half of the Notebook explores the electric consumption data with a [SpatialDataFrame](https://esri.github.io/arcgis-python-api/apidoc/html/arcgis.features.toc.html?highlight=spatialdataframe#spatialdataframe) using the customers table modifed in the first half."
   ]
  },
  {
   "cell_type": "code",
   "execution_count": null,
   "metadata": {},
   "outputs": [],
   "source": [
    "import arcpy\n",
    "import numpy\n",
    "import pandas as pd"
   ]
  },
  {
   "cell_type": "code",
   "execution_count": null,
   "metadata": {},
   "outputs": [],
   "source": [
    "gdb = r\"C:\\Users\\friendde\\Documents\\ArcGIS\\Projects\\OSILatLong\\OSILatLong.gdb\"\n",
    "svcPntSource = r\"C:\\GISData\\Data\\Snapshot\\mxElectric.geodatabase\\Electric\\main.eServicePoint\"\n",
    "#custAcctSource = r\"C:\\GISData\\Data\\Snapshot\\mxElectric.geodatabase\\main.eCUSTOMERACCOUNT\"\n",
    "svcPntDest = r\"C:\\Users\\friendde\\Documents\\ArcGIS\\Projects\\OSILatLong\\OSILatLong.gdb\\eServicePoint\"\n",
    "custAcctDest = r\"C:\\Users\\friendde\\Documents\\ArcGIS\\Projects\\OSILatLong\\OSILatLong.gdb\\eCUSTOMERACCOUNT\"\n",
    "svcPntDestFlds = [\"OID@\",\"POINT_X\",\"POINT_Y\",\"PHASEDESIGNATION\"]\n",
    "custAcctDestFlds = [\"OID@\",\"POINT_X\",\"POINT_Y\",\"PHASEDESIGNATION\",\"SERVICEPOINTOBJECTID\"]\n",
    "custAcctOutFlds = [\"OID@\",\"SERVICEPOINTOBJECTID\",\"INSTALL_NUM\",\"POINT_X\",\"POINT_Y\",\"PHASEDESIGNATION\"]\n",
    "custAnalysis = [\"SERVICEPOINTOBJECTID\",\"INSTALL_NUM\",\"POINT_X\",\"POINT_Y\",\"AVGCONSUMPTION\",\"MAXCONSUMPTION\"]\n",
    "custAcctFile = r'C:\\Users\\friendde\\Documents\\ArcGIS\\Projects\\OSILatLong\\GIS.csv'"
   ]
  },
  {
   "cell_type": "markdown",
   "metadata": {},
   "source": [
    "#### Phase Translation between ArcFM and OSI\n",
    "| Phase | ArcFM | OSI |\n",
    "|-------|-------|-----|\n",
    "|   A   |   4   |  1  ||\n",
    "|   B   |   2   |  2  |\n",
    "|   C   |   1   |  3  |\n",
    "|   AB  |   6   |  12 |\n",
    "|   AC  |   5   |  13 |\n",
    "|   BC  |   3   |  23 |\n",
    "|   ABC |   7   |  123|"
   ]
  },
  {
   "cell_type": "code",
   "execution_count": null,
   "metadata": {},
   "outputs": [],
   "source": [
    "def getPhaseDesignation(phaseDesignation):\n",
    "        if phaseDesignation is None:\n",
    "                ph = 0\n",
    "                return ph\n",
    "        if phaseDesignation == 1:\n",
    "                ph = 3\n",
    "                return ph\n",
    "        if phaseDesignation == 2:\n",
    "                ph = 2\n",
    "                return ph\n",
    "        if phaseDesignation == 3:\n",
    "                ph = 23\n",
    "                return ph\n",
    "        if phaseDesignation == 4:\n",
    "                ph = 1\n",
    "                return ph\n",
    "        if phaseDesignation == 5:\n",
    "                ph = 13\n",
    "                return ph\n",
    "        if phaseDesignation == 6:\n",
    "                ph = 12\n",
    "                return ph\n",
    "        if phaseDesignation == 7:\n",
    "                ph = 123\n",
    "                return ph"
   ]
  },
  {
   "cell_type": "code",
   "execution_count": null,
   "metadata": {},
   "outputs": [],
   "source": [
    "arcpy.env.workspace = gdb\n",
    "arcpy.env.overwriteOutput = True\n",
    "arcpy.env.outputCoordinateSystem = arcpy.SpatialReference(4326)"
   ]
  },
  {
   "cell_type": "code",
   "execution_count": null,
   "metadata": {},
   "outputs": [],
   "source": [
    "if arcpy.Exists(svcPntDest):\n",
    "    print(f'Found {svcPntDest}')\n",
    "    arcpy.Delete_management (svcPntDest)\n",
    "print(f'Copying {svcPntSource} to {svcPntDest}')\n",
    "arcpy.Copy_management(svcPntSource,svcPntDest)\n",
    "if arcpy.Exists(svcPntDest):\n",
    "    print(f'Copy Success, adding XY')\n",
    "    arcpy.AddXY_management(svcPntDest)\n",
    "    print(f'AddXY completed')"
   ]
  },
  {
   "cell_type": "code",
   "execution_count": null,
   "metadata": {},
   "outputs": [],
   "source": [
    "if arcpy.Exists(custAcctDest):\n",
    "    print(f'Copy Success {custAcctDest}')\n",
    "    arcpy.AddField_management(custAcctDest, \"POINT_X\", \"DOUBLE\")\n",
    "    arcpy.AddField_management(custAcctDest, \"POINT_Y\", \"DOUBLE\")\n",
    "    arcpy.AddField_management(custAcctDest, \"PHASEDESIGNATION\", \"LONG\")\n",
    "else:\n",
    "    print(f'Copy Failed! {custAcctDest}')"
   ]
  },
  {
   "cell_type": "code",
   "execution_count": null,
   "metadata": {},
   "outputs": [],
   "source": [
    "edit = arcpy.da.Editor(gdb)\n",
    "edit.startEditing(False, False)\n",
    "edit.startOperation()"
   ]
  },
  {
   "cell_type": "code",
   "execution_count": null,
   "metadata": {},
   "outputs": [],
   "source": [
    "with arcpy.da.SearchCursor(svcPntDest,svcPntDestFlds) as svcpnts:\n",
    "        for svcpnt in svcpnts:\n",
    "                whereClause = f'SERVICEPOINTOBJECTID = {svcpnt[0]}'\n",
    "                #whereClause = \"SERVICEPOINTOBJECTID = {}\".format(svcpnt[0])\n",
    "                #print(whereClause,svcpnt[1])\n",
    "                with arcpy.da.UpdateCursor(custAcctDest,custAcctDestFlds,whereClause) as uc:\n",
    "                    #print(row)\n",
    "                    for row in uc:\n",
    "                            row[1] = svcpnt[1]\n",
    "                            row[2] = svcpnt[2]\n",
    "                            row[3] = getPhaseDesignation(svcpnt[3])\n",
    "                            uc.updateRow(row)"
   ]
  },
  {
   "cell_type": "code",
   "execution_count": null,
   "metadata": {},
   "outputs": [],
   "source": [
    "edit.stopOperation()\n",
    "edit.stopEditing(True)"
   ]
  },
  {
   "cell_type": "markdown",
   "metadata": {},
   "source": [
    "### Use numpy and pandas to export to CSV\n",
    "\n",
    "Use arcpy [```TableToNumPyArray()```](http://pro.arcgis.com/en/pro-app/arcpy/data-access/tabletonumpyarray.htm)\n",
    "See also [Working with numpy in ArcGIS](http://pro.arcgis.com/en/pro-app/arcpy/get-started/working-with-numpy-in-arcgis.htm)"
   ]
  },
  {
   "cell_type": "code",
   "execution_count": null,
   "metadata": {},
   "outputs": [],
   "source": [
    "nparr = arcpy.da.TableToNumPyArray(custAcctDest,custAcctOutFlds,skip_nulls=True)\n",
    "#nparr = arcpy.da.TableToNumPyArray(custAcctDest,custAcctOutFlds,null_value=-9999)\n",
    "pdarr = pd.DataFrame(nparr)\n",
    "pdarr.to_csv(custAcctFile,header=False, index=False)"
   ]
  },
  {
   "cell_type": "markdown",
   "metadata": {},
   "source": [
    "TODO - write file to \\\\gruadmin.gru.com\\fs\\Groups\\OMS Replacement Project\\Documents for OSII\\Customer and Premise Files"
   ]
  },
  {
   "cell_type": "markdown",
   "metadata": {},
   "source": [
    "Ready new numpy array for consumption analysis"
   ]
  },
  {
   "cell_type": "code",
   "execution_count": null,
   "metadata": {},
   "outputs": [],
   "source": [
    "nparr = arcpy.da.TableToNumPyArray(custAcctDest,[\"SERVICEPOINTOBJECTID\",\"POINT_X\",\"POINT_Y\",\"AVGCONSUMPTION\",\"MAXCONSUMPTION\"],skip_nulls=True)"
   ]
  },
  {
   "cell_type": "code",
   "execution_count": null,
   "metadata": {},
   "outputs": [],
   "source": [
    "df = pd.DataFrame(nparr)\n",
    "df.head(5)"
   ]
  },
  {
   "cell_type": "markdown",
   "metadata": {},
   "source": [
    "[```gis.features.SpatialDataFrame()```](https://esri.github.io/arcgis-python-api/apidoc/html/arcgis.features.toc.html?highlight=spatialdataframe#arcgis.features.SpatialDataFrame.from_xy)"
   ]
  },
  {
   "cell_type": "code",
   "execution_count": null,
   "metadata": {},
   "outputs": [],
   "source": [
    "from arcgis.features import SpatialDataFrame\n",
    "from arcgis.gis import GIS\n",
    "from getpass import getpass\n",
    "from IPython.display import display"
   ]
  },
  {
   "cell_type": "code",
   "execution_count": null,
   "metadata": {},
   "outputs": [],
   "source": [
    "sdf = SpatialDataFrame.from_xy(df,\"POINT_X\",\"POINT_Y\")\n",
    "gis = GIS(arcpy.GetActivePortalURL(), username=input(\"Enter User Name \"), password=(getpass()))\n",
    "#gis = GIS()\n",
    "#portalDesc = arcpy.GetPortalDescription()\n",
    "# search and list all items owned by connected user\n",
    "#query=f'owner:{portalDesc[\"user\"][\"username\"]} AND title:CW BaseMap'\n",
    "#itemType=\"Feature Layer\"\n",
    "#sortField=\"title\"\n",
    "#sortOrder=\"asc\"\n",
    "# default max__items is 10\n",
    "#maxItems=100\n",
    "#m = gis.content.search(query,itemType,sortField,sortOrder,maxItems)"
   ]
  },
  {
   "cell_type": "code",
   "execution_count": null,
   "metadata": {},
   "outputs": [],
   "source": [
    "m = gis.map('Gainesville,FL')\n",
    "m\n",
    "consumptionLyr = gis.content.import_data(sdf)\n",
    "m.add_layer(consumptionLyr,options={\"renderer\":\"GraduatedSymbolsRenderer\",\"classificationField\":\"MAXCONSUMPtION\"})"
   ]
  },
  {
   "cell_type": "code",
   "execution_count": null,
   "metadata": {},
   "outputs": [],
   "source": [
    "m"
   ]
  }
 ],
 "metadata": {
  "kernelspec": {
   "display_name": "Python 3",
   "language": "python",
   "name": "python3"
  },
  "language_info": {
   "codemirror_mode": {
    "name": "ipython",
    "version": 3
   },
   "file_extension": ".py",
   "mimetype": "text/x-python",
   "name": "python",
   "nbconvert_exporter": "python",
   "pygments_lexer": "ipython3",
   "version": "3.6.5"
  }
 },
 "nbformat": 4,
 "nbformat_minor": 2
}
