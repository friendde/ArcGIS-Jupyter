{
 "cells": [
  {
   "cell_type": "markdown",
   "metadata": {},
   "source": [
    "# OSI Lat Long\n",
    "### This Notebook uses the XY of the point featureclass and adds Lat Long to each related row in a related table. The FeederID (aka Circuit Number) is also determined for Electric features.\n",
    "A CSV file is generated that will be used to support a seperate project.\n",
    "\n",
    "The second half of the Notebook explores the electric consumption data with a [SpatialDataFrame](https://esri.github.io/arcgis-python-api/apidoc/html/arcgis.features.toc.html?highlight=spatialdataframe#spatialdataframe) using the customers table modifed in the first half."
   ]
  },
  {
   "cell_type": "markdown",
   "metadata": {},
   "source": [
    "W/WW notes: needs GloabID in customer account tables\n",
    "\n",
    "Run Feeder Manager First, then extract for OSI"
   ]
  },
  {
   "cell_type": "code",
   "execution_count": null,
   "metadata": {},
   "outputs": [],
   "source": [
    "import arcpy\n",
    "import numpy as np\n",
    "import pandas as pd"
   ]
  },
  {
   "cell_type": "code",
   "execution_count": null,
   "metadata": {},
   "outputs": [],
   "source": [
    "gdb = \"C:/Users/friendde/Documents/ArcGIS/Projects/OSILatLong/OSILatLong.gdb\"\n",
    "gdb_electric = \"C:/Users/friendde/Documents/ArcGIS/Projects/OSILatLong/OSILatLong.gdb/Electric\"\n",
    "osiExtract = \"C:/Users/friendde/Documents/ArcGIS/Projects/OSILatLong/OSI_Electric_Extract.gdb\"\n",
    "osiExtract_electric = \"C:/Users/friendde/Documents/ArcGIS/Projects/OSILatLong/OSI_Electric_Extract.gdb/Electric\"\n",
    "#omsRegion = r\"C:\\Users\\friendde\\Documents\\ArcGIS\\Projects\\OSILatLong\\OSILatLong.gdb\\eRegion\"\n",
    "#omsRegionSource = r\"C:\\GISData\\Data\\Snapshot\\mxElectric.geodatabase\\main.Electric\\main.EDEngDistrict\"\n",
    "omsRegion = \"C:/Users/friendde/Documents/ArcGIS/Projects/OSILatLong/OSILatLong.gdb/EDEngDistrict\"\n",
    "sourceGDBList = [\"C:/arcdata/Gas_Extract.gdb\",\"C:/arcdata/WWW_Extract.gdb/\"]\n",
    "\n",
    "esvcPntDest = r\"C:\\Users\\friendde\\Documents\\ArcGIS\\Projects\\OSILatLong\\OSILatLong.gdb\\eServicePoint\"\n",
    "gsvcPntDest = r\"C:\\Users\\friendde\\Documents\\ArcGIS\\Projects\\OSILatLong\\OSILatLong.gdb\\gMeterSet\"\n",
    "rsvcPntDest = r\"C:\\Users\\friendde\\Documents\\ArcGIS\\Projects\\OSILatLong\\OSILatLong.gdb\\rServicePoint\"\n",
    "wsvcPntDest = r\"C:\\Users\\friendde\\Documents\\ArcGIS\\Projects\\OSILatLong\\OSILatLong.gdb\\ServicePoint\"\n",
    "svcPntDestList = [esvcPntDest,gsvcPntDest,rsvcPntDest,wsvcPntDest]\n",
    "\n",
    "#svcPntDict = {esvcPntSource:esvcPntDest,gsvcPntSource:gsvcPntDest,rsvcPntSource:rsvcPntDest,wsvcPntSource:wsvcPntDest}\n",
    "\n",
    "ecustAcctSource = \"C:/Users/friendde/Documents/ArcGIS/Projects/OSILatLong/OSI_Electric_Extract.gdb/eCUSTOMERACCOUNT\"\n",
    "gcustAcctSource = \"C:/arcdata/Gas_Extract.gdb/gCUSTOMERACCOUNT\"\n",
    "rcustAcctSource = \"C:/arcdata/WWW_Extract.gdb/rCustomerAccount\"\n",
    "wcustAcctSource = \"C:/arcdata/WWW_Extract.gdb/wCustomerAccount\"\n",
    "custAcctSourceList = [ecustAcctSource,gcustAcctSource,rcustAcctSource,wcustAcctSource]\n",
    "\n",
    "ecustAcctDest = r\"C:\\Users\\friendde\\Documents\\ArcGIS\\Projects\\OSILatLong\\OSILatLong.gdb\\eCUSTOMERACCOUNT\"\n",
    "gcustAcctDest = r\"C:\\Users\\friendde\\Documents\\ArcGIS\\Projects\\OSILatLong\\OSILatLong.gdb\\gCUSTOMERACCOUNT\"\n",
    "rcustAcctDest = r\"C:\\Users\\friendde\\Documents\\ArcGIS\\Projects\\OSILatLong\\OSILatLong.gdb\\rCUSTOMERACCOUNT\"\n",
    "wcustAcctDest = r\"C:\\Users\\friendde\\Documents\\ArcGIS\\Projects\\OSILatLong\\OSILatLong.gdb\\wCUSTOMERACCOUNT\"\n",
    "custAcctDestList = [ecustAcctDest,gcustAcctDest,rcustAcctDest,wcustAcctDest]\n",
    "\n",
    "custAcctDict = {ecustAcctSource:ecustAcctDest,gcustAcctSource:gcustAcctDest,rcustAcctSource:rcustAcctDest,wcustAcctSource:wcustAcctDest}\n",
    "\n",
    "electFields = [\"PHASEDESIGNATION\",\"FEEDERID\",\"TRANSFORMERBANKOBJECTID\",\"eTransformerBank_GLOBALID\",\"RegionName\"]\n",
    "svcPntDestFlds = [\"OID@\",\"GLOBALID\",\"POINT_X\",\"POINT_Y\",\"PHASEDESIGNATION\",\"FEEDERID\",\"TRANSFORMERBANKOBJECTID\",\"eTransformerBank_GLOBALID\",\"RegionName\"]\n",
    "custAcctDestFlds = [\"SERVICEPOINTOBJECTID\",\"GLOBALID\",\"POINT_X\",\"POINT_Y\",\"PHASEDESIGNATION\",\"FeederID\",\"Utility\",\"TRANSFORMERBANKOBJECTID\",\"eTransformerBank_GLOBALID\",\"RegionName\"]\n",
    "custAcctOutFlds = [\"OID@\",\"SvcPntOID\",\"INSTALL_NUM\",\"POINT_X\",\"POINT_Y\",\"PHASEDESIGNATION\",\"FeederID\",\"TRANSFORMERBANKOBJECTID\",\"eTransformerBank_GLOBALID\",\"RegionName\"]\n",
    "custAnalysis = [\"SERVICEPOINTOBJECTID\",\"INSTALL_NUM\",\"POINT_X\",\"POINT_Y\",\"AVGCONSUMPTION\",\"MAXCONSUMPTION\"]\n",
    "custLocations = r\"C:\\Users\\friendde\\Documents\\ArcGIS\\Projects\\OSILatLong\\OSILatLong.gdb\\CustomerLocations\"\n",
    "custAcctFile = r'C:\\Users\\friendde\\Documents\\ArcGIS\\Projects\\OSILatLong\\GIS.csv'\n",
    "\n",
    "#feature classes that System Control does not want in OMS extract\n",
    "fcDelete = ['eAbandondedPriUGCond','eAbandonedSecUGCond','eCircuitMapGrid','eCircuitMapGrid2x3','eComments',\n",
    "           'eControlCommunication','eDownGuy','eLight','eSpanGuy','eHyperlink']\n",
    "elecGUIDS = ['']\n",
    "\n",
    "rc_list = []\n",
    "\n",
    "#regions = ['SE', 'SW Main St to 34 St', 'NW Main St to 34 St', 'SW west of I-75', 'SW 34 St to I-75', 'NW west of I-75', 'NW to 39 Ave, 34 Ave to I-75', 'NW north of 39 Ave', 'NE']\n",
    "regions = ['East','West']\n",
    "expression = \"updateRegion(region)\"\n",
    "codeblock = \"\"\"\n",
    "def updateRegion(name):\n",
    "    return str(name)\"\"\""
   ]
  },
  {
   "cell_type": "markdown",
   "metadata": {},
   "source": [
    "#### Phase Translation between ArcFM and OSI\n",
    "| Phase | ArcFM | OSI |\n",
    "|-------|-------|-----|\n",
    "|   A   |   4   |  1  ||\n",
    "|   B   |   2   |  2  |\n",
    "|   C   |   1   |  3  |\n",
    "|   AB  |   6   |  12 |\n",
    "|   AC  |   5   |  13 |\n",
    "|   BC  |   3   |  23 |\n",
    "|   ABC |   7   |  123|"
   ]
  },
  {
   "cell_type": "code",
   "execution_count": null,
   "metadata": {},
   "outputs": [],
   "source": [
    "# convert ArcFM Phase to OSI Phase\n",
    "def getPhaseDesignation(phaseDesignation):\n",
    "    if phaseDesignation is None:\n",
    "        ph = 0\n",
    "        return ph\n",
    "    if phaseDesignation == 1:\n",
    "        ph = 3\n",
    "        return ph\n",
    "    if phaseDesignation == 2:\n",
    "        ph = 2\n",
    "        return ph\n",
    "    if phaseDesignation == 3:\n",
    "        ph = 23\n",
    "        return ph\n",
    "    if phaseDesignation == 4:\n",
    "        ph = 1\n",
    "        return ph\n",
    "    if phaseDesignation == 5:\n",
    "        ph = 13\n",
    "        return ph\n",
    "    if phaseDesignation == 6:\n",
    "        ph = 12\n",
    "        return ph\n",
    "    if phaseDesignation == 7:\n",
    "        ph = 123\n",
    "        return ph\n",
    "\n",
    "def gettxOID(txOID):\n",
    "    if txOID is None:\n",
    "        txOID = 0\n",
    "        return txOID\n",
    "    else:\n",
    "        return txOID\n",
    "\n",
    "def gettxGUID(txGUID):\n",
    "    print(f'in gettxGUID')\n",
    "    if txGUID is None:\n",
    "        print(f'txGUID is {txGUID}')\n",
    "        txGUID = 0\n",
    "        return txGUID\n",
    "    else:\n",
    "        print(f'txGUID is {txGUID}')\n",
    "        return txGUID\n",
    "\n",
    "def replaceChar(strReplace):\n",
    "    replaceList = [' ',',','-']\n",
    "    for r in replaceList:\n",
    "        if r in (strReplace):\n",
    "            strReplace = strReplace.replace(r,'')\n",
    "\n",
    "    return strReplace\n",
    "\n",
    "def listReplace(lst, _from, _to):\n",
    "   return([_to if v == _from else v for v in lst])"
   ]
  },
  {
   "cell_type": "code",
   "execution_count": null,
   "metadata": {},
   "outputs": [],
   "source": [
    "# convert ObjectID relationship to GlobalID relationship in Electric Feature Class\n",
    "# exclude from list\n",
    "#include = ['eTransformerBank_ServicePoint']\n",
    "arcpy.env.workspace = osiExtract\n",
    "rcList = [c.name for c in arcpy.Describe(osiExtract_electric).children if c.datatype == \"RelationshipClass\"]\n",
    "rcList\n"
   ]
  },
  {
   "cell_type": "code",
   "execution_count": null,
   "metadata": {},
   "outputs": [],
   "source": [
    "for rc in rcList:\n",
    "    print(f'Migrating {rc}\\n')    \n",
    "    desc = arcpy.Describe(rc)\n",
    "    print(\"%-25s %s\" % (\"Backward Path Label:\", desc.backwardPathLabel))\n",
    "    print(\"%-25s %s\" % (\"Cardinality:\", desc.cardinality))\n",
    "    print(\"%-25s %s\" % (\"Class key:\", desc.classKey))\n",
    "    print(\"%-25s %s\" % (\"Destination Class Names:\", desc.destinationClassNames))\n",
    "    print(\"%-25s %s\" % (\"Forward Path Label:\", desc.forwardPathLabel)) \n",
    "    print(\"%-25s %s\" % (\"Is Attributed:\", desc.isAttributed))\n",
    "    print(\"%-25s %s\" % (\"Is Composite:\", desc.isComposite)) \n",
    "    print(\"%-25s %s\" % (\"Is Reflexive:\", desc.isReflexive))\n",
    "    print(\"%-25s %s\" % (\"Key Type:\", desc.keyType))\n",
    "    print(\"%-25s %s\" % (\"Notification Direction:\", desc.notification))\n",
    "    print(\"%-25s %s\" % (\"Origin Class Names:\", desc.originClassNames))\n",
    "    print(\"\\n\")\n",
    "    arcpy.MigrateRelationshipClass_management(rc)\n",
    "\n"
   ]
  },
  {
   "cell_type": "code",
   "execution_count": null,
   "metadata": {},
   "outputs": [],
   "source": [
    "# convert ObjectID relationship to GlobalID relationship in root osiExtract\n",
    "# exclude from list\n",
    "exclude = ['CircuitBreaker_CircuitSource','eConduitBank_eConduitBankConfigDef','eSurfaceStructure__ATTACHREL_1',\n",
    "          'eSupportStructure__ATTACHREL_1','SuppStructure_ForeignAttach','gCustomeraccount_SAPInstallation',\n",
    "          'gGasValve_gValveInspection','gGasValve_gValveMaintenance','gEmergencyShutoff_gEMSValves',\n",
    "           'gAbandonedValve_gValveInspection','eCUSTOMERACCOUNT__ATTACHREL'\n",
    "          ]\n",
    "include = ['ServicePt_CustomerAcct']\n",
    "rcList = [c.name for c in arcpy.Describe(osiExtract).children if c.datatype == \"RelationshipClass\"]\n",
    "#rc_List = []\n",
    "for rc in rcList:\n",
    "    if rc in include:\n",
    "        #print(f'Appending {rc} to rc_list')\n",
    "        rc_list.append(rc)\n",
    "        print(f'Migrating {rc}\\n')\n",
    "        desc = arcpy.Describe(rc)\n",
    "        print(\"%-25s %s\" % (\"Backward Path Label:\", desc.backwardPathLabel))\n",
    "        print(\"%-25s %s\" % (\"Cardinality:\", desc.cardinality))\n",
    "        print(\"%-25s %s\" % (\"Class key:\", desc.classKey))\n",
    "        print(\"%-25s %s\" % (\"Destination Class Names:\", desc.destinationClassNames))\n",
    "        print(\"%-25s %s\" % (\"Forward Path Label:\", desc.forwardPathLabel)) \n",
    "        print(\"%-25s %s\" % (\"Is Attributed:\", desc.isAttributed))\n",
    "        print(\"%-25s %s\" % (\"Is Composite:\", desc.isComposite)) \n",
    "        print(\"%-25s %s\" % (\"Is Reflexive:\", desc.isReflexive))\n",
    "        print(\"%-25s %s\" % (\"Key Type:\", desc.keyType))\n",
    "        print(\"%-25s %s\" % (\"Notification Direction:\", desc.notification))\n",
    "        print(\"%-25s %s\" % (\"Origin Class Names:\", desc.originClassNames))\n",
    "        print(\"\\n\")\n",
    "        arcpy.MigrateRelationshipClass_management(rc)\n",
    "    else:\n",
    "        pass"
   ]
  },
  {
   "cell_type": "code",
   "execution_count": null,
   "metadata": {},
   "outputs": [],
   "source": [
    "# change wksp to gdb\n",
    "arcpy.env.workspace = gdb\n",
    "arcpy.env.overwriteOutput = True\n",
    "arcpy.env.outputCoordinateSystem = arcpy.SpatialReference(4326)"
   ]
  },
  {
   "cell_type": "code",
   "execution_count": null,
   "metadata": {},
   "outputs": [],
   "source": [
    "# delete all existing tables in workspace, new tables are created or copied in\n",
    "fdsList = arcpy.ListDatasets()\n",
    "for fds in fdsList:\n",
    "    print(f'Deleting {fds}')\n",
    "    arcpy.Delete_management(fds)\n",
    "tblList = arcpy.ListTables()\n",
    "for tbl in tblList:\n",
    "    print(f'Deleting {tbl}')\n",
    "    arcpy.Delete_management(tbl)\n",
    "fcsList = arcpy.ListFeatureClasses()\n",
    "for fcs in fcsList:\n",
    "    if fcs == 'EDEngDistrict':\n",
    "        pass\n",
    "    else:\n",
    "        print(f'Deleting {fcs}')\n",
    "        arcpy.Delete_management(fcs)"
   ]
  },
  {
   "cell_type": "code",
   "execution_count": null,
   "metadata": {},
   "outputs": [],
   "source": [
    "# delete specific tables System Control does not want in OMS extract\n",
    "arcpy.env.workspace = osiExtract\n",
    "\n",
    "datasets = arcpy.ListDatasets(feature_type='feature')\n",
    "datasets = [''] + datasets if datasets is not None else []\n",
    "\n",
    "for ds in datasets:\n",
    "    for fc in arcpy.ListFeatureClasses(feature_dataset=ds):\n",
    "        #print(f'found {fc}')\n",
    "        if fc in fcDelete:\n",
    "            print(f'Deleting {fc}')\n",
    "            arcpy.Delete_management(fc)"
   ]
  },
  {
   "cell_type": "code",
   "execution_count": null,
   "metadata": {},
   "outputs": [],
   "source": [
    "#check for GlobalID before migrating relationship classes\n",
    "for custAcctSource in custAcctSourceList:\n",
    "    fldList = [fld.name.upper() for fld in arcpy.Describe(custAcctSource).fields]\n",
    "    #print(fldList)\n",
    "    if \"GLOBALID\" not in fldList:\n",
    "        print(f'Adding GlobalID to {custAcctSource}')\n",
    "        arcpy.AddGlobalIDs_management(custAcctSource)"
   ]
  },
  {
   "cell_type": "code",
   "execution_count": null,
   "metadata": {},
   "outputs": [],
   "source": [
    "# convert ObjectID relationship to GlobalID relationship in root sourceGDBList\n",
    "# exclude from list\n",
    "exclude = ['CircuitBreaker_CircuitSource','eConduitBank_eConduitBankConfigDef','eSurfaceStructure__ATTACHREL_1',\n",
    "          'eSupportStructure__ATTACHREL_1','SuppStructure_ForeignAttach','gCustomeraccount_SAPInstallation',\n",
    "          'gGasValve_gValveInspection','gGasValve_gValveMaintenance','gEmergencyShutoff_gEMSValves',\n",
    "           'gAbandonedValve_gValveInspection','eCUSTOMERACCOUNT__ATTACHREL'\n",
    "          ]\n",
    "include = ['gMeterSet_gCustomerAccount','RSERVICEPOINT_CUSTACCT','WSERVICEPOINT_CUSTACCT']\n",
    "for source_gdb in sourceGDBList:\n",
    "    arcpy.env.workspace = source_gdb\n",
    "    rcList = [c.name for c in arcpy.Describe(source_gdb).children if c.datatype == \"RelationshipClass\"]\n",
    "    for rc in rcList:\n",
    "        if rc in include:\n",
    "            rc_list.append(rc)\n",
    "            print(f'Migrating {rc}\\n')\n",
    "            desc = arcpy.Describe(rc)\n",
    "            print(\"%-25s %s\" % (\"Backward Path Label:\", desc.backwardPathLabel))\n",
    "            print(\"%-25s %s\" % (\"Cardinality:\", desc.cardinality))\n",
    "            print(\"%-25s %s\" % (\"Class key:\", desc.classKey))\n",
    "            print(\"%-25s %s\" % (\"Destination Class Names:\", desc.destinationClassNames))\n",
    "            print(\"%-25s %s\" % (\"Forward Path Label:\", desc.forwardPathLabel)) \n",
    "            print(\"%-25s %s\" % (\"Is Attributed:\", desc.isAttributed))\n",
    "            print(\"%-25s %s\" % (\"Is Composite:\", desc.isComposite)) \n",
    "            print(\"%-25s %s\" % (\"Is Reflexive:\", desc.isReflexive))\n",
    "            print(\"%-25s %s\" % (\"Key Type:\", desc.keyType))\n",
    "            print(\"%-25s %s\" % (\"Notification Direction:\", desc.notification))\n",
    "            print(\"%-25s %s\" % (\"Origin Class Names:\", desc.originClassNames))\n",
    "            print(\"\\n\")\n",
    "            arcpy.MigrateRelationshipClass_management(rc)\n",
    "        else:\n",
    "            pass"
   ]
  },
  {
   "cell_type": "code",
   "execution_count": null,
   "metadata": {},
   "outputs": [],
   "source": [
    "# copy in custAcctDict customer tables into workspace\n",
    "# add fields not normaly in customer tables\n",
    "arcpy.env.workspace = gdb\n",
    "arcpy.env.overwriteOutput = True\n",
    "for k,v in custAcctDict.items():\n",
    "    print(f'Copying {k} to {v}')\n",
    "    arcpy.Copy_management(k,v)\n",
    "    if arcpy.Exists(v):\n",
    "        #print(f'Copy Success {v}')\n",
    "        #field_names = [f.name for f in arcpy.ListFields(v)]\n",
    "        arcpy.AddField_management(v, \"POINT_X\", \"DOUBLE\")\n",
    "        arcpy.AddField_management(v, \"POINT_Y\", \"DOUBLE\")\n",
    "        arcpy.AddField_management(v, \"PHASEDESIGNATION\", \"LONG\")\n",
    "        arcpy.AddField_management(v, \"SERVICEPOINTOBJECTID\", \"LONG\")\n",
    "        arcpy.AddField_management(v, \"Utility\", \"TEXT\")\n",
    "        arcpy.AddField_management(v, \"FeederID\", \"TEXT\")\n",
    "        arcpy.AddField_management(v, \"TRANSFORMERBANKOBJECTID\", \"LONG\")\n",
    "        arcpy.AddField_management(v, \"eTransformerBank_GLOBALID\", \"GUID\")\n",
    "        arcpy.AddField_management(v, \"RegionName\", \"TEXT\")\n",
    "    else:\n",
    "        print(f'Copy Failed! {v}')"
   ]
  },
  {
   "cell_type": "code",
   "execution_count": null,
   "metadata": {},
   "outputs": [],
   "source": [
    "#Add Responder Region Name to Service Points (electric only for now)\n",
    "arcpy.env.workspace = gdb\n",
    "arcpy.env.overwriteOutput = True\n",
    "try:\n",
    "    arcpy.AddField_management(esvcPntDest, \"RegionName\", \"TEXT\")\n",
    "    arcpy.MakeFeatureLayer_management(esvcPntDest,'eSvcPnt')\n",
    "    for region in regions:\n",
    "        with arcpy.da.SearchCursor(omsRegion,\"DirName\") as sc:\n",
    "            print(f\"Current Region Name {region}\")\n",
    "            #desc = arcpy.da.Describe(omsRegion)\n",
    "            #print(f\"FIDSet {desc['FIDSet']}\")\n",
    "            #regionName = replaceChar(region)\n",
    "            #print(f\"New Region Name {regionName}\")\n",
    "            arcpy.MakeFeatureLayer_management(omsRegion,region,f\"DirName = '{region}'\")\n",
    "            arcpy.CopyFeatures_management(region, gdb + f\"/{region}\")\n",
    "            if arcpy.Exists(gdb + f\"/{region}\"):\n",
    "                #print(f\"found {regionName}\")\n",
    "                arcpy.SelectLayerByLocation_management('eSvcPnt',\"\",region)\n",
    "                #result = arcpy.GetCount_management(gdb + \"/\" + regionName)\n",
    "                #print(result)\n",
    "                result = arcpy.GetCount_management('eSvcPnt')\n",
    "                print(f\"{result} meters are within {region}\")\n",
    "                #desc = arcpy.Describe('eSvcPnt')\n",
    "                #print(desc['FIDSet'])\n",
    "                #print(len(desc.FIDSet.split(\";\")))\n",
    "                if int(result.getOutput(0)) > 0:\n",
    "                    print(f'Adding {region} to {int(result.getOutput(0))} Service Points')\n",
    "                    arcpy.CalculateField_management('eSvcPnt',\"RegionName\",expression,\"PYTHON\",codeblock)\n",
    "except:\n",
    "    print(arcpy.GetMessages(2))\n",
    "    "
   ]
  },
  {
   "cell_type": "code",
   "execution_count": null,
   "metadata": {},
   "outputs": [],
   "source": [
    "# add XY coords and some electric fields to all service point features\n",
    "for fc in svcPntDestList:\n",
    "    if arcpy.Exists(fc):\n",
    "        print(f'Adding XY to {fc}')\n",
    "        arcpy.AddXY_management(fc)\n",
    "        for electField in electFields:\n",
    "            if len(arcpy.ListFields(fc, electField)):\n",
    "                print(f'{electField} exists in {fc}')\n",
    "                pass\n",
    "            else:                \n",
    "                print(f'Adding {electField} to {fc}')\n",
    "                if electField in [\"PHASEDESIGNATION\",\"TRANSFORMERBANKOBJECTID\"]:\n",
    "                    arcpy.AddField_management(fc, electField, \"LONG\")\n",
    "                elif electField == \"eTransformerBank_GLOBALID\":\n",
    "                    arcpy.AddField_management(fc, electField, \"GUID\")\n",
    "                else:\n",
    "                    arcpy.AddField_management(fc, electField, \"TEXT\")"
   ]
  },
  {
   "cell_type": "code",
   "execution_count": null,
   "metadata": {},
   "outputs": [],
   "source": [
    "edit = arcpy.da.Editor(gdb)\n",
    "edit.startEditing(False, False)\n",
    "edit.startOperation()"
   ]
  },
  {
   "cell_type": "markdown",
   "metadata": {},
   "source": [
    "rc_list = []\n",
    "arcpy.env.workspace = osiExtract\n",
    "include = ['ServicePt_CustomerAcct']\n",
    "rcList = [c.name for c in arcpy.Describe(osiExtract).children if c.datatype == \"RelationshipClass\"]\n",
    "for rc in rcList:\n",
    "    if rc in include:\n",
    "        #print(f'Appending {rc} to rc_list')\n",
    "        rc_list.append(rc)\n",
    "\n",
    "include = ['gMeterSet_gCustomerAccount','RSERVICEPOINT_CUSTACCT','WSERVICEPOINT_CUSTACCT']\n",
    "for source_gdb in sourceGDBList:\n",
    "    arcpy.env.workspace = source_gdb\n",
    "    rcList = [c.name for c in arcpy.Describe(source_gdb).children if c.datatype == \"RelationshipClass\"]\n",
    "    for rc in rcList:\n",
    "        if rc in include:\n",
    "            rc_list.append(rc)\n",
    "rc_list"
   ]
  },
  {
   "cell_type": "code",
   "execution_count": null,
   "metadata": {},
   "outputs": [],
   "source": [
    "arcpy.env.workspace = gdb\n",
    "exclude_list = [\"SAP_INSTALLATION\",\"eCircuitBreaker\",\"eCabinetStructure\",\"eSurfaceStructure\", \"eSupportStructure\",\n",
    "                \"gGasValve\",\"gEmergencyShutoff\",\"eCIRCUITSOURCE\",\"eCUSTOMERACCOUNT__ATTACH\",\n",
    "                \"eSurfaceStructure__ATTACH_1\",\"eFOREIGNATTACHMENT\",\"GVALVEINSPECTION\",\"GEMSVALVES\"]\n",
    "for rc in rc_list:\n",
    "    desc = arcpy.Describe(rc)\n",
    "    if desc.originClassNames[0] in [\"SAP_INSTALLATION\",\"eCircuitBreaker\",\"eCabinetStructure\",\"eSurfaceStructure\",\n",
    "                                    \"eSupportStructure\",\"gGasValve\",\"gEmergencyShutoff\"]:\n",
    "        pass\n",
    "    elif desc.destinationClassNames[0] in [\"SAP_INSTALLATION\",\"eCIRCUITSOURCE\",\"eCUSTOMERACCOUNT__ATTACH\",\n",
    "                                           \"eSurfaceStructure__ATTACH_1\",\"eFOREIGNATTACHMENT\",\"GVALVEINSPECTION\",\"GEMSVALVES\"]:\n",
    "        pass\n",
    "    else:\n",
    "        custAcctFlds = []\n",
    "        custAcctFlds = listReplace(custAcctDestFlds,\"GLOBALID\",f\"{desc.originClassNames[0]}_GLOBALID\")\n",
    "        with arcpy.da.SearchCursor(desc.originClassNames[0],svcPntDestFlds) as svcpnts:\n",
    "#[\"OID@\",\"GLOBALID\",\"POINT_X\",\"POINT_Y\",\"PHASEDESIGNATION\",\"FEEDERID\",\"TRANSFORMERBANKOBJECTID\",\"eTransformerBank_GLOBALID\",\"RegionName\"]\n",
    "            print(f\"Searching {desc.originClassNames[0]} and updating {desc.destinationClassNames[0]}\")\n",
    "            for svcpnt in svcpnts:\n",
    "                whereClause = f\"{desc.originClassNames[0]}_GLOBALID = '{svcpnt[1]}'\"\n",
    "                with arcpy.da.UpdateCursor(desc.destinationClassNames[0],custAcctDestFlds,whereClause) as uc:\n",
    "#[\"SERVICEPOINTOBJECTID\",\"GLOBALID\",\"POINT_X\",\"POINT_Y\",\"PHASEDESIGNATION\",\"FeederID\",\"Utility\",\"TRANSFORMERBANKOBJECTID\",\"eTransformerBank_GLOBALID\",\"RegionName\"]\n",
    "                    print(f\"Updating: {desc.destinationClassNames[0]}\")\n",
    "                    for row in uc:\n",
    "                        row[0] = svcpnt[0] #SncPntOID\n",
    "                        #row[1] = svcpnt[1] #GlobalID\n",
    "                        row[2] = svcpnt[2] #Point_X\n",
    "                        row[3] = svcpnt[3] #Point_Y\n",
    "                        row[4] = getPhaseDesignation(svcpnt[4]) #Phase\n",
    "                        row[5] = svcpnt[5] #FeederID\n",
    "                        row[6] = desc.destinationClassNames[0][:1] #Utility from CustomerAccount table prefix letter\n",
    "                        #row[7] = gettxOID(svcpnt[7])\n",
    "                        row[8] = gettxGUID(svcpnt[7]) #eTx_GlobalID\n",
    "                        row[9] = svcpnt[8] #RegionName\n",
    "                        uc.updateRow(row)"
   ]
  },
  {
   "cell_type": "code",
   "execution_count": null,
   "metadata": {},
   "outputs": [],
   "source": [
    "edit.stopOperation()\n",
    "edit.stopEditing(True)"
   ]
  },
  {
   "cell_type": "code",
   "execution_count": null,
   "metadata": {},
   "outputs": [],
   "source": [
    "arcpy.Delete_management(custLocations)"
   ]
  },
  {
   "cell_type": "code",
   "execution_count": null,
   "metadata": {},
   "outputs": [],
   "source": [
    "arcpy.CreateTable_management(gdb,\"CustomerLocations\",ecustAcctDest)"
   ]
  },
  {
   "cell_type": "code",
   "execution_count": null,
   "metadata": {},
   "outputs": [],
   "source": [
    "#arcpy.TruncateTable_management(custLocations)"
   ]
  },
  {
   "cell_type": "code",
   "execution_count": null,
   "metadata": {},
   "outputs": [],
   "source": [
    "arcpy.Append_management(custAcctDestList,custLocations,\"NO_TEST\")"
   ]
  },
  {
   "cell_type": "code",
   "execution_count": null,
   "metadata": {},
   "outputs": [],
   "source": [
    "expression = \"setFeeder(!FeederID!)\"\n",
    "codeblock = \"\"\"\n",
    "def setFeeder(feeder):\n",
    "    if feeder is None:\n",
    "        return 0\n",
    "    else:\n",
    "        return feeder\"\"\"\n",
    "arcpy.CalculateField_management(custLocations,\"FeederId\",expression,\"PYTHON3\",codeblock)"
   ]
  },
  {
   "cell_type": "code",
   "execution_count": null,
   "metadata": {},
   "outputs": [],
   "source": [
    "expression = \"setUnknown(!RegionName!)\"\n",
    "codeblock = \"\"\"\n",
    "def setUnknown(r):\n",
    "    if r is None:\n",
    "        return \"Not Set\"\n",
    "    elif r == 0:\n",
    "        return \"Not Set\"\n",
    "    else:\n",
    "        return r\"\"\"\n",
    "arcpy.CalculateField_management(custLocations,\"RegionName\",expression,\"PYTHON3\",codeblock)"
   ]
  },
  {
   "cell_type": "code",
   "execution_count": null,
   "metadata": {},
   "outputs": [],
   "source": [
    "expression = \"setPhase(!PhaseDesignation!)\"\n",
    "codeblock = \"\"\"\n",
    "def setPhase(phase):\n",
    "    if phase is None:\n",
    "        return 0\n",
    "    else:\n",
    "        return phase\"\"\"\n",
    "arcpy.CalculateField_management(custLocations,\"PhaseDesignation\",expression,\"PYTHON3\",codeblock)"
   ]
  },
  {
   "cell_type": "markdown",
   "metadata": {},
   "source": [
    "### Use numpy and pandas to export to CSV\n",
    "\n",
    "Use arcpy [```TableToNumPyArray()```](http://pro.arcgis.com/en/pro-app/arcpy/data-access/tabletonumpyarray.htm)\n",
    "See also [Working with numpy in ArcGIS](http://pro.arcgis.com/en/pro-app/arcpy/get-started/working-with-numpy-in-arcgis.htm)"
   ]
  },
  {
   "cell_type": "markdown",
   "metadata": {},
   "source": [
    "TODO - write file to\n",
    "\\\\gruomsdpre04 C:\\customer_premise_osi_oms\n",
    "\\\\gruomsdpre05 C:\\customer_premise_osi_oms\n",
    "\\\\gruomsdqae06 C:\\customer_premise_osi_oms\n",
    "\\\\gruomsdpra14 C:\\customer_premise_osi_oms\n",
    "\\\\gruomsppre12 C:\\customer_premise_osi_oms\n"
   ]
  },
  {
   "cell_type": "markdown",
   "metadata": {},
   "source": [
    "Ready new numpy array for consumption analysis"
   ]
  },
  {
   "cell_type": "markdown",
   "metadata": {},
   "source": [
    "remove empty line at end of CSV"
   ]
  },
  {
   "cell_type": "code",
   "execution_count": null,
   "metadata": {},
   "outputs": [],
   "source": [
    "#nparr = arcpy.da.TableToNumPyArray(custLocations,[\"ServicePointObjectID\",\"POINT_X\",\"POINT_Y\",\"AVGCONSUMPTION\",\"MAXCONSUMPTION\",\"Utility\"],skip_nulls=True)"
   ]
  },
  {
   "cell_type": "code",
   "execution_count": null,
   "metadata": {},
   "outputs": [],
   "source": [
    "nparr = arcpy.da.TableToNumPyArray(custLocations,[\"ObjectID\",\"INSTALL_NUM\",\"POINT_X\",\"POINT_Y\",\"PHASEDESIGNATION\",\"FeederID\",\"Utility\",\"eTransformerBank_GLOBALID\",\"RegionName\"])"
   ]
  },
  {
   "cell_type": "code",
   "execution_count": null,
   "metadata": {},
   "outputs": [],
   "source": [
    "df = pd.DataFrame(nparr)"
   ]
  },
  {
   "cell_type": "code",
   "execution_count": null,
   "metadata": {},
   "outputs": [],
   "source": [
    "df.head()"
   ]
  },
  {
   "cell_type": "code",
   "execution_count": null,
   "metadata": {},
   "outputs": [],
   "source": [
    "df.tail()"
   ]
  },
  {
   "cell_type": "markdown",
   "metadata": {},
   "source": [
    "Show only rows with a series filter"
   ]
  },
  {
   "cell_type": "code",
   "execution_count": null,
   "metadata": {},
   "outputs": [],
   "source": [
    "df.loc[(df[\"Utility\"]==\"g\"), [\"ObjectID\",\"INSTALL_NUM\",\"POINT_X\",\"POINT_Y\",\"PHASEDESIGNATION\",\"FeederID\",\"Utility\",\"eTransformerBank_GLOBALID\",\"RegionName\"]]"
   ]
  },
  {
   "cell_type": "code",
   "execution_count": null,
   "metadata": {},
   "outputs": [],
   "source": [
    "df.ObjectID"
   ]
  },
  {
   "cell_type": "code",
   "execution_count": null,
   "metadata": {},
   "outputs": [],
   "source": [
    "df = df.astype({'ObjectID':str}, copy=False)"
   ]
  },
  {
   "cell_type": "code",
   "execution_count": null,
   "metadata": {},
   "outputs": [],
   "source": [
    "df.ObjectID"
   ]
  },
  {
   "cell_type": "code",
   "execution_count": null,
   "metadata": {},
   "outputs": [],
   "source": [
    "df.ObjectID = np.where(df.Utility != 'e', df.Utility + df.ObjectID,df.ObjectID)"
   ]
  },
  {
   "cell_type": "code",
   "execution_count": null,
   "metadata": {},
   "outputs": [],
   "source": [
    "df.head()"
   ]
  },
  {
   "cell_type": "code",
   "execution_count": null,
   "metadata": {},
   "outputs": [],
   "source": [
    "df.tail()"
   ]
  },
  {
   "cell_type": "code",
   "execution_count": null,
   "metadata": {},
   "outputs": [],
   "source": [
    "df.loc[(df.Utility == 'e'), [\"ObjectID\",\"INSTALL_NUM\",\"POINT_X\",\"POINT_Y\",\"PHASEDESIGNATION\",\"FeederID\",\"Utility\",\"eTransformerBank_GLOBALID\",\"RegionName\"]]"
   ]
  },
  {
   "cell_type": "code",
   "execution_count": null,
   "metadata": {},
   "outputs": [],
   "source": [
    "#df = df.astype({'INSTALL_NUM':str}, copy=True)\n",
    "df2 = df.astype(str, copy=True)\n",
    "df2.INSTALL_NUM"
   ]
  },
  {
   "cell_type": "code",
   "execution_count": null,
   "metadata": {},
   "outputs": [],
   "source": [
    "df.drop_duplicates(subset='INSTALL_NUM', keep='first', inplace=True)"
   ]
  },
  {
   "cell_type": "code",
   "execution_count": null,
   "metadata": {},
   "outputs": [],
   "source": [
    "df.groupby('INSTALL_NUM').filter(lambda x: len(x) > 1)"
   ]
  },
  {
   "cell_type": "code",
   "execution_count": null,
   "metadata": {},
   "outputs": [],
   "source": [
    "df.groupby(['INSTALL_NUM']).size().reset_index(name='count')"
   ]
  },
  {
   "cell_type": "code",
   "execution_count": null,
   "metadata": {},
   "outputs": [],
   "source": [
    "df.drop(['Utility'], axis=1, inplace=True)"
   ]
  },
  {
   "cell_type": "code",
   "execution_count": null,
   "metadata": {},
   "outputs": [],
   "source": [
    "df.tail()"
   ]
  },
  {
   "cell_type": "code",
   "execution_count": null,
   "metadata": {},
   "outputs": [],
   "source": [
    "df.to_csv(custAcctFile,header=False, index=True)"
   ]
  },
  {
   "cell_type": "markdown",
   "metadata": {},
   "source": [
    "[```gis.features.SpatialDataFrame()```](https://esri.github.io/arcgis-python-api/apidoc/html/arcgis.features.toc.html?highlight=spatialdataframe#arcgis.features.SpatialDataFrame.from_xy)"
   ]
  },
  {
   "cell_type": "code",
   "execution_count": null,
   "metadata": {},
   "outputs": [],
   "source": [
    "from arcgis.features import SpatialDataFrame\n",
    "from arcgis.gis import GIS\n",
    "from getpass import getpass\n",
    "from IPython.display import display"
   ]
  },
  {
   "cell_type": "code",
   "execution_count": null,
   "metadata": {},
   "outputs": [],
   "source": [
    "sdf = SpatialDataFrame.from_xy(df,\"POINT_X\",\"POINT_Y\")\n",
    "gis = GIS(arcpy.GetActivePortalURL(), username=input(\"Enter User Name \"), password=(getpass()))\n",
    "#gis = GIS()\n",
    "#portalDesc = arcpy.GetPortalDescription()\n",
    "# search and list all items owned by connected user\n",
    "#query=f'owner:{portalDesc[\"user\"][\"username\"]} AND title:CW BaseMap'\n",
    "#itemType=\"Feature Layer\"\n",
    "#sortField=\"title\"\n",
    "#sortOrder=\"asc\"\n",
    "# default max__items is 10\n",
    "#maxItems=100\n",
    "#m = gis.content.search(query,itemType,sortField,sortOrder,maxItems)"
   ]
  },
  {
   "cell_type": "code",
   "execution_count": null,
   "metadata": {},
   "outputs": [],
   "source": [
    "consumptionLyr = gis.content.import_data(sdf)"
   ]
  },
  {
   "cell_type": "code",
   "execution_count": null,
   "metadata": {},
   "outputs": [],
   "source": [
    "m = gis.map('Gainesville,FL')"
   ]
  },
  {
   "cell_type": "code",
   "execution_count": null,
   "metadata": {},
   "outputs": [],
   "source": [
    "m"
   ]
  },
  {
   "cell_type": "code",
   "execution_count": null,
   "metadata": {},
   "outputs": [],
   "source": [
    "m.add_layer(sdf,options={\"renderer\":\"ClassedSizeRenderer\",\"field_name\":\"MAXCONSUMPTION\"})"
   ]
  },
  {
   "cell_type": "code",
   "execution_count": null,
   "metadata": {},
   "outputs": [],
   "source": [
    "m.add_layer(consumptionLyr,options={\"renderer\":\"ClassedSizeRenderer\",\"field_name\":\"MAXCONSUMPTION\"})"
   ]
  },
  {
   "cell_type": "code",
   "execution_count": null,
   "metadata": {},
   "outputs": [],
   "source": [
    "m"
   ]
  },
  {
   "cell_type": "code",
   "execution_count": null,
   "metadata": {},
   "outputs": [],
   "source": []
  }
 ],
 "metadata": {
  "kernelspec": {
   "display_name": "Python 3",
   "language": "python",
   "name": "python3"
  },
  "language_info": {
   "codemirror_mode": {
    "name": "ipython",
    "version": 3
   },
   "file_extension": ".py",
   "mimetype": "text/x-python",
   "name": "python",
   "nbconvert_exporter": "python",
   "pygments_lexer": "ipython3",
   "version": "3.6.6"
  }
 },
 "nbformat": 4,
 "nbformat_minor": 2
}
