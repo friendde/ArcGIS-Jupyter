{
 "cells": [
  {
   "cell_type": "code",
   "execution_count": 1,
   "metadata": {},
   "outputs": [],
   "source": [
    "import arcpy\n",
    "import time\n",
    "from datetime import date"
   ]
  },
  {
   "cell_type": "code",
   "execution_count": 7,
   "metadata": {},
   "outputs": [],
   "source": [
    "gdb = r\"C:\\Users\\friendde\\Documents\\ArcGIS\\Projects\\OSILatLong\\OSILatLong.gdb\"\n",
    "svcPntSource = r\"C:\\GISData\\Data\\Snapshot\\mxElectric.geodatabase\\Electric\\main.eServicePoint\"\n",
    "#custAcctSource = r\"C:\\GISData\\Data\\Snapshot\\mxElectric.geodatabase\\main.eCUSTOMERACCOUNT\"\n",
    "svcPntDest = r\"C:\\Users\\friendde\\Documents\\ArcGIS\\Projects\\OSILatLong\\OSILatLong.gdb\\eServicePoint\"\n",
    "custAcctDest = r\"C:\\Users\\friendde\\Documents\\ArcGIS\\Projects\\OSILatLong\\OSILatLong.gdb\\eCUSTOMERACCOUNT\"\n",
    "                 "
   ]
  },
  {
   "cell_type": "markdown",
   "metadata": {},
   "source": [
    "OSI Phase Designation\n",
    "1 – A\n",
    "2 – B\n",
    "3 – C\n",
    "12 – AB\n",
    "13 – AC\n",
    "23 – BC\n",
    "123 – ABC"
   ]
  },
  {
   "cell_type": "code",
   "execution_count": 8,
   "metadata": {},
   "outputs": [],
   "source": [
    "def getPhaseDesignation(phaseDesignation):\n",
    "        if phaseDesignation is None:\n",
    "                ph = 0\n",
    "                return ph\n",
    "        if phaseDesignation == 1:\n",
    "                ph = 3\n",
    "                return ph\n",
    "        if phaseDesignation == 2:\n",
    "                ph = 2\n",
    "                return ph\n",
    "        if phaseDesignation == 3:\n",
    "                ph = 23\n",
    "                return ph\n",
    "        if phaseDesignation == 4:\n",
    "                ph = 1\n",
    "                return ph\n",
    "        if phaseDesignation == 5:\n",
    "                ph = 13\n",
    "                return ph\n",
    "        if phaseDesignation == 6:\n",
    "                ph = 12\n",
    "                return ph\n",
    "        if phaseDesignation == 7:\n",
    "                ph = 123\n",
    "                return ph"
   ]
  },
  {
   "cell_type": "code",
   "execution_count": 9,
   "metadata": {},
   "outputs": [],
   "source": [
    "arcpy.env.workspace = gdb\n",
    "arcpy.env.overwriteOutput = True\n",
    "arcpy.env.outputCoordinateSystem = arcpy.SpatialReference(4326)"
   ]
  },
  {
   "cell_type": "code",
   "execution_count": 10,
   "metadata": {},
   "outputs": [
    {
     "data": {
      "text/plain": [
       "'C:\\\\Users\\\\friendde\\\\Documents\\\\ArcGIS\\\\Projects\\\\OSILatLong\\\\OSILatLong.gdb'"
      ]
     },
     "execution_count": 10,
     "metadata": {},
     "output_type": "execute_result"
    }
   ],
   "source": [
    "arcpy.env.workspace"
   ]
  },
  {
   "cell_type": "code",
   "execution_count": 11,
   "metadata": {},
   "outputs": [
    {
     "name": "stdout",
     "output_type": "stream",
     "text": [
      "Copying C:\\GISData\\Data\\Snapshot\\mxElectric.geodatabase\\Electric\\main.eServicePoint to C:\\Users\\friendde\\Documents\\ArcGIS\\Projects\\OSILatLong\\OSILatLong.gdb\\eServicePoint\n",
      "Copy Success, adding XY\n"
     ]
    }
   ],
   "source": [
    "if arcpy.Exists(svcPntDest):\n",
    "    print(f'Found {svcPntDest}')\n",
    "    arcpy.Delete_management (svcPntDest)\n",
    "print(f'Copying {svcPntSource} to {svcPntDest}')\n",
    "arcpy.Copy_management(svcPntSource,svcPntDest)\n",
    "if arcpy.Exists(svcPntDest):\n",
    "    print(f'Copy Success, adding XY')\n",
    "    arcpy.AddXY_management(svcPntDest)"
   ]
  },
  {
   "cell_type": "code",
   "execution_count": 12,
   "metadata": {},
   "outputs": [
    {
     "name": "stdout",
     "output_type": "stream",
     "text": [
      "Copy Success\n"
     ]
    }
   ],
   "source": [
    "#if arcpy.Exists(custAcctDest):\n",
    "#    print(f'Found {custAcctDest}')\n",
    "#    arcpy.Delete_management (custAcctDest)\n",
    "#print(f'Copying {svcPntSource} to {svcPntDest}')\n",
    "#arcpy.Copy_management(custAcctSource,custAcctDest)\n",
    "if arcpy.Exists(custAcctDest):\n",
    "    print(f'Copy Success')\n",
    "    arcpy.AddField_management(custAcctDest, \"POINT_X\", \"DOUBLE\")\n",
    "    arcpy.AddField_management(custAcctDest, \"POINT_Y\", \"DOUBLE\")\n",
    "    arcpy.AddField_management(custAcctDest, \"PHASEDESIGNATION\", \"LONG\")"
   ]
  },
  {
   "cell_type": "code",
   "execution_count": 13,
   "metadata": {},
   "outputs": [],
   "source": [
    "edit = arcpy.da.Editor(gdb)\n",
    "edit.startEditing(False, False)\n",
    "edit.startOperation()"
   ]
  },
  {
   "cell_type": "code",
   "execution_count": 15,
   "metadata": {},
   "outputs": [],
   "source": [
    "with arcpy.da.SearchCursor(svcPntDest,[\"OID@\",\"POINT_X\",\"POINT_Y\",\"PHASEDESIGNATION\"]) as svcpnts:\n",
    "        for svcpnt in svcpnts:\n",
    "                whereClause = \"SERVICEPOINTOBJECTID = {}\".format(svcpnt[0])\n",
    "                #print(whereClause,svcpnt[1])\n",
    "                with arcpy.da.UpdateCursor(custAcctDest,[\"OID@\",\"POINT_X\",\"POINT_Y\",\"PHASEDESIGNATION\",\"SERVICEPOINTOBJECTID\"],whereClause) as uc:\n",
    "                    #print(row)\n",
    "                    for row in uc:\n",
    "                            row[1] = svcpnt[1]\n",
    "                            row[2] = svcpnt[2]\n",
    "                            row[3] = getPhaseDesignation(svcpnt[3])\n",
    "                            uc.updateRow(row)"
   ]
  },
  {
   "cell_type": "code",
   "execution_count": 16,
   "metadata": {},
   "outputs": [],
   "source": [
    "edit.stopOperation()\n",
    "edit.stopEditing(True)"
   ]
  },
  {
   "cell_type": "code",
   "execution_count": 32,
   "metadata": {},
   "outputs": [
    {
     "ename": "RuntimeError",
     "evalue": "Object: Error in executing tool",
     "output_type": "error",
     "traceback": [
      "\u001b[1;31m---------------------------------------------------------------------------\u001b[0m",
      "\u001b[1;31mRuntimeError\u001b[0m                              Traceback (most recent call last)",
      "\u001b[1;32m<ipython-input-32-48029ce06efc>\u001b[0m in \u001b[0;36m<module>\u001b[1;34m()\u001b[0m\n\u001b[1;32m----> 1\u001b[1;33m \u001b[0marcpy\u001b[0m\u001b[1;33m.\u001b[0m\u001b[0mTableToTable_conversion\u001b[0m\u001b[1;33m(\u001b[0m\u001b[0mcustAcctDest\u001b[0m\u001b[1;33m,\u001b[0m\u001b[1;34mr\"C:\\Users\\friendde\\Documents\\ArcGIS\\Projects\\OSILatLong\\\\\"\u001b[0m\u001b[1;33m,\u001b[0m\u001b[1;34m\"GIS.csv\"\u001b[0m\u001b[1;33m,\u001b[0m\u001b[1;34m''\u001b[0m\u001b[1;33m,\u001b[0m\u001b[1;33m[\u001b[0m\u001b[1;34m\"POINT_X\"\u001b[0m\u001b[1;33m,\u001b[0m\u001b[1;34m\"POINT_Y\"\u001b[0m\u001b[1;33m,\u001b[0m\u001b[1;34m\"PHASEDESIGNATION\"\u001b[0m\u001b[1;33m,\u001b[0m\u001b[1;34m\"SERVICEPOINTOBJECTID\"\u001b[0m\u001b[1;33m]\u001b[0m\u001b[1;33m,\u001b[0m\u001b[1;34m''\u001b[0m\u001b[1;33m)\u001b[0m\u001b[1;33m\u001b[0m\u001b[0m\n\u001b[0m",
      "\u001b[1;32mC:\\Program Files\\ArcGIS\\Pro\\Resources\\ArcPy\\arcpy\\conversion.py\u001b[0m in \u001b[0;36mTableToTable\u001b[1;34m(in_rows, out_path, out_name, where_clause, field_mapping, config_keyword)\u001b[0m\n\u001b[0;32m    963\u001b[0m         \u001b[1;32mreturn\u001b[0m \u001b[0mretval\u001b[0m\u001b[1;33m\u001b[0m\u001b[0m\n\u001b[0;32m    964\u001b[0m     \u001b[1;32mexcept\u001b[0m \u001b[0mException\u001b[0m \u001b[1;32mas\u001b[0m \u001b[0me\u001b[0m\u001b[1;33m:\u001b[0m\u001b[1;33m\u001b[0m\u001b[0m\n\u001b[1;32m--> 965\u001b[1;33m         \u001b[1;32mraise\u001b[0m \u001b[0me\u001b[0m\u001b[1;33m\u001b[0m\u001b[0m\n\u001b[0m\u001b[0;32m    966\u001b[0m \u001b[1;33m\u001b[0m\u001b[0m\n\u001b[0;32m    967\u001b[0m \u001b[1;33m\u001b[0m\u001b[0m\n",
      "\u001b[1;32mC:\\Program Files\\ArcGIS\\Pro\\Resources\\ArcPy\\arcpy\\conversion.py\u001b[0m in \u001b[0;36mTableToTable\u001b[1;34m(in_rows, out_path, out_name, where_clause, field_mapping, config_keyword)\u001b[0m\n\u001b[0;32m    960\u001b[0m     \u001b[1;32mfrom\u001b[0m \u001b[0marcpy\u001b[0m\u001b[1;33m.\u001b[0m\u001b[0marcobjects\u001b[0m\u001b[1;33m.\u001b[0m\u001b[0marcobjectconversion\u001b[0m \u001b[1;32mimport\u001b[0m \u001b[0mconvertArcObjectToPythonObject\u001b[0m\u001b[1;33m\u001b[0m\u001b[0m\n\u001b[0;32m    961\u001b[0m     \u001b[1;32mtry\u001b[0m\u001b[1;33m:\u001b[0m\u001b[1;33m\u001b[0m\u001b[0m\n\u001b[1;32m--> 962\u001b[1;33m         \u001b[0mretval\u001b[0m \u001b[1;33m=\u001b[0m \u001b[0mconvertArcObjectToPythonObject\u001b[0m\u001b[1;33m(\u001b[0m\u001b[0mgp\u001b[0m\u001b[1;33m.\u001b[0m\u001b[0mTableToTable_conversion\u001b[0m\u001b[1;33m(\u001b[0m\u001b[1;33m*\u001b[0m\u001b[0mgp_fixargs\u001b[0m\u001b[1;33m(\u001b[0m\u001b[1;33m(\u001b[0m\u001b[0min_rows\u001b[0m\u001b[1;33m,\u001b[0m \u001b[0mout_path\u001b[0m\u001b[1;33m,\u001b[0m \u001b[0mout_name\u001b[0m\u001b[1;33m,\u001b[0m \u001b[0mwhere_clause\u001b[0m\u001b[1;33m,\u001b[0m \u001b[0mfield_mapping\u001b[0m\u001b[1;33m,\u001b[0m \u001b[0mconfig_keyword\u001b[0m\u001b[1;33m)\u001b[0m\u001b[1;33m,\u001b[0m \u001b[1;32mTrue\u001b[0m\u001b[1;33m)\u001b[0m\u001b[1;33m)\u001b[0m\u001b[1;33m)\u001b[0m\u001b[1;33m\u001b[0m\u001b[0m\n\u001b[0m\u001b[0;32m    963\u001b[0m         \u001b[1;32mreturn\u001b[0m \u001b[0mretval\u001b[0m\u001b[1;33m\u001b[0m\u001b[0m\n\u001b[0;32m    964\u001b[0m     \u001b[1;32mexcept\u001b[0m \u001b[0mException\u001b[0m \u001b[1;32mas\u001b[0m \u001b[0me\u001b[0m\u001b[1;33m:\u001b[0m\u001b[1;33m\u001b[0m\u001b[0m\n",
      "\u001b[1;32mC:\\Program Files\\ArcGIS\\Pro\\Resources\\ArcPy\\arcpy\\geoprocessing\\_base.py\u001b[0m in \u001b[0;36m<lambda>\u001b[1;34m(*args)\u001b[0m\n\u001b[0;32m    494\u001b[0m         \u001b[0mval\u001b[0m \u001b[1;33m=\u001b[0m \u001b[0mgetattr\u001b[0m\u001b[1;33m(\u001b[0m\u001b[0mself\u001b[0m\u001b[1;33m.\u001b[0m\u001b[0m_gp\u001b[0m\u001b[1;33m,\u001b[0m \u001b[0mattr\u001b[0m\u001b[1;33m)\u001b[0m\u001b[1;33m\u001b[0m\u001b[0m\n\u001b[0;32m    495\u001b[0m         \u001b[1;32mif\u001b[0m \u001b[0mcallable\u001b[0m\u001b[1;33m(\u001b[0m\u001b[0mval\u001b[0m\u001b[1;33m)\u001b[0m\u001b[1;33m:\u001b[0m\u001b[1;33m\u001b[0m\u001b[0m\n\u001b[1;32m--> 496\u001b[1;33m             \u001b[1;32mreturn\u001b[0m \u001b[1;32mlambda\u001b[0m \u001b[1;33m*\u001b[0m\u001b[0margs\u001b[0m\u001b[1;33m:\u001b[0m \u001b[0mval\u001b[0m\u001b[1;33m(\u001b[0m\u001b[1;33m*\u001b[0m\u001b[0mgp_fixargs\u001b[0m\u001b[1;33m(\u001b[0m\u001b[0margs\u001b[0m\u001b[1;33m,\u001b[0m \u001b[1;32mTrue\u001b[0m\u001b[1;33m)\u001b[0m\u001b[1;33m)\u001b[0m\u001b[1;33m\u001b[0m\u001b[0m\n\u001b[0m\u001b[0;32m    497\u001b[0m         \u001b[1;32melse\u001b[0m\u001b[1;33m:\u001b[0m\u001b[1;33m\u001b[0m\u001b[0m\n\u001b[0;32m    498\u001b[0m             \u001b[1;32mreturn\u001b[0m \u001b[0mconvertArcObjectToPythonObject\u001b[0m\u001b[1;33m(\u001b[0m\u001b[0mval\u001b[0m\u001b[1;33m)\u001b[0m\u001b[1;33m\u001b[0m\u001b[0m\n",
      "\u001b[1;31mRuntimeError\u001b[0m: Object: Error in executing tool"
     ]
    }
   ],
   "source": [
    "arcpy.TableToTable_conversion(custAcctDest,r\"C:\\Users\\friendde\\Documents\\ArcGIS\\Projects\\OSILatLong\\\\\",\"GIS.csv\",'',[\"POINT_X\",\"POINT_Y\",\"PHASEDESIGNATION\",\"SERVICEPOINTOBJECTID\"],'')"
   ]
  },
  {
   "cell_type": "code",
   "execution_count": null,
   "metadata": {},
   "outputs": [],
   "source": []
  }
 ],
 "metadata": {
  "kernelspec": {
   "display_name": "Python 3",
   "language": "python",
   "name": "python3"
  },
  "language_info": {
   "codemirror_mode": {
    "name": "ipython",
    "version": 3
   },
   "file_extension": ".py",
   "mimetype": "text/x-python",
   "name": "python",
   "nbconvert_exporter": "python",
   "pygments_lexer": "ipython3",
   "version": "3.6.5"
  }
 },
 "nbformat": 4,
 "nbformat_minor": 2
}
