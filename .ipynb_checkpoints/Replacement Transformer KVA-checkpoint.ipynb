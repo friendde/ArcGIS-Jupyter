{
 "cells": [
  {
   "cell_type": "markdown",
   "metadata": {},
   "source": [
    "### This Notebook will use a formula to determine the reccomended KVA for a transformer when it is replaced\n",
    "The formula uses customer count and customer consumption history downsteam of each transformer. When Electric Trouble Crews replace a transformer the reccomended size will available when an Engineer is not (for example after hours or weekends). This will help ensure the right size transformer is used based on consumption history, and not merley just areplacement that could be under-sized or over-sized.\n",
    "The second half of the Notebook explores the electric consumption data with a [SpatialDataFrame](https://esri.github.io/arcgis-python-api/apidoc/html/arcgis.features.toc.html?highlight=spatialdataframe#spatialdataframe) using the customers table modifed in the first half."
   ]
  },
  {
   "cell_type": "code",
   "execution_count": 1,
   "metadata": {},
   "outputs": [],
   "source": [
    "import arcpy\n",
    "#import numpy\n",
    "#import pandas as pd\n",
    "from datetime import datetime"
   ]
  },
  {
   "cell_type": "code",
   "execution_count": 2,
   "metadata": {},
   "outputs": [],
   "source": [
    "gdb = r\"C:\\Users\\friendde\\Documents\\ArcGIS\\Projects\\ReplaceKVA\\ReplaceKVA.gdb\"\n",
    "txSource = r\"C:\\GISData\\Data\\Snapshot\\mxElectric.geodatabase\\Electric\\main.eTransformerBank\"\n",
    "txDest = r\"C:\\Users\\friendde\\Documents\\ArcGIS\\Projects\\ReplaceKVA\\ReplaceKVA.gdb\\Electric\\eTransformerBank\"\n",
    "svcPntDest = r\"C:\\Users\\friendde\\Documents\\ArcGIS\\Projects\\ReplaceKVA\\ReplaceKVA.gdb\\Electric\\eServicePoint\"\n",
    "custAcctSource = r\"C:\\GISData\\Data\\Snapshot\\mxElectric.geodatabase\\main.eCUSTOMERACCOUNT\"\n",
    "custAcctDest = r\"C:\\Users\\friendde\\Documents\\ArcGIS\\Projects\\ReplaceKVA\\ReplaceKVA.gdb\\eCUSTOMERACCOUNT\"\n",
    "txAddFlds = [\"kWDSum\",\"CF\",\"kWDSumXCF\",\"kWDSumXCF_A\",\"kWDSumXCF_B\",\"kWDSumXCF_C\"]\n",
    "txFlds = [\"GLOBALID\",\"kWDSum\",\"CF\",\"kWDSumXCF\",\"CUSTOMERCOUNT\",\"MAXCUSTOMERCONSUMPTION_A\",\"MAXCUSTOMERCONSUMPTION_B\",\"MAXCUSTOMERCONSUMPTION_C\",\"DEVICEID\",\"FEEDERID\",\"FEEDERID2\",\"INSTALLATIONDATE\",\"PHASEDESIGNATION\",\"SUBTYPE\",\"RATEDKVA_A\",\"RATEDKVA_B\",\"RATEDKVA_C\",\"STRUCTUREID\",\"FACILITYID\",\"AVGCUSTOMERCONSUMPTION_A\",\"AVGCUSTOMERCONSUMPTION_B\",\"AVGCUSTOMERCONSUMPTION_C\",\"PURPOSE\",\"STREETADDRESS\",\"eSupportStructure_GlobalID\",\"eSurfaceStructure_GlobalID\"]\n",
    "svcPntFlds = [\"OID@\",\"GLOBALID\",\"eTransformerBank_GLOBALID\",\"FEEDERID\",\"PHASEDESIGNATION\",\"SUBTYPE\",\"CUSTOMERCOUNT\",\"AVGCUSTOMERCONSUMPTION\",\"MAXCUSTOMERCONSUMPTION\",\"STREETADDRESS\",\"eSupportStructure_GLOBALID\"]\n",
    "custAcctFlds = [\"OID@\",\"GLOBALID\",\"eServicePoint_GlobalID\",\"AVGCONSUMPTION\",\"MAXCONSUMPTION\"]"
   ]
  },
  {
   "cell_type": "markdown",
   "metadata": {},
   "source": [
    "for fldName in arcpy.ListFields(svcPntDest):\n",
    "    if fldName.name in svcPntFlds:\n",
    "        print(fldName.name)"
   ]
  },
  {
   "cell_type": "markdown",
   "metadata": {},
   "source": [
    "- For each customer downstream of a transformer, obtain Estimated Demand using summer or winter demand table, translate kwH (key) to kwD (vale). \n",
    "- Sum the kwD \n",
    "- Using coincidence factor dictionary, number of customers downstream of transformer (key) to obtain coincidence factor (value). - Multiply coincidence factor by sum of kwD\n",
    "- Result is minimum kvA transformer\n",
    "\n",
    "After running Accumulate Upstream (seperate C# program run against GIS that traces geometric network) the number of customers and consumption is available on each transformer. Obtain CF using number of customers on transformer, convert maxconsumption to kwD. Multiply kwD by CF. Result is minimum kvA transformer."
   ]
  },
  {
   "cell_type": "code",
   "execution_count": 3,
   "metadata": {},
   "outputs": [],
   "source": [
    "if datetime.today().month >= 5 <= 9:\n",
    "    #print(\"Using Summer Peak\")\n",
    "    summerPeak = True\n",
    "    estimatedDemand = {50:2.40,100:2.67,150:2.94,200:3.20,250:3.46,300:3.72,350:3.98,400:4.23,450:4.48,500:4.73,550:4.97,600:5.21,\n",
    "                    650:5.45,700:5.68,750:5.92,800:6.15,850:6.37,900:6.60,950:6.82,1000:7.03,1050:7.25,1100:7.46,1150:7.67,\n",
    "                    1200:7.88,1250:8.08,1300:8.28,1350:8.48,1400:8.67,1450:8.86,1500:9.05,1550:9.24,1600:9.42,1650:9.60,\n",
    "                    1700:9.78,1750:9.95,1800:10.12,1850:10.29,1900:10.46,1950:10.62,2000:10.78,2050:10.94,2100:11.10,2150:11.26,\n",
    "                    2200:11.41,2250:11.57,2300:11.73,2350:11.89,2400:12.05,2450:12.21,2500:2.36,2550:2.52,2600:12.68,2650:12.84,\n",
    "                    2700:13.00,2750:13.16,2800:13.31,2850:13.47,2900:13.63,2950:13.79,3000:13.95}\n",
    "else:\n",
    "    #print(\"Using Winter Peak\")\n",
    "    winterPeak = True\n",
    "    estimatedDemand = {50:1.97,100:2.33,150:2.69,200:3.05,250:3.41,300:3.76,350:4.11,400:4.45,450:4.80,500:5.14,550:5.48,\n",
    "                       600:5.82,650:6.15,700:6.49,750:6.82,800:7.14,850:7.47,900:7.79,950:8.11,1000:8.43,1050:8.74,1100:9.05,\n",
    "                       1150:9.36,1200:9.67,1250:9.97,1300:10.27,1350:10.57,1400:10.87,1450:11.16,1500:11.45,1550:11.74,1600:12.03,\n",
    "                       1650:12.31,1700:12.60,1750:12.87,1800:13.15,1850:13.42,1900:13.70,1950:13.96,2000:14.23,2050:14.45,\n",
    "                       2100:14.68,2150:14.90,2200:15.13,2250:15.35,2300:15.58,2350:15.80,2400:16.03,2450:16.25,2500:16.48,\n",
    "                       2550:16.70,2600:16.93,2650:17.15,2700:17.38,2750:17.60,2800:17.83,2850:18.05,2900:18.28,2950:18.50,\n",
    "                       3000:18.73}\n"
   ]
  },
  {
   "cell_type": "code",
   "execution_count": 4,
   "metadata": {},
   "outputs": [],
   "source": [
    "# coincidence factor\n",
    "cf = {1:1.0,2:0.85,3:0.74,4:0.66,5:0.61,6:0.57,7:0.54,8:0.52,9:0.5,10:0.49,11:0.47,12:0.46,13:0.45,14:0.43,15:0.42,16:0.41,\n",
    "      17:0.39,18:0.38,19:0.38,20:0.37}"
   ]
  },
  {
   "cell_type": "markdown",
   "metadata": {},
   "source": [
    "The loop below needs work. Does not process all related meters and related customer accounts, only first found related meter and customer accounts.\n",
    "\n",
    "Adding [MakeTableView_management()](http://pro.arcgis.com/en/pro-app/tool-reference/data-management/make-table-view.htm) to get count of related meters to manage the issue mentioned above"
   ]
  },
  {
   "cell_type": "code",
   "execution_count": 5,
   "metadata": {},
   "outputs": [],
   "source": [
    "arcpy.env.workspace = gdb\n",
    "arcpy.env.overwriteOutput = True"
   ]
  },
  {
   "cell_type": "code",
   "execution_count": 19,
   "metadata": {},
   "outputs": [],
   "source": [
    "def updateSvcPnts(_OID,_GID,consumption):\n",
    "    print(_OID,_GID)\n",
    "    viewTbl = \"svcview\"+str(_OID)\n",
    "    svcCon = [consumption]\n",
    "    svcSum = 0\n",
    "    arcpy.MakeTableView_management(svcPntDest,viewTbl,where_clause=f\"GLOBALID = '{_GID}'\",workspace=gdb)\n",
    "    if int(arcpy.GetCount_management(viewTbl).getOutput(0)) == 1:\n",
    "        with arcpy.da.UpdateCursor(svcPntDest,svcPntFlds,f\"GLOBALID = '{_GID}'\") as svcPnts:\n",
    "            #print(f'eTransformerBank_GLOBALID = \"{txGUID}\"')\n",
    "            for svcPnt in svcPnts:\n",
    "                #print(f'svcPntGUID {svcPnt[0]}')\n",
    "                svcPnt[7] = sum(svcCon.append(svcPntFlds[7]))\n",
    "                svcPnts.updateRow(svcPnt)\n",
    "            updateTx(svcPnt[0],svcPnt[2],svcPnt[5],svcPnt[7])\n",
    "                "
   ]
  },
  {
   "cell_type": "code",
   "execution_count": 7,
   "metadata": {},
   "outputs": [],
   "source": [
    "def updateTx(OID,GID,phase,consumption):\n",
    "    viewTbl = \"tcview\"+str(OID)\n",
    "    txCon = []\n",
    "    txSum = 0\n",
    "    arcpy.MakeTableView_management(svcPntDest,viewTbl,where_clause=f\"eTransformerBank_GLOBALID = '{GID}'\",workspace=gdb)\n",
    "    if int(arcpy.GetCount_management(viewTbl).getOutput(0)) == 1:\n",
    "        with arcpy.da.UpdateCursor(txDest,txFlds,f\"eTransformerBank_GLOBALID = '{GID}'\") as txPnts:\n",
    "            #print(f'eTransformerBank_GLOBALID = \"{txGUID}\"')\n",
    "            for txPnt in txPnts:\n",
    "                #print(f'svcPntGUID {svcPnt[0]}')\n",
    "                if phase == 1: # c phase [7]\n",
    "                    txPnt[7] = sum(txCon.append(txFlds[7],consumption))\n",
    "                if phase == 2: # b phase [6]\n",
    "                    txPnt[6] = sum(txCon.append(txFlds[6],consumption))\n",
    "                if phase == 3: # bc phase\n",
    "                    txPnt[6] = sum(txCon.append(txFlds[6],consumption))/2\n",
    "                    txPnt[7] = sum(txCon.append(txFlds[7],consumption))/2\n",
    "                if phase == 4: # a phase [5]\n",
    "                    txPnt[5] = sum(txCon.append(txFlds[5],consumption))\n",
    "                if phase == 5: # ac phase\n",
    "                    txPnt[5] = sum(txCon.append(txFlds[5],consumption))/2\n",
    "                    txPnt[7] = sum(txCon.append(txFlds[7],consumption))/2\n",
    "                if phase == 6: # ab phase\n",
    "                    txPnt[5] = sum(txCon.append(txFlds[5],consumption))/2\n",
    "                    txPnt[6] = sum(txCon.append(txFlds[6],consumption))/2\n",
    "                if phase == 7: # abc phase\n",
    "                    txPnt[5] = sum(txCon.append(txFlds[5],consumption))/3\n",
    "                    txPnt[6] = sum(txCon.append(txFlds[6],consumption))/3\n",
    "                    txPnt[7] = sum(txCon.append(txFlds[7],consumption))/3\n",
    "                txPnts.updateRow(txPnt)"
   ]
  },
  {
   "cell_type": "markdown",
   "metadata": {},
   "source": [
    "def getCustAcct(svcPntGUID):\n",
    "    count = 0\n",
    "    kwd = []\n",
    "    kwdSum = 0\n",
    "    minimumKVA = 0\n",
    "    _cf = 1\n",
    "    with arcpy.da.SearchCursor(custAcctDest,custAcctFlds,f\"eServicePoint_GlobalID = '{svcPntGUID}'\") as custAccts:\n",
    "        for custAcct in custAccts:\n",
    "            if custAcct[3] is None:\n",
    "                pass\n",
    "            else:\n",
    "                custAcctCount += 1\n",
    "                print(f'MaxConsumption {custAcct[3]} and count is {count}')\n",
    "                kwdVal = getKWD(custAcct[3])\n",
    "                if kwdVal is None:\n",
    "                    kwdVal = calcKWD(custAcct[3])\n",
    "                kwd.append(kwdVal)\n",
    "                #if count > 1:\n",
    "                kwdSum = sum(kwd)\n",
    "                #print(f'Sum of kwd {kwdSum}')\n",
    "            _cf = getCF(count)\n",
    "            if kwdSum == 0:\n",
    "                pass\n",
    "            elif _cf is None:\n",
    "                pass\n",
    "            else:\n",
    "                minimumKVA = kwdSum*_cf\n",
    "            print(f'kwdList: {kwd}')\n",
    "            print(f'Sum of kwd {kwdSum}')\n",
    "            print(f'_cf {_cf}')\n",
    "            print(f'Estimated Load: {minimumKVA}kva')\n",
    "        return kwdSum, _cf, minimumKVA\n",
    "    return 0,0,0"
   ]
  },
  {
   "cell_type": "markdown",
   "metadata": {},
   "source": [
    "def getKWD(consumption):\n",
    "    for key in sorted(estimatedDemand.keys()):\n",
    "        if consumption <= key:\n",
    "            #print(key, estimatedDemand[key])\n",
    "            return estimatedDemand[key]"
   ]
  },
  {
   "cell_type": "markdown",
   "metadata": {},
   "source": [
    "def getKWDPhase(consumption):\n",
    "    for key in sorted(estimatedDemand.keys()):\n",
    "        if consumption <= key:\n",
    "            #print(key, estimatedDemand[key])\n",
    "            return estimatedDemand[key]"
   ]
  },
  {
   "cell_type": "markdown",
   "metadata": {},
   "source": [
    "def calcKWD(consumption):\n",
    "    if summerPeak:\n",
    "        print(f'Using Summer Peak')\n",
    "        return 13.95+0.0025*(consumption-3000)\n",
    "    if winterPeak:\n",
    "        print(f'Using Winter Peak')\n",
    "        return 18.70+0.0027*(consumption-3000)"
   ]
  },
  {
   "cell_type": "markdown",
   "metadata": {},
   "source": [
    "def getCF(custCount):\n",
    "    for key in sorted(cf.keys()):\n",
    "        if custCount == key:\n",
    "            #print(key, cf[key])\n",
    "            return cf[key]\n",
    "        if custCount >= 20:\n",
    "            return .37"
   ]
  },
  {
   "cell_type": "code",
   "execution_count": 8,
   "metadata": {},
   "outputs": [
    {
     "name": "stdout",
     "output_type": "stream",
     "text": [
      "eCUSTOMERACCOUNT\n",
      "SAP_INSTALLATION\n"
     ]
    }
   ],
   "source": [
    "tblList = arcpy.ListTables()\n",
    "for tbl in tblList:\n",
    "    print(tbl)\n",
    "    arcpy.Delete_management(tbl)"
   ]
  },
  {
   "cell_type": "code",
   "execution_count": 9,
   "metadata": {},
   "outputs": [
    {
     "name": "stdout",
     "output_type": "stream",
     "text": [
      "Electric\n"
     ]
    }
   ],
   "source": [
    "fdsList = arcpy.ListDatasets()\n",
    "for fds in fdsList:\n",
    "    print(fds)\n",
    "    arcpy.Delete_management(fds)"
   ]
  },
  {
   "cell_type": "code",
   "execution_count": 10,
   "metadata": {},
   "outputs": [
    {
     "data": {
      "text/plain": [
       "<Result 'C:\\\\Users\\\\friendde\\\\Documents\\\\ArcGIS\\\\Projects\\\\ReplaceKVA\\\\ReplaceKVA.gdb\\\\eCUSTOMERACCOUNT'>"
      ]
     },
     "execution_count": 10,
     "metadata": {},
     "output_type": "execute_result"
    }
   ],
   "source": [
    "arcpy.Copy_management(custAcctSource,custAcctDest)"
   ]
  },
  {
   "cell_type": "code",
   "execution_count": 11,
   "metadata": {},
   "outputs": [],
   "source": [
    "for fld in txAddFlds:\n",
    "    arcpy.AddField_management(txDest,fld,\"DOUBLE\")"
   ]
  },
  {
   "cell_type": "code",
   "execution_count": 12,
   "metadata": {},
   "outputs": [
    {
     "data": {
      "text/plain": [
       "<Result 'C:\\\\Users\\\\friendde\\\\Documents\\\\ArcGIS\\\\Projects\\\\ReplaceKVA\\\\ReplaceKVA.gdb\\\\Electric\\\\eServicePoint'>"
      ]
     },
     "execution_count": 12,
     "metadata": {},
     "output_type": "execute_result"
    }
   ],
   "source": [
    "txMaxFlds = [\"MAXCUSTOMERCONSUMPTION_A\",\"MAXCUSTOMERCONSUMPTION_B\",\"MAXCUSTOMERCONSUMPTION_C\"]\n",
    "for txMaxFld in txMaxFlds:\n",
    "    arcpy.CalculateField_management(txDest,txMaxFld,0)\n",
    "arcpy.CalculateField_management(svcPntDest,\"MAXCUSTOMERCONSUMPTION\",0)"
   ]
  },
  {
   "cell_type": "code",
   "execution_count": 13,
   "metadata": {},
   "outputs": [],
   "source": [
    "edit = arcpy.da.Editor(gdb)\n",
    "edit.startEditing(False, False)\n",
    "edit.startOperation()"
   ]
  },
  {
   "cell_type": "markdown",
   "metadata": {},
   "source": [
    "TODO: get phase of tx and then consumption by phase"
   ]
  },
  {
   "cell_type": "markdown",
   "metadata": {},
   "source": [
    "for i in range(4,7):\n",
    "    print(i)"
   ]
  },
  {
   "cell_type": "markdown",
   "metadata": {},
   "source": [
    "lst = [20,20]\n",
    "val = (sum(lst)/2)\n",
    "print(val)"
   ]
  },
  {
   "cell_type": "code",
   "execution_count": 21,
   "metadata": {},
   "outputs": [
    {
     "name": "stdout",
     "output_type": "stream",
     "text": [
      "SvcPntGUID {35931822-0321-4495-9888-0D162F19FBF0} 1721.0\n",
      "4 {35931822-0321-4495-9888-0D162F19FBF0}\n"
     ]
    },
    {
     "ename": "TypeError",
     "evalue": "'NoneType' object is not iterable",
     "output_type": "error",
     "traceback": [
      "\u001b[1;31m---------------------------------------------------------------------------\u001b[0m",
      "\u001b[1;31mTypeError\u001b[0m                                 Traceback (most recent call last)",
      "\u001b[1;32m<ipython-input-21-f26913a98bc7>\u001b[0m in \u001b[0;36m<module>\u001b[1;34m()\u001b[0m\n\u001b[0;32m      2\u001b[0m         \u001b[1;32mfor\u001b[0m \u001b[0maccount\u001b[0m \u001b[1;32min\u001b[0m \u001b[0maccounts\u001b[0m\u001b[1;33m:\u001b[0m\u001b[1;33m\u001b[0m\u001b[0m\n\u001b[0;32m      3\u001b[0m             \u001b[0mprint\u001b[0m\u001b[1;33m(\u001b[0m\u001b[1;34mf'SvcPntGUID {account[2]} {account[4]}'\u001b[0m\u001b[1;33m)\u001b[0m\u001b[1;33m\u001b[0m\u001b[0m\n\u001b[1;32m----> 4\u001b[1;33m             \u001b[0mupdateSvcPnts\u001b[0m\u001b[1;33m(\u001b[0m\u001b[0maccount\u001b[0m\u001b[1;33m[\u001b[0m\u001b[1;36m0\u001b[0m\u001b[1;33m]\u001b[0m\u001b[1;33m,\u001b[0m\u001b[0maccount\u001b[0m\u001b[1;33m[\u001b[0m\u001b[1;36m2\u001b[0m\u001b[1;33m]\u001b[0m\u001b[1;33m,\u001b[0m\u001b[0maccount\u001b[0m\u001b[1;33m[\u001b[0m\u001b[1;36m4\u001b[0m\u001b[1;33m]\u001b[0m\u001b[1;33m)\u001b[0m\u001b[1;33m\u001b[0m\u001b[0m\n\u001b[0m\u001b[0;32m      5\u001b[0m            \u001b[1;31m# with arcpy.da.UpdateCursor(txDest,txAddFlds,f\"GLOBALID = '{txpnt[0]}'\") as uc:\u001b[0m\u001b[1;33m\u001b[0m\u001b[1;33m\u001b[0m\u001b[0m\n\u001b[0;32m      6\u001b[0m            \u001b[1;31m#     #print(row)\u001b[0m\u001b[1;33m\u001b[0m\u001b[1;33m\u001b[0m\u001b[0m\n",
      "\u001b[1;32m<ipython-input-19-d39ea668ec18>\u001b[0m in \u001b[0;36mupdateSvcPnts\u001b[1;34m(_OID, _GID, consumption)\u001b[0m\n\u001b[0;32m     10\u001b[0m             \u001b[1;32mfor\u001b[0m \u001b[0msvcPnt\u001b[0m \u001b[1;32min\u001b[0m \u001b[0msvcPnts\u001b[0m\u001b[1;33m:\u001b[0m\u001b[1;33m\u001b[0m\u001b[0m\n\u001b[0;32m     11\u001b[0m                 \u001b[1;31m#print(f'svcPntGUID {svcPnt[0]}')\u001b[0m\u001b[1;33m\u001b[0m\u001b[1;33m\u001b[0m\u001b[0m\n\u001b[1;32m---> 12\u001b[1;33m                 \u001b[0msvcPnt\u001b[0m\u001b[1;33m[\u001b[0m\u001b[1;36m7\u001b[0m\u001b[1;33m]\u001b[0m \u001b[1;33m=\u001b[0m \u001b[0msum\u001b[0m\u001b[1;33m(\u001b[0m\u001b[0msvcCon\u001b[0m\u001b[1;33m.\u001b[0m\u001b[0mappend\u001b[0m\u001b[1;33m(\u001b[0m\u001b[0msvcPntFlds\u001b[0m\u001b[1;33m[\u001b[0m\u001b[1;36m7\u001b[0m\u001b[1;33m]\u001b[0m\u001b[1;33m)\u001b[0m\u001b[1;33m)\u001b[0m\u001b[1;33m\u001b[0m\u001b[0m\n\u001b[0m\u001b[0;32m     13\u001b[0m                 \u001b[0msvcPnts\u001b[0m\u001b[1;33m.\u001b[0m\u001b[0mupdateRow\u001b[0m\u001b[1;33m(\u001b[0m\u001b[0msvcPnt\u001b[0m\u001b[1;33m)\u001b[0m\u001b[1;33m\u001b[0m\u001b[0m\n\u001b[0;32m     14\u001b[0m             \u001b[0mupdateTx\u001b[0m\u001b[1;33m(\u001b[0m\u001b[0msvcPnt\u001b[0m\u001b[1;33m[\u001b[0m\u001b[1;36m0\u001b[0m\u001b[1;33m]\u001b[0m\u001b[1;33m,\u001b[0m\u001b[0msvcPnt\u001b[0m\u001b[1;33m[\u001b[0m\u001b[1;36m2\u001b[0m\u001b[1;33m]\u001b[0m\u001b[1;33m,\u001b[0m\u001b[0msvcPnt\u001b[0m\u001b[1;33m[\u001b[0m\u001b[1;36m5\u001b[0m\u001b[1;33m]\u001b[0m\u001b[1;33m,\u001b[0m\u001b[0msvcPnt\u001b[0m\u001b[1;33m[\u001b[0m\u001b[1;36m7\u001b[0m\u001b[1;33m]\u001b[0m\u001b[1;33m)\u001b[0m\u001b[1;33m\u001b[0m\u001b[0m\n",
      "\u001b[1;31mTypeError\u001b[0m: 'NoneType' object is not iterable"
     ]
    }
   ],
   "source": [
    "with arcpy.da.SearchCursor(custAcctDest,custAcctFlds) as accounts:\n",
    "        for account in accounts:\n",
    "            print(f'SvcPntGUID {account[2]} {account[4]}')\n",
    "            updateSvcPnts(account[0],account[2],account[4])\n",
    "           # with arcpy.da.UpdateCursor(txDest,txAddFlds,f\"GLOBALID = '{txpnt[0]}'\") as uc:\n",
    "           #     #print(row)\n",
    "           #     for row in uc:\n",
    "           #         row[0] = txFld1\n",
    "           #         row[1] = txFld2\n",
    "           #         row[2] = txFld3\n",
    "           #         uc.updateRow(row)"
   ]
  },
  {
   "cell_type": "code",
   "execution_count": null,
   "metadata": {},
   "outputs": [],
   "source": []
  },
  {
   "cell_type": "markdown",
   "metadata": {},
   "source": [
    "with arcpy.da.SearchCursor(txDest,txFlds) as txpnts:\n",
    "        for txpnt in txpnts:\n",
    "            print(f'TXGUID {txpnt[0]} {txpnt[5]} {txpnt[6]} {txpnt[7]}')\n",
    "            for i in range(5,8):\n",
    "                if txpnt[i] != None:\n",
    "                    #estDemand = getKWD(txpnt[i])\n",
    "                    print(getKWD(txpnt[i]))\n",
    "           # with arcpy.da.UpdateCursor(txDest,txAddFlds,f\"GLOBALID = '{txpnt[0]}'\") as uc:\n",
    "           #     #print(row)\n",
    "           #     for row in uc:\n",
    "           #         row[0] = txFld1\n",
    "           #         row[1] = txFld2\n",
    "           #         row[2] = txFld3\n",
    "           #         uc.updateRow(row)"
   ]
  },
  {
   "cell_type": "markdown",
   "metadata": {},
   "source": [
    "with arcpy.da.SearchCursor(txDest,txFlds) as txpnts:\n",
    "        for txpnt in txpnts:\n",
    "            print(f'TXGUID {txpnt[0]}')\n",
    "            txFld1,txFld2,txFld3 = getSvcPnts(txpnt[0],txpnt[4])\n",
    "            with arcpy.da.UpdateCursor(txDest,txAddFlds,f\"GLOBALID = '{txpnt[0]}'\") as uc:\n",
    "                #print(row)\n",
    "                for row in uc:\n",
    "                    row[0] = txFld1\n",
    "                    row[1] = txFld2\n",
    "                    row[2] = txFld3\n",
    "                    uc.updateRow(row)"
   ]
  },
  {
   "cell_type": "markdown",
   "metadata": {},
   "source": [
    "TXGUID {E290DC22-6AD4-4973-A2D0-215C9B29A5A5}"
   ]
  },
  {
   "cell_type": "code",
   "execution_count": null,
   "metadata": {},
   "outputs": [],
   "source": [
    "edit.stopOperation()\n",
    "edit.stopEditing(True)"
   ]
  },
  {
   "cell_type": "markdown",
   "metadata": {},
   "source": [
    "### Use numpy and pandas to export to CSV\n",
    "\n",
    "Use arcpy [```TableToNumPyArray()```](http://pro.arcgis.com/en/pro-app/arcpy/data-access/tabletonumpyarray.htm)\n",
    "See also [Working with numpy in ArcGIS](http://pro.arcgis.com/en/pro-app/arcpy/get-started/working-with-numpy-in-arcgis.htm)"
   ]
  },
  {
   "cell_type": "markdown",
   "metadata": {},
   "source": [
    "nparr = arcpy.da.TableToNumPyArray(custAcctDest,custAcctOutFlds,skip_nulls=True)\n",
    "#nparr = arcpy.da.TableToNumPyArray(custAcctDest,custAcctOutFlds,null_value=-9999)\n",
    "pdarr = pd.DataFrame(nparr)\n",
    "pdarr.to_csv(custAcctFile,header=False, index=False)"
   ]
  },
  {
   "cell_type": "markdown",
   "metadata": {},
   "source": [
    "TODO - write file to \\\\gruadmin.gru.com\\fs\\Groups\\OMS Replacement Project\\Documents for OSII\\Customer and Premise Files"
   ]
  },
  {
   "cell_type": "markdown",
   "metadata": {},
   "source": [
    "Ready new numpy array for consumption analysis"
   ]
  },
  {
   "cell_type": "markdown",
   "metadata": {},
   "source": [
    "nparr = arcpy.da.TableToNumPyArray(custAcctDest,[\"SERVICEPOINTOBJECTID\",\"POINT_X\",\"POINT_Y\",\"AVGCONSUMPTION\",\"MAXCONSUMPTION\"],skip_nulls=True)"
   ]
  },
  {
   "cell_type": "markdown",
   "metadata": {},
   "source": [
    "df = pd.DataFrame(nparr)\n",
    "df.head()"
   ]
  },
  {
   "cell_type": "markdown",
   "metadata": {},
   "source": [
    "[```gis.features.SpatialDataFrame()```](https://esri.github.io/arcgis-python-api/apidoc/html/arcgis.features.toc.html?highlight=spatialdataframe#arcgis.features.SpatialDataFrame.from_xy)"
   ]
  },
  {
   "cell_type": "markdown",
   "metadata": {},
   "source": [
    "from arcgis.features import SpatialDataFrame\n",
    "from arcgis.gis import GIS\n",
    "from getpass import getpass\n",
    "from IPython.display import display"
   ]
  },
  {
   "cell_type": "markdown",
   "metadata": {},
   "source": [
    "sdf = SpatialDataFrame.from_xy(df,\"POINT_X\",\"POINT_Y\")\n",
    "gis = GIS(arcpy.GetActivePortalURL(), username=input(\"Enter User Name \"), password=(getpass()))\n",
    "#gis = GIS()\n",
    "#portalDesc = arcpy.GetPortalDescription()\n",
    "# search and list all items owned by connected user\n",
    "#query=f'owner:{portalDesc[\"user\"][\"username\"]} AND title:CW BaseMap'\n",
    "#itemType=\"Feature Layer\"\n",
    "#sortField=\"title\"\n",
    "#sortOrder=\"asc\"\n",
    "# default max__items is 10\n",
    "#maxItems=100\n",
    "#m = gis.content.search(query,itemType,sortField,sortOrder,maxItems)"
   ]
  },
  {
   "cell_type": "markdown",
   "metadata": {},
   "source": [
    "#consumptionLyr = gis.content.import_data(sdf)"
   ]
  },
  {
   "cell_type": "markdown",
   "metadata": {},
   "source": [
    "m = gis.map('Gainesville,FL')"
   ]
  },
  {
   "cell_type": "markdown",
   "metadata": {},
   "source": [
    "m.add_layer(sdf,options={\"renderer\":\"ClassedSizeRenderer\",\"field_name\":\"MAXCONSUMPTION\"})"
   ]
  },
  {
   "cell_type": "markdown",
   "metadata": {},
   "source": [
    "#m.add_layer(consumptionLyr,options={\"renderer\":\"ClassedSizeRenderer\",\"field_name\":\"MAXCONSUMPTION\"})"
   ]
  },
  {
   "cell_type": "markdown",
   "metadata": {},
   "source": [
    "m"
   ]
  }
 ],
 "metadata": {
  "kernelspec": {
   "display_name": "Python 3",
   "language": "python",
   "name": "python3"
  },
  "language_info": {
   "codemirror_mode": {
    "name": "ipython",
    "version": 3
   },
   "file_extension": ".py",
   "mimetype": "text/x-python",
   "name": "python",
   "nbconvert_exporter": "python",
   "pygments_lexer": "ipython3",
   "version": "3.6.5"
  }
 },
 "nbformat": 4,
 "nbformat_minor": 2
}
