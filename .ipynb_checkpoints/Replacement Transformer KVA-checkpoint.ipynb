{
 "cells": [
  {
   "cell_type": "markdown",
   "metadata": {},
   "source": [
    "### This Notebook will use a formula to determine the reccomended KVA for a transformer when it is replaced\n",
    "The formula uses customer count and customer consumption history downsteam of each transformer. When Electric Trouble Crews replace a transformer the reccomended size will available when an Engineer is not (for example after hours or weekends). This will help ensure the right size transformer is used based on consumption history, and not merley just areplacement that could be under-sized or over-sized.\n",
    "The second half of the Notebook explores the electric consumption data with a [SpatialDataFrame](https://esri.github.io/arcgis-python-api/apidoc/html/arcgis.features.toc.html?highlight=spatialdataframe#spatialdataframe) using the customers table modifed in the first half."
   ]
  },
  {
   "cell_type": "code",
   "execution_count": 1,
   "metadata": {},
   "outputs": [],
   "source": [
    "import arcpy\n",
    "#import numpy\n",
    "#import pandas as pd\n",
    "from datetime import datetime"
   ]
  },
  {
   "cell_type": "code",
   "execution_count": 2,
   "metadata": {},
   "outputs": [],
   "source": [
    "gdb = r\"C:\\Users\\friendde\\Documents\\ArcGIS\\Projects\\ReplaceKVA\\ReplaceKVA.gdb\"\n",
    "txSource = r\"C:\\GISData\\Data\\Snapshot\\mxElectric.geodatabase\\Electric\\main.eTransformerBank\"\n",
    "txDest = r\"C:\\Users\\friendde\\Documents\\ArcGIS\\Projects\\ReplaceKVA\\ReplaceKVA.gdb\\Electric\\eTransformerBank\"\n",
    "svcPntDest = r\"C:\\Users\\friendde\\Documents\\ArcGIS\\Projects\\ReplaceKVA\\ReplaceKVA.gdb\\Electric\\eServicePoint\"\n",
    "custAcctSource = r\"C:\\GISData\\Data\\Snapshot\\mxElectric.geodatabase\\main.eCUSTOMERACCOUNT\"\n",
    "custAcctDest = r\"C:\\Users\\friendde\\Documents\\ArcGIS\\Projects\\ReplaceKVA\\ReplaceKVA.gdb\\eCUSTOMERACCOUNT\"\n",
    "txAddFlds = [\"kWDSum\",\"CF\",\"kWDSumXCF\"]\n",
    "txFlds = [\"GLOBALID\",\"kWDSum\",\"CF\",\"kWDSumXCF\",\"DEVICEID\",\"FEEDERID\",\"FEEDERID2\",\"INSTALLATIONDATE\",\"PHASEDESIGNATION\",\"SUBTYPE\",\"RATEDKVA_A\",\"RATEDKVA_B\",\"RATEDKVA_C\",\"CUSTOMERCOUNT\",\"STRUCTUREID\",\"FACILITYID\",\"AVGCUSTOMERCONSUMPTION_A\",\"AVGCUSTOMERCONSUMPTION_B\",\"AVGCUSTOMERCONSUMPTION_C\",\"MAXCUSTOMERCONSUMPTION_A\",\"MAXCUSTOMERCONSUMPTION_B\",\"MAXCUSTOMERCONSUMPTION_C\",\"PURPOSE\",\"STREETADDRESS\",\"eSupportStructure_GlobalID\",\"eSurfaceStructure_GlobalID\"]\n",
    "svcPntFlds = [\"GLOBALID\",\"eTransformerBank_GLOBALID\",\"FEEDERID\",\"PHASEDESIGNATION\",\"SUBTYPE\",\"CUSTOMERCOUNT\",\"AVGCUSTOMERCONSUMPTION\",\"MAXCUSTOMERCONSUMPTION\",\"STREETADDRESS\",\"eSupportStructure_GLOBALID\"]\n",
    "custAcctFlds = [\"GLOBALID\",\"eServicePoint_GlobalID\",\"AVGCONSUMPTION\",\"MAXCONSUMPTION\"]"
   ]
  },
  {
   "cell_type": "markdown",
   "metadata": {},
   "source": [
    "for fldName in arcpy.ListFields(svcPntDest):\n",
    "    if fldName.name in svcPntFlds:\n",
    "        print(fldName.name)"
   ]
  },
  {
   "cell_type": "code",
   "execution_count": 3,
   "metadata": {},
   "outputs": [],
   "source": [
    "if datetime.today().month >= 5 <= 9:\n",
    "    #print(\"Using Summer Peak\")\n",
    "    summerPeak = True\n",
    "    estimatedDemand = {50:2.40,100:2.67,150:2.94,200:3.20,250:3.46,300:3.72,350:3.98,400:4.23,450:4.48,500:4.73,550:4.97,600:5.21,\n",
    "                    650:5.45,700:5.68,750:5.92,800:6.15,850:6.37,900:6.60,950:6.82,1000:7.03,1050:7.25,1100:7.46,1150:7.67,\n",
    "                    1200:7.88,1250:8.08,1300:8.28,1350:8.48,1400:8.67,1450:8.86,1500:9.05,1550:9.24,1600:9.42,1650:9.60,\n",
    "                    1700:9.78,1750:9.95,1800:10.12,1850:10.29,1900:10.46,1950:10.62,2000:10.78,2050:10.94,2100:11.10,2150:11.26,\n",
    "                    2200:11.41,2250:11.57,2300:11.73,2350:11.89,2400:12.05,2450:12.21,2500:2.36,2550:2.52,2600:12.68,2650:12.84,\n",
    "                    2700:13.00,2750:13.16,2800:13.31,2850:13.47,2900:13.63,2950:13.79,3000:13.95}\n",
    "else:\n",
    "    #print(\"Using Winter Peak\")\n",
    "    winterPeak = True\n",
    "    estimatedDemand = {50:1.97,100:2.33,150:2.69,200:3.05,250:3.41,300:3.76,350:4.11,400:4.45,450:4.80,500:5.14,550:5.48,\n",
    "                       600:5.82,650:6.15,700:6.49,750:6.82,800:7.14,850:7.47,900:7.79,950:8.11,1000:8.43,1050:8.74,1100:9.05,\n",
    "                       1150:9.36,1200:9.67,1250:9.97,1300:10.27,1350:10.57,1400:10.87,1450:11.16,1500:11.45,1550:11.74,1600:12.03,\n",
    "                       1650:12.31,1700:12.60,1750:12.87,1800:13.15,1850:13.42,1900:13.70,1950:13.96,2000:14.23,2050:14.45,\n",
    "                       2100:14.68,2150:14.90,2200:15.13,2250:15.35,2300:15.58,2350:15.80,2400:16.03,2450:16.25,2500:16.48,\n",
    "                       2550:16.70,2600:16.93,2650:17.15,2700:17.38,2750:17.60,2800:17.83,2850:18.05,2900:18.28,2950:18.50,\n",
    "                       3000:18.73}\n"
   ]
  },
  {
   "cell_type": "code",
   "execution_count": 4,
   "metadata": {},
   "outputs": [],
   "source": [
    "# coincidence factor\n",
    "cf = {1:1.0,2:0.85,3:0.74,4:0.66,5:0.61,6:0.57,7:0.54,8:0.52,9:0.5,10:0.49,11:0.47,12:0.46,13:0.45,14:0.43,15:0.42,16:0.41,\n",
    "      17:0.39,18:0.38,19:0.38,20:0.37}"
   ]
  },
  {
   "cell_type": "code",
   "execution_count": 5,
   "metadata": {},
   "outputs": [],
   "source": [
    "def getSvcPnts(txGUID):\n",
    "    with arcpy.da.SearchCursor(svcPntDest,svcPntFlds,f\"eTransformerBank_GLOBALID = '{txGUID}'\") as svcPnts:\n",
    "        #print(f'eTransformerBank_GLOBALID = \"{txGUID}\"')\n",
    "        for svcPnt in svcPnts:\n",
    "            #print(f'svcPntGUID {svcPnt[0]}')\n",
    "            getCustAcct(svcPnt[0])"
   ]
  },
  {
   "cell_type": "code",
   "execution_count": 18,
   "metadata": {},
   "outputs": [],
   "source": [
    "def getCustAcct(svcPntGUID):\n",
    "    count = 0\n",
    "    kwd = []\n",
    "    kwdSum = 0\n",
    "    with arcpy.da.SearchCursor(custAcctDest,custAcctFlds,f\"eServicePoint_GlobalID = '{svcPntGUID}'\") as custAccts:\n",
    "        for custAcct in custAccts:\n",
    "            if custAcct[3] is None:\n",
    "                pass\n",
    "            else:\n",
    "                count += 1\n",
    "                print(f'MaxConsumption {custAcct[3]} and count is {count}')\n",
    "                kwdVal = getKWD(custAcct[3])\n",
    "                if kwdVal is None:\n",
    "                    kwdVal = calcKWD(custAcct[3])\n",
    "                kwd.append(kwdVal)\n",
    "                print(f'kwdList: {kwd}')\n",
    "                #if count > 1:\n",
    "                kwdSum = sum(kwd)\n",
    "                print(f'Sum of kwd {kwdSum}')\n",
    "            _cf = getCF(count)\n",
    "            minimumKVA = kwdSum*_cf\n",
    "            print(f'replace with {minimumKVA}kva')\n",
    "                  "
   ]
  },
  {
   "cell_type": "code",
   "execution_count": 15,
   "metadata": {},
   "outputs": [],
   "source": [
    "def getKWD(consumption):\n",
    "    for key in sorted(estimatedDemand.keys()):\n",
    "        if consumption <= key:\n",
    "            print(key, estimatedDemand[key])\n",
    "            return estimatedDemand[key]"
   ]
  },
  {
   "cell_type": "code",
   "execution_count": 16,
   "metadata": {},
   "outputs": [],
   "source": [
    "def calcKWD(consumption):\n",
    "    if summerPeak:\n",
    "        print(f'Using Summer Peak')\n",
    "        return 13.95+0.0032*(consumption-3000)\n",
    "    if winterPeak:\n",
    "        print(f'Using Winter Peak')\n",
    "        return 18.70+0.0045*(consumption-3000)"
   ]
  },
  {
   "cell_type": "code",
   "execution_count": 8,
   "metadata": {},
   "outputs": [],
   "source": [
    "def getCF(custCount):\n",
    "    for key in sorted(cf.keys()):\n",
    "        if custCount == key:\n",
    "            #print(key, cf[key])\n",
    "            return cf[key]\n",
    "        if custCount >= 20:\n",
    "            return .37"
   ]
  },
  {
   "cell_type": "code",
   "execution_count": 9,
   "metadata": {},
   "outputs": [],
   "source": [
    "arcpy.env.workspace = gdb\n",
    "arcpy.env.overwriteOutput = True"
   ]
  },
  {
   "cell_type": "code",
   "execution_count": null,
   "metadata": {},
   "outputs": [],
   "source": [
    "tblList = arcpy.ListTables()\n",
    "for tbl in tblList:\n",
    "    print(tbl)\n",
    "    arcpy.Delete_management(tbl)"
   ]
  },
  {
   "cell_type": "code",
   "execution_count": null,
   "metadata": {},
   "outputs": [],
   "source": [
    "fdsList = arcpy.ListDatasets()\n",
    "for fds in fdsList:\n",
    "    print(fds)\n",
    "    arcpy.Delete_management(fds)"
   ]
  },
  {
   "cell_type": "code",
   "execution_count": null,
   "metadata": {},
   "outputs": [],
   "source": [
    "arcpy.Copy_management(custAcctSource,custAcctDest)"
   ]
  },
  {
   "cell_type": "code",
   "execution_count": null,
   "metadata": {},
   "outputs": [],
   "source": [
    "for fld in txAddFlds:\n",
    "    arcpy.AddField_management(txDest,fld,\"DOUBLE\")"
   ]
  },
  {
   "cell_type": "code",
   "execution_count": null,
   "metadata": {},
   "outputs": [],
   "source": [
    "edit = arcpy.da.Editor(gdb)\n",
    "edit.startEditing(False, False)\n",
    "edit.startOperation()"
   ]
  },
  {
   "cell_type": "code",
   "execution_count": 19,
   "metadata": {},
   "outputs": [
    {
     "name": "stdout",
     "output_type": "stream",
     "text": [
      "MaxConsumption 530.0 and count is 1\n",
      "550 4.97\n",
      "kwdList: [4.97]\n",
      "Sum of kwd 4.97\n",
      "replace with 4.97kva\n",
      "MaxConsumption 0.0 and count is 1\n",
      "50 2.4\n",
      "kwdList: [2.4]\n",
      "Sum of kwd 2.4\n",
      "replace with 2.4kva\n",
      "MaxConsumption 1186.0 and count is 1\n",
      "1200 7.88\n",
      "kwdList: [7.88]\n",
      "Sum of kwd 7.88\n",
      "replace with 7.88kva\n",
      "MaxConsumption 1465.0 and count is 1\n",
      "1500 9.05\n",
      "kwdList: [9.05]\n",
      "Sum of kwd 9.05\n",
      "replace with 9.05kva\n",
      "MaxConsumption 1721.0 and count is 1\n",
      "1750 9.95\n",
      "kwdList: [9.95]\n",
      "Sum of kwd 9.95\n",
      "replace with 9.95kva\n",
      "MaxConsumption 1984.0 and count is 1\n",
      "2000 10.78\n",
      "kwdList: [10.78]\n",
      "Sum of kwd 10.78\n",
      "replace with 10.78kva\n",
      "MaxConsumption 1256.0 and count is 1\n",
      "1300 8.28\n",
      "kwdList: [8.28]\n",
      "Sum of kwd 8.28\n",
      "replace with 8.28kva\n",
      "MaxConsumption 2117.0 and count is 1\n",
      "2150 11.26\n",
      "kwdList: [11.26]\n",
      "Sum of kwd 11.26\n",
      "replace with 11.26kva\n",
      "MaxConsumption 1728.0 and count is 1\n",
      "1750 9.95\n",
      "kwdList: [9.95]\n",
      "Sum of kwd 9.95\n",
      "replace with 9.95kva\n",
      "MaxConsumption 820.0 and count is 1\n",
      "850 6.37\n",
      "kwdList: [6.37]\n",
      "Sum of kwd 6.37\n",
      "replace with 6.37kva\n",
      "MaxConsumption 3108.0 and count is 1\n",
      "Using Summer Peak\n",
      "kwdList: [14.295599999999999]\n",
      "Sum of kwd 14.295599999999999\n",
      "replace with 14.295599999999999kva\n",
      "MaxConsumption 76.0 and count is 1\n",
      "100 2.67\n",
      "kwdList: [2.67]\n",
      "Sum of kwd 2.67\n",
      "replace with 2.67kva\n",
      "MaxConsumption 2891.0 and count is 1\n",
      "2900 13.63\n",
      "kwdList: [13.63]\n",
      "Sum of kwd 13.63\n",
      "replace with 13.63kva\n",
      "MaxConsumption 424.0 and count is 1\n",
      "450 4.48\n",
      "kwdList: [4.48]\n",
      "Sum of kwd 4.48\n",
      "replace with 4.48kva\n",
      "MaxConsumption 2435.0 and count is 1\n",
      "2450 12.21\n",
      "kwdList: [12.21]\n",
      "Sum of kwd 12.21\n",
      "replace with 12.21kva\n",
      "MaxConsumption 3715.0 and count is 1\n",
      "Using Summer Peak\n",
      "kwdList: [16.238]\n",
      "Sum of kwd 16.238\n",
      "replace with 16.238kva\n",
      "MaxConsumption 163.0 and count is 1\n",
      "200 3.2\n",
      "kwdList: [3.2]\n",
      "Sum of kwd 3.2\n",
      "replace with 3.2kva\n",
      "MaxConsumption 1123.0 and count is 1\n",
      "1150 7.67\n",
      "kwdList: [7.67]\n",
      "Sum of kwd 7.67\n",
      "replace with 7.67kva\n",
      "MaxConsumption 4091.0 and count is 1\n",
      "Using Summer Peak\n",
      "kwdList: [17.4412]\n",
      "Sum of kwd 17.4412\n",
      "replace with 17.4412kva\n",
      "MaxConsumption 5703.0 and count is 1\n",
      "Using Summer Peak\n",
      "kwdList: [22.599600000000002]\n",
      "Sum of kwd 22.599600000000002\n",
      "replace with 22.599600000000002kva\n",
      "MaxConsumption 1915.0 and count is 1\n",
      "1950 10.62\n",
      "kwdList: [10.62]\n",
      "Sum of kwd 10.62\n",
      "replace with 10.62kva\n",
      "MaxConsumption 1046.0 and count is 1\n",
      "1050 7.25\n",
      "kwdList: [7.25]\n",
      "Sum of kwd 7.25\n",
      "replace with 7.25kva\n",
      "MaxConsumption 1998.0 and count is 1\n",
      "2000 10.78\n",
      "kwdList: [10.78]\n",
      "Sum of kwd 10.78\n",
      "replace with 10.78kva\n",
      "MaxConsumption 3063.0 and count is 1\n",
      "Using Summer Peak\n",
      "kwdList: [14.151599999999998]\n",
      "Sum of kwd 14.151599999999998\n",
      "replace with 14.151599999999998kva\n",
      "MaxConsumption 2146.0 and count is 1\n",
      "2150 11.26\n",
      "kwdList: [11.26]\n",
      "Sum of kwd 11.26\n",
      "replace with 11.26kva\n",
      "MaxConsumption 1822.0 and count is 1\n",
      "1850 10.29\n",
      "kwdList: [10.29]\n",
      "Sum of kwd 10.29\n",
      "replace with 10.29kva\n",
      "MaxConsumption 1157.0 and count is 1\n",
      "1200 7.88\n",
      "kwdList: [7.88]\n",
      "Sum of kwd 7.88\n",
      "replace with 7.88kva\n"
     ]
    },
    {
     "ename": "TypeError",
     "evalue": "unsupported operand type(s) for *: 'int' and 'NoneType'",
     "output_type": "error",
     "traceback": [
      "\u001b[1;31m---------------------------------------------------------------------------\u001b[0m",
      "\u001b[1;31mTypeError\u001b[0m                                 Traceback (most recent call last)",
      "\u001b[1;32m<ipython-input-19-f6c55a317884>\u001b[0m in \u001b[0;36m<module>\u001b[1;34m()\u001b[0m\n\u001b[0;32m      2\u001b[0m         \u001b[1;32mfor\u001b[0m \u001b[0mtxpnt\u001b[0m \u001b[1;32min\u001b[0m \u001b[0mtxpnts\u001b[0m\u001b[1;33m:\u001b[0m\u001b[1;33m\u001b[0m\u001b[0m\n\u001b[0;32m      3\u001b[0m             \u001b[1;31m#print(f'TXGUID {txpnt[0]}')\u001b[0m\u001b[1;33m\u001b[0m\u001b[1;33m\u001b[0m\u001b[0m\n\u001b[1;32m----> 4\u001b[1;33m             \u001b[0mgetSvcPnts\u001b[0m\u001b[1;33m(\u001b[0m\u001b[0mtxpnt\u001b[0m\u001b[1;33m[\u001b[0m\u001b[1;36m0\u001b[0m\u001b[1;33m]\u001b[0m\u001b[1;33m)\u001b[0m\u001b[1;33m\u001b[0m\u001b[0m\n\u001b[0m\u001b[0;32m      5\u001b[0m                 \u001b[1;31m#whereClause = f'eTransformer_GlobalID = {txpnt[0]}'\u001b[0m\u001b[1;33m\u001b[0m\u001b[1;33m\u001b[0m\u001b[0m\n\u001b[0;32m      6\u001b[0m                 \u001b[1;31m#whereClause = \"SERVICEPOINTOBJECTID = {}\".format(svcpnt[0])\u001b[0m\u001b[1;33m\u001b[0m\u001b[1;33m\u001b[0m\u001b[0m\n",
      "\u001b[1;32m<ipython-input-5-1aa77c1799d1>\u001b[0m in \u001b[0;36mgetSvcPnts\u001b[1;34m(txGUID)\u001b[0m\n\u001b[0;32m      4\u001b[0m         \u001b[1;32mfor\u001b[0m \u001b[0msvcPnt\u001b[0m \u001b[1;32min\u001b[0m \u001b[0msvcPnts\u001b[0m\u001b[1;33m:\u001b[0m\u001b[1;33m\u001b[0m\u001b[0m\n\u001b[0;32m      5\u001b[0m             \u001b[1;31m#print(f'svcPntGUID {svcPnt[0]}')\u001b[0m\u001b[1;33m\u001b[0m\u001b[1;33m\u001b[0m\u001b[0m\n\u001b[1;32m----> 6\u001b[1;33m             \u001b[0mgetCustAcct\u001b[0m\u001b[1;33m(\u001b[0m\u001b[0msvcPnt\u001b[0m\u001b[1;33m[\u001b[0m\u001b[1;36m0\u001b[0m\u001b[1;33m]\u001b[0m\u001b[1;33m)\u001b[0m\u001b[1;33m\u001b[0m\u001b[0m\n\u001b[0m",
      "\u001b[1;32m<ipython-input-18-92418af34470>\u001b[0m in \u001b[0;36mgetCustAcct\u001b[1;34m(svcPntGUID)\u001b[0m\n\u001b[0;32m     19\u001b[0m                 \u001b[0mprint\u001b[0m\u001b[1;33m(\u001b[0m\u001b[1;34mf'Sum of kwd {kwdSum}'\u001b[0m\u001b[1;33m)\u001b[0m\u001b[1;33m\u001b[0m\u001b[0m\n\u001b[0;32m     20\u001b[0m             \u001b[0m_cf\u001b[0m \u001b[1;33m=\u001b[0m \u001b[0mgetCF\u001b[0m\u001b[1;33m(\u001b[0m\u001b[0mcount\u001b[0m\u001b[1;33m)\u001b[0m\u001b[1;33m\u001b[0m\u001b[0m\n\u001b[1;32m---> 21\u001b[1;33m             \u001b[0mreccomendKVA\u001b[0m \u001b[1;33m=\u001b[0m \u001b[0mkwdSum\u001b[0m\u001b[1;33m*\u001b[0m\u001b[0m_cf\u001b[0m\u001b[1;33m\u001b[0m\u001b[0m\n\u001b[0m\u001b[0;32m     22\u001b[0m             \u001b[0mprint\u001b[0m\u001b[1;33m(\u001b[0m\u001b[1;34mf'replace with {reccomendKVA}kva'\u001b[0m\u001b[1;33m)\u001b[0m\u001b[1;33m\u001b[0m\u001b[0m\n\u001b[0;32m     23\u001b[0m \u001b[1;33m\u001b[0m\u001b[0m\n",
      "\u001b[1;31mTypeError\u001b[0m: unsupported operand type(s) for *: 'int' and 'NoneType'"
     ]
    }
   ],
   "source": [
    "with arcpy.da.SearchCursor(txDest,txFlds) as txpnts:\n",
    "        for txpnt in txpnts:\n",
    "            #print(f'TXGUID {txpnt[0]}')\n",
    "            getSvcPnts(txpnt[0])\n",
    "                #whereClause = f'eTransformer_GlobalID = {txpnt[0]}'\n",
    "                #whereClause = \"SERVICEPOINTOBJECTID = {}\".format(svcpnt[0])\n",
    "                #print(whereClause,svcpnt[1])\n",
    "                #with arcpy.da.UpdateCursor(custAcctDest,custAcctDestFlds,whereClause) as uc:\n",
    "                    #print(row)\n",
    "                    #for row in uc:\n",
    "                            #row[1] = svcpnt[1]\n",
    "                            #row[2] = svcpnt[2]\n",
    "                            #row[3] = getPhaseDesignation(svcpnt[3])\n",
    "                            #uc.updateRow(row)"
   ]
  },
  {
   "cell_type": "code",
   "execution_count": null,
   "metadata": {},
   "outputs": [],
   "source": [
    "with arcpy.da.SearchCursor(svcPntDest,svcPntDestFlds) as svcpnts:\n",
    "        for svcpnt in svcpnts:\n",
    "                whereClause = f'SERVICEPOINTOBJECTID = {svcpnt[0]}'\n",
    "                #whereClause = \"SERVICEPOINTOBJECTID = {}\".format(svcpnt[0])\n",
    "                #print(whereClause,svcpnt[1])\n",
    "                with arcpy.da.UpdateCursor(custAcctDest,custAcctDestFlds,whereClause) as uc:\n",
    "                    #print(row)\n",
    "                    for row in uc:\n",
    "                            row[1] = svcpnt[1]\n",
    "                            row[2] = svcpnt[2]\n",
    "                            row[3] = getPhaseDesignation(svcpnt[3])\n",
    "                            uc.updateRow(row)"
   ]
  },
  {
   "cell_type": "code",
   "execution_count": null,
   "metadata": {},
   "outputs": [],
   "source": [
    "edit.stopOperation()\n",
    "edit.stopEditing(True)"
   ]
  },
  {
   "cell_type": "markdown",
   "metadata": {},
   "source": [
    "### Use numpy and pandas to export to CSV\n",
    "\n",
    "Use arcpy [```TableToNumPyArray()```](http://pro.arcgis.com/en/pro-app/arcpy/data-access/tabletonumpyarray.htm)\n",
    "See also [Working with numpy in ArcGIS](http://pro.arcgis.com/en/pro-app/arcpy/get-started/working-with-numpy-in-arcgis.htm)"
   ]
  },
  {
   "cell_type": "code",
   "execution_count": null,
   "metadata": {},
   "outputs": [],
   "source": [
    "nparr = arcpy.da.TableToNumPyArray(custAcctDest,custAcctOutFlds,skip_nulls=True)\n",
    "#nparr = arcpy.da.TableToNumPyArray(custAcctDest,custAcctOutFlds,null_value=-9999)\n",
    "pdarr = pd.DataFrame(nparr)\n",
    "pdarr.to_csv(custAcctFile,header=False, index=False)"
   ]
  },
  {
   "cell_type": "markdown",
   "metadata": {},
   "source": [
    "TODO - write file to \\\\gruadmin.gru.com\\fs\\Groups\\OMS Replacement Project\\Documents for OSII\\Customer and Premise Files"
   ]
  },
  {
   "cell_type": "markdown",
   "metadata": {},
   "source": [
    "Ready new numpy array for consumption analysis"
   ]
  },
  {
   "cell_type": "code",
   "execution_count": null,
   "metadata": {},
   "outputs": [],
   "source": [
    "nparr = arcpy.da.TableToNumPyArray(custAcctDest,[\"SERVICEPOINTOBJECTID\",\"POINT_X\",\"POINT_Y\",\"AVGCONSUMPTION\",\"MAXCONSUMPTION\"],skip_nulls=True)"
   ]
  },
  {
   "cell_type": "code",
   "execution_count": null,
   "metadata": {},
   "outputs": [],
   "source": [
    "df = pd.DataFrame(nparr)\n",
    "df.head()"
   ]
  },
  {
   "cell_type": "markdown",
   "metadata": {},
   "source": [
    "[```gis.features.SpatialDataFrame()```](https://esri.github.io/arcgis-python-api/apidoc/html/arcgis.features.toc.html?highlight=spatialdataframe#arcgis.features.SpatialDataFrame.from_xy)"
   ]
  },
  {
   "cell_type": "code",
   "execution_count": null,
   "metadata": {},
   "outputs": [],
   "source": [
    "from arcgis.features import SpatialDataFrame\n",
    "from arcgis.gis import GIS\n",
    "from getpass import getpass\n",
    "from IPython.display import display"
   ]
  },
  {
   "cell_type": "code",
   "execution_count": null,
   "metadata": {},
   "outputs": [],
   "source": [
    "sdf = SpatialDataFrame.from_xy(df,\"POINT_X\",\"POINT_Y\")\n",
    "gis = GIS(arcpy.GetActivePortalURL(), username=input(\"Enter User Name \"), password=(getpass()))\n",
    "#gis = GIS()\n",
    "#portalDesc = arcpy.GetPortalDescription()\n",
    "# search and list all items owned by connected user\n",
    "#query=f'owner:{portalDesc[\"user\"][\"username\"]} AND title:CW BaseMap'\n",
    "#itemType=\"Feature Layer\"\n",
    "#sortField=\"title\"\n",
    "#sortOrder=\"asc\"\n",
    "# default max__items is 10\n",
    "#maxItems=100\n",
    "#m = gis.content.search(query,itemType,sortField,sortOrder,maxItems)"
   ]
  },
  {
   "cell_type": "code",
   "execution_count": null,
   "metadata": {},
   "outputs": [],
   "source": [
    "#consumptionLyr = gis.content.import_data(sdf)"
   ]
  },
  {
   "cell_type": "code",
   "execution_count": null,
   "metadata": {},
   "outputs": [],
   "source": [
    "m = gis.map('Gainesville,FL')"
   ]
  },
  {
   "cell_type": "code",
   "execution_count": null,
   "metadata": {},
   "outputs": [],
   "source": [
    "m.add_layer(sdf,options={\"renderer\":\"ClassedSizeRenderer\",\"field_name\":\"MAXCONSUMPTION\"})"
   ]
  },
  {
   "cell_type": "code",
   "execution_count": null,
   "metadata": {},
   "outputs": [],
   "source": [
    "#m.add_layer(consumptionLyr,options={\"renderer\":\"ClassedSizeRenderer\",\"field_name\":\"MAXCONSUMPTION\"})"
   ]
  },
  {
   "cell_type": "code",
   "execution_count": null,
   "metadata": {},
   "outputs": [],
   "source": [
    "m"
   ]
  }
 ],
 "metadata": {
  "kernelspec": {
   "display_name": "Python 3",
   "language": "python",
   "name": "python3"
  },
  "language_info": {
   "codemirror_mode": {
    "name": "ipython",
    "version": 3
   },
   "file_extension": ".py",
   "mimetype": "text/x-python",
   "name": "python",
   "nbconvert_exporter": "python",
   "pygments_lexer": "ipython3",
   "version": "3.6.5"
  }
 },
 "nbformat": 4,
 "nbformat_minor": 2
}
