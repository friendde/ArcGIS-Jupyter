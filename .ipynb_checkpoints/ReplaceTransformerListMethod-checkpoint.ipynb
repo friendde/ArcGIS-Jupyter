{
 "cells": [
  {
   "cell_type": "markdown",
   "metadata": {},
   "source": [
    "### This Notebook will use a formula to determine the reccomended KVA for a transformer when it is replaced\n",
    "The formula uses customer count and customer consumption history downsteam of each transformer. When Electric Trouble Crews replace a transformer the reccomended size will be available when an Engineer is not (for example after hours or weekends). This will help ensure the right size transformer is used based on consumption history, and not merley just a replacement that could be under-sized or over-sized.\n",
    "\n",
    "The second half of the Notebook explores the electric consumption data with a [SpatialDataFrame](https://esri.github.io/arcgis-python-api/apidoc/html/arcgis.features.toc.html?highlight=spatialdataframe#spatialdataframe) using the customers table modifed in the first half.\n"
   ]
  },
  {
   "cell_type": "code",
   "execution_count": null,
   "metadata": {},
   "outputs": [],
   "source": []
  },
  {
   "cell_type": "code",
   "execution_count": null,
   "metadata": {},
   "outputs": [],
   "source": [
    "import arcpy\n",
    "import time\n",
    "#import numpy\n",
    "#import pandas as pd\n",
    "from datetime import datetime"
   ]
  },
  {
   "cell_type": "code",
   "execution_count": null,
   "metadata": {},
   "outputs": [],
   "source": [
    "gdb = r\"C:\\Users\\friendde\\Documents\\ArcGIS\\Projects\\ReplaceKVA\\ReplaceKVA.gdb\"\n",
    "txSource = r\"C:\\GISData\\Data\\Snapshot\\mxElectric.geodatabase\\Electric\\main.eTransformerBank\"\n",
    "txDest = r\"C:\\Users\\friendde\\Documents\\ArcGIS\\Projects\\ReplaceKVA\\ReplaceKVA.gdb\\Electric\\eTransformerBank\"\n",
    "svcPntDest = r\"C:\\Users\\friendde\\Documents\\ArcGIS\\Projects\\ReplaceKVA\\ReplaceKVA.gdb\\Electric\\eServicePoint\"\n",
    "custAcctSource = r\"C:\\GISData\\Data\\Snapshot\\mxElectric.geodatabase\\main.eCUSTOMERACCOUNT\"\n",
    "custAcctDest = r\"C:\\Users\\friendde\\Documents\\ArcGIS\\Projects\\ReplaceKVA\\ReplaceKVA.gdb\\eCUSTOMERACCOUNT\"\n",
    "txAddFlds = [\"kWDSum\",\"CF\",\"kWDSumXCF\",\"kWDSumXCF_A\",\"kWDSumXCF_B\",\"kWDSumXCF_C\"]\n",
    "txFlds = [\"OID@\",\"GLOBALID\",\"kWDSum\",\"CF\",\"kWDSumXCF\",\"CUSTOMERCOUNT\",\"MAXCUSTOMERCONSUMPTION_A\",\"MAXCUSTOMERCONSUMPTION_B\",\\\n",
    "          \"MAXCUSTOMERCONSUMPTION_C\",\"DEVICEID\",\"FEEDERID\",\"FEEDERID2\",\"INSTALLATIONDATE\",\"PHASEDESIGNATION\",\"SUBTYPE\",\\\n",
    "          \"RATEDKVA_A\",\"RATEDKVA_B\",\"RATEDKVA_C\",\"STRUCTUREID\",\"FACILITYID\",\"AVGCUSTOMERCONSUMPTION_A\",\"AVGCUSTOMERCONSUMPTION_B\",\"AVGCUSTOMERCONSUMPTION_C\",\"PURPOSE\",\"STREETADDRESS\",\"eSupportStructure_GlobalID\",\"eSurfaceStructure_GlobalID\"]\n",
    "svcPntFlds = [\"OID@\",\"GLOBALID\",\"eTransformerBank_GLOBALID\",\"FEEDERID\",\"PHASEDESIGNATION\",\"SUBTYPE\",\"CUSTOMERCOUNT\",\"AVGCUSTOMERCONSUMPTION\",\"MAXCUSTOMERCONSUMPTION\",\"STREETADDRESS\",\"eSupportStructure_GLOBALID\"]\n",
    "custAcctFlds = [\"eServicePoint_GlobalID\",\"MAXCONSUMPTION\"]"
   ]
  },
  {
   "cell_type": "markdown",
   "metadata": {},
   "source": [
    "- For each customer downstream of a transformer, obtain Estimated Demand using summer or winter demand table, convert kwH (key) to kwD (value). \n",
    "- Sum the kwD for all customers downstream of the transformer\n",
    "- Determine the total number of customers downstream of the transformer (key) to obtain the coincidence factor (value).\n",
    "- Multiply coincidence factor by the sum of kwD\n",
    "- Result is minimum kvA transformer"
   ]
  },
  {
   "cell_type": "code",
   "execution_count": null,
   "metadata": {},
   "outputs": [],
   "source": [
    "summerPeak = False\n",
    "winterPeak = False\n",
    "if datetime.today().month >= 5 <= 9:\n",
    "    print(\"Using Summer Peak\")\n",
    "    summerPeak = True\n",
    "    estimatedDemand = {50:2.40,100:2.67,150:2.94,200:3.20,250:3.46,300:3.72,350:3.98,400:4.23,450:4.48,500:4.73,550:4.97,600:5.21,\n",
    "                    650:5.45,700:5.68,750:5.92,800:6.15,850:6.37,900:6.60,950:6.82,1000:7.03,1050:7.25,1100:7.46,1150:7.67,\n",
    "                    1200:7.88,1250:8.08,1300:8.28,1350:8.48,1400:8.67,1450:8.86,1500:9.05,1550:9.24,1600:9.42,1650:9.60,\n",
    "                    1700:9.78,1750:9.95,1800:10.12,1850:10.29,1900:10.46,1950:10.62,2000:10.78,2050:10.94,2100:11.10,2150:11.26,\n",
    "                    2200:11.41,2250:11.57,2300:11.73,2350:11.89,2400:12.05,2450:12.21,2500:2.36,2550:2.52,2600:12.68,2650:12.84,\n",
    "                    2700:13.00,2750:13.16,2800:13.31,2850:13.47,2900:13.63,2950:13.79,3000:13.95}\n",
    "else:\n",
    "    print(\"Using Winter Peak\")\n",
    "    winterPeak = True\n",
    "    estimatedDemand = {50:1.97,100:2.33,150:2.69,200:3.05,250:3.41,300:3.76,350:4.11,400:4.45,450:4.80,500:5.14,550:5.48,\n",
    "                       600:5.82,650:6.15,700:6.49,750:6.82,800:7.14,850:7.47,900:7.79,950:8.11,1000:8.43,1050:8.74,1100:9.05,\n",
    "                       1150:9.36,1200:9.67,1250:9.97,1300:10.27,1350:10.57,1400:10.87,1450:11.16,1500:11.45,1550:11.74,1600:12.03,\n",
    "                       1650:12.31,1700:12.60,1750:12.87,1800:13.15,1850:13.42,1900:13.70,1950:13.96,2000:14.23,2050:14.45,\n",
    "                       2100:14.68,2150:14.90,2200:15.13,2250:15.35,2300:15.58,2350:15.80,2400:16.03,2450:16.25,2500:16.48,\n",
    "                       2550:16.70,2600:16.93,2650:17.15,2700:17.38,2750:17.60,2800:17.83,2850:18.05,2900:18.28,2950:18.50,\n",
    "                       3000:18.73}\n",
    "\n",
    "# coincidence factor\n",
    "cf = {1:1.0,2:0.85,3:0.74,4:0.66,5:0.61,6:0.57,7:0.54,8:0.52,9:0.5,10:0.49,11:0.47,12:0.46,13:0.45,14:0.43,15:0.42,16:0.41,\n",
    "      17:0.39,18:0.38,19:0.38,20:0.37}\n"
   ]
  },
  {
   "cell_type": "code",
   "execution_count": null,
   "metadata": {},
   "outputs": [],
   "source": [
    "arcpy.env.workspace = gdb\n",
    "arcpy.env.overwriteOutput = True"
   ]
  },
  {
   "cell_type": "markdown",
   "metadata": {},
   "source": [
    "In our dataset transformers are 1-N to service points. And service points are 1-N to customers. We do this to model meter banks and minimize clutter on the map. \n",
    "\n",
    "- sumSvcPnts finds each service point related to the transformer. Then finds each customer related to the service point\n"
   ]
  },
  {
   "cell_type": "code",
   "execution_count": null,
   "metadata": {},
   "outputs": [],
   "source": [
    "def sumSvcPnts(_OID,_GID):\n",
    "    kwhConsumption = 0\n",
    "    customerCount = 0\n",
    "    kwdConsumption = 0\n",
    "    cf = 0\n",
    "    kva = 0\n",
    "    svcGUID = []\n",
    "    meterConsumption = []\n",
    "    customers = []\n",
    "    kwdCon = []\n",
    "    custCountGUID = 0\n",
    "    svcPntCount = 0\n",
    "    svcSum = 0\n",
    "    nl = '\\n'\n",
    "    t = '\\t'\n",
    "    # create a list of all service points related to transformer\n",
    "    with arcpy.da.SearchCursor(svcPntDest,svcPntFlds,f\"eTransformerBank_GLOBALID = '{_GID}'\") as svcPnts:\n",
    "        for svcPnt in svcPnts:\n",
    "            #print(f'Found svcPnt GUID {svcPnt[1]} related to eTransformerBank_GLOBALID = {svcPnt[2]}')\n",
    "            svcGUID.append(svcPnt[1])\n",
    "    svcPntCount = len(svcGUID)\n",
    "    #print(svcPntCount)\n",
    "    #for each service point related to the transformer find the related customer consumption\n",
    "    for guid in svcGUID:\n",
    "        kwhConsumption,customerCount,kwdConsumption = getConsumption(guid)\n",
    "        meterConsumption.append(kwhConsumption)\n",
    "        customers.append(customerCount)\n",
    "        kwdCon.append(kwdConsumption)\n",
    "        sum_meterConsumption = sum(meterConsumption)\n",
    "        sum_customerCount = sum(customers)\n",
    "        sum_kwdConsumption = sum(kwdCon)\n",
    "        if sum_customerCount > 0:\n",
    "            cf = getCF(sum_customerCount)\n",
    "            kva = cf * sum_kwdConsumption\n",
    "        #print(f'txGUID:{_GID}{nl}{t}{svcPntCount} meters related{nl}{t}{sum_customerCount} customers{nl}{t}total kwh: {sum_meterConsumption}{nl}{t}total kwd: {sum_kwdConsumption}{nl}{t}CF:{cf}{nl}{t}Recommended KVA:{kva} ')\n",
    "        updateTx(_GID,sum_kwdConsumption,cf,kva,sum_customerCount)"
   ]
  },
  {
   "cell_type": "code",
   "execution_count": null,
   "metadata": {},
   "outputs": [],
   "source": [
    "def getConsumption(svcPntGUID): \n",
    "    kwh = []\n",
    "    kwd = []\n",
    "    with arcpy.da.SearchCursor(custAcctDest,custAcctFlds,f\"eServicePoint_GlobalID = '{svcPntGUID}'\") as custAccts:\n",
    "        for custAcct in custAccts:\n",
    "            kwh.append(custAcct[1])\n",
    "            KWD = getKWD(custAcct[1])\n",
    "            if KWD is None:\n",
    "                KWD = calcKWD((custAcct[1]))\n",
    "                kwd.append(KWD)\n",
    "            else:\n",
    "                kwd.append(KWD)\n",
    "    #print(f'kwh: {kwh}')\n",
    "    #print(f'kwd: {kwd}')\n",
    "    lenKWH = len(kwh)\n",
    "    sumKWH = sum(kwh)\n",
    "    sumKWD = sum(kwd)\n",
    "    #print(f'sum of kwh: {sumKWH}')\n",
    "    #print(f'length of kwh.append: {lenKWH}')\n",
    "    #print(f'sum of kwd: {sumKWD}')\n",
    "    return sumKWH,lenKWH,sumKWD"
   ]
  },
  {
   "cell_type": "code",
   "execution_count": null,
   "metadata": {},
   "outputs": [],
   "source": [
    "#TODO use proper line continuation for long list\n",
    "def updateTx(GID,sumKWD,CF,recKVA,customers):\n",
    "    txUpdateFlds = [\"GLOBALID\",\"kWDSum\",\"CF\",\"kWDSumXCF\",\"CUSTOMERCOUNT\",\"MAXCUSTOMERCONSUMPTION_A\",\"MAXCUSTOMERCONSUMPTION_B\",\\\n",
    "                    \"MAXCUSTOMERCONSUMPTION_C\",\"DEVICEID\",\"PHASEDESIGNATION\",\\\n",
    "                    \"STRUCTUREID\",\"FACILITYID\"]\n",
    "    #viewTbl = \"tcview\"+str(int(time.time()))\n",
    "    txCon = []\n",
    "    txSum = 0\n",
    "    #arcpy.MakeTableView_management(txDest,viewTbl,where_clause=f\"GLOBALID = '{GID}'\",workspace=gdb)\n",
    "    #if int(arcpy.GetCount_management(viewTbl).getOutput(0)) == 1:\n",
    "    with arcpy.da.UpdateCursor(txDest,txUpdateFlds,f\"GLOBALID = '{GID}'\") as txPnts:\n",
    "        #print(f'Updating eTransformerBank_GLOBALID = \"{GID}\"')\n",
    "        for txPnt in txPnts:\n",
    "            txPnt[1] = sumKWD\n",
    "            txPnt[2] = CF\n",
    "            txPnt[3] = recKVA\n",
    "            txPnt[4] = customers\n",
    "            txPnts.updateRow(txPnt)"
   ]
  },
  {
   "cell_type": "code",
   "execution_count": null,
   "metadata": {},
   "outputs": [],
   "source": [
    "def getKWD(consumption):\n",
    "    for key in sorted(estimatedDemand.keys()):\n",
    "        if consumption <= key:\n",
    "            #print(key, estimatedDemand[key])\n",
    "            return estimatedDemand[key]\n",
    "#TODO verify if * is needed\n",
    "def calcKWD(consumption):\n",
    "    if summerPeak: \n",
    "        #print(f'Using Summer Peak')\n",
    "        return 13.95+0.0025*(consumption-3000) \n",
    "    if winterPeak:\n",
    "        #print(f'Using Winter Peak')\n",
    "        return 18.70+0.0027*(consumption-3000)\n",
    "def getCF(custCount):\n",
    "    for key in sorted(cf.keys()):\n",
    "        if custCount == key:\n",
    "            #print(key, cf[key])\n",
    "            return cf[key]\n",
    "        if custCount >= 20:\n",
    "            return .37"
   ]
  },
  {
   "cell_type": "code",
   "execution_count": null,
   "metadata": {},
   "outputs": [],
   "source": [
    "tblList = arcpy.ListTables()\n",
    "for tbl in tblList:\n",
    "    print(f'Deleting {tbl}')\n",
    "    arcpy.Delete_management(tbl)\n",
    "fdsList = arcpy.ListDatasets()\n",
    "for fds in fdsList:\n",
    "    print(f'Deleting {fds}')\n",
    "    arcpy.Delete_management(fds)"
   ]
  },
  {
   "cell_type": "code",
   "execution_count": null,
   "metadata": {
    "scrolled": true
   },
   "outputs": [],
   "source": [
    "print(f'Copying custAcctSource to custAcctDest')\n",
    "arcpy.Copy_management(custAcctSource,custAcctDest)\n",
    "for fld in txAddFlds:\n",
    "    print(f'Adding {fld} in {txDest}')\n",
    "    arcpy.AddField_management(txDest,fld,\"DOUBLE\")"
   ]
  },
  {
   "cell_type": "code",
   "execution_count": null,
   "metadata": {},
   "outputs": [],
   "source": [
    "txMaxFlds = [\"MAXCUSTOMERCONSUMPTION_A\",\"MAXCUSTOMERCONSUMPTION_B\",\"MAXCUSTOMERCONSUMPTION_C\"]\n",
    "for txMaxFld in txMaxFlds:\n",
    "    print(f'Resetting {txMaxFld} in  to Zero {txDest}')\n",
    "    arcpy.CalculateField_management(txDest,txMaxFld,0)\n",
    "print(f'Calc MaxCustCon to Zero in svcPntDest')\n",
    "arcpy.CalculateField_management(svcPntDest,\"MAXCUSTOMERCONSUMPTION\",0)"
   ]
  },
  {
   "cell_type": "code",
   "execution_count": null,
   "metadata": {},
   "outputs": [],
   "source": [
    "print('Calc MaxCon to Zero if None in custAcctDest')\n",
    "expression = \"setZero(!MAXCONSUMPTION!)\"\n",
    "codeblock = \"\"\"\n",
    "def setZero(maxcon):\n",
    "    if maxcon is None:\n",
    "        return 0\n",
    "    else:\n",
    "        return maxcon\"\"\"\n",
    "arcpy.CalculateField_management(custAcctDest,\"MAXCONSUMPTION\",expression,\"PYTHON3\",codeblock)"
   ]
  },
  {
   "cell_type": "code",
   "execution_count": null,
   "metadata": {},
   "outputs": [],
   "source": [
    "edit = arcpy.da.Editor(gdb)\n",
    "edit.startEditing(False, False)\n",
    "edit.startOperation()"
   ]
  },
  {
   "cell_type": "code",
   "execution_count": null,
   "metadata": {},
   "outputs": [],
   "source": [
    "#with arcpy.da.SearchCursor(txDest,txFlds,where_clause=\"GLOBALID = '{14341799-1A68-491E-9E13-7C619ACBAEC5}'\") as txPnts:\n",
    "with arcpy.da.SearchCursor(txDest,txFlds) as txPnts:\n",
    "        for txPnt in txPnts:\n",
    "            count = 0 \n",
    "            kwh = [] \n",
    "            kwhSum = 0\n",
    "            #print(f'DeviceID: {txPnt[9]} A:{txPnt[15]} B:{txPnt[16]} C:{txPnt[17]}')\n",
    "            sumSvcPnts(txPnt[0],txPnt[1])\n",
    "            #kwhSum = sumSvcPnts(txPnt[0],txPnt[1])\n",
    "            #print(f\"kwh sum: {kwhSum}\")"
   ]
  },
  {
   "cell_type": "code",
   "execution_count": null,
   "metadata": {},
   "outputs": [],
   "source": [
    "edit.stopOperation()\n",
    "edit.stopEditing(True)\n",
    "\n",
    "\n",
    "# ### Use numpy and pandas to export to CSV\n",
    "# \n",
    "# Use arcpy [```TableToNumPyArray()```](http://pro.arcgis.com/en/pro-app/arcpy/data-access/tabletonumpyarray.htm)\n",
    "# See also [Working with numpy in ArcGIS](http://pro.arcgis.com/en/pro-app/arcpy/get-started/working-with-numpy-in-arcgis.htm)\n",
    "\n",
    "# nparr = arcpy.da.TableToNumPyArray(custAcctDest,custAcctOutFlds,skip_nulls=True)\n",
    "# #nparr = arcpy.da.TableToNumPyArray(custAcctDest,custAcctOutFlds,null_value=-9999)\n",
    "# pdarr = pd.DataFrame(nparr)\n",
    "# pdarr.to_csv(custAcctFile,header=False, index=False)\n",
    "\n",
    "# TODO - write file to \\\\gruadmin.gru.com\\fs\\Groups\\OMS Replacement Project\\Documents for OSII\\Customer and Premise Files\n",
    "\n",
    "# Ready new numpy array for consumption analysis\n",
    "\n",
    "# nparr = arcpy.da.TableToNumPyArray(custAcctDest,[\"SERVICEPOINTOBJECTID\",\"POINT_X\",\"POINT_Y\",\"AVGCONSUMPTION\",\"MAXCONSUMPTION\"],skip_nulls=True)\n",
    "\n",
    "# df = pd.DataFrame(nparr)\n",
    "# df.head()\n",
    "\n",
    "# [```gis.features.SpatialDataFrame()```](https://esri.github.io/arcgis-python-api/apidoc/html/arcgis.features.toc.html?highlight=spatialdataframe#arcgis.features.SpatialDataFrame.from_xy)\n",
    "\n",
    "# from arcgis.features import SpatialDataFrame\n",
    "# from arcgis.gis import GIS\n",
    "# from getpass import getpass\n",
    "# from IPython.display import display\n",
    "\n",
    "# sdf = SpatialDataFrame.from_xy(df,\"POINT_X\",\"POINT_Y\")\n",
    "# gis = GIS(arcpy.GetActivePortalURL(), username=input(\"Enter User Name \"), password=(getpass()))\n",
    "# #gis = GIS()\n",
    "# #portalDesc = arcpy.GetPortalDescription()\n",
    "# # search and list all items owned by connected user\n",
    "# #query=f'owner:{portalDesc[\"user\"][\"username\"]} AND title:CW BaseMap'\n",
    "# #itemType=\"Feature Layer\"\n",
    "# #sortField=\"title\"\n",
    "# #sortOrder=\"asc\"\n",
    "# # default max__items is 10\n",
    "# #maxItems=100\n",
    "# #m = gis.content.search(query,itemType,sortField,sortOrder,maxItems)\n",
    "\n",
    "# #consumptionLyr = gis.content.import_data(sdf)\n",
    "\n",
    "# m = gis.map('Gainesville,FL')\n",
    "\n",
    "# m.add_layer(sdf,options={\"renderer\":\"ClassedSizeRenderer\",\"field_name\":\"MAXCONSUMPTION\"})\n",
    "\n",
    "# #m.add_layer(consumptionLyr,options={\"renderer\":\"ClassedSizeRenderer\",\"field_name\":\"MAXCONSUMPTION\"})\n",
    "\n",
    "# m\n"
   ]
  },
  {
   "cell_type": "code",
   "execution_count": null,
   "metadata": {},
   "outputs": [],
   "source": []
  }
 ],
 "metadata": {
  "kernelspec": {
   "display_name": "Python 3",
   "language": "python",
   "name": "python3"
  },
  "language_info": {
   "codemirror_mode": {
    "name": "ipython",
    "version": 3
   },
   "file_extension": ".py",
   "mimetype": "text/x-python",
   "name": "python",
   "nbconvert_exporter": "python",
   "pygments_lexer": "ipython3",
   "version": "3.6.6"
  }
 },
 "nbformat": 4,
 "nbformat_minor": 2
}
