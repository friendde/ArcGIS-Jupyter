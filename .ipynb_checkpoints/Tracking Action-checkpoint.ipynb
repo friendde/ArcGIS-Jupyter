{
 "cells": [
  {
   "cell_type": "markdown",
   "metadata": {},
   "source": [
    "GOAL: analyze OMS data"
   ]
  },
  {
   "cell_type": "code",
   "execution_count": 1,
   "metadata": {},
   "outputs": [],
   "source": [
    "import arcpy\n",
    "import os\n",
    "import pandas as pd\n",
    "import numpy as np"
   ]
  },
  {
   "cell_type": "code",
   "execution_count": 2,
   "metadata": {},
   "outputs": [
    {
     "data": {
      "text/html": [
       "<div>\n",
       "<style scoped>\n",
       "    .dataframe tbody tr th:only-of-type {\n",
       "        vertical-align: middle;\n",
       "    }\n",
       "\n",
       "    .dataframe tbody tr th {\n",
       "        vertical-align: top;\n",
       "    }\n",
       "\n",
       "    .dataframe thead th {\n",
       "        text-align: right;\n",
       "    }\n",
       "</style>\n",
       "<table border=\"1\" class=\"dataframe\">\n",
       "  <thead>\n",
       "    <tr style=\"text-align: right;\">\n",
       "      <th></th>\n",
       "      <th>FACILITY_ID</th>\n",
       "      <th>CIRCUIT</th>\n",
       "      <th>DEV_TYPE</th>\n",
       "      <th>SUBTYPE</th>\n",
       "      <th>INCIDENT_ID</th>\n",
       "      <th>CountOfFACILITY_ID</th>\n",
       "      <th>CAUSE_DESCR</th>\n",
       "      <th>OUTAGE_TIME</th>\n",
       "      <th>CONFIG</th>\n",
       "      <th>CI</th>\n",
       "      <th>INVESTIGATED</th>\n",
       "      <th>Append Date</th>\n",
       "      <th>MONTH REPEATER</th>\n",
       "      <th>YEAR REPEATER</th>\n",
       "      <th>EAST/WEST</th>\n",
       "      <th>NOTES</th>\n",
       "      <th>ASSIGNED PERSON</th>\n",
       "      <th>ACTION TAKEN</th>\n",
       "      <th>COMPLETED</th>\n",
       "      <th>COMPLETED DATE</th>\n",
       "    </tr>\n",
       "  </thead>\n",
       "  <tbody>\n",
       "    <tr>\n",
       "      <th>0</th>\n",
       "      <td>34468-NONE40481</td>\n",
       "      <td>1433</td>\n",
       "      <td>Fuse</td>\n",
       "      <td>Cutout</td>\n",
       "      <td>341566</td>\n",
       "      <td>3</td>\n",
       "      <td>Unknown</td>\n",
       "      <td>2017-11-21 18:48:38.370</td>\n",
       "      <td>OH</td>\n",
       "      <td>16</td>\n",
       "      <td>False</td>\n",
       "      <td>2018-08-28</td>\n",
       "      <td>False</td>\n",
       "      <td>True</td>\n",
       "      <td>E</td>\n",
       "      <td>NaN</td>\n",
       "      <td>NaN</td>\n",
       "      <td>NaN</td>\n",
       "      <td>False</td>\n",
       "      <td>NaT</td>\n",
       "    </tr>\n",
       "    <tr>\n",
       "      <th>1</th>\n",
       "      <td>30576-NONE1161</td>\n",
       "      <td>205</td>\n",
       "      <td>Fuse</td>\n",
       "      <td>Cutout</td>\n",
       "      <td>353640</td>\n",
       "      <td>2</td>\n",
       "      <td>Weather Lighting</td>\n",
       "      <td>2018-07-18 16:49:49.000</td>\n",
       "      <td>OH</td>\n",
       "      <td>2</td>\n",
       "      <td>True</td>\n",
       "      <td>2018-08-02</td>\n",
       "      <td>True</td>\n",
       "      <td>False</td>\n",
       "      <td>E</td>\n",
       "      <td>Patrol needed</td>\n",
       "      <td>OSMAN, DANY, KRIS</td>\n",
       "      <td>Patrolled. No action taken.</td>\n",
       "      <td>True</td>\n",
       "      <td>2018-08-20</td>\n",
       "    </tr>\n",
       "  </tbody>\n",
       "</table>\n",
       "</div>"
      ],
      "text/plain": [
       "       FACILITY_ID  CIRCUIT DEV_TYPE SUBTYPE  INCIDENT_ID  CountOfFACILITY_ID       CAUSE_DESCR             OUTAGE_TIME CONFIG  CI  INVESTIGATED Append Date  MONTH REPEATER  YEAR REPEATER EAST/WEST          NOTES    ASSIGNED PERSON                 ACTION TAKEN  COMPLETED COMPLETED DATE\n",
       "0  34468-NONE40481     1433     Fuse  Cutout       341566                   3           Unknown 2017-11-21 18:48:38.370     OH  16         False  2018-08-28           False           True         E            NaN                NaN                          NaN      False            NaT\n",
       "1   30576-NONE1161      205     Fuse  Cutout       353640                   2  Weather Lighting 2018-07-18 16:49:49.000     OH   2          True  2018-08-02            True          False         E  Patrol needed  OSMAN, DANY, KRIS  Patrolled. No action taken.       True     2018-08-20"
      ]
     },
     "execution_count": 2,
     "metadata": {},
     "output_type": "execute_result"
    }
   ],
   "source": [
    "df = pd.read_excel('TRACKINGACTION.xlsx')\n",
    "df.head(2)"
   ]
  },
  {
   "cell_type": "markdown",
   "metadata": {},
   "source": [
    "df.columns"
   ]
  },
  {
   "cell_type": "markdown",
   "metadata": {},
   "source": [
    "df.dtypes"
   ]
  },
  {
   "cell_type": "markdown",
   "metadata": {},
   "source": [
    "df2['timestamp'] = pd.Timestamp('20120101')"
   ]
  },
  {
   "cell_type": "code",
   "execution_count": 3,
   "metadata": {},
   "outputs": [],
   "source": [
    "dateList = list(df.select_dtypes(include=['datetime64']).columns)\n",
    "for dcol in dateList:\n",
    "    df[dcol] = [d.strftime('%Y-%m-%d') if not pd.isnull(d) else '' for d in df[dcol]]"
   ]
  },
  {
   "cell_type": "code",
   "execution_count": 4,
   "metadata": {},
   "outputs": [],
   "source": [
    "boolList = list(df.select_dtypes(include=['bool']).columns)\n",
    "for bcol in boolList:\n",
    "    df[bcol] = ['Yes' if d == 1 else 'No' for d in df[bcol]]"
   ]
  },
  {
   "cell_type": "code",
   "execution_count": 5,
   "metadata": {},
   "outputs": [],
   "source": [
    "df1 = df.where((pd.notnull(df)), '')"
   ]
  },
  {
   "cell_type": "code",
   "execution_count": 6,
   "metadata": {},
   "outputs": [
    {
     "data": {
      "text/plain": [
       "Index(['FACILITY_ID', 'CIRCUIT', 'DEV_TYPE', 'SUBTYPE', 'INCIDENT_ID', 'CountOfFACILITY_ID', 'CAUSE_DESCR', 'OUTAGE_TIME', 'CONFIG', 'CI', 'INVESTIGATED', 'Append_Date', 'MONTH_REPEATER', 'YEAR_REPEATER', 'EAST_WEST', 'NOTES', 'ASSIGNED_PERSON', 'ACTION_TAKEN', 'COMPLETED', 'COMPLETED_DATE', 'POINT_X', 'POINT_Y'], dtype='object')"
      ]
     },
     "execution_count": 6,
     "metadata": {},
     "output_type": "execute_result"
    }
   ],
   "source": [
    "invalidChars = ['/',' ']\n",
    "for char in invalidChars:\n",
    "    df1.columns = [x.strip().replace(char, '_') for x in df1.columns]\n",
    "df1['POINT_X'] = 0\n",
    "df1['POINT_Y'] = 0\n",
    "df1.columns"
   ]
  },
  {
   "cell_type": "code",
   "execution_count": 7,
   "metadata": {},
   "outputs": [
    {
     "data": {
      "text/html": [
       "<div>\n",
       "<style scoped>\n",
       "    .dataframe tbody tr th:only-of-type {\n",
       "        vertical-align: middle;\n",
       "    }\n",
       "\n",
       "    .dataframe tbody tr th {\n",
       "        vertical-align: top;\n",
       "    }\n",
       "\n",
       "    .dataframe thead th {\n",
       "        text-align: right;\n",
       "    }\n",
       "</style>\n",
       "<table border=\"1\" class=\"dataframe\">\n",
       "  <thead>\n",
       "    <tr style=\"text-align: right;\">\n",
       "      <th></th>\n",
       "      <th>FACILITY_ID</th>\n",
       "      <th>CIRCUIT</th>\n",
       "      <th>DEV_TYPE</th>\n",
       "      <th>SUBTYPE</th>\n",
       "      <th>INCIDENT_ID</th>\n",
       "      <th>CountOfFACILITY_ID</th>\n",
       "      <th>CAUSE_DESCR</th>\n",
       "      <th>OUTAGE_TIME</th>\n",
       "      <th>CONFIG</th>\n",
       "      <th>CI</th>\n",
       "      <th>...</th>\n",
       "      <th>MONTH_REPEATER</th>\n",
       "      <th>YEAR_REPEATER</th>\n",
       "      <th>EAST_WEST</th>\n",
       "      <th>NOTES</th>\n",
       "      <th>ASSIGNED_PERSON</th>\n",
       "      <th>ACTION_TAKEN</th>\n",
       "      <th>COMPLETED</th>\n",
       "      <th>COMPLETED_DATE</th>\n",
       "      <th>POINT_X</th>\n",
       "      <th>POINT_Y</th>\n",
       "    </tr>\n",
       "  </thead>\n",
       "  <tbody>\n",
       "    <tr>\n",
       "      <th>0</th>\n",
       "      <td>34468-NONE40481</td>\n",
       "      <td>1433</td>\n",
       "      <td>Fuse</td>\n",
       "      <td>Cutout</td>\n",
       "      <td>341566</td>\n",
       "      <td>3</td>\n",
       "      <td>Unknown</td>\n",
       "      <td>2017-11-21</td>\n",
       "      <td>OH</td>\n",
       "      <td>16</td>\n",
       "      <td>...</td>\n",
       "      <td>No</td>\n",
       "      <td>Yes</td>\n",
       "      <td>E</td>\n",
       "      <td></td>\n",
       "      <td></td>\n",
       "      <td></td>\n",
       "      <td>No</td>\n",
       "      <td></td>\n",
       "      <td>0</td>\n",
       "      <td>0</td>\n",
       "    </tr>\n",
       "    <tr>\n",
       "      <th>1</th>\n",
       "      <td>30576-NONE1161</td>\n",
       "      <td>205</td>\n",
       "      <td>Fuse</td>\n",
       "      <td>Cutout</td>\n",
       "      <td>353640</td>\n",
       "      <td>2</td>\n",
       "      <td>Weather Lighting</td>\n",
       "      <td>2018-07-18</td>\n",
       "      <td>OH</td>\n",
       "      <td>2</td>\n",
       "      <td>...</td>\n",
       "      <td>Yes</td>\n",
       "      <td>No</td>\n",
       "      <td>E</td>\n",
       "      <td>Patrol needed</td>\n",
       "      <td>OSMAN, DANY, KRIS</td>\n",
       "      <td>Patrolled. No action taken.</td>\n",
       "      <td>Yes</td>\n",
       "      <td>2018-08-20</td>\n",
       "      <td>0</td>\n",
       "      <td>0</td>\n",
       "    </tr>\n",
       "    <tr>\n",
       "      <th>2</th>\n",
       "      <td>30576-NONE1161</td>\n",
       "      <td>205</td>\n",
       "      <td>Fuse</td>\n",
       "      <td>Cutout</td>\n",
       "      <td>353841</td>\n",
       "      <td>2</td>\n",
       "      <td>Weather Lighting</td>\n",
       "      <td>2018-07-22</td>\n",
       "      <td>OH</td>\n",
       "      <td>2</td>\n",
       "      <td>...</td>\n",
       "      <td>Yes</td>\n",
       "      <td>No</td>\n",
       "      <td>E</td>\n",
       "      <td>Patrol needed</td>\n",
       "      <td>OSMAN, DANY, KRIS</td>\n",
       "      <td>Patrolled. No action taken.</td>\n",
       "      <td>Yes</td>\n",
       "      <td>2018-08-20</td>\n",
       "      <td>0</td>\n",
       "      <td>0</td>\n",
       "    </tr>\n",
       "    <tr>\n",
       "      <th>3</th>\n",
       "      <td>35404-FX595L0</td>\n",
       "      <td>550</td>\n",
       "      <td>Fuse</td>\n",
       "      <td>Cutout Terminating</td>\n",
       "      <td>353538</td>\n",
       "      <td>2</td>\n",
       "      <td>Equip Fail UG Primary</td>\n",
       "      <td>2018-07-16</td>\n",
       "      <td>UG</td>\n",
       "      <td>108</td>\n",
       "      <td>...</td>\n",
       "      <td>Yes</td>\n",
       "      <td>No</td>\n",
       "      <td>W</td>\n",
       "      <td>UG primary burnout same incident with the next one. Nothing to do</td>\n",
       "      <td></td>\n",
       "      <td></td>\n",
       "      <td>Yes</td>\n",
       "      <td>2018-08-13</td>\n",
       "      <td>0</td>\n",
       "      <td>0</td>\n",
       "    </tr>\n",
       "    <tr>\n",
       "      <th>4</th>\n",
       "      <td>35404-FX595L0</td>\n",
       "      <td>550</td>\n",
       "      <td>Fuse</td>\n",
       "      <td>Cutout Terminating</td>\n",
       "      <td>353565</td>\n",
       "      <td>2</td>\n",
       "      <td>Equip Fail UG Primary</td>\n",
       "      <td>2018-07-16</td>\n",
       "      <td>UG</td>\n",
       "      <td>70</td>\n",
       "      <td>...</td>\n",
       "      <td>Yes</td>\n",
       "      <td>No</td>\n",
       "      <td>W</td>\n",
       "      <td>UG primary burnout same incident with the previous one. Nothing to do.</td>\n",
       "      <td></td>\n",
       "      <td></td>\n",
       "      <td>Yes</td>\n",
       "      <td>2018-08-13</td>\n",
       "      <td>0</td>\n",
       "      <td>0</td>\n",
       "    </tr>\n",
       "    <tr>\n",
       "      <th>5</th>\n",
       "      <td>1036</td>\n",
       "      <td>1036</td>\n",
       "      <td>Circuit Breaker</td>\n",
       "      <td>Circuit Breaker</td>\n",
       "      <td>348303</td>\n",
       "      <td>4</td>\n",
       "      <td>Vegetation Tree Non-Preventable</td>\n",
       "      <td>2018-03-21</td>\n",
       "      <td>U</td>\n",
       "      <td>3505</td>\n",
       "      <td>...</td>\n",
       "      <td>No</td>\n",
       "      <td>Yes</td>\n",
       "      <td>W</td>\n",
       "      <td>Osman discussed with Angel. Undergrounding option between poles  22765 and 51335 should be discussed further. Tree trimming between poles 50459 and 20145 will be discussed with Don. 8/10/18</td>\n",
       "      <td>OSMAN</td>\n",
       "      <td></td>\n",
       "      <td>No</td>\n",
       "      <td></td>\n",
       "      <td>0</td>\n",
       "      <td>0</td>\n",
       "    </tr>\n",
       "    <tr>\n",
       "      <th>6</th>\n",
       "      <td>1036</td>\n",
       "      <td>1036</td>\n",
       "      <td>Circuit Breaker</td>\n",
       "      <td>Circuit Breaker</td>\n",
       "      <td>350010</td>\n",
       "      <td>4</td>\n",
       "      <td>Human Dig In Contract Crew</td>\n",
       "      <td>2018-05-02</td>\n",
       "      <td>U</td>\n",
       "      <td>3488</td>\n",
       "      <td>...</td>\n",
       "      <td>No</td>\n",
       "      <td>Yes</td>\n",
       "      <td>W</td>\n",
       "      <td>Contractor dig. Not much to do</td>\n",
       "      <td></td>\n",
       "      <td></td>\n",
       "      <td>No</td>\n",
       "      <td></td>\n",
       "      <td>0</td>\n",
       "      <td>0</td>\n",
       "    </tr>\n",
       "    <tr>\n",
       "      <th>7</th>\n",
       "      <td>1036</td>\n",
       "      <td>1036</td>\n",
       "      <td>Circuit Breaker</td>\n",
       "      <td>Circuit Breaker</td>\n",
       "      <td>352276</td>\n",
       "      <td>4</td>\n",
       "      <td>Weather Lighting</td>\n",
       "      <td>2018-06-16</td>\n",
       "      <td>U</td>\n",
       "      <td>3506</td>\n",
       "      <td>...</td>\n",
       "      <td>No</td>\n",
       "      <td>Yes</td>\n",
       "      <td>W</td>\n",
       "      <td>This is because of relaying. Circuit breaker should have opened after lightining. It did not and then it opened low side breaker. 8/10/18</td>\n",
       "      <td>OSMAN</td>\n",
       "      <td></td>\n",
       "      <td>No</td>\n",
       "      <td></td>\n",
       "      <td>0</td>\n",
       "      <td>0</td>\n",
       "    </tr>\n",
       "    <tr>\n",
       "      <th>8</th>\n",
       "      <td>1036</td>\n",
       "      <td>1036</td>\n",
       "      <td>Circuit Breaker</td>\n",
       "      <td>Circuit Breaker</td>\n",
       "      <td>353837</td>\n",
       "      <td>4</td>\n",
       "      <td>Vegetation Tree Non-Preventable</td>\n",
       "      <td>2018-07-22</td>\n",
       "      <td>U</td>\n",
       "      <td>3505</td>\n",
       "      <td>...</td>\n",
       "      <td>No</td>\n",
       "      <td>Yes</td>\n",
       "      <td>W</td>\n",
       "      <td>Osman discussed with Angel. Undergrounding option between poles  22765 and 51335 should be discussed further. Tree trimming between poles 50459 and 20145 will be discussed with Don. 8/10/18</td>\n",
       "      <td>OSMAN</td>\n",
       "      <td></td>\n",
       "      <td>No</td>\n",
       "      <td></td>\n",
       "      <td>0</td>\n",
       "      <td>0</td>\n",
       "    </tr>\n",
       "    <tr>\n",
       "      <th>9</th>\n",
       "      <td>21169-NONE5514</td>\n",
       "      <td>211</td>\n",
       "      <td>Fuse</td>\n",
       "      <td>Cutout</td>\n",
       "      <td>351740</td>\n",
       "      <td>3</td>\n",
       "      <td>Equip Fail Arrestor</td>\n",
       "      <td>2018-06-05</td>\n",
       "      <td>OH</td>\n",
       "      <td>13</td>\n",
       "      <td>...</td>\n",
       "      <td>No</td>\n",
       "      <td>Yes</td>\n",
       "      <td>E</td>\n",
       "      <td>Patrol needed. Check arrestors and consider more trimming. Bamboo removal between poles 47113 &amp; 21169 was requested 7/2/18. Check if it is removed. 8/10/18</td>\n",
       "      <td>OSMAN, DANY, KRIS</td>\n",
       "      <td>Patrolled. Sent an email to Don Eyster for trimming. FUWO sent for low secondaries at house# 2230 and 2214. 8/20/18.--Per Joe Wolf trimming cycle is coming soon to this lateral.</td>\n",
       "      <td>Yes</td>\n",
       "      <td>2018-08-29</td>\n",
       "      <td>0</td>\n",
       "      <td>0</td>\n",
       "    </tr>\n",
       "  </tbody>\n",
       "</table>\n",
       "<p>10 rows × 22 columns</p>\n",
       "</div>"
      ],
      "text/plain": [
       "       FACILITY_ID  CIRCUIT         DEV_TYPE             SUBTYPE  INCIDENT_ID  CountOfFACILITY_ID                      CAUSE_DESCR OUTAGE_TIME CONFIG    CI   ...   MONTH_REPEATER YEAR_REPEATER EAST_WEST                                                                                                                                                                                          NOTES    ASSIGNED_PERSON                                                                                                                                                                       ACTION_TAKEN COMPLETED COMPLETED_DATE POINT_X POINT_Y\n",
       "0  34468-NONE40481     1433             Fuse              Cutout       341566                   3                          Unknown  2017-11-21     OH    16   ...               No           Yes         E                                                                                                                                                                                                                                                                                                                                                                                                             No                      0       0\n",
       "1   30576-NONE1161      205             Fuse              Cutout       353640                   2                 Weather Lighting  2018-07-18     OH     2   ...              Yes            No         E                                                                                                                                                                                  Patrol needed  OSMAN, DANY, KRIS                                                                                                                                                        Patrolled. No action taken.       Yes     2018-08-20       0       0\n",
       "2   30576-NONE1161      205             Fuse              Cutout       353841                   2                 Weather Lighting  2018-07-22     OH     2   ...              Yes            No         E                                                                                                                                                                                  Patrol needed  OSMAN, DANY, KRIS                                                                                                                                                        Patrolled. No action taken.       Yes     2018-08-20       0       0\n",
       "3    35404-FX595L0      550             Fuse  Cutout Terminating       353538                   2            Equip Fail UG Primary  2018-07-16     UG   108   ...              Yes            No         W                                                                                                                              UG primary burnout same incident with the next one. Nothing to do                                                                                                                                                                                                             Yes     2018-08-13       0       0\n",
       "4    35404-FX595L0      550             Fuse  Cutout Terminating       353565                   2            Equip Fail UG Primary  2018-07-16     UG    70   ...              Yes            No         W                                                                                                                         UG primary burnout same incident with the previous one. Nothing to do.                                                                                                                                                                                                             Yes     2018-08-13       0       0\n",
       "5             1036     1036  Circuit Breaker     Circuit Breaker       348303                   4  Vegetation Tree Non-Preventable  2018-03-21      U  3505   ...               No           Yes         W  Osman discussed with Angel. Undergrounding option between poles  22765 and 51335 should be discussed further. Tree trimming between poles 50459 and 20145 will be discussed with Don. 8/10/18              OSMAN                                                                                                                                                                                           No                      0       0\n",
       "6             1036     1036  Circuit Breaker     Circuit Breaker       350010                   4       Human Dig In Contract Crew  2018-05-02      U  3488   ...               No           Yes         W                                                                                                                                                                 Contractor dig. Not much to do                                                                                                                                                                                                              No                      0       0\n",
       "7             1036     1036  Circuit Breaker     Circuit Breaker       352276                   4                 Weather Lighting  2018-06-16      U  3506   ...               No           Yes         W                                                      This is because of relaying. Circuit breaker should have opened after lightining. It did not and then it opened low side breaker. 8/10/18              OSMAN                                                                                                                                                                                           No                      0       0\n",
       "8             1036     1036  Circuit Breaker     Circuit Breaker       353837                   4  Vegetation Tree Non-Preventable  2018-07-22      U  3505   ...               No           Yes         W  Osman discussed with Angel. Undergrounding option between poles  22765 and 51335 should be discussed further. Tree trimming between poles 50459 and 20145 will be discussed with Don. 8/10/18              OSMAN                                                                                                                                                                                           No                      0       0\n",
       "9   21169-NONE5514      211             Fuse              Cutout       351740                   3              Equip Fail Arrestor  2018-06-05     OH    13   ...               No           Yes         E                                    Patrol needed. Check arrestors and consider more trimming. Bamboo removal between poles 47113 & 21169 was requested 7/2/18. Check if it is removed. 8/10/18  OSMAN, DANY, KRIS  Patrolled. Sent an email to Don Eyster for trimming. FUWO sent for low secondaries at house# 2230 and 2214. 8/20/18.--Per Joe Wolf trimming cycle is coming soon to this lateral.       Yes     2018-08-29       0       0\n",
       "\n",
       "[10 rows x 22 columns]"
      ]
     },
     "execution_count": 7,
     "metadata": {},
     "output_type": "execute_result"
    }
   ],
   "source": [
    "df1.head(10)"
   ]
  },
  {
   "cell_type": "markdown",
   "metadata": {},
   "source": [
    "newDF = df\n",
    "newDF.fillna(0)"
   ]
  },
  {
   "cell_type": "markdown",
   "metadata": {},
   "source": [
    "df.to_csv('TRACKINGACTION.csv',index=False)"
   ]
  },
  {
   "cell_type": "markdown",
   "metadata": {},
   "source": [
    "Following was originaly found at https://my.usgs.gov/confluence/display/cdi/pandas.DataFrame+to+ArcGIS+Table"
   ]
  },
  {
   "cell_type": "markdown",
   "metadata": {},
   "source": [
    "type(df)"
   ]
  },
  {
   "cell_type": "markdown",
   "metadata": {},
   "source": [
    "df.dtypes"
   ]
  },
  {
   "cell_type": "markdown",
   "metadata": {},
   "source": [
    "df.values"
   ]
  },
  {
   "cell_type": "markdown",
   "metadata": {},
   "source": [
    "### from http://pro.arcgis.com/en/pro-app/arcpy/data-access/numpyarraytotable.htm\n",
    "a = numpy.array([(0.2, 1.0), (0.5, 2.5)])\n",
    "struct_array = numpy.core.records.fromarrays(a.transpose(), numpy.dtype([('Value1', 'f8'), ('Value2', 'f8')]))\n",
    "\n",
    "arcpy.da.NumPyArrayToTable(struct_array, 'c:/data/f.gdb/array_output')"
   ]
  },
  {
   "cell_type": "markdown",
   "metadata": {},
   "source": [
    "### https://my.usgs.gov/confluence/display/cdi/pandas.DataFrame+to+ArcGIS+Table\n",
    "x = np.array(np.rec.fromrecords(chorizonVar.values))\n",
    "names = chorizonVar.dtypes.index.tolist()\n",
    "x.dtype.names = tuple(names)\n",
    "arcpy.da.NumPyArrayToTable(x, r'E:\\Workspace\\testData.gdb\\testTable')"
   ]
  },
  {
   "cell_type": "code",
   "execution_count": null,
   "metadata": {},
   "outputs": [],
   "source": [
    "x = np.array(np.rec.fromrecords(df1.values))"
   ]
  },
  {
   "cell_type": "code",
   "execution_count": null,
   "metadata": {},
   "outputs": [],
   "source": [
    "names = df1.dtypes.index.tolist()\n",
    "#names"
   ]
  },
  {
   "cell_type": "code",
   "execution_count": null,
   "metadata": {},
   "outputs": [],
   "source": [
    "x.dtype.names = tuple(names)\n",
    "#x.dtype.names"
   ]
  },
  {
   "cell_type": "code",
   "execution_count": null,
   "metadata": {},
   "outputs": [],
   "source": [
    "df1"
   ]
  },
  {
   "cell_type": "code",
   "execution_count": null,
   "metadata": {},
   "outputs": [],
   "source": [
    "arcpy.da.NumPyArrayToTable(x, r'C:\\Users\\friendde\\Documents\\ArcGIS\\Projects\\MIMS\\MIMS.gdb\\tbl12TrackingAction')"
   ]
  },
  {
   "cell_type": "code",
   "execution_count": null,
   "metadata": {},
   "outputs": [],
   "source": [
    "df1"
   ]
  },
  {
   "cell_type": "code",
   "execution_count": null,
   "metadata": {},
   "outputs": [],
   "source": []
  }
 ],
 "metadata": {
  "kernelspec": {
   "display_name": "Python 3",
   "language": "python",
   "name": "python3"
  },
  "language_info": {
   "codemirror_mode": {
    "name": "ipython",
    "version": 3
   },
   "file_extension": ".py",
   "mimetype": "text/x-python",
   "name": "python",
   "nbconvert_exporter": "python",
   "pygments_lexer": "ipython3",
   "version": "3.6.5"
  }
 },
 "nbformat": 4,
 "nbformat_minor": 2
}
