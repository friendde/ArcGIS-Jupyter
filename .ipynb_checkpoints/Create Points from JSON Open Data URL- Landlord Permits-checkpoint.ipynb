{
 "cells": [
  {
   "cell_type": "markdown",
   "metadata": {},
   "source": [
    "GOAL:\n",
    "\n",
    "- Create points using JSON URL from Open Data site\n",
    "- Publish the points to ArcGIS Online or ArcGIS Portal"
   ]
  },
  {
   "cell_type": "markdown",
   "metadata": {},
   "source": [
    "Inspired by:\n",
    "\n",
    "- [Bryan McIntosh - Export ArcGIS Server Map Service Layer to Shapefile](http://www.spatialtimes.com/2016/03/extract-map-service-layer-shapefile-using-python/)\n",
    "- [Corey Schafer python JSON YouTube video](https://youtu.be/9N6a-VLBa2I)\n",
    "- [Corey Schafer GitHub](https://github.com/CoreyMSchafer/code_snippets/blob/master/Python-JSON/api.py)"
   ]
  },
  {
   "cell_type": "code",
   "execution_count": null,
   "metadata": {},
   "outputs": [],
   "source": [
    "import urllib3\n",
    "import json\n",
    "import arcpy\n",
    "import pandas as pd\n",
    "import numpy as np"
   ]
  },
  {
   "cell_type": "markdown",
   "metadata": {},
   "source": [
    "[urllib3 SSL Warnings](https://urllib3.readthedocs.io/en/latest/advanced-usage.html#ssl-warnings)"
   ]
  },
  {
   "cell_type": "code",
   "execution_count": null,
   "metadata": {},
   "outputs": [],
   "source": [
    "urllib3.disable_warnings()"
   ]
  },
  {
   "cell_type": "code",
   "execution_count": null,
   "metadata": {},
   "outputs": [],
   "source": [
    "#for landlord permits\n",
    "jsonURL = \"https://data.cityofgainesville.org/resource/s829-win5.json\"\n",
    "gdb = r\"C:\\Users\\friendde\\Documents\\ArcGIS\\Projects\\MIMS\\MIMS.gdb\"\n",
    "#fc = r\"C:\\Users\\friendde\\Documents\\ArcGIS\\Projects\\MIMS\\MIMS.gdb\\ActiveBusiness\\ActiveBusinessCity\"\n",
    "tbl = r\"C:\\Users\\friendde\\Documents\\ArcGIS\\Projects\\MIMS\\MIMS.gdb\\LandlordCity\"\n",
    "#flds = ['BusinessName','BusinessPhone','BusinessType','BusinessAddress','BusinessOwner','POINT_X','POINT_Y','SHAPE@XY']\n",
    "#flds = ['BusinessName','BusinessPhone','BusinessType','BusinessAddress','BusinessOwner','POINT_X','POINT_Y']\n",
    "flds = ['Address','ContactName','LandlordLicenseYear','Location_Address','Location_City','Location_State','Location_ZipCode',\n",
    "         'OwnerName','ParcelNumber','ParcelUnit','ZipCode','POINT_X','POINT_Y']\n",
    "location = [0,0]\n",
    "tupleXY = (0,0)"
   ]
  },
  {
   "cell_type": "code",
   "execution_count": null,
   "metadata": {},
   "outputs": [],
   "source": [
    "# interagate data\n",
    "#df = pd.read_json(jsonURL)\n",
    "#df.tail()\n",
    "#list(df)"
   ]
  },
  {
   "cell_type": "code",
   "execution_count": null,
   "metadata": {},
   "outputs": [],
   "source": [
    "arcpy.env.workspace = gdb\n",
    "arcpy.env.overwriteOutput = True\n",
    "#arcpy.env.outputCoordinateSystem = arcpy.SpatialReference(4326)"
   ]
  },
  {
   "cell_type": "code",
   "execution_count": null,
   "metadata": {},
   "outputs": [],
   "source": [
    "def getCoords(_dict):\n",
    "    if _dict is None:\n",
    "        return [0,0]\n",
    "    else:\n",
    "        #print(_dict.get('coordinates'))\n",
    "        return _dict.get('coordinates')"
   ]
  },
  {
   "cell_type": "code",
   "execution_count": null,
   "metadata": {},
   "outputs": [],
   "source": [
    "http = urllib3.PoolManager()\n",
    "response = http.request('GET', jsonURL)\n",
    "#response.status\n",
    "#response.data"
   ]
  },
  {
   "cell_type": "code",
   "execution_count": null,
   "metadata": {},
   "outputs": [],
   "source": [
    "data = json.loads(response.data)"
   ]
  },
  {
   "cell_type": "code",
   "execution_count": null,
   "metadata": {},
   "outputs": [],
   "source": [
    "print(json.dumps(data, indent=2))"
   ]
  },
  {
   "cell_type": "code",
   "execution_count": null,
   "metadata": {},
   "outputs": [],
   "source": [
    "arcpy.TruncateTable_management(tbl)"
   ]
  },
  {
   "cell_type": "markdown",
   "metadata": {},
   "source": [
    "['Address','ContactName','LandlordLicenseYear','Location','Location_Address','Location_City','Location_State','Location_Zip',\n",
    "         'OwnerName','ParcelNumber','ParcelUnit','ZipCode','POINT_X','POINT_Y']\n",
    "'address',\n",
    " 'contactname',\n",
    " 'landlordlicenseyear',\n",
    " 'location',\n",
    " 'location_address',\n",
    " 'location_city',\n",
    " 'location_state',\n",
    " 'location_zip',\n",
    " 'ownername',\n",
    " 'parcelnumber',\n",
    " 'parcelunit',\n",
    " 'zipcode'"
   ]
  },
  {
   "cell_type": "code",
   "execution_count": null,
   "metadata": {},
   "outputs": [],
   "source": [
    "# use try/except to catch keyerror\n",
    "for item in data:\n",
    "    try:\n",
    "        cursor = arcpy.da.InsertCursor(tbl,flds)\n",
    "        _address = item['address']\n",
    "        _contactname = item['contactname']\n",
    "        _landlordlicenseyear = item['landlordlicenseyear']\n",
    "        _location = getCoords(item['location'])\n",
    "        _location_address = item['location_address']\n",
    "        _location_city = item['location_city']\n",
    "        _location_state = item['location_state']\n",
    "        _location_zip = item['location_zip']\n",
    "        _ownername = item['ownername']\n",
    "        _parcelnumber = item['parcelnumber']\n",
    "        _parcelunit = item['parcelunit']\n",
    "        _zipcode = item['zipcode']        \n",
    "        locationX = _location[0]\n",
    "        locationY = _location[1]\n",
    "        tupleXY = (locationX,locationY)\n",
    "        #print(bizname,'\\n','\\t',bizphone,'\\n','\\t',biztype,'\\n','\\t',bizaddress,'\\n','\\t',locationX,locationY)\n",
    "        #business = [bizname,bizphone,biztype,bizaddress,bizowner,locationX,locationY,tupleXY]\n",
    "        landlord = [_address,_contactname,_landlordlicenseyear,_location_address,_location_city,_location_state,_location_zip,\n",
    "                    _ownername,_parcelnumber,_parcelunit,_zipcode,locationX,locationY]\n",
    "        print(landlord)\n",
    "        cursor.insertRow(landlord)\n",
    "        del cursor\n",
    "    except KeyError:\n",
    "        location = [0,0]\n",
    "        tupleXY = (0,0)\n",
    "        continue\n"
   ]
  },
  {
   "cell_type": "markdown",
   "metadata": {},
   "source": [
    "### Use numpy and pandas to export to CSV\n",
    " \n",
    "Use arcpy [```TableToNumPyArray()```](http://pro.arcgis.com/en/pro-app/arcpy/data-access/tabletonumpyarray.htm)\n",
    "See also [Working with numpy in ArcGIS](http://pro.arcgis.com/en/pro-app/arcpy/get-started/working-with-numpy-in-arcgis.htm)\n"
   ]
  },
  {
   "cell_type": "markdown",
   "metadata": {},
   "source": [
    "#nparr = arcpy.da.TableToNumPyArray(tbl,flds,skip_nulls=True)\n",
    "#pdarr = pd.DataFrame(nparr)\n",
    "#pdarr.to_csv(custAcctFile,header=False, index=False)"
   ]
  },
  {
   "cell_type": "markdown",
   "metadata": {},
   "source": [
    "Ready new numpy array for consumption analysis"
   ]
  },
  {
   "cell_type": "code",
   "execution_count": null,
   "metadata": {},
   "outputs": [],
   "source": [
    "nparr = arcpy.da.TableToNumPyArray(tbl,flds,skip_nulls=True)\n",
    "df = pd.DataFrame(nparr)\n",
    "df.head(10)"
   ]
  },
  {
   "cell_type": "code",
   "execution_count": null,
   "metadata": {},
   "outputs": [],
   "source": [
    "# find owners with more than one permitted location\n",
    "df.groupby('OwnerName')['OwnerName'].value_counts().loc[lambda x : x>1].sort_values(ascending=False)"
   ]
  },
  {
   "cell_type": "markdown",
   "metadata": {},
   "source": [
    "#pivot table\n",
    "pivotTbl = df.pivot_table(values=[\"BusinessType\"], index=[\"BusinessType\"], aggfunc='count')\n",
    "pivotTbl"
   ]
  },
  {
   "cell_type": "markdown",
   "metadata": {},
   "source": [
    "[```gis.features.SpatialDataFrame()```](https://esri.github.io/arcgis-python-api/apidoc/html/arcgis.features.toc.html?highlight=spatialdataframe#arcgis.features.SpatialDataFrame.from_xy)"
   ]
  },
  {
   "cell_type": "code",
   "execution_count": null,
   "metadata": {},
   "outputs": [],
   "source": [
    "from arcgis.features import SpatialDataFrame\n",
    "from arcgis.gis import GIS\n",
    "from getpass import getpass\n",
    "from IPython.display import display"
   ]
  },
  {
   "cell_type": "code",
   "execution_count": null,
   "metadata": {},
   "outputs": [],
   "source": [
    "sdf = SpatialDataFrame.from_xy(df,\"POINT_X\",\"POINT_Y\")\n",
    "display(sdf)"
   ]
  },
  {
   "cell_type": "code",
   "execution_count": null,
   "metadata": {},
   "outputs": [],
   "source": [
    "#gis = GIS(\"https://wms.gru.com/portal\", username=input(\"Enter User Name \"), password=(getpass()))\n",
    "gis = GIS(arcpy.GetActivePortalURL(), username=input(\"Enter User Name \"), password=(getpass()))\n",
    "#gis = GIS()\n",
    "#portalDesc = arcpy.GetPortalDescription()\n",
    "# search and list all items owned by connected user\n",
    "#query=f'owner:{portalDesc[\"user\"][\"username\"]} AND title:CW BaseMap'\n",
    "#itemType=\"Feature Layer\"\n",
    "#sortField=\"title\"\n",
    "#sortOrder=\"asc\"\n",
    "# default max__items is 10\n",
    "#maxItems=100\n",
    "#m = gis.content.search(query,itemType,sortField,sortOrder,maxItems)\n"
   ]
  },
  {
   "cell_type": "code",
   "execution_count": null,
   "metadata": {},
   "outputs": [],
   "source": [
    "landlordLayer = gis.content.import_data(sdf)"
   ]
  },
  {
   "cell_type": "code",
   "execution_count": null,
   "metadata": {},
   "outputs": [],
   "source": [
    "m = gis.map('Gainesville,FL')"
   ]
  },
  {
   "cell_type": "code",
   "execution_count": null,
   "metadata": {},
   "outputs": [],
   "source": [
    "m"
   ]
  },
  {
   "cell_type": "code",
   "execution_count": null,
   "metadata": {},
   "outputs": [],
   "source": [
    "m.add_layer(landlordLayer)\n",
    "m"
   ]
  },
  {
   "cell_type": "code",
   "execution_count": null,
   "metadata": {},
   "outputs": [],
   "source": [
    "m.display"
   ]
  },
  {
   "cell_type": "code",
   "execution_count": null,
   "metadata": {},
   "outputs": [],
   "source": []
  }
 ],
 "metadata": {
  "kernelspec": {
   "display_name": "Python 3",
   "language": "python",
   "name": "python3"
  },
  "language_info": {
   "codemirror_mode": {
    "name": "ipython",
    "version": 3
   },
   "file_extension": ".py",
   "mimetype": "text/x-python",
   "name": "python",
   "nbconvert_exporter": "python",
   "pygments_lexer": "ipython3",
   "version": "3.6.8"
  }
 },
 "nbformat": 4,
 "nbformat_minor": 2
}
