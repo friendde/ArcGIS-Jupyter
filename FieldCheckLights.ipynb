{
 "cells": [
  {
   "cell_type": "markdown",
   "metadata": {},
   "source": [
    "This Notebook selects a set of features, exports the data as CSV and publishes the feature class as a layer to your portal."
   ]
  },
  {
   "cell_type": "code",
   "execution_count": null,
   "metadata": {},
   "outputs": [],
   "source": [
    "# import modules you will need\n",
    "import arcpy\n",
    "import numpy\n",
    "import pandas as pd\n",
    "from arcgis.features import SpatialDataFrame\n",
    "from arcgis.gis import GIS\n",
    "from getpass import getpass"
   ]
  },
  {
   "cell_type": "code",
   "execution_count": null,
   "metadata": {},
   "outputs": [],
   "source": [
    "# define variables\n",
    "gdb = r\"C:\\Users\\friendde\\Documents\\ArcGIS\\Projects\\LightsInstallNum\\LightsInstallNum.gdb\"\n",
    "lightSource = r\"C:\\GISData\\Data\\Snapshot\\mxElectric.geodatabase\\Electric\\main.eLight\"\n",
    "lightDest = r\"C:\\Users\\friendde\\Documents\\ArcGIS\\Projects\\LightsInstallNum\\LightsInstallNum.gdb\\eLight\"\n",
    "lightFields = [\"GLOBALID\",\"FACILITYID\",\"INSTALL_NUM\",\"STREETADDRESS\",\"STRUCTUREID\",\"SHAPE@\"]\n",
    "lightFieldsNumPy = [\"GLOBALID\",\"FACILITYID\",\"INSTALL_NUM\",\"STREETADDRESS\",\"STRUCTUREID\"]\n",
    "lightCSVFile = r'C:\\Users\\friendde\\Documents\\ArcGIS\\Projects\\LightsInstallNum\\lights.csv'"
   ]
  },
  {
   "cell_type": "code",
   "execution_count": null,
   "metadata": {},
   "outputs": [],
   "source": [
    "# define workspace explicitly\n",
    "arcpy.env.workspace = gdb\n",
    "arcpy.env.overwriteOutput = True"
   ]
  },
  {
   "cell_type": "code",
   "execution_count": null,
   "metadata": {},
   "outputs": [],
   "source": [
    "# clean up your workspace and copy down new data if necessary, because over write output does not seem to work\n",
    "if arcpy.Exists(lightDest):\n",
    "    print(f'Found {lightDest}')\n",
    "    arcpy.TruncateTable_management(lightDest)\n",
    "#print(f'Copying {lightSource} to {lightDest}')\n",
    "#arcpy.Copy_management(lightSource,lightDest)\n",
    "#if arcpy.Exists(lightDest):\n",
    "#    print(f'Copy Success, adding XY')\n",
    "#    arcpy.AddXY_management(lightDest)\n",
    "#    print(f'AddXY completed')"
   ]
  },
  {
   "cell_type": "code",
   "execution_count": null,
   "metadata": {},
   "outputs": [],
   "source": [
    "# set up editing\n",
    "edit = arcpy.da.Editor(gdb)\n",
    "edit.startEditing(False, False)\n",
    "edit.startOperation()"
   ]
  },
  {
   "cell_type": "code",
   "execution_count": null,
   "metadata": {},
   "outputs": [],
   "source": [
    "# perform your search cursor\n",
    "with arcpy.da.SearchCursor(lightSource,lightFields,\"INSTALL_NUM NOT LIKE '5000%'\") as lights:\n",
    "    for light in lights: \n",
    "        #print(light)\n",
    "        with arcpy.da.InsertCursor(lightDest,lightFields)as ic:\n",
    "            ic.insertRow(light)\n",
    "            "
   ]
  },
  {
   "cell_type": "code",
   "execution_count": null,
   "metadata": {},
   "outputs": [],
   "source": [
    "# stop editing and save edits\n",
    "edit.stopOperation()\n",
    "edit.stopEditing(True)"
   ]
  },
  {
   "cell_type": "markdown",
   "metadata": {},
   "source": [
    "Use numpy and pandas to export to CSV if necessary.\n",
    "\n",
    "Use arcpy [```TableToNumPyArray()```](http://pro.arcgis.com/en/pro-app/arcpy/data-access/tabletonumpyarray.htm).\n",
    "See also [Working with numpy in ArcGIS](http://pro.arcgis.com/en/pro-app/arcpy/get-started/working-with-numpy-in-arcgis.htm)\n",
    "\n",
    "Geometry is not supported so use altered field list"
   ]
  },
  {
   "cell_type": "code",
   "execution_count": null,
   "metadata": {},
   "outputs": [],
   "source": [
    "nparr = arcpy.da.FeatureClassToNumPyArray(lightDest,lightFieldsNumPy,skip_nulls=True)\n",
    "#nparr = arcpy.da.TableToNumPyArray(custAcctDest,custAcctOutFlds,null_value=-9999)\n",
    "df = pd.DataFrame(nparr)\n",
    "# use head() to list rows, top five is default\n",
    "df.head()\n",
    "# export to CSV if ncessary\n",
    "df.to_csv(lightCSVFile,header=True, index=False)"
   ]
  },
  {
   "cell_type": "code",
   "execution_count": null,
   "metadata": {},
   "outputs": [],
   "source": [
    "# convert pandas data frame object to Spatial data Frame object\n",
    "#[```gis.features.SpatialDataFrame()```](https://esri.github.io/arcgis-python-api/apidoc/html/arcgis.features.toc.html?highlight=spatialdataframe#arcgis.features.SpatialDataFrame.from_xy)\n",
    "sdf = SpatialDataFrame.from_featureclass(lightDest)\n",
    "gis = GIS(arcpy.GetActivePortalURL(), username=input(\"Enter User Name \"), password=(getpass()))\n",
    "\n",
    "m = gis.map('Gainesville,FL')\n",
    "lightLayer = gis.content.import_data(sdf)\n",
    "m.add_layer(lightLayer)\n",
    "\n",
    "m"
   ]
  }
 ],
 "metadata": {
  "kernelspec": {
   "display_name": "Python 3",
   "language": "python",
   "name": "python3"
  },
  "language_info": {
   "codemirror_mode": {
    "name": "ipython",
    "version": 3
   },
   "file_extension": ".py",
   "mimetype": "text/x-python",
   "name": "python",
   "nbconvert_exporter": "python",
   "pygments_lexer": "ipython3",
   "version": "3.6.5"
  }
 },
 "nbformat": 4,
 "nbformat_minor": 2
}
